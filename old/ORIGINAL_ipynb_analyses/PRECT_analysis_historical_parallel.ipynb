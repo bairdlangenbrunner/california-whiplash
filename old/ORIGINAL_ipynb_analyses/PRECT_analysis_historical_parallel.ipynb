{
 "cells": [
  {
   "cell_type": "code",
   "execution_count": 1,
   "metadata": {
    "collapsed": true
   },
   "outputs": [],
   "source": [
    "import numpy\n",
    "import scipy\n",
    "import netCDF4\n",
    "import matplotlib.pyplot as mp\n",
    "import matplotlib.ticker\n",
    "import multiprocessing\n",
    "\n",
    "mp.rcParams.update({'mathtext.default': 'regular'})\n",
    "% matplotlib inline"
   ]
  },
  {
   "cell_type": "code",
   "execution_count": 2,
   "metadata": {
    "collapsed": true
   },
   "outputs": [],
   "source": [
    "def geo_idx(dd, dd_array):\n",
    "   \"\"\"\n",
    "     search for nearest decimal degree in an array of decimal degrees and return the index.\n",
    "     np.argmin returns the indices of minium value along an axis.\n",
    "     so subtract dd from all values in dd_array, take absolute value and find index of minium.\n",
    "    \"\"\"\n",
    "   geo_idx = (numpy.abs(dd_array - dd)).argmin()\n",
    "   return geo_idx\n",
    "\n",
    "LA_lat = 34.0522\n",
    "LA_lon = 118.2437 # deg west\n",
    "LA_lon = 180. + (180-LA_lon)"
   ]
  },
  {
   "cell_type": "code",
   "execution_count": 3,
   "metadata": {
    "collapsed": true
   },
   "outputs": [],
   "source": [
    "working_dir = '/ninod/NCAR_LENS/daily/PRECT/B20TRC5CNBDRD/'"
   ]
  },
  {
   "cell_type": "code",
   "execution_count": 4,
   "metadata": {
    "collapsed": false
   },
   "outputs": [],
   "source": [
    "file_list = numpy.array(( \\\n",
    "'b.e11.B20TRC5CNBDRD.f09_g16.001.cam.h1.PRECT.18500101-20051231.nc', \\\n",
    "'b.e11.B20TRC5CNBDRD.f09_g16.002.cam.h1.PRECT.19200101-20051231.nc', \\\n",
    "'b.e11.B20TRC5CNBDRD.f09_g16.003.cam.h1.PRECT.19200101-20051231.nc', \\\n",
    "'b.e11.B20TRC5CNBDRD.f09_g16.004.cam.h1.PRECT.19200101-20051231.nc', \\\n",
    "'b.e11.B20TRC5CNBDRD.f09_g16.005.cam.h1.PRECT.19200101-20051231.nc', \\\n",
    "'b.e11.B20TRC5CNBDRD.f09_g16.006.cam.h1.PRECT.19200101-20051231.nc', \\\n",
    "'b.e11.B20TRC5CNBDRD.f09_g16.007.cam.h1.PRECT.19200101-20051231.nc', \\\n",
    "'b.e11.B20TRC5CNBDRD.f09_g16.008.cam.h1.PRECT.19200101-20051231.nc', \\\n",
    "'b.e11.B20TRC5CNBDRD.f09_g16.009.cam.h1.PRECT.19200101-20051231.nc', \\\n",
    "'b.e11.B20TRC5CNBDRD.f09_g16.010.cam.h1.PRECT.19200101-20051231.nc', \\\n",
    "'b.e11.B20TRC5CNBDRD.f09_g16.011.cam.h1.PRECT.19200101-20051231.nc', \\\n",
    "'b.e11.B20TRC5CNBDRD.f09_g16.012.cam.h1.PRECT.19200101-20051231.nc', \\\n",
    "'b.e11.B20TRC5CNBDRD.f09_g16.013.cam.h1.PRECT.19200101-20051231.nc', \\\n",
    "'b.e11.B20TRC5CNBDRD.f09_g16.014.cam.h1.PRECT.19200101-20051231.nc', \\\n",
    "'b.e11.B20TRC5CNBDRD.f09_g16.015.cam.h1.PRECT.19200101-20051231.nc', \\\n",
    "'b.e11.B20TRC5CNBDRD.f09_g16.016.cam.h1.PRECT.19200101-20051231.nc', \\\n",
    "'b.e11.B20TRC5CNBDRD.f09_g16.017.cam.h1.PRECT.19200101-20051231.nc', \\\n",
    "'b.e11.B20TRC5CNBDRD.f09_g16.018.cam.h1.PRECT.19200101-20051231.nc', \\\n",
    "'b.e11.B20TRC5CNBDRD.f09_g16.019.cam.h1.PRECT.19200101-20051231.nc', \\\n",
    "'b.e11.B20TRC5CNBDRD.f09_g16.020.cam.h1.PRECT.19200101-20051231.nc', \\\n",
    "'b.e11.B20TRC5CNBDRD.f09_g16.021.cam.h1.PRECT.19200101-20051231.nc', \\\n",
    "'b.e11.B20TRC5CNBDRD.f09_g16.022.cam.h1.PRECT.19200101-20051231.nc', \\\n",
    "'b.e11.B20TRC5CNBDRD.f09_g16.023.cam.h1.PRECT.19200101-20051231.nc', \\\n",
    "'b.e11.B20TRC5CNBDRD.f09_g16.024.cam.h1.PRECT.19200101-20051231.nc', \\\n",
    "'b.e11.B20TRC5CNBDRD.f09_g16.025.cam.h1.PRECT.19200101-20051231.nc', \\\n",
    "'b.e11.B20TRC5CNBDRD.f09_g16.026.cam.h1.PRECT.19200101-20051231.nc', \\\n",
    "'b.e11.B20TRC5CNBDRD.f09_g16.027.cam.h1.PRECT.19200101-20051231.nc', \\\n",
    "'b.e11.B20TRC5CNBDRD.f09_g16.028.cam.h1.PRECT.19200101-20051231.nc', \\\n",
    "'b.e11.B20TRC5CNBDRD.f09_g16.029.cam.h1.PRECT.19200101-20051231.nc', \\\n",
    "'b.e11.B20TRC5CNBDRD.f09_g16.030.cam.h1.PRECT.19200101-20051231.nc', \\\n",
    "'b.e11.B20TRC5CNBDRD.f09_g16.031.cam.h1.PRECT.19200101-20051231.nc', \\\n",
    "'b.e11.B20TRC5CNBDRD.f09_g16.032.cam.h1.PRECT.19200101-20051231.nc', \\\n",
    "'b.e11.B20TRC5CNBDRD.f09_g16.033.cam.h1.PRECT.19200101-20051231.nc', \\\n",
    "'b.e11.B20TRC5CNBDRD.f09_g16.034.cam.h1.PRECT.19200101-20051231.nc', \\\n",
    "'b.e11.B20TRC5CNBDRD.f09_g16.035.cam.h1.PRECT.19200101-20051231.nc' ))"
   ]
  },
  {
   "cell_type": "code",
   "execution_count": 5,
   "metadata": {
    "collapsed": true
   },
   "outputs": [],
   "source": [
    "i = 0\n",
    "\n",
    "ncfile = netCDF4.Dataset(working_dir + file_list[i])\n",
    "PRECT_lat = ncfile.variables['lat'][:]\n",
    "PRECT_lon = ncfile.variables['lon'][:]\n",
    "PRECT_time_var = ncfile.variables['time']\n",
    "\n",
    "PRECT_time_dates = netCDF4.num2date(PRECT_time_var[:], PRECT_time_var.units, PRECT_time_var.calendar)\n",
    "time_indices_ONDJFM = numpy.array([t.month in [10,11,12,1,2,3] for t in PRECT_time_dates], dtype=bool)\n",
    "\n",
    "LA_lat_idx = geo_idx(LA_lat, PRECT_lat)\n",
    "LA_lon_idx = geo_idx(LA_lon, PRECT_lon)\n",
    "\n",
    "PRECT_ONDJFM_CA = ncfile.variables['PRECT'][time_indices_ONDJFM,(LA_lat_idx-2):(LA_lat_idx+2), (LA_lon_idx-2):(LA_lon_idx+2)]*86400.*1000"
   ]
  },
  {
   "cell_type": "code",
   "execution_count": 6,
   "metadata": {
    "collapsed": true
   },
   "outputs": [],
   "source": [
    "bins = numpy.logspace(-2,numpy.log10(PRECT_ONDJFM_CA.max()),100) # log spaced bins\n",
    "hist_histogram, bin_edges = numpy.histogram(PRECT_ONDJFM_CA, bins=bins, density=False)\n",
    "bin_centers = (bin_edges[:-1] + bin_edges[1:])/2\n",
    "bin_width = numpy.diff(bin_edges) # same as bin_edges[1:]-bin_edges[:-1]"
   ]
  },
  {
   "cell_type": "code",
   "execution_count": 7,
   "metadata": {
    "collapsed": false
   },
   "outputs": [
    {
     "data": {
      "image/png": "[encoded data removed]",
      "text/plain": [
       "<matplotlib.figure.Figure at 0x7f0ffc7c0d68>"
      ]
     },
     "metadata": {},
     "output_type": "display_data"
    }
   ],
   "source": [
    "fig = mp.figure(figsize=(3,3))\n",
    "fontsize=12\n",
    "\n",
    "ax = fig.add_subplot(111)\n",
    "ax.bar(bin_centers, hist_histogram, align='center', width=bin_width, color='0.5', edgecolor='0.25', label='historical')\n",
    "#ax.step(bin_centers, hist_histogram, where='mid',color='0')\n",
    "\n",
    "#ax.set_xlim(bins[0], bins[-1])\n",
    "ax.tick_params(labelsize=fontsize)\n",
    "ax.set_ylabel('Events (days)', fontsize=fontsize)\n",
    "ax.set_xlabel('Precipitation (mm day$^{-1}$)', fontsize=fontsize)\n",
    "ax.set_yscale('log') # 'symlog'\n",
    "ax.set_xticks([0,25,50,75,100,125,150])\n",
    "ax.xaxis.set_minor_locator(matplotlib.ticker.AutoMinorLocator(2))\n",
    "\n",
    "ax.set_ylim(0.5,3000)\n",
    "ax.minorticks_off()\n",
    "#ax.grid()\n",
    "ax.set_axisbelow(True)\n",
    "\n",
    "#ax_right = ax.twinx()\n",
    "ax_min, ax_max = ax.get_ylim()\n",
    "#ax_right.set_yticks([1,2,3,4,5,10])\n",
    "#ax_right.tick_params(labelsize=fontsize)\n",
    "#ax_right.set_ylim(numpy.log(ax_min), numpy.log(ax_max))\n",
    "\n",
    "perc50 = numpy.percentile(PRECT_ONDJFM_CA, 50)\n",
    "perc75 = numpy.percentile(PRECT_ONDJFM_CA, 75)\n",
    "perc80 = numpy.percentile(PRECT_ONDJFM_CA, 80)\n",
    "perc90 = numpy.percentile(PRECT_ONDJFM_CA, 90)\n",
    "perc95 = numpy.percentile(PRECT_ONDJFM_CA, 95)\n",
    "perc99 = numpy.percentile(PRECT_ONDJFM_CA, 99)\n",
    "perc999 = numpy.percentile(PRECT_ONDJFM_CA, 99.9)\n",
    "\n",
    "perc_text = \\\n",
    "'{:.1f}'.format(perc90) + ' (90th)\\n' + \\\n",
    "'{:.1f}'.format(perc95) + ' (95th)\\n' + \\\n",
    "'{:.1f}'.format(perc99) + ' (99th)\\n' + \\\n",
    "'{:.1f}'.format(perc999) + ' (99.9th)\\n' + \\\n",
    "'mm day$^{-1}$'\n",
    "\n",
    "ax.text(s=perc_text, x=0.96, y=0.93, transform=ax.transAxes, ha='right', va='top', fontsize=fontsize)\n",
    "\n",
    "ax.text(s='Member '+str(i+1), x=0, y=1.03, transform=ax.transAxes, ha='left', va='bottom', fontsize=fontsize)\n",
    "fig.tight_layout()\n",
    "\n",
    "mp.savefig('single_realization_historical.pdf', transparent=True, bbox_inches='tight')"
   ]
  },
  {
   "cell_type": "code",
   "execution_count": 8,
   "metadata": {
    "collapsed": true
   },
   "outputs": [],
   "source": [
    "minval=0.2 # for inferno:  0.18\n",
    "maxval=0.9 # for inferno: 1.0\n",
    "n=256\n",
    "full_cmap = mp.get_cmap('magma')\n",
    "cmap_partial = matplotlib.colors.LinearSegmentedColormap.from_list('trunc({n},{a:.2f},{b:.2f})'.format(n=full_cmap.name, a=minval, b=maxval), full_cmap(numpy.linspace(minval, maxval, n)))"
   ]
  },
  {
   "cell_type": "markdown",
   "metadata": {},
   "source": [
    "### Add multiprocessing.Pool stuff"
   ]
  },
  {
   "cell_type": "code",
   "execution_count": 13,
   "metadata": {
    "collapsed": false
   },
   "outputs": [
    {
     "name": "stdout",
     "output_type": "stream",
     "text": [
      "b.e11.B20TRC5CNBDRD.f09_g16.001.cam.h1.PRECT.18500101-20051231.nc\n",
      "b.e11.B20TRC5CNBDRD.f09_g16.002.cam.h1.PRECT.19200101-20051231.nc\n",
      "b.e11.B20TRC5CNBDRD.f09_g16.003.cam.h1.PRECT.19200101-20051231.nc\n",
      "b.e11.B20TRC5CNBDRD.f09_g16.004.cam.h1.PRECT.19200101-20051231.nc\n",
      "b.e11.B20TRC5CNBDRD.f09_g16.005.cam.h1.PRECT.19200101-20051231.nc\n",
      "b.e11.B20TRC5CNBDRD.f09_g16.006.cam.h1.PRECT.19200101-20051231.nc\n",
      "b.e11.B20TRC5CNBDRD.f09_g16.007.cam.h1.PRECT.19200101-20051231.nc\n",
      "b.e11.B20TRC5CNBDRD.f09_g16.008.cam.h1.PRECT.19200101-20051231.nc\n",
      "b.e11.B20TRC5CNBDRD.f09_g16.009.cam.h1.PRECT.19200101-20051231.nc\n",
      "b.e11.B20TRC5CNBDRD.f09_g16.010.cam.h1.PRECT.19200101-20051231.nc\n",
      "b.e11.B20TRC5CNBDRD.f09_g16.011.cam.h1.PRECT.19200101-20051231.nc\n",
      "b.e11.B20TRC5CNBDRD.f09_g16.012.cam.h1.PRECT.19200101-20051231.nc\n",
      "b.e11.B20TRC5CNBDRD.f09_g16.013.cam.h1.PRECT.19200101-20051231.nc\n",
      "b.e11.B20TRC5CNBDRD.f09_g16.014.cam.h1.PRECT.19200101-20051231.nc\n",
      "b.e11.B20TRC5CNBDRD.f09_g16.015.cam.h1.PRECT.19200101-20051231.nc\n",
      "b.e11.B20TRC5CNBDRD.f09_g16.016.cam.h1.PRECT.19200101-20051231.nc\n",
      "b.e11.B20TRC5CNBDRD.f09_g16.017.cam.h1.PRECT.19200101-20051231.nc\n",
      "b.e11.B20TRC5CNBDRD.f09_g16.018.cam.h1.PRECT.19200101-20051231.nc\n",
      "b.e11.B20TRC5CNBDRD.f09_g16.019.cam.h1.PRECT.19200101-20051231.nc\n",
      "b.e11.B20TRC5CNBDRD.f09_g16.020.cam.h1.PRECT.19200101-20051231.nc\n",
      "b.e11.B20TRC5CNBDRD.f09_g16.021.cam.h1.PRECT.19200101-20051231.nc\n",
      "b.e11.B20TRC5CNBDRD.f09_g16.022.cam.h1.PRECT.19200101-20051231.nc\n",
      "b.e11.B20TRC5CNBDRD.f09_g16.023.cam.h1.PRECT.19200101-20051231.nc\n",
      "b.e11.B20TRC5CNBDRD.f09_g16.024.cam.h1.PRECT.19200101-20051231.nc\n",
      "b.e11.B20TRC5CNBDRD.f09_g16.025.cam.h1.PRECT.19200101-20051231.nc\n",
      "b.e11.B20TRC5CNBDRD.f09_g16.026.cam.h1.PRECT.19200101-20051231.nc\n",
      "b.e11.B20TRC5CNBDRD.f09_g16.027.cam.h1.PRECT.19200101-20051231.nc\n",
      "b.e11.B20TRC5CNBDRD.f09_g16.028.cam.h1.PRECT.19200101-20051231.nc\n",
      "b.e11.B20TRC5CNBDRD.f09_g16.029.cam.h1.PRECT.19200101-20051231.nc\n",
      "b.e11.B20TRC5CNBDRD.f09_g16.030.cam.h1.PRECT.19200101-20051231.nc\n",
      "b.e11.B20TRC5CNBDRD.f09_g16.031.cam.h1.PRECT.19200101-20051231.nc\n",
      "b.e11.B20TRC5CNBDRD.f09_g16.032.cam.h1.PRECT.19200101-20051231.nc\n",
      "b.e11.B20TRC5CNBDRD.f09_g16.033.cam.h1.PRECT.19200101-20051231.nc\n",
      "b.e11.B20TRC5CNBDRD.f09_g16.034.cam.h1.PRECT.19200101-20051231.nc\n",
      "b.e11.B20TRC5CNBDRD.f09_g16.035.cam.h1.PRECT.19200101-20051231.nc\n"
     ]
    },
    {
     "data": {
      "image/png": "[encoded data removed]",
      "text/plain": [
       "<matplotlib.figure.Figure at 0x7f9cc6a91e10>"
      ]
     },
     "metadata": {},
     "output_type": "display_data"
    }
   ],
   "source": [
    "fig = mp.figure(figsize=(3,3))\n",
    "fontsize=12\n",
    "ax = fig.add_subplot(111)\n",
    "\n",
    "for i in range(file_list.size):\n",
    "\n",
    "    print(file_list[i])\n",
    "\n",
    "    ncfile = netCDF4.Dataset(working_dir + file_list[i])\n",
    "    PRECT = ncfile.variables['PRECT'][:,(LA_lat_idx-2):(LA_lat_idx+2),(LA_lon_idx-2):(LA_lon_idx+2)]*86400.*1000\n",
    "    PRECT_time_var = ncfile.variables['time']\n",
    "\n",
    "    PRECT_time_dates = netCDF4.num2date(PRECT_time_var[:], PRECT_time_var.units, PRECT_time_var.calendar)\n",
    "\n",
    "    if i==0:\n",
    "        time_indices_ONDJFM = numpy.array([(t.month in [10,11,12,1,2,3])&(t.year in range(1920,2006)) for t in PRECT_time_dates], dtype=bool)\n",
    "    else:\n",
    "        time_indices_ONDJFM = numpy.array([t.month in [10,11,12,1,2,3] for t in PRECT_time_dates], dtype=bool)\n",
    "    #PRECT_ONDJFM = PRECT[time_indices_ONDJFM,:,:]\n",
    "\n",
    "    PRECT_ONDJFM_CA = PRECT[time_indices_ONDJFM,:,:]\n",
    "\n",
    "    ncfile.close()\n",
    "\n",
    "    bins = numpy.logspace(-2,numpy.log10(PRECT_ONDJFM_CA.max()),100) # log spaced bins\n",
    "    #bins = numpy.linspace(0.1,PRECT_ONDJFM_CA.max(),100) # linearly spaced bins\n",
    "    hist_histogram, bin_edges = numpy.histogram(PRECT_ONDJFM_CA, bins=bins, density=False)\n",
    "    bin_centers = (bin_edges[:-1] + bin_edges[1:])/2\n",
    "    bin_width = numpy.diff(bin_edges) # same as bin_edges[1:]-bin_edges[:-1]\n",
    "\n",
    "    #ax.bar(bin_centers, hist_histogram, align='center', width=bin_width, color='0.5', edgecolor='0.25', label='historical')\n",
    "    ax.step(bin_centers, hist_histogram, where='mid', color=cmap_partial(i/(file_list.size-1)))\n",
    "\n",
    "    #ax.set_xlim(bins[0], bins[-1])\n",
    "\n",
    "    ax.tick_params(labelsize=fontsize)\n",
    "    ax.set_ylabel('Events (days)', fontsize=fontsize)\n",
    "    ax.set_xlabel('Precipitation (mm day$^{-1}$)', fontsize=fontsize)\n",
    "    ax.set_yscale('log') # 'symlog'\n",
    "    ax.set_xticks([0,25,50,75,100,125,150])\n",
    "    ax.xaxis.set_minor_locator(matplotlib.ticker.AutoMinorLocator(2))\n",
    "\n",
    "    ax.set_ylim(0.5,3000)\n",
    "    ax.minorticks_off()\n",
    "    #ax.grid()\n",
    "    ax.set_axisbelow(True)\n",
    "\n",
    "    mp.tight_layout()\n",
    "    mp.savefig('all_historical_histograms.pdf', bbox_inches='tight', transparent=True)\n",
    "    #perc50 = numpy.percentile(PRECT_ONDJFM_CA, 50)\n",
    "    #perc75 = numpy.percentile(PRECT_ONDJFM_CA, 75)\n",
    "    #perc80 = numpy.percentile(PRECT_ONDJFM_CA, 80)\n",
    "    #perc90 = numpy.percentile(PRECT_ONDJFM_CA, 90)\n",
    "    #perc95 = numpy.percentile(PRECT_ONDJFM_CA, 95)\n",
    "    #perc99 = numpy.percentile(PRECT_ONDJFM_CA, 99)\n",
    "    #perc999 = numpy.percentile(PRECT_ONDJFM_CA, 99.9)\n",
    "\n",
    "    #perc_text = \\\n",
    "    #'{:.1f}'.format(perc90) + ' (90th)\\n' + \\\n",
    "    #'{:.1f}'.format(perc95) + ' (95th)\\n' + \\\n",
    "    #'{:.1f}'.format(perc99) + ' (99th)\\n' + \\\n",
    "    #'{:.1f}'.format(perc999) + ' (99.9th)\\n' + \\\n",
    "    #'mm day$^{-1}$'\n",
    "\n",
    "    #ax.text(s=perc_text, x=0.96, y=0.93, transform=ax.transAxes, ha='right', va='top', fontsize=fontsize) "
   ]
  },
  {
   "cell_type": "code",
   "execution_count": 10,
   "metadata": {
    "collapsed": false
   },
   "outputs": [],
   "source": [
    "file_list_subset = file_list[0:5]"
   ]
  },
  {
   "cell_type": "code",
   "execution_count": null,
   "metadata": {
    "collapsed": false
   },
   "outputs": [
    {
     "name": "stdout",
     "output_type": "stream",
     "text": [
      "b.e11.B20TRC5CNBDRD.f09_g16.003.cam.h1.PRECT.19200101-20051231.nc\n",
      "b.e11.B20TRC5CNBDRD.f09_g16.002.cam.h1.PRECT.19200101-20051231.nc\n",
      "b.e11.B20TRC5CNBDRD.f09_g16.001.cam.h1.PRECT.18500101-20051231.nc\n",
      "b.e11.B20TRC5CNBDRD.f09_g16.004.cam.h1.PRECT.19200101-20051231.nc\n",
      "b.e11.B20TRC5CNBDRD.f09_g16.005.cam.h1.PRECT.19200101-20051231.nc\n"
     ]
    }
   ],
   "source": [
    "#fig = mp.figure(figsize=(18,18))\n",
    "#fontsize=12\n",
    "\n",
    "hist_list = []\n",
    "bin_centers_list = []\n",
    "bin_width_list = []\n",
    "PRECT_ONDJFM_CA_list = []\n",
    "\n",
    "\n",
    "#if __name__ == '__main__':\n",
    "def main():\n",
    "    pool = multiprocessing.Pool()\n",
    "    input = file_list_subset\n",
    "    pool.map(calculate_histograms, input)\n",
    "\n",
    "#for i in range(file_list.size):\n",
    "def calculate_histograms(file):\n",
    "        \n",
    "    print(file)\n",
    "\n",
    "    ncfile = netCDF4.Dataset(working_dir + file_list[i])\n",
    "    #PRECT = ncfile.variables['PRECT'][:,(LA_lat_idx-2):(LA_lat_idx+2),(LA_lon_idx-2):(LA_lon_idx+2)]*86400.*1000\n",
    "    #PRECT_time_var = ncfile.variables['time']\n",
    "    #PRECT_time_dates = netCDF4.num2date(PRECT_time_var[:], PRECT_time_var.units, PRECT_time_var.calendar)\n",
    "\n",
    "    #if i==0:\n",
    "    #    time_indices_ONDJFM = numpy.array([(t.month in [10,11,12,1,2,3])&(t.year in range(1920,2006)) for t in PRECT_time_dates], dtype=bool)\n",
    "    #else:\n",
    "    #    time_indices_ONDJFM = numpy.array([t.month in [10,11,12,1,2,3] for t in PRECT_time_dates], dtype=bool)\n",
    "    #PRECT_ONDJFM_CA = PRECT[time_indices_ONDJFM,:,:]\n",
    "    #\n",
    "    ncfile.close()\n",
    "\n",
    "    bins = numpy.logspace(-2,numpy.log10(PRECT_ONDJFM_CA.max()),100) # log spaced bins\n",
    "    #bins = numpy.linspace(0.1,PRECT_ONDJFM_CA.max(),100) # linearly spaced bins\n",
    "    hist_histogram, bin_edges = numpy.histogram(PRECT_ONDJFM_CA, bins=bins, density=False)\n",
    "    bin_centers = (bin_edges[:-1] + bin_edges[1:])/2\n",
    "    bin_width = numpy.diff(bin_edges) # same as bin_edges[1:]-bin_edges[:-1]\n",
    "\n",
    "    #return hist_histogram, bin_edges, bin_centers, bin_width\n",
    "    #hist_list.append(hist_histogram)\n",
    "    #bin_centers_list.append(bin_centers)\n",
    "    #bin_width_list.append(bin_width)\n",
    "    #PRECT_list.append(PRECT_ONDJFM_CA)\n",
    "\n",
    "    \"\"\"\n",
    "    ax = fig.add_subplot(6,6,i+1)\n",
    "    ax.bar(bin_centers, hist_histogram, align='center', width=bin_width, color='0.5', edgecolor='0.25', label='historical')\n",
    "    #ax.set_xlim(bins[0], bins[-1])\n",
    "    ax.tick_params(labelsize=fontsize)\n",
    "    ax.set_ylabel('Events (days)', fontsize=fontsize)\n",
    "    ax.set_xlabel('Precipitation (mm day$^{-1}$)', fontsize=fontsize)\n",
    "    ax.set_yscale('log') # 'symlog'\n",
    "    ax.set_xticks([0,25,50,75,100,125,150])\n",
    "    ax.xaxis.set_minor_locator(matplotlib.ticker.AutoMinorLocator(2))\n",
    "    ax.set_ylim(0.5,3000)\n",
    "    ax.minorticks_off()\n",
    "    #ax.grid()\n",
    "    #ax.set_axisbelow(True)\n",
    "\n",
    "    perc90 = numpy.percentile(PRECT_ONDJFM_CA, 90)\n",
    "    perc95 = numpy.percentile(PRECT_ONDJFM_CA, 95)\n",
    "    perc99 = numpy.percentile(PRECT_ONDJFM_CA, 99)\n",
    "    perc999 = numpy.percentile(PRECT_ONDJFM_CA, 99.9)\n",
    "\n",
    "    perc_text = \\\n",
    "    '{:.1f}'.format(perc90) + ' (90th)\\n' + \\\n",
    "    '{:.1f}'.format(perc95) + ' (95th)\\n' + \\\n",
    "    '{:.1f}'.format(perc99) + ' (99th)\\n' + \\\n",
    "    '{:.1f}'.format(perc999) + ' (99.9th)\\n' + \\\n",
    "    'mm day$^{-1}$'\n",
    "\n",
    "    ax.text(s=perc_text, x=0.96, y=0.93, transform=ax.transAxes, ha='right', va='top', fontsize=fontsize)\n",
    "    ax.text(s='Member '+str(i+1), x=0, y=1.03, transform=ax.transAxes, ha='left', va='bottom', fontsize=fontsize)\n",
    "    \"\"\"\n",
    "\n",
    "main()\n",
    "\n",
    "\n",
    "fig.tight_layout(w_pad=0.5)\n",
    "#mp.savefig('historical_histograms.pdf', transparent=True, bbox_inches='tight')"
   ]
  },
  {
   "cell_type": "raw",
   "metadata": {
    "collapsed": false
   },
   "source": [
    "fig = mp.figure(figsize=(18,18))\n",
    "fontsize=12\n",
    "\n",
    "for i in range(file_list.size):\n",
    "    \n",
    "    print(file_list[i])\n",
    "    \n",
    "    ncfile = netCDF4.Dataset(working_dir + file_list[i])\n",
    "    PRECT = ncfile.variables['PRECT'][:,(LA_lat_idx-2):(LA_lat_idx+2),(LA_lon_idx-2):(LA_lon_idx+2)]*86400.*1000\n",
    "    PRECT_time_var = ncfile.variables['time']\n",
    "    \n",
    "    PRECT_time_dates = netCDF4.num2date(PRECT_time_var[:], PRECT_time_var.units, PRECT_time_var.calendar)\n",
    "\n",
    "    if i==0:\n",
    "        time_indices_ONDJFM = numpy.array([(t.month in [10,11,12,1,2,3])&(t.year in range(1920,2006)) for t in PRECT_time_dates], dtype=bool)\n",
    "    else:\n",
    "        time_indices_ONDJFM = numpy.array([t.month in [10,11,12,1,2,3] for t in PRECT_time_dates], dtype=bool)\n",
    "    #PRECT_ONDJFM = PRECT[time_indices_ONDJFM,:,:]\n",
    "    #time_indices_ONDJFM = numpy.array([t.month in [10,11,12,1,2,3] for t in PRECT_time_dates], dtype=bool)\n",
    "    #PRECT_ONDJFM = PRECT[time_indices_ONDJFM,:,:]\n",
    "    PRECT_ONDJFM_CA = PRECT[time_indices_ONDJFM,:,:]\n",
    "\n",
    "    ncfile.close()\n",
    "    \n",
    "    bins = numpy.logspace(-2,numpy.log10(PRECT_ONDJFM_CA.max()),100) # log spaced bins\n",
    "    #bins = numpy.linspace(0.1,PRECT_ONDJFM_CA.max(),100) # linearly spaced bins\n",
    "    hist_histogram, bin_edges = numpy.histogram(PRECT_ONDJFM_CA, bins=bins, density=False)\n",
    "    bin_centers = (bin_edges[:-1] + bin_edges[1:])/2\n",
    "    bin_width = numpy.diff(bin_edges) # same as bin_edges[1:]-bin_edges[:-1]\n",
    "\n",
    "    ax = fig.add_subplot(6,6,i+1)\n",
    "    ax.bar(bin_centers, hist_histogram, align='center', width=bin_width, color='0.5', edgecolor='0.25', label='historical')\n",
    "    #ax.set_xlim(bins[0], bins[-1])\n",
    "    ax.tick_params(labelsize=fontsize)\n",
    "    ax.set_ylabel('Events (days)', fontsize=fontsize)\n",
    "    ax.set_xlabel('Precipitation (mm day$^{-1}$)', fontsize=fontsize)\n",
    "    ax.set_yscale('log') # 'symlog'\n",
    "    ax.set_xticks([0,25,50,75,100,125,150])\n",
    "    ax.xaxis.set_minor_locator(matplotlib.ticker.AutoMinorLocator(2))\n",
    "    ax.set_ylim(0.5,3000)\n",
    "    ax.minorticks_off()\n",
    "    #ax.grid()\n",
    "    #ax.set_axisbelow(True)\n",
    "\n",
    "    perc90 = numpy.percentile(PRECT_ONDJFM_CA, 90)\n",
    "    perc95 = numpy.percentile(PRECT_ONDJFM_CA, 95)\n",
    "    perc99 = numpy.percentile(PRECT_ONDJFM_CA, 99)\n",
    "    perc999 = numpy.percentile(PRECT_ONDJFM_CA, 99.9)\n",
    "\n",
    "    perc_text = \\\n",
    "    '{:.1f}'.format(perc90) + ' (90th)\\n' + \\\n",
    "    '{:.1f}'.format(perc95) + ' (95th)\\n' + \\\n",
    "    '{:.1f}'.format(perc99) + ' (99th)\\n' + \\\n",
    "    '{:.1f}'.format(perc999) + ' (99.9th)\\n' + \\\n",
    "    'mm day$^{-1}$'\n",
    "\n",
    "    ax.text(s=perc_text, x=0.96, y=0.93, transform=ax.transAxes, ha='right', va='top', fontsize=fontsize)\n",
    "\n",
    "    ax.text(s='Member '+str(i+1), x=0, y=1.03, transform=ax.transAxes, ha='left', va='bottom', fontsize=fontsize)\n",
    "fig.tight_layout()\n",
    "\n",
    "fig.tight_layout()\n",
    "mp.savefig('historical_histograms.pdf', transparent=True, bbox_inches='tight')"
   ]
  },
  {
   "cell_type": "code",
   "execution_count": null,
   "metadata": {
    "collapsed": true
   },
   "outputs": [],
   "source": []
  }
 ],
 "metadata": {
  "anaconda-cloud": {},
  "kernelspec": {
   "display_name": "Python [default]",
   "language": "python",
   "name": "python3"
  },
  "language_info": {
   "codemirror_mode": {
    "name": "ipython",
    "version": 3
   },
   "file_extension": ".py",
   "mimetype": "text/x-python",
   "name": "python",
   "nbconvert_exporter": "python",
   "pygments_lexer": "ipython3",
   "version": "3.5.2"
  }
 },
 "nbformat": 4,
 "nbformat_minor": 1
}
