{
 "cells": [
  {
   "cell_type": "code",
   "execution_count": 1,
   "metadata": {
    "collapsed": true
   },
   "outputs": [],
   "source": [
    "import numpy\n",
    "import scipy\n",
    "import netCDF4\n",
    "import matplotlib.pyplot as mp\n",
    "import matplotlib.ticker\n",
    "\n",
    "mp.rcParams.update({'mathtext.default': 'regular'})\n",
    "% matplotlib inline"
   ]
  },
  {
   "cell_type": "code",
   "execution_count": 24,
   "metadata": {
    "collapsed": false
   },
   "outputs": [
    {
     "data": {
      "text/plain": [
       "dict_keys(['storm_magnitude_list', 'storm_count_list', 'storm_length_list'])"
      ]
     },
     "execution_count": 24,
     "metadata": {},
     "output_type": "execute_result"
    }
   ],
   "source": [
    "working_dir = '/ninod/baird/cmip5/cmip5_calculations/attribution_2017/storm_counting/'\n",
    "threshold='0.1'\n",
    "threshold='0.5'\n",
    "threshold='1.0'\n",
    "\n",
    "dict_hist = numpy.load(working_dir + 'storm_counting_historical_dictionary_1981-2000_threshold_'+threshold+'mmday.npy').item()\n",
    "dict_rcp85 = numpy.load(working_dir + 'storm_counting_rcp85_dictionary_2081-2100_threshold_'+threshold+'mmday.npy').item()\n",
    "\n",
    "dict_hist.keys()"
   ]
  },
  {
   "cell_type": "code",
   "execution_count": 25,
   "metadata": {
    "collapsed": true
   },
   "outputs": [],
   "source": [
    "storm_length_list_hist = numpy.array(dict_hist['storm_length_list'])\n",
    "storm_magnitude_list_hist = numpy.array(dict_hist['storm_magnitude_list'])\n",
    "storm_count_list_hist = numpy.array(dict_hist['storm_count_list'])\n",
    "\n",
    "storm_length_list_rcp85 = numpy.array(dict_rcp85['storm_length_list'])\n",
    "storm_magnitude_list_rcp85 = numpy.array(dict_rcp85['storm_magnitude_list'])\n",
    "storm_count_list_rcp85 = numpy.array(dict_rcp85['storm_count_list'])"
   ]
  },
  {
   "cell_type": "code",
   "execution_count": 26,
   "metadata": {
    "collapsed": false
   },
   "outputs": [
    {
     "data": {
      "image/png": "[encoded data removed]",
      "text/plain": [
       "<matplotlib.figure.Figure at 0x7fe092c6bda0>"
      ]
     },
     "metadata": {},
     "output_type": "display_data"
    }
   ],
   "source": [
    "fontsize=12\n",
    "\n",
    "fig = mp.figure(figsize=(4,3))\n",
    "\n",
    "ax = fig.add_subplot(111)\n",
    "ax.scatter(storm_length_list_rcp85, storm_magnitude_list_rcp85, s=20, c='firebrick', label='RCP8.5')\n",
    "ax.scatter(storm_length_list_hist, storm_magnitude_list_hist, s=20, c='0.2', label='historical')\n",
    "ax.set_xlabel('Storm length (days)', fontsize=fontsize)\n",
    "ax.set_ylabel('Storm magnitude (mm)', fontsize=fontsize)\n",
    "ax.tick_params(labelsize=fontsize)\n",
    "ax.grid()\n",
    "ax.set_xticks([1,10,20,30,40])\n",
    "ax.set_axisbelow(True)\n",
    "ax.set_ylim(-50,800)\n",
    "ax.set_xlim(-0.75,40)\n",
    "#ax.text(s='All members (1981-2000)', x=0, y=1.05, transform=ax.transAxes, fontsize=fontsize)\n",
    "\n",
    "handles,labels = ax.get_legend_handles_labels()\n",
    "ax.legend(handles, labels, fontsize=fontsize, scatterpoints=1, bbox_to_anchor=(0.03,0.97), \\\n",
    "          bbox_transform=ax.transAxes, loc='upper left', borderaxespad=0, labelspacing=0.25, \\\n",
    "          fancybox=False, edgecolor='0', framealpha=0, borderpad=0.25, \\\n",
    "          handletextpad=0.5, markerscale=1, handlelength=0)\n",
    "\n",
    "mp.savefig('figs/magnitude_vs_length_historical_and_rcp85_threshold_'+threshold+'mmday.pdf', transparent=True, bbox_inches='tight')"
   ]
  },
  {
   "cell_type": "markdown",
   "metadata": {},
   "source": [
    "### Create histogram for event sizes"
   ]
  },
  {
   "cell_type": "code",
   "execution_count": 27,
   "metadata": {
    "collapsed": true
   },
   "outputs": [],
   "source": [
    "#bins = numpy.logspace(-2,numpy.log10(PRECT_ONDJFM_CA.max()),100) # log spaced bins\n",
    "bins = numpy.linspace(0,600,100)\n",
    "bins = numpy.logspace(-10,numpy.log10(storm_magnitude_list_hist.max()),200) # log spaced bins\n",
    "hist_histogram, bin_edges = numpy.histogram(storm_magnitude_list_hist, bins=bins, density=False)\n",
    "hist_bin_centers = (bin_edges[:-1] + bin_edges[1:])/2\n",
    "hist_bin_width = numpy.diff(bin_edges) # same as bin_edges[1:]-bin_edges[:-1]"
   ]
  },
  {
   "cell_type": "code",
   "execution_count": 28,
   "metadata": {
    "collapsed": true
   },
   "outputs": [],
   "source": [
    "#bins = numpy.linspace(0,600,100)\n",
    "bins = numpy.logspace(-10,numpy.log10(storm_magnitude_list_hist.max()),200)\n",
    "rcp_histogram, bin_edges = numpy.histogram(storm_magnitude_list_rcp85, bins=bins, density=False)\n",
    "rcp_bin_centers = (bin_edges[:-1] + bin_edges[1:])/2\n",
    "rcp_bin_width = numpy.diff(bin_edges) # same as bin_edges[1:]-bin_edges[:-1]"
   ]
  },
  {
   "cell_type": "code",
   "execution_count": 31,
   "metadata": {
    "collapsed": false
   },
   "outputs": [
    {
     "data": {
      "image/png": "[encoded data removed]",
      "text/plain": [
       "<matplotlib.figure.Figure at 0x7fe096c712b0>"
      ]
     },
     "metadata": {},
     "output_type": "display_data"
    }
   ],
   "source": [
    "fig = mp.figure(figsize=(3,3))\n",
    "fontsize=12\n",
    "\n",
    "ax = fig.add_subplot(111)\n",
    "\n",
    "bar1 = ax.bar(rcp_bin_centers, rcp_histogram, align='center', width=hist_bin_width, color='firebrick', label='RCP8.5 \\n(2081-2100)')\n",
    "bar2 = ax.bar(hist_bin_centers, hist_histogram, align='center', width=hist_bin_width, color='0', linewidth=0, label='historical \\n(1981-2000)', alpha=0.5)\n",
    "#ax.step(bin_centers, hist_histogram, where='mid',color='0')\n",
    "#ax.scatter(rcp_bin_centers, rcp_histogram, color='firebrick', label='RCP8.5')\n",
    "\n",
    "#import pprint\n",
    "#pprint.pprint(vars(bar1))\n",
    "#for i in bar1.patches:\n",
    "#    i.set_edgecolor('None')\n",
    "#ax.set_xlim(bins[0], bins[-1])\n",
    "\n",
    "ax.tick_params(labelsize=fontsize)\n",
    "ax.set_ylabel('Events (number)', fontsize=fontsize)\n",
    "ax.set_xlabel('Precipitation (mm)', fontsize=fontsize)\n",
    "ax.set_yscale('log') # 'symlog'\n",
    "ax.xaxis.set_minor_locator(matplotlib.ticker.AutoMinorLocator(2))\n",
    "\n",
    "ax.set_ylim(0.5,500)\n",
    "ax.minorticks_off()\n",
    "#ax.grid()\n",
    "#ax.set_axisbelow(True)\n",
    "\n",
    "handles,labels = ax.get_legend_handles_labels()\n",
    "ax.legend(handles, labels, fontsize=fontsize, bbox_to_anchor=(0.98,0.98), bbox_transform=ax.transAxes, loc='upper right', borderaxespad=0, labelspacing=0.5, fancybox=False, edgecolor='0', framealpha=0, borderpad=0.25, handletextpad=0.5, handlelength=1)\n",
    "\n",
    "mp.savefig('figs/histogram_event_numbers_rcp85_vs_historical_threshold_'+threshold+'mmday.pdf', transparent=True, bbox_inches='tight')"
   ]
  },
  {
   "cell_type": "code",
   "execution_count": 32,
   "metadata": {
    "collapsed": false
   },
   "outputs": [
    {
     "data": {
      "image/png": "[encoded data removed]",
      "text/plain": [
       "<matplotlib.figure.Figure at 0x7fe096d1d2e8>"
      ]
     },
     "metadata": {},
     "output_type": "display_data"
    }
   ],
   "source": [
    "fig = mp.figure(figsize=(3,3))\n",
    "fontsize=12\n",
    "\n",
    "ax = fig.add_subplot(111)\n",
    "\n",
    "bar1 = ax.bar(rcp_bin_centers, rcp_histogram, align='center', width=hist_bin_width, color='firebrick', label='RCP8.5 \\n(2081-2100)')\n",
    "bar2 = ax.bar(hist_bin_centers, hist_histogram, align='center', width=hist_bin_width, color='0', linewidth=0, label='historical \\n(1981-2000)', alpha=0.5)\n",
    "#ax.step(bin_centers, hist_histogram, where='mid',color='0')\n",
    "#ax.scatter(rcp_bin_centers, rcp_histogram, color='firebrick', label='RCP8.5')\n",
    "\n",
    "#import pprint\n",
    "#pprint.pprint(vars(bar1))\n",
    "#for i in bar1.patches:\n",
    "#    i.set_edgecolor('None')\n",
    "#ax.set_xlim(bins[0], bins[-1])\n",
    "\n",
    "ax.tick_params(labelsize=fontsize)\n",
    "ax.set_ylabel('Events (number)', fontsize=fontsize)\n",
    "ax.set_xlabel('Precipitation (mm)', fontsize=fontsize)\n",
    "#ax.set_yscale('log') # 'symlog'\n",
    "ax.xaxis.set_minor_locator(matplotlib.ticker.AutoMinorLocator(2))\n",
    "\n",
    "ax.set_ylim(0.5,400)\n",
    "ax.minorticks_off()\n",
    "#ax.grid()\n",
    "#ax.set_axisbelow(True)\n",
    "\n",
    "handles,labels = ax.get_legend_handles_labels()\n",
    "ax.legend(handles, labels, fontsize=fontsize, bbox_to_anchor=(0.98,0.98), bbox_transform=ax.transAxes, loc='upper right', borderaxespad=0, labelspacing=0.5, fancybox=False, edgecolor='0', framealpha=0, borderpad=0.25, handletextpad=0.5, handlelength=1)\n",
    "\n",
    "mp.savefig('figs/histogram_event_numbers_rcp85_vs_historical_threshold_'+threshold+'mmday_linear_yaxis.pdf', transparent=True, bbox_inches='tight')"
   ]
  },
  {
   "cell_type": "code",
   "execution_count": null,
   "metadata": {
    "collapsed": true
   },
   "outputs": [],
   "source": []
  }
 ],
 "metadata": {
  "anaconda-cloud": {},
  "kernelspec": {
   "display_name": "Python [default]",
   "language": "python",
   "name": "python3"
  },
  "language_info": {
   "codemirror_mode": {
    "name": "ipython",
    "version": 3
   },
   "file_extension": ".py",
   "mimetype": "text/x-python",
   "name": "python",
   "nbconvert_exporter": "python",
   "pygments_lexer": "ipython3",
   "version": "3.5.2"
  }
 },
 "nbformat": 4,
 "nbformat_minor": 1
}
