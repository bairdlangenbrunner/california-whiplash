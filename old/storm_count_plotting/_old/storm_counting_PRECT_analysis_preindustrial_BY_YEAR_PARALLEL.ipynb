{
 "cells": [
  {
   "cell_type": "markdown",
   "metadata": {},
   "source": [
    "### Switching to go through each season and save data for EACH ENSEMBLE MEMBER"
   ]
  },
  {
   "cell_type": "code",
   "execution_count": 1,
   "metadata": {
    "collapsed": true
   },
   "outputs": [],
   "source": [
    "import numpy\n",
    "import scipy\n",
    "import netCDF4\n",
    "import matplotlib.pyplot as mp\n",
    "import matplotlib.ticker\n",
    "\n",
    "mp.rcParams.update({'mathtext.default': 'regular'})\n",
    "% matplotlib inline"
   ]
  },
  {
   "cell_type": "code",
   "execution_count": 14,
   "metadata": {
    "collapsed": true
   },
   "outputs": [],
   "source": [
    "def geo_idx(dd, dd_array):\n",
    "   \"\"\"\n",
    "     search for nearest decimal degree in an array of decimal degrees and return the index.\n",
    "     np.argmin returns the indices of minium value along an axis.\n",
    "     so subtract dd from all values in dd_array, take absolute value and find index of minium.\n",
    "    \"\"\"\n",
    "   geo_idx = (numpy.abs(dd_array - dd)).argmin()\n",
    "   return geo_idx\n",
    "\n",
    "LA_lat = 34.0522\n",
    "LA_lon = 118.2437 # deg west\n",
    "LA_lon = 180. + (180-LA_lon)\n",
    "\n",
    "Oroville_dam_lat = 39.5380\n",
    "Oroville_dam_lon = 121.4831 # deg west\n",
    "Oroville_dam_lon = 360 - Oroville_dam_lon"
   ]
  },
  {
   "cell_type": "code",
   "execution_count": 15,
   "metadata": {
    "collapsed": true
   },
   "outputs": [],
   "source": [
    "time_subsets = numpy.array((\n",
    "[402,499], \\\n",
    "))"
   ]
  },
  {
   "cell_type": "code",
   "execution_count": 16,
   "metadata": {
    "collapsed": false
   },
   "outputs": [],
   "source": [
    "file_dir = '/ninod/NCAR_LENS/daily/PRECT/B1850C5CN/'\n",
    "\n",
    "file = 'b.e11.B1850C5CN.f09_g16.005.cam.h1.PRECT.04020101-22001231_SUBSET.nc'\n",
    "#file_list = numpy.array(( \\\n",
    "#b.e11.B1850C5CN.f09_g16.005.cam.h1.PRECT.04020101-04991231_SUBSET.nc\n",
    "#b.e11.B1850C5CN.f09_g16.005.cam.h1.PRECT.05000101-05991231_SUBSET.nc\n",
    "#b.e11.B1850C5CN.f09_g16.005.cam.h1.PRECT.06000101-06991231_SUBSET.nc\n",
    "#b.e11.B1850C5CN.f09_g16.005.cam.h1.PRECT.07000101-07991231_SUBSET.nc\n",
    "#b.e11.B1850C5CN.f09_g16.005.cam.h1.PRECT.08000101-08991231_SUBSET.nc\n",
    "#b.e11.B1850C5CN.f09_g16.005.cam.h1.PRECT.09000101-09991231_SUBSET.nc\n",
    "#b.e11.B1850C5CN.f09_g16.005.cam.h1.PRECT.10000101-10991231_SUBSET.nc\n",
    "#b.e11.B1850C5CN.f09_g16.005.cam.h1.PRECT.11000101-11991231_SUBSET.nc\n",
    "#b.e11.B1850C5CN.f09_g16.005.cam.h1.PRECT.12000101-12991231_SUBSET.nc\n",
    "#b.e11.B1850C5CN.f09_g16.005.cam.h1.PRECT.13000101-13991231_SUBSET.nc\n",
    "#b.e11.B1850C5CN.f09_g16.005.cam.h1.PRECT.14000101-14991231_SUBSET.nc\n",
    "#b.e11.B1850C5CN.f09_g16.005.cam.h1.PRECT.15000101-15991231_SUBSET.nc\n",
    "#b.e11.B1850C5CN.f09_g16.005.cam.h1.PRECT.16000101-16991231_SUBSET.nc\n",
    "#b.e11.B1850C5CN.f09_g16.005.cam.h1.PRECT.17000101-17991231_SUBSET.nc\n",
    "#b.e11.B1850C5CN.f09_g16.005.cam.h1.PRECT.18000101-18991231_SUBSET.nc\n",
    "#b.e11.B1850C5CN.f09_g16.005.cam.h1.PRECT.19000101-19991231_SUBSET.nc\n",
    "#b.e11.B1850C5CN.f09_g16.005.cam.h1.PRECT.20000101-20991231_SUBSET.nc\n",
    "#b.e11.B1850C5CN.f09_g16.005.cam.h1.PRECT.21000101-22001231_SUBSET.nc ))"
   ]
  },
  {
   "cell_type": "markdown",
   "metadata": {},
   "source": [
    "### Pull out proper lat/lon (doing this for one grid point right now)"
   ]
  },
  {
   "cell_type": "code",
   "execution_count": 17,
   "metadata": {
    "collapsed": false
   },
   "outputs": [
    {
     "name": "stdout",
     "output_type": "stream",
     "text": [
      "182\n"
     ]
    }
   ],
   "source": [
    "d_oct = 31\n",
    "d_nov = 30\n",
    "d_dec = 31\n",
    "d_jan = 31\n",
    "d_feb = 28\n",
    "d_mar = 31\n",
    "days_per_season = d_oct+d_nov+d_dec+d_jan+d_feb+d_mar\n",
    "print(days_per_season)"
   ]
  },
  {
   "cell_type": "code",
   "execution_count": 18,
   "metadata": {
    "collapsed": false
   },
   "outputs": [],
   "source": [
    "i = 0\n",
    "\n",
    "ncfile = netCDF4.Dataset(file_dir + file)\n",
    "PRECT_lat = ncfile.variables['lat'][:]\n",
    "PRECT_lon = ncfile.variables['lon'][:]\n",
    "PRECT_time_var = ncfile.variables['time']\n",
    "\n",
    "PRECT_time_dates = netCDF4.num2date(PRECT_time_var[:], PRECT_time_var.units, PRECT_time_var.calendar)\n",
    "time_indices_ONDJFM = numpy.array([t.month in [10,11,12,1,2,3] for t in PRECT_time_dates], dtype=bool)\n",
    "PRECT_time_dates_ONDJFM = PRECT_time_dates[time_indices_ONDJFM]\n",
    "\n",
    "LA_lat_idx = geo_idx(LA_lat, PRECT_lat)\n",
    "LA_lon_idx = geo_idx(LA_lon, PRECT_lon)\n",
    "\n",
    "#PRECT_ONDJFM_CA = ncfile.variables['PRECT'][time_indices_ONDJFM,(LA_lat_idx-2):(LA_lat_idx+2), (LA_lon_idx-2):(LA_lon_idx+2)]*86400.*1000\n",
    "PRECT_ONDJFM_CA = ncfile.variables['PRECT'][time_indices_ONDJFM,LA_lat_idx, LA_lon_idx]*86400.*1000"
   ]
  },
  {
   "cell_type": "code",
   "execution_count": 19,
   "metadata": {
    "collapsed": false
   },
   "outputs": [
    {
     "name": "stdout",
     "output_type": "stream",
     "text": [
      "(327417,)\n"
     ]
    }
   ],
   "source": [
    "print(PRECT_ONDJFM_CA.shape)"
   ]
  },
  {
   "cell_type": "code",
   "execution_count": 20,
   "metadata": {
    "collapsed": false
   },
   "outputs": [
    {
     "data": {
      "text/plain": [
       "327236"
      ]
     },
     "execution_count": 20,
     "metadata": {},
     "output_type": "execute_result"
    }
   ],
   "source": [
    "365*(2199-402)\n",
    "\n",
    "(2199-402+1)*days_per_season"
   ]
  },
  {
   "cell_type": "raw",
   "metadata": {
    "collapsed": false
   },
   "source": [
    "#PRECT_ONDJFM = PRECT_ONDJFM[:, LA_lat_idx, LA_lon_idx]\n",
    "PRECT_ONDJFM_CA = PRECT_ONDJFM[:, (LA_lat_idx-2):(LA_lat_idx+2), (LA_lon_idx-2):(LA_lon_idx+2)]"
   ]
  },
  {
   "cell_type": "code",
   "execution_count": 22,
   "metadata": {
    "collapsed": true
   },
   "outputs": [],
   "source": [
    "working_dir = '/ninod/baird/cmip5/cmip5_calculations/attribution_2017/storm_counting/'\n",
    "\n",
    "ca_latlon_regional_indices_array = numpy.load(working_dir + 'ca_latlon_regional_indices_array.npy')"
   ]
  },
  {
   "cell_type": "code",
   "execution_count": 23,
   "metadata": {
    "collapsed": false
   },
   "outputs": [],
   "source": [
    "year_start = 402 #time_subsets[chunk,0]\n",
    "year_end = 2200 #time_subsets[chunk,1]\n",
    "\n",
    "# create season strings\n",
    "years = numpy.arange(year_start, year_end+1, 1).astype(numpy.int)\n",
    "season_strings = numpy.empty(years.size-1, dtype=numpy.str)\n",
    "\n",
    "season_strings = [str(years[i])+'-'+str(years[i+1]) for i in range(years.size-1)]"
   ]
  },
  {
   "cell_type": "code",
   "execution_count": 24,
   "metadata": {
    "collapsed": false
   },
   "outputs": [
    {
     "name": "stdout",
     "output_type": "stream",
     "text": [
      "b.e11.B1850C5CN.f09_g16.005.cam.h1.PRECT.04020101-22001231_SUBSET.nc\n",
      "4 9 [ 30.62827225  31.57068063  32.51308901  33.45549738  34.39790576\n",
      "  35.34031414  36.28272251  37.22513089  38.16753927  39.10994764\n",
      "  40.05235602  40.9947644   41.93717277  42.87958115  43.82198953\n",
      "  44.76439791] [ 230.    231.25  232.5   233.75  235.    236.25  237.5   238.75  240.\n",
      "  241.25  242.5   243.75  245.    246.25  247.5   248.75  250.  ]\n",
      "Saved member_005_latidx_2_lonidx_9_years_0402-2200_threshold_0.1mmday.npy\n"
     ]
    }
   ],
   "source": [
    "threshold=0.1\n",
    "\n",
    "n_seasons = year_end-year_start\n",
    "#half_years = numpy.arange(year_start+0.5, year_end, 1.0)\n",
    "\n",
    "for latlon in [0]:#range(ca_latlon_regional_indices_array.shape[0]):\n",
    "    \n",
    "    lat_idx = ca_latlon_regional_indices_array[latlon,0]\n",
    "    lon_idx = ca_latlon_regional_indices_array[latlon,1]\n",
    "    \n",
    "    save_dict = {}\n",
    "\n",
    "    #for i in range(file_list.size):\n",
    "\n",
    "    print(file)\n",
    "\n",
    "    ncfile = netCDF4.Dataset(file_dir + file)\n",
    "    PRECT_lat = ncfile.variables['lat'][:]\n",
    "    PRECT_lon = ncfile.variables['lon'][:]\n",
    "    PRECT_time_var = ncfile.variables['time']\n",
    "\n",
    "    PRECT_time_dates = netCDF4.num2date(PRECT_time_var[:], PRECT_time_var.units, PRECT_time_var.calendar)\n",
    "    time_indices_ONDJFM = numpy.array([(t.month in [10,11,12,1,2,3])&(t.year in range(year_start,year_end+1)) for t in PRECT_time_dates], dtype=bool)\n",
    "    PRECT_time_dates_ONDJFM = PRECT_time_dates[time_indices_ONDJFM]\n",
    "\n",
    "    LA_lat_idx = geo_idx(LA_lat, PRECT_lat)\n",
    "    LA_lon_idx = geo_idx(LA_lon, PRECT_lon)\n",
    "    print(LA_lat_idx, LA_lon_idx, PRECT_lat, PRECT_lon)\n",
    "    PRECT_ONDJFM_region = ncfile.variables['PRECT'][time_indices_ONDJFM, lat_idx, lon_idx]*86400.*1000\n",
    "\n",
    "    # get index of first October\n",
    "    # and index of last March\n",
    "    t=0\n",
    "    while t < PRECT_time_dates_ONDJFM.size:\n",
    "        if PRECT_time_dates_ONDJFM[t].month!=10:\n",
    "            t+=1\n",
    "        else:\n",
    "            first_October_index = t\n",
    "            break\n",
    "    t=0\n",
    "    while i < PRECT_time_dates_ONDJFM.size:\n",
    "        if PRECT_time_dates_ONDJFM[::-1][t].month!=3:\n",
    "            t+=1\n",
    "        else:\n",
    "            last_March_index = PRECT_time_dates_ONDJFM.size-t-1\n",
    "            break\n",
    "\n",
    "    PRECT_time_dates_ONDJFM_fullseasons = PRECT_time_dates_ONDJFM[first_October_index:last_March_index+1]\n",
    "    PRECT_ONDJFM_region_fullseasons = PRECT_ONDJFM_region[first_October_index:last_March_index+1]\n",
    "\n",
    "    #years_array = numpy.array(([t.year for t in PRECT_time_dates_ONDJFM_fullseasons]), dtype=numpy.int)\n",
    "\n",
    "    storm_count=0 # per season\n",
    "    storm_length=0 # for each storm\n",
    "    storm_magnitude=0.0 # for each storm\n",
    "\n",
    "    for s in range(n_seasons):\n",
    "        storm_count=0\n",
    "        storm_magnitude_list = []\n",
    "        storm_length_list = []\n",
    "        seas_PRECT = PRECT_ONDJFM_region_fullseasons[s*days_per_season:(s*days_per_season+days_per_season)]\n",
    "        # weird fact:  the 402-499 data are missing Dec. 31st, so need to fix that by looping over days_per_season-1\n",
    "        for d in range(seas_PRECT.size):\n",
    "            if seas_PRECT[d]>=threshold:\n",
    "                storm_magnitude+=seas_PRECT[d]\n",
    "                storm_length+=1 # days\n",
    "            elif (seas_PRECT[d]<threshold)&(storm_magnitude>0.0):\n",
    "                storm_magnitude_list.append(storm_magnitude)\n",
    "                storm_length_list.append(storm_length)\n",
    "                storm_magnitude=0.0\n",
    "                storm_length=0\n",
    "                storm_count+=1\n",
    "        seasonal_total = numpy.sum(seas_PRECT[seas_PRECT>threshold])\n",
    "        precipitation_days = numpy.sum(seas_PRECT>threshold)\n",
    "        save_dict[season_strings[s]] = {'storm_count' : storm_count}\n",
    "        save_dict[season_strings[s]]['storm_magnitude_list'] = storm_magnitude_list\n",
    "        save_dict[season_strings[s]]['storm_length_list'] = storm_length_list\n",
    "        save_dict[season_strings[s]]['seasonal_total'] = seasonal_total\n",
    "        save_dict[season_strings[s]]['precipitation_days'] = precipitation_days\n",
    "    \n",
    "    save_file = 'member_005_latidx_'+str(lat_idx)+'_lonidx_'+str(lon_idx)+'_years_'+'{:04d}'.format(year_start)+'-'+'{:04d}'.format(year_end)+'_threshold_'+str(threshold)+'mmday.npy'\n",
    "    numpy.save(working_dir + save_file, save_dict)\n",
    "    print('Saved '+save_file)"
   ]
  },
  {
   "cell_type": "code",
   "execution_count": null,
   "metadata": {
    "collapsed": true
   },
   "outputs": [],
   "source": []
  }
 ],
 "metadata": {
  "anaconda-cloud": {},
  "kernelspec": {
   "display_name": "Python [default]",
   "language": "python",
   "name": "python3"
  },
  "language_info": {
   "codemirror_mode": {
    "name": "ipython",
    "version": 3
   },
   "file_extension": ".py",
   "mimetype": "text/x-python",
   "name": "python",
   "nbconvert_exporter": "python",
   "pygments_lexer": "ipython3",
   "version": "3.5.2"
  }
 },
 "nbformat": 4,
 "nbformat_minor": 1
}
