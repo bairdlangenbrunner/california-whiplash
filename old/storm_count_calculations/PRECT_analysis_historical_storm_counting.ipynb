{
 "cells": [
  {
   "cell_type": "code",
   "execution_count": 1,
   "metadata": {
    "collapsed": true
   },
   "outputs": [],
   "source": [
    "import numpy\n",
    "import scipy\n",
    "import netCDF4\n",
    "import matplotlib.pyplot as mp\n",
    "import matplotlib.ticker\n",
    "\n",
    "mp.rcParams.update({'mathtext.default': 'regular'})\n",
    "% matplotlib inline"
   ]
  },
  {
   "cell_type": "code",
   "execution_count": 2,
   "metadata": {
    "collapsed": true
   },
   "outputs": [],
   "source": [
    "def geo_idx(dd, dd_array):\n",
    "   \"\"\"\n",
    "     search for nearest decimal degree in an array of decimal degrees and return the index.\n",
    "     np.argmin returns the indices of minium value along an axis.\n",
    "     so subtract dd from all values in dd_array, take absolute value and find index of minium.\n",
    "    \"\"\"\n",
    "   geo_idx = (numpy.abs(dd_array - dd)).argmin()\n",
    "   return geo_idx\n",
    "\n",
    "LA_lat = 34.0522\n",
    "LA_lon = 118.2437 # deg west\n",
    "LA_lon = 180. + (180-LA_lon)"
   ]
  },
  {
   "cell_type": "code",
   "execution_count": 7,
   "metadata": {
    "collapsed": true
   },
   "outputs": [],
   "source": [
    "working_dir = '/ninod/NCAR_LENS/daily/PRECT/B20TRC5CNBDRD/'"
   ]
  },
  {
   "cell_type": "code",
   "execution_count": 8,
   "metadata": {
    "collapsed": false
   },
   "outputs": [],
   "source": [
    "file_list = numpy.array(( \\\n",
    "'b.e11.B20TRC5CNBDRD.f09_g16.001.cam.h1.PRECT.18500101-20051231.nc', \\\n",
    "'b.e11.B20TRC5CNBDRD.f09_g16.002.cam.h1.PRECT.19200101-20051231.nc', \\\n",
    "'b.e11.B20TRC5CNBDRD.f09_g16.003.cam.h1.PRECT.19200101-20051231.nc', \\\n",
    "'b.e11.B20TRC5CNBDRD.f09_g16.004.cam.h1.PRECT.19200101-20051231.nc', \\\n",
    "'b.e11.B20TRC5CNBDRD.f09_g16.005.cam.h1.PRECT.19200101-20051231.nc', \\\n",
    "'b.e11.B20TRC5CNBDRD.f09_g16.006.cam.h1.PRECT.19200101-20051231.nc', \\\n",
    "'b.e11.B20TRC5CNBDRD.f09_g16.007.cam.h1.PRECT.19200101-20051231.nc', \\\n",
    "'b.e11.B20TRC5CNBDRD.f09_g16.008.cam.h1.PRECT.19200101-20051231.nc', \\\n",
    "'b.e11.B20TRC5CNBDRD.f09_g16.009.cam.h1.PRECT.19200101-20051231.nc', \\\n",
    "'b.e11.B20TRC5CNBDRD.f09_g16.010.cam.h1.PRECT.19200101-20051231.nc', \\\n",
    "'b.e11.B20TRC5CNBDRD.f09_g16.011.cam.h1.PRECT.19200101-20051231.nc', \\\n",
    "'b.e11.B20TRC5CNBDRD.f09_g16.012.cam.h1.PRECT.19200101-20051231.nc', \\\n",
    "'b.e11.B20TRC5CNBDRD.f09_g16.013.cam.h1.PRECT.19200101-20051231.nc', \\\n",
    "'b.e11.B20TRC5CNBDRD.f09_g16.014.cam.h1.PRECT.19200101-20051231.nc', \\\n",
    "'b.e11.B20TRC5CNBDRD.f09_g16.015.cam.h1.PRECT.19200101-20051231.nc', \\\n",
    "'b.e11.B20TRC5CNBDRD.f09_g16.016.cam.h1.PRECT.19200101-20051231.nc', \\\n",
    "'b.e11.B20TRC5CNBDRD.f09_g16.017.cam.h1.PRECT.19200101-20051231.nc', \\\n",
    "'b.e11.B20TRC5CNBDRD.f09_g16.018.cam.h1.PRECT.19200101-20051231.nc', \\\n",
    "'b.e11.B20TRC5CNBDRD.f09_g16.019.cam.h1.PRECT.19200101-20051231.nc', \\\n",
    "'b.e11.B20TRC5CNBDRD.f09_g16.020.cam.h1.PRECT.19200101-20051231.nc', \\\n",
    "'b.e11.B20TRC5CNBDRD.f09_g16.021.cam.h1.PRECT.19200101-20051231.nc', \\\n",
    "'b.e11.B20TRC5CNBDRD.f09_g16.022.cam.h1.PRECT.19200101-20051231.nc', \\\n",
    "'b.e11.B20TRC5CNBDRD.f09_g16.023.cam.h1.PRECT.19200101-20051231.nc', \\\n",
    "'b.e11.B20TRC5CNBDRD.f09_g16.024.cam.h1.PRECT.19200101-20051231.nc', \\\n",
    "'b.e11.B20TRC5CNBDRD.f09_g16.025.cam.h1.PRECT.19200101-20051231.nc', \\\n",
    "'b.e11.B20TRC5CNBDRD.f09_g16.026.cam.h1.PRECT.19200101-20051231.nc', \\\n",
    "'b.e11.B20TRC5CNBDRD.f09_g16.027.cam.h1.PRECT.19200101-20051231.nc', \\\n",
    "'b.e11.B20TRC5CNBDRD.f09_g16.028.cam.h1.PRECT.19200101-20051231.nc', \\\n",
    "'b.e11.B20TRC5CNBDRD.f09_g16.029.cam.h1.PRECT.19200101-20051231.nc', \\\n",
    "'b.e11.B20TRC5CNBDRD.f09_g16.030.cam.h1.PRECT.19200101-20051231.nc', \\\n",
    "'b.e11.B20TRC5CNBDRD.f09_g16.031.cam.h1.PRECT.19200101-20051231.nc', \\\n",
    "'b.e11.B20TRC5CNBDRD.f09_g16.032.cam.h1.PRECT.19200101-20051231.nc', \\\n",
    "'b.e11.B20TRC5CNBDRD.f09_g16.033.cam.h1.PRECT.19200101-20051231.nc', \\\n",
    "'b.e11.B20TRC5CNBDRD.f09_g16.034.cam.h1.PRECT.19200101-20051231.nc', \\\n",
    "'b.e11.B20TRC5CNBDRD.f09_g16.035.cam.h1.PRECT.19200101-20051231.nc' ))"
   ]
  },
  {
   "cell_type": "markdown",
   "metadata": {},
   "source": [
    "### Pull out proper lat/lon (doing this for one grid point right now)"
   ]
  },
  {
   "cell_type": "code",
   "execution_count": 9,
   "metadata": {
    "collapsed": true
   },
   "outputs": [],
   "source": [
    "d_oct = 31\n",
    "d_nov = 30\n",
    "d_dec = 31\n",
    "d_jan = 31\n",
    "d_feb = 28\n",
    "d_mar = 31\n",
    "days_per_season = d_oct+d_nov+d_dec+d_jan+d_feb+d_mar"
   ]
  },
  {
   "cell_type": "code",
   "execution_count": 10,
   "metadata": {
    "collapsed": false
   },
   "outputs": [],
   "source": [
    "i = 0\n",
    "\n",
    "ncfile = netCDF4.Dataset(working_dir + file_list[i])\n",
    "PRECT_lat = ncfile.variables['lat'][:]\n",
    "PRECT_lon = ncfile.variables['lon'][:]\n",
    "PRECT_time_var = ncfile.variables['time']\n",
    "\n",
    "PRECT_time_dates = netCDF4.num2date(PRECT_time_var[:], PRECT_time_var.units, PRECT_time_var.calendar)\n",
    "time_indices_ONDJFM = numpy.array([t.month in [10,11,12,1,2,3] for t in PRECT_time_dates], dtype=bool)\n",
    "PRECT_time_dates_ONDJFM = PRECT_time_dates[time_indices_ONDJFM]\n",
    "\n",
    "LA_lat_idx = geo_idx(LA_lat, PRECT_lat)\n",
    "LA_lon_idx = geo_idx(LA_lon, PRECT_lon)\n",
    "\n",
    "#PRECT_ONDJFM_CA = ncfile.variables['PRECT'][time_indices_ONDJFM,(LA_lat_idx-2):(LA_lat_idx+2), (LA_lon_idx-2):(LA_lon_idx+2)]*86400.*1000\n",
    "PRECT_ONDJFM_CA = ncfile.variables['PRECT'][time_indices_ONDJFM,LA_lat_idx, LA_lon_idx]*86400.*1000"
   ]
  },
  {
   "cell_type": "raw",
   "metadata": {
    "collapsed": false
   },
   "source": [
    "#PRECT_ONDJFM = PRECT_ONDJFM[:, LA_lat_idx, LA_lon_idx]\n",
    "PRECT_ONDJFM_CA = PRECT_ONDJFM[:, (LA_lat_idx-2):(LA_lat_idx+2), (LA_lon_idx-2):(LA_lon_idx+2)]"
   ]
  },
  {
   "cell_type": "code",
   "execution_count": 11,
   "metadata": {
    "collapsed": false
   },
   "outputs": [],
   "source": [
    "# get index of first October\n",
    "# and index of last March\n",
    "\n",
    "t=0\n",
    "while t < PRECT_time_dates_ONDJFM.size:\n",
    "    if PRECT_time_dates_ONDJFM[t].month!=10:\n",
    "        t+=1\n",
    "    else:\n",
    "        first_October_index = t\n",
    "        break\n",
    "t=0\n",
    "while i < PRECT_time_dates_ONDJFM.size:\n",
    "    if PRECT_time_dates_ONDJFM[::-1][t].month!=3:\n",
    "        t+=1\n",
    "    else:\n",
    "        last_March_index = PRECT_time_dates_ONDJFM.size-t-1\n",
    "        break\n",
    "\n",
    "PRECT_time_dates_ONDJFM_fullseasons = PRECT_time_dates_ONDJFM[first_October_index:last_March_index+1]\n",
    "PRECT_ONDJFM_CA_fullseasons = PRECT_ONDJFM_CA[first_October_index:last_March_index+1]\n",
    "\n",
    "years_array = numpy.array(([t.year for t in PRECT_time_dates_ONDJFM_fullseasons]), dtype=numpy.int)\n",
    "years_array_unique = numpy.unique(years_array)"
   ]
  },
  {
   "cell_type": "code",
   "execution_count": 12,
   "metadata": {
    "collapsed": false
   },
   "outputs": [],
   "source": [
    "# subset the full seasons\n",
    "# subset all other relevant data sets\n",
    "# loop through time period\n",
    "# while season is the same\n",
    "\n",
    "n_seasons = numpy.int(PRECT_time_dates_ONDJFM_fullseasons.size/days_per_season)\n",
    "\n",
    "threshold=0.1\n",
    "\n",
    "storm_count=0 # per season\n",
    "storm_length=0 # for each storm\n",
    "storm_magnitude=0.0 # for each storm\n",
    "storm_count_list=[] # for each season\n",
    "storm_length_list=[] # for each storm, in days\n",
    "storm_magnitude_list=[] # for each storm, in mm/day\n",
    "\n",
    "for s in range(n_seasons):\n",
    "    seas_PRECT = PRECT_ONDJFM_CA_fullseasons[s*days_per_season:(s*days_per_season+days_per_season)]\n",
    "    for d in range(days_per_season):\n",
    "        if seas_PRECT[d]>=threshold:\n",
    "            storm_magnitude+=seas_PRECT[d]\n",
    "            storm_length+=1 # days\n",
    "        elif (seas_PRECT[d]<threshold)&(storm_magnitude>0.0):\n",
    "            storm_magnitude_list.append(storm_magnitude)\n",
    "            storm_length_list.append(storm_length)\n",
    "            storm_magnitude=0.0\n",
    "            storm_length=0\n",
    "            storm_count+=1\n",
    "    storm_count_list.append(storm_count)\n",
    "    storm_count=0"
   ]
  },
  {
   "cell_type": "code",
   "execution_count": 13,
   "metadata": {
    "collapsed": false
   },
   "outputs": [
    {
     "data": {
      "image/png": "[encoded data removed]",
      "text/plain": [
       "<matplotlib.figure.Figure at 0x7fec30699240>"
      ]
     },
     "metadata": {},
     "output_type": "display_data"
    }
   ],
   "source": [
    "#print(storm_length_list[0:100])\n",
    "#print(storm_magnitude_list[0:100])\n",
    "#print(storm_count_list)\n",
    "fontsize=12\n",
    "\n",
    "fig = mp.figure(figsize=(4,3))\n",
    "ax = fig.add_subplot(111)\n",
    "ax.scatter(storm_length_list, storm_magnitude_list, s=20, c='0.1')\n",
    "ax.set_xlabel('Storm length (days)', fontsize=fontsize)\n",
    "ax.set_ylabel('Storm magnitude (mm day$^{\\, -1}$)', fontsize=fontsize)\n",
    "ax.tick_params(labelsize=fontsize)\n",
    "ax.grid()\n",
    "ax.set_xticks([1,10,20,30])\n",
    "ax.set_axisbelow(True)\n",
    "ax.text(s='Member 1', x=0, y=1.05, transform=ax.transAxes, fontsize=fontsize)\n",
    "\n",
    "mp.savefig('magnitude_vs_length_rcp85.pdf', transparent=True, bbox_inches='tight')"
   ]
  },
  {
   "cell_type": "code",
   "execution_count": 18,
   "metadata": {
    "collapsed": false
   },
   "outputs": [
    {
     "data": {
      "image/png": "[encoded data removed]",
      "text/plain": [
       "<matplotlib.figure.Figure at 0x7f84f7b6c2b0>"
      ]
     },
     "metadata": {},
     "output_type": "display_data"
    }
   ],
   "source": [
    "# plot storms per season\n",
    "fig = mp.figure(figsize=(4,3))\n",
    "ax = fig.add_subplot(111)\n",
    "ax.scatter(years_array_unique[1::], storm_count_list, s=20, c='0.1', zorder=2)\n",
    "ax.axhline(y=numpy.mean(storm_count_list), lw=2, c='firebrick', zorder=1)\n",
    "ax.set_xlabel('Winter season', fontsize=fontsize)\n",
    "ax.set_ylabel('Events per season', fontsize=fontsize)\n",
    "ax.tick_params(labelsize=fontsize)\n",
    "ax.text(s='Member 1', x=0, y=1.05, transform=ax.transAxes, fontsize=fontsize)\n",
    "ax.grid(zorder=0)\n",
    "ax.set_axisbelow(True)"
   ]
  },
  {
   "cell_type": "markdown",
   "metadata": {},
   "source": [
    "### All at once now!"
   ]
  },
  {
   "cell_type": "code",
   "execution_count": 11,
   "metadata": {
    "collapsed": false
   },
   "outputs": [
    {
     "name": "stdout",
     "output_type": "stream",
     "text": [
      "b.e11.B20TRC5CNBDRD.f09_g16.001.cam.h1.PRECT.18500101-20051231.nc\n",
      "b.e11.B20TRC5CNBDRD.f09_g16.002.cam.h1.PRECT.19200101-20051231.nc\n",
      "b.e11.B20TRC5CNBDRD.f09_g16.003.cam.h1.PRECT.19200101-20051231.nc\n",
      "b.e11.B20TRC5CNBDRD.f09_g16.004.cam.h1.PRECT.19200101-20051231.nc\n",
      "b.e11.B20TRC5CNBDRD.f09_g16.005.cam.h1.PRECT.19200101-20051231.nc\n",
      "b.e11.B20TRC5CNBDRD.f09_g16.006.cam.h1.PRECT.19200101-20051231.nc\n",
      "b.e11.B20TRC5CNBDRD.f09_g16.007.cam.h1.PRECT.19200101-20051231.nc\n",
      "b.e11.B20TRC5CNBDRD.f09_g16.008.cam.h1.PRECT.19200101-20051231.nc\n",
      "b.e11.B20TRC5CNBDRD.f09_g16.009.cam.h1.PRECT.19200101-20051231.nc\n",
      "b.e11.B20TRC5CNBDRD.f09_g16.010.cam.h1.PRECT.19200101-20051231.nc\n",
      "b.e11.B20TRC5CNBDRD.f09_g16.011.cam.h1.PRECT.19200101-20051231.nc\n",
      "b.e11.B20TRC5CNBDRD.f09_g16.012.cam.h1.PRECT.19200101-20051231.nc\n",
      "b.e11.B20TRC5CNBDRD.f09_g16.013.cam.h1.PRECT.19200101-20051231.nc\n",
      "b.e11.B20TRC5CNBDRD.f09_g16.014.cam.h1.PRECT.19200101-20051231.nc\n",
      "b.e11.B20TRC5CNBDRD.f09_g16.015.cam.h1.PRECT.19200101-20051231.nc\n",
      "b.e11.B20TRC5CNBDRD.f09_g16.016.cam.h1.PRECT.19200101-20051231.nc\n",
      "b.e11.B20TRC5CNBDRD.f09_g16.017.cam.h1.PRECT.19200101-20051231.nc\n",
      "b.e11.B20TRC5CNBDRD.f09_g16.018.cam.h1.PRECT.19200101-20051231.nc\n",
      "b.e11.B20TRC5CNBDRD.f09_g16.019.cam.h1.PRECT.19200101-20051231.nc\n",
      "b.e11.B20TRC5CNBDRD.f09_g16.020.cam.h1.PRECT.19200101-20051231.nc\n",
      "b.e11.B20TRC5CNBDRD.f09_g16.021.cam.h1.PRECT.19200101-20051231.nc\n",
      "b.e11.B20TRC5CNBDRD.f09_g16.022.cam.h1.PRECT.19200101-20051231.nc\n",
      "b.e11.B20TRC5CNBDRD.f09_g16.023.cam.h1.PRECT.19200101-20051231.nc\n",
      "b.e11.B20TRC5CNBDRD.f09_g16.024.cam.h1.PRECT.19200101-20051231.nc\n",
      "b.e11.B20TRC5CNBDRD.f09_g16.025.cam.h1.PRECT.19200101-20051231.nc\n",
      "b.e11.B20TRC5CNBDRD.f09_g16.026.cam.h1.PRECT.19200101-20051231.nc\n",
      "b.e11.B20TRC5CNBDRD.f09_g16.027.cam.h1.PRECT.19200101-20051231.nc\n",
      "b.e11.B20TRC5CNBDRD.f09_g16.028.cam.h1.PRECT.19200101-20051231.nc\n",
      "b.e11.B20TRC5CNBDRD.f09_g16.029.cam.h1.PRECT.19200101-20051231.nc\n",
      "b.e11.B20TRC5CNBDRD.f09_g16.030.cam.h1.PRECT.19200101-20051231.nc\n",
      "b.e11.B20TRC5CNBDRD.f09_g16.031.cam.h1.PRECT.19200101-20051231.nc\n",
      "b.e11.B20TRC5CNBDRD.f09_g16.032.cam.h1.PRECT.19200101-20051231.nc\n",
      "b.e11.B20TRC5CNBDRD.f09_g16.033.cam.h1.PRECT.19200101-20051231.nc\n",
      "b.e11.B20TRC5CNBDRD.f09_g16.034.cam.h1.PRECT.19200101-20051231.nc\n",
      "b.e11.B20TRC5CNBDRD.f09_g16.035.cam.h1.PRECT.19200101-20051231.nc\n"
     ]
    }
   ],
   "source": [
    "threshold=0.1\n",
    "fontsize=12\n",
    "\n",
    "#fig = mp.figure(figsize=(18,9))\n",
    "\n",
    "d_oct = 31\n",
    "d_nov = 30\n",
    "d_dec = 31\n",
    "d_jan = 31\n",
    "d_feb = 28\n",
    "d_mar = 31\n",
    "days_per_season = d_oct+d_nov+d_dec+d_jan+d_feb+d_mar\n",
    "\n",
    "storm_count_list=[] # for each season\n",
    "storm_length_list=[] # for each storm, in days\n",
    "storm_magnitude_list=[] # for each storm, in mm/day\n",
    "\n",
    "for i in range(file_list.size):\n",
    "    print(file_list[i])\n",
    "\n",
    "    ncfile = netCDF4.Dataset(working_dir + file_list[i])\n",
    "    PRECT_lat = ncfile.variables['lat'][:]\n",
    "    PRECT_lon = ncfile.variables['lon'][:]\n",
    "    PRECT_time_var = ncfile.variables['time']\n",
    "\n",
    "    PRECT_time_dates = netCDF4.num2date(PRECT_time_var[:], PRECT_time_var.units, PRECT_time_var.calendar)\n",
    "    time_indices_ONDJFM = numpy.array([(t.month in [10,11,12,1,2,3])&(t.year in range(1981,2001)) for t in PRECT_time_dates], dtype=bool)\n",
    "    PRECT_time_dates_ONDJFM = PRECT_time_dates[time_indices_ONDJFM]\n",
    "\n",
    "    LA_lat_idx = geo_idx(LA_lat, PRECT_lat)\n",
    "    LA_lon_idx = geo_idx(LA_lon, PRECT_lon)\n",
    "\n",
    "    #PRECT_ONDJFM_CA = ncfile.variables['PRECT'][time_indices_ONDJFM,(LA_lat_idx-2):(LA_lat_idx+2), (LA_lon_idx-2):(LA_lon_idx+2)]*86400.*1000\n",
    "    PRECT_ONDJFM_CA = ncfile.variables['PRECT'][time_indices_ONDJFM,LA_lat_idx, LA_lon_idx]*86400.*1000\n",
    "\n",
    "    # get index of first October\n",
    "    # and index of last March\n",
    "\n",
    "    t=0\n",
    "    while t < PRECT_time_dates_ONDJFM.size:\n",
    "        if PRECT_time_dates_ONDJFM[t].month!=10:\n",
    "            t+=1\n",
    "        else:\n",
    "            first_October_index = t\n",
    "            break\n",
    "    t=0\n",
    "    while i < PRECT_time_dates_ONDJFM.size:\n",
    "        if PRECT_time_dates_ONDJFM[::-1][t].month!=3:\n",
    "            t+=1\n",
    "        else:\n",
    "            last_March_index = PRECT_time_dates_ONDJFM.size-t-1\n",
    "            break\n",
    "\n",
    "    PRECT_time_dates_ONDJFM_fullseasons = PRECT_time_dates_ONDJFM[first_October_index:last_March_index+1]\n",
    "    PRECT_ONDJFM_CA_fullseasons = PRECT_ONDJFM_CA[first_October_index:last_March_index+1]\n",
    "\n",
    "    years_array = numpy.array(([t.year for t in PRECT_time_dates_ONDJFM_fullseasons]), dtype=numpy.int)\n",
    "    years_array_unique = numpy.unique(years_array)\n",
    "\n",
    "    n_seasons = numpy.int(PRECT_time_dates_ONDJFM_fullseasons.size/days_per_season)\n",
    "\n",
    "    storm_count=0 # per season\n",
    "    storm_length=0 # for each storm\n",
    "    storm_magnitude=0.0 # for each storm\n",
    "\n",
    "    for s in range(n_seasons):\n",
    "        seas_PRECT = PRECT_ONDJFM_CA_fullseasons[s*days_per_season:(s*days_per_season+days_per_season)]\n",
    "        for d in range(days_per_season):\n",
    "            if seas_PRECT[d]>=threshold:\n",
    "                storm_magnitude+=seas_PRECT[d]\n",
    "                storm_length+=1 # days\n",
    "            elif (seas_PRECT[d]<threshold)&(storm_magnitude>0.0):\n",
    "                storm_magnitude_list.append(storm_magnitude)\n",
    "                storm_length_list.append(storm_length)\n",
    "                storm_magnitude=0.0\n",
    "                storm_length=0\n",
    "                storm_count+=1\n",
    "        storm_count_list.append(storm_count)\n",
    "        storm_count=0\n",
    "\n",
    "    #ax = fig.add_subplot(3,6,i+1)\n",
    "    #ax.scatter(storm_length_list, storm_magnitude_list, s=20, c='0.1')\n",
    "    #ax.set_xlabel('Storm length (days)', fontsize=fontsize)\n",
    "    #ax.set_ylabel('Storm magnitude (mm day$^{\\, -1}$)', fontsize=fontsize)\n",
    "    #ax.tick_params(labelsize=fontsize)\n",
    "    #ax.grid()\n",
    "    #ax.set_xticks([1,10,20,30])\n",
    "    #ax.set_axisbelow(True)\n",
    "    #ax.text(s='Member '+str(i+1), x=0, y=1.05, transform=ax.transAxes, fontsize=fontsize)\n",
    "\n",
    "#mp.savefig('magnitude_vs_length_rcp85_allmembers_panel.pdf', transparent=True, bbox_inches='tight')"
   ]
  },
  {
   "cell_type": "code",
   "execution_count": 22,
   "metadata": {
    "collapsed": false
   },
   "outputs": [
    {
     "data": {
      "image/png": "[encoded data removed]",
      "text/plain": [
       "<matplotlib.figure.Figure at 0x7fe81610d240>"
      ]
     },
     "metadata": {},
     "output_type": "display_data"
    }
   ],
   "source": [
    "fig = mp.figure(figsize=(4,3))\n",
    "\n",
    "ax = fig.add_subplot(111)\n",
    "ax.scatter(storm_length_list, storm_magnitude_list, s=20, c='0.1')\n",
    "ax.set_xlabel('Storm length (days)', fontsize=fontsize)\n",
    "ax.set_ylabel('Storm magnitude (mm)', fontsize=fontsize)\n",
    "ax.tick_params(labelsize=fontsize)\n",
    "ax.grid()\n",
    "ax.set_xticks([1,10,20,30,40])\n",
    "ax.set_axisbelow(True)\n",
    "ax.set_ylim(-50,800)\n",
    "ax.set_xlim(-0.75,40)\n",
    "ax.text(s='All members (1981-2000)', x=0, y=1.05, transform=ax.transAxes, fontsize=fontsize)\n",
    "\n",
    "mp.savefig('magnitude_vs_length_historical_allmembers_single_plot_1981-2000.pdf', transparent=True, bbox_inches='tight')"
   ]
  },
  {
   "cell_type": "code",
   "execution_count": null,
   "metadata": {
    "collapsed": false
   },
   "outputs": [],
   "source": []
  },
  {
   "cell_type": "code",
   "execution_count": null,
   "metadata": {
    "collapsed": true
   },
   "outputs": [],
   "source": []
  },
  {
   "cell_type": "code",
   "execution_count": null,
   "metadata": {
    "collapsed": true
   },
   "outputs": [],
   "source": []
  },
  {
   "cell_type": "code",
   "execution_count": null,
   "metadata": {
    "collapsed": true
   },
   "outputs": [],
   "source": []
  },
  {
   "cell_type": "code",
   "execution_count": null,
   "metadata": {
    "collapsed": true
   },
   "outputs": [],
   "source": []
  },
  {
   "cell_type": "code",
   "execution_count": null,
   "metadata": {
    "collapsed": true
   },
   "outputs": [],
   "source": []
  },
  {
   "cell_type": "code",
   "execution_count": null,
   "metadata": {
    "collapsed": true
   },
   "outputs": [],
   "source": []
  },
  {
   "cell_type": "code",
   "execution_count": null,
   "metadata": {
    "collapsed": true
   },
   "outputs": [],
   "source": []
  },
  {
   "cell_type": "code",
   "execution_count": null,
   "metadata": {
    "collapsed": true
   },
   "outputs": [],
   "source": []
  },
  {
   "cell_type": "code",
   "execution_count": null,
   "metadata": {
    "collapsed": false
   },
   "outputs": [],
   "source": [
    "bins = numpy.logspace(-2,numpy.log10(PRECT_ONDJFM_CA.max()),100) # log spaced bins\n",
    "#bins = numpy.linspace(0.1,PRECT_ONDJFM_CA.max(),100) # linearly spaced bins\n",
    "hist_histogram, bin_edges = numpy.histogram(PRECT_ONDJFM_CA, bins=bins, density=False)\n",
    "bin_centers = (bin_edges[:-1] + bin_edges[1:])/2\n",
    "bin_width = numpy.diff(bin_edges) # same as bin_edges[1:]-bin_edges[:-1]"
   ]
  },
  {
   "cell_type": "code",
   "execution_count": null,
   "metadata": {
    "collapsed": false
   },
   "outputs": [],
   "source": [
    "fig = mp.figure(figsize=(3,3))\n",
    "fontsize=12\n",
    "\n",
    "ax = fig.add_subplot(111)\n",
    "ax.bar(bin_centers, hist_histogram, align='center', width=bin_width, color='0.5', edgecolor='0.25', label='historical')\n",
    "#ax.set_xlim(bins[0], bins[-1])\n",
    "ax.tick_params(labelsize=fontsize)\n",
    "ax.set_ylabel('Events (days)', fontsize=fontsize)\n",
    "ax.set_xlabel('Precipitation (mm day$^{-1}$)', fontsize=fontsize)\n",
    "ax.set_yscale('log') # 'symlog'\n",
    "ax.set_xticks([0,25,50,75,100,125,150])\n",
    "ax.xaxis.set_minor_locator(matplotlib.ticker.AutoMinorLocator(2))\n",
    "\n",
    "ax.minorticks_off()\n",
    "#ax.grid()\n",
    "ax.set_axisbelow(True)\n",
    "\n",
    "ax.set_ylim(0.5,3000)\n",
    "#ax_right = ax.twinx()\n",
    "ax_min, ax_max = ax.get_ylim()\n",
    "#ax_right.set_yticks([1,2,3,4,5,10])\n",
    "#ax_right.tick_params(labelsize=fontsize)\n",
    "#ax_right.set_ylim(numpy.log(ax_min), numpy.log(ax_max))\n",
    "\n",
    "perc50 = numpy.percentile(PRECT_ONDJFM_CA, 50)\n",
    "perc75 = numpy.percentile(PRECT_ONDJFM_CA, 75)\n",
    "perc80 = numpy.percentile(PRECT_ONDJFM_CA, 80)\n",
    "perc90 = numpy.percentile(PRECT_ONDJFM_CA, 90)\n",
    "perc95 = numpy.percentile(PRECT_ONDJFM_CA, 95)\n",
    "perc99 = numpy.percentile(PRECT_ONDJFM_CA, 99)\n",
    "perc999 = numpy.percentile(PRECT_ONDJFM_CA, 99.9)\n",
    "\n",
    "perc_text = \\\n",
    "'{:.1f}'.format(perc90) + ' (90th)\\n' + \\\n",
    "'{:.1f}'.format(perc95) + ' (95th)\\n' + \\\n",
    "'{:.1f}'.format(perc99) + ' (99th)\\n' + \\\n",
    "'{:.1f}'.format(perc999) + ' (99.9th)\\n' + \\\n",
    "'mm day$^{-1}$'\n",
    "\n",
    "ax.text(s=perc_text, x=0.96, y=0.93, transform=ax.transAxes, ha='right', va='top', fontsize=fontsize)\n",
    "\n",
    "fig.tight_layout()\n",
    "\n",
    "mp.savefig('single_realization_preindustrial.pdf', transparent=True, bbox_inches='tight')"
   ]
  },
  {
   "cell_type": "code",
   "execution_count": null,
   "metadata": {
    "collapsed": false
   },
   "outputs": [],
   "source": [
    "fig = mp.figure(figsize=(18,9))\n",
    "fontsize=12\n",
    "\n",
    "for i in range(file_list.size):\n",
    "    \n",
    "    print(file_list[i])\n",
    "    \n",
    "    ncfile = netCDF4.Dataset(working_dir + file_list[i])\n",
    "    PRECT = ncfile.variables['PRECT'][:,(LA_lat_idx-2):(LA_lat_idx+2),(LA_lon_idx-2):(LA_lon_idx+2)]*86400.*1000\n",
    "    PRECT_time_var = ncfile.variables['time']\n",
    "    \n",
    "    PRECT_time_dates = netCDF4.num2date(PRECT_time_var[:], PRECT_time_var.units, PRECT_time_var.calendar)\n",
    "    time_indices_ONDJFM = numpy.array([t.month in [10,11,12,1,2,3] for t in PRECT_time_dates], dtype=bool)\n",
    "    #PRECT_ONDJFM = PRECT[time_indices_ONDJFM,:,:]\n",
    "    PRECT_ONDJFM_CA = PRECT[time_indices_ONDJFM,:,:]\n",
    "\n",
    "    ncfile.close()\n",
    "    \n",
    "    bins = numpy.logspace(-2,numpy.log10(PRECT_ONDJFM_CA.max()),100) # log spaced bins\n",
    "    #bins = numpy.linspace(0.1,PRECT_ONDJFM_CA.max(),100) # linearly spaced bins\n",
    "    hist_histogram, bin_edges = numpy.histogram(PRECT_ONDJFM_CA, bins=bins, density=False)\n",
    "    bin_centers = (bin_edges[:-1] + bin_edges[1:])/2\n",
    "    bin_width = numpy.diff(bin_edges) # same as bin_edges[1:]-bin_edges[:-1]\n",
    "\n",
    "    ax = fig.add_subplot(3,6,i+1)\n",
    "    ax.bar(bin_centers, hist_histogram, align='center', width=bin_width, color='0.5', edgecolor='0.25', label='historical')\n",
    "    #ax.set_xlim(bins[0], bins[-1])\n",
    "    ax.tick_params(labelsize=fontsize)\n",
    "    ax.set_ylabel('Events (days)', fontsize=fontsize)\n",
    "    ax.set_xlabel('Precipitation (mm day$^{-1}$)', fontsize=fontsize)\n",
    "    ax.set_yscale('log') # 'symlog'\n",
    "    ax.set_xticks([0,25,50,75,100,125,150])\n",
    "    ax.xaxis.set_minor_locator(matplotlib.ticker.AutoMinorLocator(2))\n",
    "    ax.set_ylim(0.5,3000)\n",
    "    ax.minorticks_off()\n",
    "    #ax.grid()\n",
    "    #ax.set_axisbelow(True)\n",
    "\n",
    "    perc90 = numpy.percentile(PRECT_ONDJFM_CA, 90)\n",
    "    perc95 = numpy.percentile(PRECT_ONDJFM_CA, 95)\n",
    "    perc99 = numpy.percentile(PRECT_ONDJFM_CA, 99)\n",
    "    perc999 = numpy.percentile(PRECT_ONDJFM_CA, 99.9)\n",
    "\n",
    "    perc_text = \\\n",
    "    '{:.1f}'.format(perc90) + ' (90th)\\n' + \\\n",
    "    '{:.1f}'.format(perc95) + ' (95th)\\n' + \\\n",
    "    '{:.1f}'.format(perc99) + ' (99th)\\n' + \\\n",
    "    '{:.1f}'.format(perc999) + ' (99.9th)\\n' + \\\n",
    "    'mm day$^{-1}$'\n",
    "\n",
    "    ax.text(s=perc_text, x=0.96, y=0.93, transform=ax.transAxes, ha='right', va='top', fontsize=fontsize)\n",
    "\n",
    "    ax.text(s='Member '+str(i+1), x=0, y=1.03, transform=ax.transAxes, ha='left', va='bottom', fontsize=fontsize)\n",
    "fig.tight_layout()\n",
    "\n",
    "fig.tight_layout()\n",
    "mp.savefig('preindustrial_control_histograms.pdf', transparent=True, bbox_inches='tight')"
   ]
  },
  {
   "cell_type": "code",
   "execution_count": null,
   "metadata": {
    "collapsed": false
   },
   "outputs": [],
   "source": [
    "print(ax_min, ax_max)"
   ]
  },
  {
   "cell_type": "code",
   "execution_count": null,
   "metadata": {
    "collapsed": true
   },
   "outputs": [],
   "source": []
  }
 ],
 "metadata": {
  "anaconda-cloud": {},
  "kernelspec": {
   "display_name": "Python [default]",
   "language": "python",
   "name": "python3"
  },
  "language_info": {
   "codemirror_mode": {
    "name": "ipython",
    "version": 3
   },
   "file_extension": ".py",
   "mimetype": "text/x-python",
   "name": "python",
   "nbconvert_exporter": "python",
   "pygments_lexer": "ipython3",
   "version": "3.5.2"
  }
 },
 "nbformat": 4,
 "nbformat_minor": 1
}
