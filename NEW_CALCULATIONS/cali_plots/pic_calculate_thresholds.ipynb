{
 "cells": [
  {
   "cell_type": "code",
   "execution_count": 1,
   "metadata": {
    "collapsed": true
   },
   "outputs": [],
   "source": [
    "import numpy\n",
    "import scipy\n",
    "import netCDF4\n",
    "import matplotlib.pyplot as mp\n",
    "import matplotlib.ticker\n",
    "\n",
    "import mpl_toolkits\n",
    "from mpl_toolkits import basemap\n",
    "import matplotlib.cm as cm\n",
    "\n",
    "import numba\n",
    "\n",
    "mp.rcParams.update({'mathtext.default': 'regular'})\n",
    "% matplotlib inline"
   ]
  },
  {
   "cell_type": "code",
   "execution_count": 2,
   "metadata": {
    "collapsed": true
   },
   "outputs": [],
   "source": [
    "working_dir = '/Users/baird/google_drive/_data_original/NCAR_LENS/daily/PRECT/B1850C5CN_CA_REGION/'"
   ]
  },
  {
   "cell_type": "code",
   "execution_count": 3,
   "metadata": {
    "collapsed": true
   },
   "outputs": [],
   "source": [
    "file_list = numpy.array(( \\\n",
    "'b.e11.B1850C5CN.f09_g16.005.cam.h1.PRECT.04020101-04991231_CA_REGION.nc', \\\n",
    "'b.e11.B1850C5CN.f09_g16.005.cam.h1.PRECT.05000101-05991231_CA_REGION.nc', \\\n",
    "'b.e11.B1850C5CN.f09_g16.005.cam.h1.PRECT.06000101-06991231_CA_REGION.nc', \\\n",
    "'b.e11.B1850C5CN.f09_g16.005.cam.h1.PRECT.07000101-07991231_CA_REGION.nc', \\\n",
    "'b.e11.B1850C5CN.f09_g16.005.cam.h1.PRECT.08000101-08991231_CA_REGION.nc', \\\n",
    "'b.e11.B1850C5CN.f09_g16.005.cam.h1.PRECT.09000101-09991231_CA_REGION.nc', \\\n",
    "'b.e11.B1850C5CN.f09_g16.005.cam.h1.PRECT.10000101-10991231_CA_REGION.nc', \\\n",
    "'b.e11.B1850C5CN.f09_g16.005.cam.h1.PRECT.11000101-11991231_CA_REGION.nc', \\\n",
    "'b.e11.B1850C5CN.f09_g16.005.cam.h1.PRECT.12000101-12991231_CA_REGION.nc', \\\n",
    "'b.e11.B1850C5CN.f09_g16.005.cam.h1.PRECT.13000101-13991231_CA_REGION.nc', \\\n",
    "'b.e11.B1850C5CN.f09_g16.005.cam.h1.PRECT.14000101-14991231_CA_REGION.nc', \\\n",
    "'b.e11.B1850C5CN.f09_g16.005.cam.h1.PRECT.15000101-15991231_CA_REGION.nc', \\\n",
    "'b.e11.B1850C5CN.f09_g16.005.cam.h1.PRECT.16000101-16991231_CA_REGION.nc', \\\n",
    "'b.e11.B1850C5CN.f09_g16.005.cam.h1.PRECT.17000101-17991231_CA_REGION.nc', \\\n",
    "'b.e11.B1850C5CN.f09_g16.005.cam.h1.PRECT.18000101-18991231_CA_REGION.nc', \\\n",
    "'b.e11.B1850C5CN.f09_g16.005.cam.h1.PRECT.19000101-19991231_CA_REGION.nc', \\\n",
    "'b.e11.B1850C5CN.f09_g16.005.cam.h1.PRECT.20000101-20991231_CA_REGION.nc', \\\n",
    "'b.e11.B1850C5CN.f09_g16.005.cam.h1.PRECT.21000101-22001231_CA_REGION.nc' ))"
   ]
  },
  {
   "cell_type": "code",
   "execution_count": 4,
   "metadata": {
    "collapsed": true
   },
   "outputs": [],
   "source": [
    "d_oct = 31\n",
    "d_nov = 30\n",
    "d_dec = 31\n",
    "d_jan = 31\n",
    "d_feb = 28\n",
    "d_mar = 31\n",
    "days_per_season = d_oct+d_nov+d_dec+d_jan+d_feb+d_mar"
   ]
  },
  {
   "cell_type": "code",
   "execution_count": 7,
   "metadata": {
    "collapsed": true
   },
   "outputs": [],
   "source": [
    "i = 0\n",
    "\n",
    "ncfile = netCDF4.Dataset(working_dir + file_list[i])\n",
    "PRECT_lat = ncfile.variables['lat'][:]\n",
    "PRECT_lon = ncfile.variables['lon'][:]\n",
    "PRECT_time_var = ncfile.variables['time']\n",
    "\n",
    "PRECT_time_dates = netCDF4.num2date(PRECT_time_var[:], PRECT_time_var.units, PRECT_time_var.calendar)\n",
    "time_indices_NDJFM = numpy.array([t.month in [11,12,1,2,3] for t in PRECT_time_dates], dtype=bool)\n",
    "PRECT_time_dates_NDJFM = PRECT_time_dates[time_indices_NDJFM]\n",
    "\n",
    "#LA_lat_idx = geo_idx(LA_lat, PRECT_lat)\n",
    "#LA_lon_idx = geo_idx(LA_lon, PRECT_lon)\n",
    "\n",
    "#PRECT_ONDJFM_CA = ncfile.variables['PRECT'][time_indices_ONDJFM,(LA_lat_idx-2):(LA_lat_idx+2), (LA_lon_idx-2):(LA_lon_idx+2)]*86400.*1000\n",
    "PRECT_NDJFM_CA = ncfile.variables['PRECT'][time_indices_NDJFM,:,:]*86400.*1000"
   ]
  },
  {
   "cell_type": "code",
   "execution_count": 8,
   "metadata": {
    "collapsed": true
   },
   "outputs": [],
   "source": [
    "threshold=0.1"
   ]
  },
  {
   "cell_type": "code",
   "execution_count": 9,
   "metadata": {
    "collapsed": true
   },
   "outputs": [],
   "source": [
    "# load indices arrays\n",
    "ccal_latlon_indices_array = numpy.load('../ccal_latlon_indices_array.npy')\n",
    "ncal_latlon_indices_array = numpy.load('../ncal_latlon_indices_array.npy')\n",
    "scal_latlon_indices_array = numpy.load('../scal_latlon_indices_array.npy')"
   ]
  },
  {
   "cell_type": "markdown",
   "metadata": {},
   "source": [
    "# Do calculations for central California"
   ]
  },
  {
   "cell_type": "code",
   "execution_count": 15,
   "metadata": {},
   "outputs": [
    {
     "name": "stdout",
     "output_type": "stream",
     "text": [
      "0\n",
      "1\n",
      "2\n",
      "3\n",
      "4\n",
      "5\n",
      "6\n",
      "7\n",
      "8\n"
     ]
    }
   ],
   "source": [
    "# string together all daily precip values\n",
    "latlon_indices = ccal_latlon_indices_array\n",
    "PRECT_daily_perc = numpy.zeros((latlon_indices.shape))\n",
    "perc_score=95\n",
    "\n",
    "for latlon_combo in range(latlon_indices.shape[0]):\n",
    "    print(latlon_combo)\n",
    "    PRECT_data = numpy.empty((0))\n",
    "    for file in range(file_list.size):\n",
    "        ncfile = netCDF4.Dataset(working_dir + file_list[i])\n",
    "        PRECT_time_var = ncfile.variables['time']\n",
    "        PRECT_time_dates = netCDF4.num2date(PRECT_time_var[:], PRECT_time_var.units, PRECT_time_var.calendar)\n",
    "        time_indices_NDJFM = numpy.array([t.month in [11,12,1,2,3] for t in PRECT_time_dates], dtype=bool)\n",
    "        PRECT_data = numpy.append(PRECT_data, ncfile.variables['PRECT'][time_indices_NDJFM,latlon_indices[latlon_combo,0],latlon_indices[latlon_combo,1]]*86400.*1000.)\n",
    "        ncfile.close()\n",
    "    PRECT_data = PRECT_data[PRECT_data>threshold]\n",
    "    PRECT_daily_perc[latlon_combo] = numpy.percentile(PRECT_data, q=perc_score)"
   ]
  },
  {
   "cell_type": "code",
   "execution_count": null,
   "metadata": {
    "collapsed": true
   },
   "outputs": [],
   "source": []
  }
 ],
 "metadata": {
  "kernelspec": {
   "display_name": "Python 3",
   "language": "python",
   "name": "python3"
  },
  "language_info": {
   "codemirror_mode": {
    "name": "ipython",
    "version": 3
   },
   "file_extension": ".py",
   "mimetype": "text/x-python",
   "name": "python",
   "nbconvert_exporter": "python",
   "pygments_lexer": "ipython3",
   "version": "3.6.0"
  }
 },
 "nbformat": 4,
 "nbformat_minor": 2
}
