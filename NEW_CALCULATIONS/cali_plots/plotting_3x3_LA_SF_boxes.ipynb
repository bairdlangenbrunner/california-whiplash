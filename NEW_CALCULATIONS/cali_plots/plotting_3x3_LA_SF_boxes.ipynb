{
 "cells": [
  {
   "cell_type": "code",
   "execution_count": 1,
   "metadata": {},
   "outputs": [],
   "source": [
    "import numpy\n",
    "import scipy\n",
    "import netCDF4\n",
    "import matplotlib.pyplot as mp\n",
    "import matplotlib.ticker\n",
    "\n",
    "import mpl_toolkits\n",
    "import cartopy\n",
    "import matplotlib.cm as cm\n",
    "\n",
    "mp.rcParams.update({'mathtext.default': 'regular'})\n",
    "% matplotlib inline"
   ]
  },
  {
   "cell_type": "code",
   "execution_count": 2,
   "metadata": {},
   "outputs": [],
   "source": [
    "working_dir = '/Users/baird/Dropbox/_data_original/NCAR_LENS/daily/PRECT/B1850C5CN_CA_REGION/'"
   ]
  },
  {
   "cell_type": "code",
   "execution_count": 7,
   "metadata": {},
   "outputs": [],
   "source": [
    "file = 'b.e11.B1850C5CN.f09_g16.005.cam.h1.PRECT.04020101-22001231_CA_REGION.nc'"
   ]
  },
  {
   "cell_type": "code",
   "execution_count": 8,
   "metadata": {},
   "outputs": [],
   "source": [
    "d_oct = 31\n",
    "d_nov = 30\n",
    "d_dec = 31\n",
    "d_jan = 31\n",
    "d_feb = 28\n",
    "d_mar = 31\n",
    "days_per_season = d_oct+d_nov+d_dec+d_jan+d_feb+d_mar"
   ]
  },
  {
   "cell_type": "code",
   "execution_count": 9,
   "metadata": {},
   "outputs": [],
   "source": [
    "i = 0\n",
    "\n",
    "#ncfile = netCDF4.Dataset(working_dir + file_list[i])\n",
    "ncfile = netCDF4.Dataset(working_dir + file)\n",
    "PRECT_lat = ncfile.variables['lat'][:]\n",
    "PRECT_lon = ncfile.variables['lon'][:]\n",
    "PRECT_time_var = ncfile.variables['time']\n",
    "\n",
    "PRECT_time_dates = netCDF4.num2date(PRECT_time_var[:], PRECT_time_var.units, PRECT_time_var.calendar)\n",
    "time_indices_NDJFM = numpy.array([t.month in [11,12,1,2,3] for t in PRECT_time_dates], dtype=bool)\n",
    "PRECT_time_dates_NDJFM = PRECT_time_dates[time_indices_NDJFM]\n",
    "\n",
    "#LA_lat_idx = geo_idx(LA_lat, PRECT_lat)\n",
    "#LA_lon_idx = geo_idx(LA_lon, PRECT_lon)\n",
    "\n",
    "#PRECT_ONDJFM_CA = ncfile.variables['PRECT'][time_indices_ONDJFM,(LA_lat_idx-2):(LA_lat_idx+2), (LA_lon_idx-2):(LA_lon_idx+2)]*86400.*1000\n",
    "PRECT_NDJFM_CA = ncfile.variables['PRECT'][time_indices_NDJFM,:,:]*86400.*1000"
   ]
  },
  {
   "cell_type": "code",
   "execution_count": 10,
   "metadata": {},
   "outputs": [],
   "source": [
    "mean_pr = numpy.mean(PRECT_NDJFM_CA, axis=0)"
   ]
  },
  {
   "cell_type": "code",
   "execution_count": 11,
   "metadata": {},
   "outputs": [],
   "source": [
    "SKIP_LONS = []#[120.,240.]\n",
    "def format_every_other(lon):\n",
    "    if lon in SKIP_LONS:\n",
    "        return ''\n",
    "    else:\n",
    "        return '%3d' % lon + '\\N{DEGREE SIGN}E' #r'${%3d\\/^{\\circ}\\/E}$'%lon"
   ]
  },
  {
   "cell_type": "code",
   "execution_count": 12,
   "metadata": {},
   "outputs": [],
   "source": [
    "# make color map\n",
    "minval=0. # \n",
    "maxval=0.85 #\n",
    "n=256\n",
    "full_cmap = mp.get_cmap('gist_earth_r')\n",
    "cmap_partial = matplotlib.colors.LinearSegmentedColormap.from_list('trunc({n},{a:.2f},{b:.2f})'.format(n=full_cmap.name, a=minval, b=maxval), full_cmap(numpy.linspace(minval, maxval, n)))"
   ]
  },
  {
   "cell_type": "code",
   "execution_count": 13,
   "metadata": {},
   "outputs": [],
   "source": [
    "def geo_idx(dd, dd_array):\n",
    "    geo_idx = (numpy.abs(dd_array - dd)).argmin()\n",
    "    return geo_idx"
   ]
  },
  {
   "cell_type": "code",
   "execution_count": 14,
   "metadata": {},
   "outputs": [],
   "source": [
    "LA_lat = 34.0522\n",
    "LA_lon = 118.2437 # deg west\n",
    "LA_lon = 360 - LA_lon\n",
    "\n",
    "#Oroville_dam_lat = 39.5380\n",
    "#Oroville_dam_lon = 121.4831 # deg west\n",
    "#Oroville_dam_lon = 360 - Oroville_dam_lon\n",
    "\n",
    "SF_lat = 37.7749\n",
    "SF_lon = 122.4194\n",
    "SF_lon = 360 - SF_lon\n",
    "\n",
    "ncal_lat = 42.\n",
    "ncal_lon = 236.\n",
    "\n",
    "scal_lat = LA_lat #33.\n",
    "scal_lon = LA_lon #244\n",
    "\n",
    "ccal_lat = SF_lat #37.\n",
    "ccal_lon = SF_lon #240."
   ]
  },
  {
   "cell_type": "code",
   "execution_count": 15,
   "metadata": {},
   "outputs": [],
   "source": [
    "def geo_idx(dd, dd_array):\n",
    "   \"\"\"\n",
    "     search for nearest decimal degree in an array of decimal degrees and return the index.\n",
    "     np.argmin returns the indices of minium value along an axis.\n",
    "     so subtract dd from all values in dd_array, take absolute value and find index of minium.\n",
    "    \"\"\"\n",
    "   geo_idx = (numpy.abs(dd_array - dd)).argmin()\n",
    "   return geo_idx"
   ]
  },
  {
   "cell_type": "markdown",
   "metadata": {},
   "source": [
    "# 3x3 longitude boxes"
   ]
  },
  {
   "cell_type": "code",
   "execution_count": 16,
   "metadata": {},
   "outputs": [],
   "source": [
    "ncal_lat_idx = geo_idx(ncal_lat, PRECT_lat)\n",
    "ncal_lon_idx = geo_idx(ncal_lon, PRECT_lon)\n",
    "\n",
    "ccal_lat_idx = geo_idx(ccal_lat, PRECT_lat)\n",
    "ccal_lon_idx = geo_idx(ccal_lon, PRECT_lon)\n",
    "\n",
    "scal_lat_idx = geo_idx(scal_lat, PRECT_lat)\n",
    "scal_lon_idx = geo_idx(scal_lon, PRECT_lon)\n",
    "\n",
    "ncal_lats = PRECT_lat[ncal_lat_idx-1:ncal_lat_idx+2]\n",
    "ccal_lats = PRECT_lat[ccal_lat_idx-1:ccal_lat_idx+2]\n",
    "scal_lats = PRECT_lat[scal_lat_idx-1:scal_lat_idx+2]\n",
    "\n",
    "ncal_lons = PRECT_lon[ncal_lon_idx-1:ncal_lon_idx+2]\n",
    "ccal_lons = PRECT_lon[ccal_lon_idx-1:ccal_lon_idx+2]\n",
    "scal_lons = PRECT_lon[scal_lon_idx-1:scal_lon_idx+2]"
   ]
  },
  {
   "cell_type": "code",
   "execution_count": 64,
   "metadata": {},
   "outputs": [
    {
     "data": {
      "image/png": "[encoded data removed]",
      "text/plain": [
       "<matplotlib.figure.Figure at 0x12e4b2320>"
      ]
     },
     "metadata": {},
     "output_type": "display_data"
    }
   ],
   "source": [
    "fontsize = 12\n",
    "\n",
    "fig,ax = mp.subplots(1,1,subplot_kw={'projection':cartopy.crs.PlateCarree()})\n",
    "fig.set_size_inches(4,3.5)\n",
    "\n",
    "ax.set_extent([PRECT_lon.min(), PRECT_lon.max()-1, PRECT_lat.min(), PRECT_lat.max()-1])\n",
    "ax.coastlines()\n",
    "\n",
    "pr_map = ax.contourf(PRECT_lon,PRECT_lat,mean_pr,vmin=0,vmax=8,cmap='gist_earth_r')\n",
    "\n",
    "fig.tight_layout()\n",
    "\n",
    "ax_pos = ax.get_position()\n",
    "cbar_ax = fig.add_axes([ax_pos.x1+0.03,ax_pos.y0,0.04,ax_pos.height])\n",
    "cbar = mp.colorbar(pr_map, cax=cbar_ax)\n",
    "cbar_ax.tick_params(labelsize=fontsize)\n",
    "cbar.set_label('mm day$^{\\,-1}$', fontsize=fontsize)\n",
    "\n",
    "ax.text(s='Mean NDJFM precipitation in PIC',x=0,y=1.02,ha='left',va='bottom',fontsize=fontsize,transform=ax.transAxes)\n",
    "\n",
    "lon_mesh,lat_mesh = numpy.meshgrid(PRECT_lon,PRECT_lat)\n",
    "ax.scatter(lon_mesh[scal_lat_idx-1:scal_lat_idx+2,scal_lon_idx-1:scal_lon_idx+2],\\\n",
    "           lat_mesh[scal_lat_idx-1:scal_lat_idx+2,scal_lon_idx-1:scal_lon_idx+2],\\\n",
    "           zorder=2,\\\n",
    "           c='firebrick')\n",
    "\n",
    "ax.scatter(lon_mesh[ccal_lat_idx-1:ccal_lat_idx+2,ccal_lon_idx-1:ccal_lon_idx+2],\\\n",
    "           lat_mesh[ccal_lat_idx-1:ccal_lat_idx+2,ccal_lon_idx-1:ccal_lon_idx+2],\\\n",
    "           zorder=2,\\\n",
    "           c='firebrick')\n",
    "\n",
    "mp.savefig('precip_with_3x3_points.png',dpi=600,bbox_inches='tight',transparent=True)"
   ]
  },
  {
   "cell_type": "code",
   "execution_count": 66,
   "metadata": {},
   "outputs": [
    {
     "data": {
      "image/png": "[encoded data removed]",
      "text/plain": [
       "<matplotlib.figure.Figure at 0x12e467278>"
      ]
     },
     "metadata": {},
     "output_type": "display_data"
    }
   ],
   "source": [
    "fontsize = 12\n",
    "\n",
    "fig,ax = mp.subplots(1,1,subplot_kw={'projection':cartopy.crs.PlateCarree()})\n",
    "fig.set_size_inches(4,3.5)\n",
    "\n",
    "ax.set_extent([PRECT_lon.min(), PRECT_lon.max()-1, PRECT_lat.min(), PRECT_lat.max()-1])\n",
    "ax.coastlines()\n",
    "\n",
    "#pr_map = ax.contourf(PRECT_lon,PRECT_lat,mean_pr,vmin=0,vmax=8,cmap='gist_earth_r')\n",
    "\n",
    "fig.tight_layout()\n",
    "\n",
    "# ax_pos = ax.get_position()\n",
    "# cbar_ax = fig.add_axes([ax_pos.x1+0.03,ax_pos.y0,0.04,ax_pos.height])\n",
    "# cbar = mp.colorbar(pr_map, cax=cbar_ax)\n",
    "# cbar_ax.tick_params(labelsize=fontsize)\n",
    "# cbar.set_label('mm day$^{\\,-1}$', fontsize=fontsize)\n",
    "\n",
    "#ax.text(s='Mean NDJFM precipitation in PIC',x=0,y=1.02,ha='left',va='bottom',fontsize=fontsize,transform=ax.transAxes)\n",
    "\n",
    "lon_mesh,lat_mesh = numpy.meshgrid(PRECT_lon,PRECT_lat)\n",
    "ax.scatter(lon_mesh[scal_lat_idx-1:scal_lat_idx+2,scal_lon_idx-1:scal_lon_idx+2],\\\n",
    "           lat_mesh[scal_lat_idx-1:scal_lat_idx+2,scal_lon_idx-1:scal_lon_idx+2],\\\n",
    "           zorder=2,\\\n",
    "           c='firebrick')\n",
    "\n",
    "ax.scatter(lon_mesh[ccal_lat_idx-1:ccal_lat_idx+2,ccal_lon_idx-1:ccal_lon_idx+2],\\\n",
    "           lat_mesh[ccal_lat_idx-1:ccal_lat_idx+2,ccal_lon_idx-1:ccal_lon_idx+2],\\\n",
    "           zorder=2,\\\n",
    "           c='firebrick')\n",
    "\n",
    "ax.background_patch.set_visible(False)\n",
    "\n",
    "mp.savefig('precip_with_3x3_points_blank.png',dpi=600,bbox_inches='tight',transparent=True)"
   ]
  },
  {
   "cell_type": "code",
   "execution_count": 56,
   "metadata": {},
   "outputs": [
    {
     "data": {
      "text/plain": [
       "array([[ 240.  ,  241.25,  242.5 ],\n",
       "       [ 240.  ,  241.25,  242.5 ],\n",
       "       [ 240.  ,  241.25,  242.5 ]])"
      ]
     },
     "execution_count": 56,
     "metadata": {},
     "output_type": "execute_result"
    }
   ],
   "source": [
    "lat_mesh[scal_lat_idx-1:scal_lat_idx+2,scal_lon_idx-1:scal_lon_idx+2]\n",
    "lon_mesh[scal_lat_idx-1:scal_lat_idx+2,scal_lon_idx-1:scal_lon_idx+2]"
   ]
  },
  {
   "cell_type": "code",
   "execution_count": 48,
   "metadata": {},
   "outputs": [],
   "source": []
  },
  {
   "cell_type": "code",
   "execution_count": 49,
   "metadata": {},
   "outputs": [
    {
     "data": {
      "text/plain": [
       "(26, 25)"
      ]
     },
     "execution_count": 49,
     "metadata": {},
     "output_type": "execute_result"
    }
   ],
   "source": [
    "lon_mesh.shape"
   ]
  },
  {
   "cell_type": "code",
   "execution_count": 22,
   "metadata": {},
   "outputs": [
    {
     "data": {
      "text/plain": [
       "(271648, 26, 25)"
      ]
     },
     "execution_count": 22,
     "metadata": {},
     "output_type": "execute_result"
    }
   ],
   "source": [
    "PRECT_NDJFM_CA.shape"
   ]
  },
  {
   "cell_type": "code",
   "execution_count": null,
   "metadata": {},
   "outputs": [],
   "source": []
  },
  {
   "cell_type": "code",
   "execution_count": null,
   "metadata": {},
   "outputs": [],
   "source": []
  },
  {
   "cell_type": "markdown",
   "metadata": {},
   "source": [
    "# Create coastal latitude/longitude arrays"
   ]
  },
  {
   "cell_type": "code",
   "execution_count": 15,
   "metadata": {
    "collapsed": true
   },
   "outputs": [],
   "source": [
    "coastal_latlon_indices = numpy.zeros((PRECT_lat.size, 2), dtype=numpy.int)\n",
    "coastal_latlon_indices[:,1] = ccal_lon_idx + numpy.arange(-15,11,dtype=numpy.int)[::-1]\n",
    "#coastal_latlon_indices[:,0] = numpy.arange(PRECT_lat.size, dtype=numpy.int)\n",
    "coastal_latlon_indices[:,0] = numpy.arange(PRECT_lat.size, dtype=numpy.int)\n",
    "coastal_latlon_indices = coastal_latlon_indices[7:18,:]"
   ]
  },
  {
   "cell_type": "code",
   "execution_count": null,
   "metadata": {
    "collapsed": true
   },
   "outputs": [],
   "source": []
  },
  {
   "cell_type": "code",
   "execution_count": 16,
   "metadata": {},
   "outputs": [
    {
     "data": {
      "image/png": "[encoded data removed]",
      "text/plain": [
       "<matplotlib.figure.Figure at 0x112200d30>"
      ]
     },
     "metadata": {},
     "output_type": "display_data"
    }
   ],
   "source": [
    "fontsize=12\n",
    "contour_levels = numpy.arange(0,5.1,0.5)\n",
    "\n",
    "fig = mp.figure(figsize=(5,5))\n",
    "\n",
    "ax = fig.add_subplot(111)\n",
    "\n",
    "#ax.text(s='PIC precipitation',x=0.0,y=1.03,ha='left',va='bottom',transform=ax.transAxes,fontsize=fontsize)\n",
    "\n",
    "center_lat = 0.5*(PRECT_lat.min()+PRECT_lat.max())\n",
    "center_lon = 0.5*(PRECT_lon.min()+PRECT_lon.max())\n",
    "\n",
    "#map = basemap.Basemap(projection='cea',llcrnrlat=lats.min(),urcrnrlat=lats.max(),llcrnrlon=lons.min(),urcrnrlon=lons.max(),resolution='m',area_thresh=10000000)   \n",
    "#map = basemap.Basemap(width=3.5e6,height=3e6,resolution='l',projection='eqdc',lat_1=PRECT_lat.min(),lat_2=PRECT_lat.max(),lat_0=center_lat,lon_0=center_lon)\n",
    "map = basemap.Basemap(projection='cyl',ax=ax, llcrnrlat=PRECT_lat.min(),urcrnrlat=PRECT_lat.max(),llcrnrlon=PRECT_lon.min(),urcrnrlon=PRECT_lon.max(),resolution='i')\n",
    "\n",
    "map.drawcoastlines(linewidth=1, color='0', zorder=3) # you can specify white as 1.0, black as 0.0, and any gray as fraction\n",
    "map.drawmapboundary(linewidth=1, color='0.5', zorder=3)\n",
    "map.drawstates(linewidth=1, color='0', zorder=3)\n",
    "map.drawcountries(linewidth=1, color='0', zorder=3)\n",
    "\n",
    "map.fillcontinents(color='0.75',lake_color='0.5')\n",
    "# draw parallels and meridians. # labels[left, right, top, bottom]\n",
    "map.drawparallels(numpy.arange(-80.,81.,5.), labels=[1,0,0,0], dashes=[3,2], fontsize=fontsize)\n",
    "map.drawmeridians(numpy.arange(-180.,181.,10.), labels=[0,0,0,1], dashes=[3,2], fmt=format_every_other, fontsize=fontsize)\n",
    "map.drawmapboundary(fill_color='0.5')\n",
    "\n",
    "lons,lats = numpy.meshgrid(PRECT_lon, PRECT_lat)\n",
    "xi,yi = map(lons, lats)\n",
    "\n",
    "#pr_map = map.contourf(xi, yi, mean_pr, levels=contour_levels, extend='max', cmap=cmap_partial, zorder=2)\n",
    "pr_map = map.pcolormesh(xi, yi, mean_pr, cmap=cmap_partial, zorder=2, vmin=0, vmax=5, ax=ax, latlon=True)\n",
    "\n",
    "divider = mpl_toolkits.axes_grid1.make_axes_locatable(ax)\n",
    "cbar_ax = divider.append_axes('bottom', size='5%', pad=0.35) #fig.add_axes([0.0, -0.02, 1.0, 0.03])\n",
    "cbar = fig.colorbar(pr_map, cax=cbar_ax, orientation='horizontal')\n",
    "#cbar = map.colorbar(pr_map, location='bottom', pad=0.3)\n",
    "cbar.set_label('mm day$^{\\,-1}$', fontsize=fontsize)\n",
    "cbar.ax.tick_params(labelsize=fontsize)\n",
    "\n",
    "ax.scatter(PRECT_lon[coastal_latlon_indices[:,1]], PRECT_lat[coastal_latlon_indices[:,0]], marker='o', c='firebrick', s=20, label='northern Cal.', zorder=3)\n",
    "\n",
    "fig.tight_layout()\n",
    "\n",
    "#fig.savefig('pic_plot_mean_ceq.pdf', bbox_inches='tight')"
   ]
  },
  {
   "cell_type": "code",
   "execution_count": null,
   "metadata": {
    "collapsed": true
   },
   "outputs": [],
   "source": []
  },
  {
   "cell_type": "code",
   "execution_count": 17,
   "metadata": {
    "collapsed": true
   },
   "outputs": [],
   "source": [
    "coastal_latlon_indices = numpy.zeros((PRECT_lat.size, 2), dtype=numpy.int)\n",
    "coastal_latlon_indices[:,1] = ccal_lon_idx + numpy.arange(-15,11,dtype=numpy.int)[::-1]\n",
    "coastal_latlon_indices[:,0] = numpy.arange(PRECT_lat.size, dtype=numpy.int)\n",
    "coastal_latlon_indices = coastal_latlon_indices[7:18,:]\n",
    "\n",
    "# 11 total\n",
    "coastal_latlon_indices[10,1] += 5\n",
    "coastal_latlon_indices[9,1] += 4\n",
    "coastal_latlon_indices[8,1] += 3\n",
    "coastal_latlon_indices[7,1] += 3\n",
    "coastal_latlon_indices[6,1] += 2\n",
    "coastal_latlon_indices[5,1] += 2\n",
    "coastal_latlon_indices[4,1] += 1\n",
    "coastal_latlon_indices[3,1] += 1\n",
    "coastal_latlon_indices[2,1] += 1\n",
    "coastal_latlon_indices[1,1] += 1\n",
    "coastal_latlon_indices[0,1] += 1\n",
    "\n",
    "left = numpy.zeros(11, dtype=numpy.int)\n",
    "right_plus = numpy.ones(11, dtype=numpy.int)\n",
    "right_minus = numpy.ones(11, dtype=numpy.int) * -1\n",
    "\n",
    "coastal_latlon_indices_3x = numpy.zeros((coastal_latlon_indices.shape[0]*3, 2), dtype=numpy.int)\n",
    "coastal_latlon_indices_3x[0:11,:] = coastal_latlon_indices\n",
    "coastal_latlon_indices_3x[11:22,:] = coastal_latlon_indices + numpy.dstack((left, right_minus)).squeeze()\n",
    "coastal_latlon_indices_3x[22:33,:] = coastal_latlon_indices + numpy.dstack((left, right_plus)).squeeze()"
   ]
  },
  {
   "cell_type": "code",
   "execution_count": 18,
   "metadata": {},
   "outputs": [
    {
     "data": {
      "image/png": "[encoded data removed]",
      "text/plain": [
       "<matplotlib.figure.Figure at 0x111b33eb8>"
      ]
     },
     "metadata": {},
     "output_type": "display_data"
    }
   ],
   "source": [
    "fontsize=12\n",
    "contour_levels = numpy.arange(0,5.1,0.5)\n",
    "\n",
    "fig = mp.figure(figsize=(5,5))\n",
    "\n",
    "ax = fig.add_subplot(111)\n",
    "\n",
    "#ax.text(s='PIC precipitation',x=0.0,y=1.03,ha='left',va='bottom',transform=ax.transAxes,fontsize=fontsize)\n",
    "\n",
    "center_lat = 0.5*(PRECT_lat.min()+PRECT_lat.max())\n",
    "center_lon = 0.5*(PRECT_lon.min()+PRECT_lon.max())\n",
    "\n",
    "#map = basemap.Basemap(projection='cea',llcrnrlat=lats.min(),urcrnrlat=lats.max(),llcrnrlon=lons.min(),urcrnrlon=lons.max(),resolution='m',area_thresh=10000000)   \n",
    "#map = basemap.Basemap(width=3.5e6,height=3e6,resolution='l',projection='eqdc',lat_1=PRECT_lat.min(),lat_2=PRECT_lat.max(),lat_0=center_lat,lon_0=center_lon)\n",
    "map = basemap.Basemap(projection='cyl',ax=ax, llcrnrlat=PRECT_lat.min(),urcrnrlat=PRECT_lat.max(),llcrnrlon=PRECT_lon.min(),urcrnrlon=PRECT_lon.max(),resolution='i')\n",
    "\n",
    "map.drawcoastlines(linewidth=1, color='0', zorder=3) # you can specify white as 1.0, black as 0.0, and any gray as fraction\n",
    "map.drawmapboundary(linewidth=1, color='0.5', zorder=3)\n",
    "map.drawstates(linewidth=1, color='0', zorder=3)\n",
    "map.drawcountries(linewidth=1, color='0', zorder=3)\n",
    "\n",
    "map.fillcontinents(color='0.75',lake_color='0.5')\n",
    "# draw parallels and meridians. # labels[left, right, top, bottom]\n",
    "map.drawparallels(numpy.arange(-80.,81.,5.), labels=[1,0,0,0], dashes=[3,2], fontsize=fontsize)\n",
    "map.drawmeridians(numpy.arange(-180.,181.,10.), labels=[0,0,0,1], dashes=[3,2], fmt=format_every_other, fontsize=fontsize)\n",
    "map.drawmapboundary(fill_color='0.5')\n",
    "\n",
    "lons,lats = numpy.meshgrid(PRECT_lon, PRECT_lat)\n",
    "xi,yi = map(lons, lats)\n",
    "\n",
    "#pr_map = map.contourf(xi, yi, mean_pr, levels=contour_levels, extend='max', cmap=cmap_partial, zorder=2)\n",
    "pr_map = map.pcolormesh(xi, yi, mean_pr, cmap=cmap_partial, zorder=2, vmin=0, vmax=5, ax=ax, latlon=True)\n",
    "\n",
    "divider = mpl_toolkits.axes_grid1.make_axes_locatable(ax)\n",
    "cbar_ax = divider.append_axes('bottom', size='5%', pad=0.35) #fig.add_axes([0.0, -0.02, 1.0, 0.03])\n",
    "cbar = fig.colorbar(pr_map, cax=cbar_ax, orientation='horizontal')\n",
    "#cbar = map.colorbar(pr_map, location='bottom', pad=0.3)\n",
    "cbar.set_label('mm day$^{\\,-1}$', fontsize=fontsize)\n",
    "cbar.ax.tick_params(labelsize=fontsize)\n",
    "\n",
    "ax.scatter(PRECT_lon[coastal_latlon_indices_3x[:,1]], PRECT_lat[coastal_latlon_indices_3x[:,0]], marker='o', c='firebrick', s=20, label='northern Cal.', zorder=3)\n",
    "ax.scatter(PRECT_lon[17], PRECT_lat[9], marker='*', facecolor='orange', edgecolor='0.25', s=150, zorder=4)\n",
    "\n",
    "fig.tight_layout()\n",
    "\n",
    "fig.savefig('pic_coastal_points.pdf', bbox_inches='tight')"
   ]
  },
  {
   "cell_type": "code",
   "execution_count": 19,
   "metadata": {},
   "outputs": [
    {
     "name": "stdout",
     "output_type": "stream",
     "text": [
      "9\n",
      "17\n",
      "[[ 7 18]\n",
      " [ 7 19]\n",
      " [ 7 17]\n",
      " [ 8 17]\n",
      " [ 8 18]\n",
      " [ 8 16]\n",
      " [ 9 16]\n",
      " [ 9 17]\n",
      " [ 9 15]\n",
      " [10 15]\n",
      " [10 16]\n",
      " [10 14]\n",
      " [11 14]\n",
      " [11 15]\n",
      " [11 13]\n",
      " [12 15]\n",
      " [12 13]\n",
      " [12 14]\n",
      " [13 12]\n",
      " [13 13]\n",
      " [13 14]\n",
      " [14 12]\n",
      " [14 13]\n",
      " [14 14]\n",
      " [15 11]\n",
      " [15 12]\n",
      " [15 13]\n",
      " [16 11]\n",
      " [16 12]\n",
      " [16 13]\n",
      " [17 11]\n",
      " [17 12]\n",
      " [17 13]]\n"
     ]
    }
   ],
   "source": [
    "print(geo_idx(LA_lat, PRECT_lat))\n",
    "print(geo_idx(LA_lon, PRECT_lon))\n",
    "\n",
    "latsort = numpy.argsort(coastal_latlon_indices_3x[:,0])\n",
    "coastal_latlon_indices_3x = coastal_latlon_indices_3x[latsort,:]\n",
    "print(coastal_latlon_indices_3x)"
   ]
  },
  {
   "cell_type": "code",
   "execution_count": 20,
   "metadata": {
    "collapsed": true
   },
   "outputs": [],
   "source": [
    "#numpy.save('npy_files/coastal_latlon_array_indices.npy', coastal_latlon_indices)\n",
    "numpy.save('npy_files/coastal_latlon_array_indices_3x.npy', coastal_latlon_indices_3x)"
   ]
  },
  {
   "cell_type": "code",
   "execution_count": null,
   "metadata": {
    "collapsed": true
   },
   "outputs": [],
   "source": []
  },
  {
   "cell_type": "code",
   "execution_count": null,
   "metadata": {
    "collapsed": true
   },
   "outputs": [],
   "source": []
  },
  {
   "cell_type": "code",
   "execution_count": null,
   "metadata": {
    "collapsed": true
   },
   "outputs": [],
   "source": []
  },
  {
   "cell_type": "code",
   "execution_count": null,
   "metadata": {
    "collapsed": true
   },
   "outputs": [],
   "source": []
  },
  {
   "cell_type": "code",
   "execution_count": null,
   "metadata": {
    "collapsed": true
   },
   "outputs": [],
   "source": []
  },
  {
   "cell_type": "code",
   "execution_count": null,
   "metadata": {
    "collapsed": true
   },
   "outputs": [],
   "source": []
  },
  {
   "cell_type": "code",
   "execution_count": 21,
   "metadata": {
    "collapsed": true
   },
   "outputs": [],
   "source": [
    "ccal_lons = xi[ccal_lat_idx-1:ccal_lat_idx+2,ccal_lon_idx-1:ccal_lon_idx+2].flatten()\n",
    "ccal_lats = yi[ccal_lat_idx-1:ccal_lat_idx+2,ccal_lon_idx-1:ccal_lon_idx+2].flatten()\n",
    "\n",
    "scal_lons = xi[scal_lat_idx-1:scal_lat_idx+2,scal_lon_idx-1:scal_lon_idx+2].flatten()\n",
    "scal_lats = yi[scal_lat_idx-1:scal_lat_idx+2,scal_lon_idx-1:scal_lon_idx+2].flatten()\n",
    "\n",
    "ncal_lons = xi[ncal_lat_idx-1:ncal_lat_idx+2,ncal_lon_idx-1:ncal_lon_idx+2].flatten()\n",
    "ncal_lats = yi[ncal_lat_idx-1:ncal_lat_idx+2,ncal_lon_idx-1:ncal_lon_idx+2].flatten()"
   ]
  },
  {
   "cell_type": "code",
   "execution_count": 22,
   "metadata": {
    "collapsed": true
   },
   "outputs": [],
   "source": [
    "ccal_latlon_array = numpy.vstack((ccal_lats, ccal_lons)).T\n",
    "ncal_latlon_array = numpy.vstack((ncal_lats, ncal_lons)).T\n",
    "scal_latlon_array = numpy.vstack((scal_lats, scal_lons)).T\n",
    "\n",
    "numpy.save('npy_files/ccal_latlon_array.npy', ccal_latlon_array)\n",
    "numpy.save('npy_files/ncal_latlon_array.npy', ncal_latlon_array)\n",
    "numpy.save('npy_files/scal_latlon_array.npy', scal_latlon_array)"
   ]
  },
  {
   "cell_type": "code",
   "execution_count": 23,
   "metadata": {},
   "outputs": [
    {
     "data": {
      "text/plain": [
       "array([[  37.22513089,  236.25      ],\n",
       "       [  37.22513089,  237.5       ],\n",
       "       [  37.22513089,  238.75      ],\n",
       "       [  38.16753927,  236.25      ],\n",
       "       [  38.16753927,  237.5       ],\n",
       "       [  38.16753927,  238.75      ],\n",
       "       [  39.10994764,  236.25      ],\n",
       "       [  39.10994764,  237.5       ],\n",
       "       [  39.10994764,  238.75      ]])"
      ]
     },
     "execution_count": 23,
     "metadata": {},
     "output_type": "execute_result"
    }
   ],
   "source": [
    "numpy.load('npy_files/ccal_latlon_array.npy')"
   ]
  },
  {
   "cell_type": "code",
   "execution_count": 24,
   "metadata": {
    "collapsed": true
   },
   "outputs": [],
   "source": [
    "ccal_latlon_indices_array = numpy.zeros((ccal_latlon_array.shape), dtype=numpy.int)\n",
    "ncal_latlon_indices_array = numpy.zeros((ncal_latlon_array.shape), dtype=numpy.int)\n",
    "scal_latlon_indices_array = numpy.zeros((scal_latlon_array.shape), dtype=numpy.int)\n",
    "\n",
    "for i in range(ccal_latlon_array.shape[0]):\n",
    "    ccal_latlon_indices_array[i,:] = numpy.where(ccal_latlon_array[i,0]==PRECT_lat)[0], numpy.where(ccal_latlon_array[i,1]==PRECT_lon)[0]\n",
    "for i in range(ncal_latlon_array.shape[0]):\n",
    "    ncal_latlon_indices_array[i,:] = numpy.where(ncal_latlon_array[i,0]==PRECT_lat)[0], numpy.where(ncal_latlon_array[i,1]==PRECT_lon)[0]\n",
    "for i in range(scal_latlon_array.shape[0]):\n",
    "    scal_latlon_indices_array[i,:] = numpy.where(scal_latlon_array[i,0]==PRECT_lat)[0], numpy.where(scal_latlon_array[i,1]==PRECT_lon)[0]\n",
    "    \n",
    "numpy.save('npy_files/ccal_latlon_indices_array.npy', ccal_latlon_indices_array)\n",
    "numpy.save('npy_files/ncal_latlon_indices_array.npy', ncal_latlon_indices_array)\n",
    "numpy.save('npy_files/scal_latlon_indices_array.npy', scal_latlon_indices_array)\n",
    "    "
   ]
  },
  {
   "cell_type": "code",
   "execution_count": null,
   "metadata": {
    "collapsed": true
   },
   "outputs": [],
   "source": []
  },
  {
   "cell_type": "code",
   "execution_count": null,
   "metadata": {
    "collapsed": true
   },
   "outputs": [],
   "source": []
  },
  {
   "cell_type": "code",
   "execution_count": null,
   "metadata": {
    "collapsed": true
   },
   "outputs": [],
   "source": []
  }
 ],
 "metadata": {
  "kernelspec": {
   "display_name": "Python 3",
   "language": "python",
   "name": "python3"
  },
  "language_info": {
   "codemirror_mode": {
    "name": "ipython",
    "version": 3
   },
   "file_extension": ".py",
   "mimetype": "text/x-python",
   "name": "python",
   "nbconvert_exporter": "python",
   "pygments_lexer": "ipython3",
   "version": "3.6.3"
  }
 },
 "nbformat": 4,
 "nbformat_minor": 2
}
