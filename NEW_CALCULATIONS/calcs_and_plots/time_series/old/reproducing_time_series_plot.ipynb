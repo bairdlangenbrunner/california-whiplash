{
 "cells": [
  {
   "cell_type": "code",
   "execution_count": 1,
   "metadata": {
    "collapsed": true
   },
   "outputs": [],
   "source": [
    "import numpy\n",
    "import netCDF4\n",
    "import matplotlib.pyplot as mp\n",
    "import pandas\n",
    "\n",
    "degree_sign = u'\\u00B0'\n",
    "mp.rcParams.update({'mathtext.default': 'regular'})\n",
    "mp.rcParams['hatch.color'] = '0.5'\n",
    "\n",
    "% matplotlib inline"
   ]
  },
  {
   "cell_type": "code",
   "execution_count": 2,
   "metadata": {
    "collapsed": true
   },
   "outputs": [],
   "source": [
    "PRECT_lat = numpy.load('/Users/baird/Dropbox/_analysis/attribution_2017/NEW_CALCULATIONS/npy_files/PRECT_lat.npy')\n",
    "PRECT_lon = numpy.load('/Users/baird/Dropbox/_analysis/attribution_2017/NEW_CALCULATIONS/npy_files/PRECT_lon.npy')\n",
    "\n",
    "PRECT_nlat = 26\n",
    "PRECT_nlon = 25"
   ]
  },
  {
   "cell_type": "code",
   "execution_count": 3,
   "metadata": {
    "collapsed": true
   },
   "outputs": [],
   "source": [
    "filename = 'time_series_event_counts_'+'ALL_LATLON'+'.nc'\n",
    "\n",
    "working_dir = '/Users/baird/Dropbox/Precipitation Extremes Project/Whiplash_manuscript/time_series/'\n",
    "ncfile = netCDF4.Dataset(working_dir+filename,'r','NetCDF4')"
   ]
  },
  {
   "cell_type": "code",
   "execution_count": 15,
   "metadata": {},
   "outputs": [
    {
     "name": "stdout",
     "output_type": "stream",
     "text": [
      "odict_keys(['time', 'lat', 'lon', 'ensemble', '100yr_3season_dry_all_events_40_separate_ens', '100yr_3season_dry_all_events_40_summed_30yr_avg_percent', '100yr_3season_dry_all_events_40_summed', '100yr_3season_pic_count', '100yr_1season_dry_all_events_40_separate_ens', '100yr_1season_dry_all_events_40_summed_30yr_avg_percent', '100yr_1season_dry_all_events_40_summed', '100yr_1season_pic_count', '25yr_1season_wet_all_events_40_separate_ens', '25yr_1season_wet_all_events_40_summed_30yr_avg_percent', '25yr_1season_wet_all_events_40_summed', '25yr_1season_wet_pic_count', '200yr_40d_wet_all_events_40_separate_ens', '200yr_40d_wet_all_events_40_summed_30yr_avg_percent', '200yr_40d_wet_all_events_40_summed', '200yr_40d_wet_pic_count'])\n"
     ]
    }
   ],
   "source": [
    "print(ncfile.variables.keys())\n",
    "time_var = ncfile.variables['time']\n",
    "lat = ncfile.variables['lat'][:]\n",
    "lon = ncfile.variables['lon'][:]\n",
    "ensemble = ncfile.variables['ensemble'][:]\n",
    "all_events_40_separate_ens = ncfile.variables['25yr_1season_wet_all_events_40_separate_ens'][:]\n",
    "all_events_40_summed_30yr_avg_percent = ncfile.variables['25yr_1season_wet_all_events_40_summed_30yr_avg_percent'][:]\n",
    "all_events_40_summed = ncfile.variables['25yr_1season_wet_all_events_40_summed'][:]\n",
    "all_events_40_summed_30yr_avg_percent = ncfile.variables['25yr_1season_wet_all_events_40_summed_30yr_avg_percent'][:]\n",
    "pic_count = ncfile.variables['25yr_1season_wet_pic_count'][:]"
   ]
  },
  {
   "cell_type": "code",
   "execution_count": 5,
   "metadata": {},
   "outputs": [
    {
     "name": "stdout",
     "output_type": "stream",
     "text": [
      "(26, 25)\n",
      "(180, 40, 26, 25)\n"
     ]
    }
   ],
   "source": [
    "print(pic_count.shape)\n",
    "print(all_events_40_separate_ens.shape)"
   ]
  },
  {
   "cell_type": "code",
   "execution_count": 6,
   "metadata": {},
   "outputs": [
    {
     "name": "stdout",
     "output_type": "stream",
     "text": [
      "0\n",
      "1\n",
      "2\n",
      "3\n",
      "4\n",
      "5\n",
      "6\n",
      "7\n",
      "8\n",
      "9\n",
      "10\n",
      "11\n",
      "12\n",
      "13\n",
      "14\n",
      "15\n",
      "16\n",
      "17\n",
      "18\n",
      "19\n",
      "20\n",
      "21\n",
      "22\n",
      "23\n",
      "24\n",
      "25\n",
      "26\n",
      "27\n",
      "28\n",
      "29\n",
      "30\n",
      "31\n",
      "32\n",
      "33\n",
      "34\n",
      "35\n",
      "36\n",
      "37\n",
      "38\n",
      "39\n"
     ]
    }
   ],
   "source": [
    "rolling_mean_vals = numpy.zeros((all_events_40_separate_ens.shape))\n",
    "for ens_idx in range(40):\n",
    "    print(ens_idx)\n",
    "    for i in range(26):\n",
    "        for j in range(25):\n",
    "            tseries = pandas.Series(all_events_40_separate_ens[:,ens_idx,i,j])\n",
    "            rolling_mean_vals[:,ens_idx,i,j] = numpy.array(tseries.rolling(window=30, center=True).mean())    "
   ]
  },
  {
   "cell_type": "code",
   "execution_count": 7,
   "metadata": {
    "collapsed": true
   },
   "outputs": [],
   "source": [
    "rolling_mean_vals_percent = numpy.zeros((180,40,26,25))\n",
    "for ens_idx in range(40):\n",
    "    for i in range(26):\n",
    "        for j in range(25):\n",
    "            pic_count_val = pic_count[i,j]/(1798)\n",
    "            rolling_mean_vals_percent[:,ens_idx,i,j] = 100*(rolling_mean_vals[:,ens_idx,i,j]-pic_count_val)/pic_count_val"
   ]
  },
  {
   "cell_type": "code",
   "execution_count": 8,
   "metadata": {},
   "outputs": [
    {
     "name": "stdout",
     "output_type": "stream",
     "text": [
      "0\n"
     ]
    },
    {
     "name": "stderr",
     "output_type": "stream",
     "text": [
      "/Users/baird/anaconda/lib/python3.6/site-packages/pandas/core/window.py:240: MaskedArrayFutureWarning: setting an item on a masked array which has a shared mask will not copy the mask and also change the original mask array in the future.\n",
      "Check the NumPy 1.11 release notes for more information.\n",
      "  values[np.isinf(values)] = np.NaN\n"
     ]
    },
    {
     "name": "stdout",
     "output_type": "stream",
     "text": [
      "1\n",
      "2\n",
      "3\n",
      "4\n",
      "5\n",
      "6\n",
      "7\n",
      "8\n",
      "9\n",
      "10\n",
      "11\n",
      "12\n",
      "13\n",
      "14\n",
      "15\n",
      "16\n",
      "17\n",
      "18\n",
      "19\n",
      "20\n",
      "21\n",
      "22\n",
      "23\n",
      "24\n",
      "25\n",
      "26\n",
      "27\n",
      "28\n",
      "29\n",
      "30\n",
      "31\n",
      "32\n",
      "33\n",
      "34\n",
      "35\n",
      "36\n",
      "37\n",
      "38\n",
      "39\n"
     ]
    }
   ],
   "source": [
    "pic_expand_counts = numpy.ones((all_events_40_separate_ens.shape))*pic_count[0,0]\n",
    "percent_change = 100*(all_events_40_separate_ens-pic_expand_counts/1798)/(pic_expand_counts/1798)\n",
    "percent_change_rolling_mean = numpy.zeros((percent_change.shape))\n",
    "for ens_idx in range(40):\n",
    "    print(ens_idx)\n",
    "    for i in range(26):\n",
    "        for j in range(25):\n",
    "            tseries = pandas.Series(percent_change[:,ens_idx,i,j])\n",
    "            percent_change_rolling_mean[:,ens_idx,i,j] = numpy.array( tseries.rolling(window=30,center=True).mean() )"
   ]
  },
  {
   "cell_type": "code",
   "execution_count": 9,
   "metadata": {},
   "outputs": [
    {
     "name": "stdout",
     "output_type": "stream",
     "text": [
      "0\n",
      "1\n",
      "2\n",
      "3\n",
      "4\n",
      "5\n",
      "6\n",
      "7\n",
      "8\n",
      "9\n",
      "10\n",
      "11\n",
      "12\n",
      "13\n",
      "14\n",
      "15\n",
      "16\n",
      "17\n",
      "18\n",
      "19\n",
      "20\n",
      "21\n",
      "22\n",
      "23\n",
      "24\n",
      "25\n",
      "26\n",
      "27\n",
      "28\n",
      "29\n",
      "30\n",
      "31\n",
      "32\n",
      "33\n",
      "34\n",
      "35\n",
      "36\n",
      "37\n",
      "38\n",
      "39\n"
     ]
    }
   ],
   "source": [
    "pic_expand_counts = numpy.ones((rolling_mean_vals.shape))*pic_count[0,0]\n",
    "pic_expand_counts_rolling_mean = numpy.zeros((pic_expand_counts.shape))*numpy.nan\n",
    "for ens_idx in range(40):\n",
    "    print(ens_idx)\n",
    "    for i in range(26):\n",
    "        for j in range(25):\n",
    "            tseries = pandas.Series(pic_expand_counts[:,ens_idx,i,j])\n",
    "            pic_expand_counts_rolling_mean[:,ens_idx,i,j] = numpy.array((tseries.rolling(window=30, center=True).mean()))\n",
    "pic_expand_counts_rolling_mean /= 1798."
   ]
  },
  {
   "cell_type": "code",
   "execution_count": 10,
   "metadata": {
    "collapsed": true
   },
   "outputs": [],
   "source": [
    "# how Daniel calculated this\n",
    "percent_diff_calculation = 100.*(rolling_mean_vals - pic_expand_counts_rolling_mean) / pic_expand_counts_rolling_mean"
   ]
  },
  {
   "cell_type": "code",
   "execution_count": 64,
   "metadata": {},
   "outputs": [
    {
     "name": "stderr",
     "output_type": "stream",
     "text": [
      "/Users/baird/anaconda/lib/python3.6/site-packages/numpy/lib/nanfunctions.py:703: RuntimeWarning: Mean of empty slice\n",
      "  warnings.warn(\"Mean of empty slice\", RuntimeWarning)\n"
     ]
    },
    {
     "data": {
      "text/plain": [
       "<matplotlib.text.Text at 0x12c6cab38>"
      ]
     },
     "execution_count": 64,
     "metadata": {},
     "output_type": "execute_result"
    },
    {
     "data": {
      "image/png": "[encoded data removed]",
      "text/plain": [
       "<matplotlib.figure.Figure at 0x12ca9f438>"
      ]
     },
     "metadata": {},
     "output_type": "display_data"
    }
   ],
   "source": [
    "fig,ax = mp.subplots()\n",
    "fig.set_size_inches(8,3)\n",
    "fontsize=12\n",
    "\n",
    "lat_idx = 9\n",
    "lon_idx = 17\n",
    "#rolling_mean_vals_perc_mean = numpy.mean(rolling_mean_vals_percent[:,:,lat_idx,lon_idx], axis=1)\n",
    "#rolling_mean_vals_perc_mean = numpy.nanmean(percent_diff_calculation[:,:,lat_idx,lon_idx], axis=1)\n",
    "rolling_mean_vals_perc_mean = numpy.nanmean(percent_change_rolling_mean[:,:,lat_idx,lon_idx], axis=1)\n",
    "\n",
    "for ens_idx in range(40):\n",
    "    ax.plot(numpy.arange(1920,2100), percent_change_rolling_mean[:,ens_idx,lat_idx,lon_idx], color='0.75')\n",
    "\n",
    "ax.plot(numpy.arange(1920,2100), rolling_mean_vals_perc_mean, lw=2, color='firebrick')\n",
    "#ax.plot(numpy.arange(1920,2100), pandas.Series(rolling_mean_vals_perc_mean).rolling(window=30, center=True).mean())\n",
    "ax.grid()\n",
    "ax.set_xlabel('year', fontsize=fontsize)\n",
    "ax.set_ylim(-100,500)\n",
    "\n",
    "ax.plot(numpy.arange(1920,2100), all_events_40_summed_30yr_avg_percent[:,lat_idx,lon_idx], lw=2, ls='--', c='dodgerblue')\n",
    "\n",
    "ax.tick_params(labelsize=fontsize)\n",
    "ax.set_title('25 year return period percent increase')\n",
    "#for ens_idx in range(40):\n",
    "#    mp.plot(numpy.arange(1920,2100), rolling_mean_vals_percent[:,ens_idx,i,j])"
   ]
  },
  {
   "cell_type": "code",
   "execution_count": null,
   "metadata": {
    "collapsed": true
   },
   "outputs": [],
   "source": []
  },
  {
   "cell_type": "code",
   "execution_count": 44,
   "metadata": {},
   "outputs": [
    {
     "name": "stdout",
     "output_type": "stream",
     "text": [
      "34.3979057592\n",
      "241.25\n"
     ]
    }
   ],
   "source": [
    "print(PRECT_lat[9])\n",
    "print(PRECT_lon[17])"
   ]
  },
  {
   "cell_type": "code",
   "execution_count": 45,
   "metadata": {},
   "outputs": [
    {
     "name": "stdout",
     "output_type": "stream",
     "text": [
      "[ 25.91623037  26.85863874  27.80104712  28.7434555   29.68586387\n",
      "  30.62827225  31.57068063  32.51308901  33.45549738  34.39790576\n",
      "  35.34031414  36.28272251  37.22513089  38.16753927  39.10994764\n",
      "  40.05235602  40.9947644   41.93717277  42.87958115  43.82198953\n",
      "  44.76439791  45.70680628  46.64921466  47.59162304  48.53403141\n",
      "  49.47643979]\n",
      "[ 220.    221.25  222.5   223.75  225.    226.25  227.5   228.75  230.\n",
      "  231.25  232.5   233.75  235.    236.25  237.5   238.75  240.    241.25\n",
      "  242.5   243.75  245.    246.25  247.5   248.75  250.  ]\n"
     ]
    }
   ],
   "source": [
    "print(PRECT_lat)\n",
    "print(PRECT_lon)"
   ]
  },
  {
   "cell_type": "code",
   "execution_count": 62,
   "metadata": {},
   "outputs": [
    {
     "name": "stdout",
     "output_type": "stream",
     "text": [
      "(180, 26, 25)\n"
     ]
    },
    {
     "data": {
      "text/plain": [
       "<matplotlib.colorbar.Colorbar at 0x12cd92da0>"
      ]
     },
     "execution_count": 62,
     "metadata": {},
     "output_type": "execute_result"
    },
    {
     "data": {
      "image/png": "[encoded data removed]",
      "text/plain": [
       "<matplotlib.figure.Figure at 0x12cb42278>"
      ]
     },
     "metadata": {},
     "output_type": "display_data"
    }
   ],
   "source": [
    "print(all_events_40_summed_30yr_avg_percent.shape)\n",
    "a = all_events_40_summed_30yr_avg_percent.mean(axis=0)\n",
    "a[9,17]=numpy.nan\n",
    "cf=mp.contourf(PRECT_lon,PRECT_lat,a)\n",
    "#cf=mp.imshow(a)\n",
    "mp.axes().set_aspect('equal')\n",
    "mp.scatter(PRECT_lon[17], PRECT_lat[9], c='red')\n",
    "\n",
    "mp.axes().tick_params(labelsize=fontsize)\n",
    "mp.xlabel('longitude', fontsize=fontsize)\n",
    "mp.ylabel('latitude', fontsize=fontsize)\n",
    "\n",
    "mp.colorbar(cf)\n",
    "#mp.scatter(PRECT_lon[9], PRECT_lat[17], c='red')"
   ]
  },
  {
   "cell_type": "code",
   "execution_count": 63,
   "metadata": {},
   "outputs": [
    {
     "name": "stdout",
     "output_type": "stream",
     "text": [
      "[92.00496688741723 88.46311051324503 108.37748344370861 105.86923763451986\n",
      " 127.18933671357615 128.1126991928808 119.15468491307946 136.97424720612582\n",
      " 122.71034250827815 97.10415588783113 57.52345043460265 35.15595250413907\n",
      " 16.247624883588575 -1.2136426508821399 20.988488203642383\n",
      " 31.33846298116722 78.67818708609272 68.08014279801324 39.73144207884934\n",
      " 41.41278844163907 52.17619839093543 167.6658345405629 183.59733288493376\n",
      " 155.84125362168874 163.97234581953643]\n"
     ]
    }
   ],
   "source": [
    "print(a[-1,:])"
   ]
  },
  {
   "cell_type": "code",
   "execution_count": 47,
   "metadata": {
    "collapsed": true
   },
   "outputs": [],
   "source": [
    "b = numpy.arange(100).reshape((10,10))"
   ]
  },
  {
   "cell_type": "code",
   "execution_count": 48,
   "metadata": {},
   "outputs": [
    {
     "data": {
      "text/plain": [
       "0"
      ]
     },
     "execution_count": 48,
     "metadata": {},
     "output_type": "execute_result"
    }
   ],
   "source": [
    "b[0,0]"
   ]
  },
  {
   "cell_type": "code",
   "execution_count": 49,
   "metadata": {},
   "outputs": [
    {
     "data": {
      "text/plain": [
       "1"
      ]
     },
     "execution_count": 49,
     "metadata": {},
     "output_type": "execute_result"
    }
   ],
   "source": [
    "b[0,1]"
   ]
  },
  {
   "cell_type": "code",
   "execution_count": 50,
   "metadata": {},
   "outputs": [
    {
     "data": {
      "text/plain": [
       "11"
      ]
     },
     "execution_count": 50,
     "metadata": {},
     "output_type": "execute_result"
    }
   ],
   "source": [
    "b[1,1]"
   ]
  },
  {
   "cell_type": "code",
   "execution_count": null,
   "metadata": {
    "collapsed": true
   },
   "outputs": [],
   "source": []
  }
 ],
 "metadata": {
  "kernelspec": {
   "display_name": "Python 3",
   "language": "python",
   "name": "python3"
  },
  "language_info": {
   "codemirror_mode": {
    "name": "ipython",
    "version": 3
   },
   "file_extension": ".py",
   "mimetype": "text/x-python",
   "name": "python",
   "nbconvert_exporter": "python",
   "pygments_lexer": "ipython3",
   "version": "3.6.2"
  }
 },
 "nbformat": 4,
 "nbformat_minor": 2
}
