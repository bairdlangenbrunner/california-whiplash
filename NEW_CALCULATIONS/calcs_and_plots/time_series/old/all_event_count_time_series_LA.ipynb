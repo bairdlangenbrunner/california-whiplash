{
 "cells": [
  {
   "cell_type": "code",
   "execution_count": 1,
   "metadata": {
    "collapsed": true
   },
   "outputs": [],
   "source": [
    "import numpy\n",
    "import scipy\n",
    "import netCDF4\n",
    "import matplotlib.pyplot as mp\n",
    "import matplotlib.ticker\n",
    "import matplotlib.colors\n",
    "import scipy.stats\n",
    "import pandas\n",
    "import itertools\n",
    "from mpl_toolkits import basemap\n",
    "import mpl_toolkits.axes_grid1\n",
    "import random\n",
    "import datetime\n",
    "import os\n",
    "import time\n",
    "\n",
    "degree_sign = u'\\u00B0'\n",
    "mp.rcParams.update({'mathtext.default': 'regular'})\n",
    "mp.rcParams['hatch.color'] = '0.5'\n",
    "\n",
    "% matplotlib inline"
   ]
  },
  {
   "cell_type": "code",
   "execution_count": 2,
   "metadata": {
    "collapsed": true
   },
   "outputs": [],
   "source": [
    "working_dir = '/Users/baird/Dropbox/_analysis/attribution_2017/NEW_CALCULATIONS/npy_files/'\n",
    "#save_dir = '/Users/baird/Dropbox/_analysis/attribution_2017/NEW_CALCULATIONS/calculations/npy_files/'\n",
    "#latlon_indices = numpy.load(working_dir + 'ccal_latlon_indices_array.npy'); region='ccal'\n",
    "#latlon_indices = numpy.load(working_dir + 'ncal_latlon_indices_array.npy'); region='ncal'\n",
    "#latlon_indices = numpy.load(working_dir + 'scal_latlon_indices_array.npy'); region='scal'\n",
    "\n",
    "PRECT_lat = numpy.load('/Users/baird/Dropbox/_analysis/attribution_2017/NEW_CALCULATIONS/npy_files/PRECT_lat.npy')\n",
    "PRECT_lon = numpy.load('/Users/baird/Dropbox/_analysis/attribution_2017/NEW_CALCULATIONS/npy_files/PRECT_lon.npy')\n",
    "\n",
    "PRECT_nlat = 26\n",
    "PRECT_nlon = 25\n",
    "\n",
    "latlon_indices = list(itertools.product(range(PRECT_nlat), range(PRECT_nlon)))\n",
    "region = 'whole_domain'"
   ]
  },
  {
   "cell_type": "code",
   "execution_count": 3,
   "metadata": {
    "collapsed": true
   },
   "outputs": [],
   "source": [
    "events_dict = {}"
   ]
  },
  {
   "cell_type": "code",
   "execution_count": 4,
   "metadata": {
    "collapsed": true
   },
   "outputs": [],
   "source": [
    "window=30"
   ]
  },
  {
   "cell_type": "code",
   "execution_count": 5,
   "metadata": {
    "collapsed": true
   },
   "outputs": [],
   "source": [
    "year_start_pic = 402 #time_subsets[chunk,0]\n",
    "year_end_pic = 2200 #time_subsets[chunk,1]\n",
    "\n",
    "# create season strings\n",
    "years_pic = numpy.arange(year_start_pic, year_end_pic+1, 1).astype(numpy.int)\n",
    "half_years_pic = numpy.arange(year_start_pic+0.75, year_end_pic, 1)\n",
    "#season_strings_pic = numpy.empty(years.size-1, dtype=numpy.str)\n",
    "\n",
    "season_strings_pic = [str(years_pic[i])+'-'+str(years_pic[i+1]) for i in range(years_pic.size-1)]\n",
    "member_strings_pic = ['{:03d}'.format(i) for i in range(1,36)]\n",
    "\n",
    "n_seasons_pic=year_end_pic-year_start_pic"
   ]
  },
  {
   "cell_type": "code",
   "execution_count": 6,
   "metadata": {
    "collapsed": true
   },
   "outputs": [],
   "source": [
    "ensemble_members = numpy.hstack((numpy.arange(1,36), numpy.arange(101,106)))\n",
    "ensemble_names = ['{:03d}'.format(i) for i in ensemble_members]\n",
    "\n",
    "year_start = 1920\n",
    "year_end = 2100\n",
    "\n",
    "year_start_list = numpy.arange(1920,2070)\n",
    "year_end_list = numpy.arange(1950,2100)\n",
    "year_middle_list = year_start_list+15\n",
    "\n",
    "# create season strings\n",
    "years = numpy.arange(year_start, year_end+1, 1).astype(numpy.int)\n",
    "half_years_hist_rcp = numpy.arange(year_start+0.75, year_end, 1)\n",
    "season_strings_hist_rcp = [str(i)+'-'+str(i+1) for i in range(year_start,year_end)]\n",
    "\n",
    "thirty_yr_strings_hist_rcp = [str(year_start_list[i])+'-'+str(year_end_list[i]) for i in range(year_start_list.size)]\n",
    "member_strings_hist_rcp = ['{:03d}'.format(i) for i in range(1,36)]\n",
    "\n",
    "n_seasons_hist_rcp=year_end-year_start"
   ]
  },
  {
   "cell_type": "markdown",
   "metadata": {},
   "source": [
    "# 100yr 3season mean dry"
   ]
  },
  {
   "cell_type": "code",
   "execution_count": 7,
   "metadata": {},
   "outputs": [
    {
     "name": "stdout",
     "output_type": "stream",
     "text": [
      "1.0\n"
     ]
    },
    {
     "name": "stderr",
     "output_type": "stream",
     "text": [
      "/Users/baird/anaconda/lib/python3.6/site-packages/numpy/lib/nanfunctions.py:1043: RuntimeWarning: All-NaN slice encountered\n",
      "  warnings.warn(\"All-NaN slice encountered\", RuntimeWarning)\n"
     ]
    }
   ],
   "source": [
    "cali_coast_latlon_indices = numpy.load('/Users/baird/Dropbox/_analysis/attribution_2017/NEW_CALCULATIONS/npy_files/coastal_latlon_array_indices_3x.npy')\n",
    "cali_coast_latlon_indices_zip = [i for i in zip(cali_coast_latlon_indices[:,0], cali_coast_latlon_indices[:,1])]\n",
    "\n",
    "cali_coast_latlon_indices_3d = cali_coast_latlon_indices.reshape((11,3,2))\n",
    "#print(cali_coast_latlon_indices_3d[0,:,:])\n",
    "\n",
    "return_period = 100\n",
    "events_per_year = 1\n",
    "\n",
    "return_val_perc = 100*(1/(return_period*events_per_year))\n",
    "print(return_val_perc)\n",
    "\n",
    "\n",
    "\n",
    "\n",
    "\n",
    "all_events_pic = numpy.load('../100yr_dry_3season_mean/csv_files/all_events_pic.npy')\n",
    "return_period_values_pic_df = pandas.read_csv('../100yr_dry_3season_mean/csv_files/return_period_values_pic_df.csv')\n",
    "return_period_values_pic = return_period_values_pic_df.values[:,1:]\n",
    "all_events_hist_rcp_3d = numpy.load('../100yr_dry_3season_mean/csv_files/all_events_hist_rcp_3d.npy')\n",
    "\n",
    "\n",
    "\n",
    "\n",
    "#nlat_unique = numpy.unique(cali_coast_latlon_indices[:,0]).size\n",
    "return_period_values_hist_rcp = numpy.zeros((len(latlon_indices), n_seasons_hist_rcp, 3))\n",
    "#print(latitude_time_values.shape)\n",
    "\n",
    "for yr_idx in range(n_seasons_hist_rcp):\n",
    "    season_strings_hist_rcp = [str(i)+'-'+str(i+1) for i in range(1920,2100)]\n",
    "    \n",
    "    for latlon_idx in range(len(latlon_indices)):\n",
    "        seasonal_events = all_events_hist_rcp_3d[latlon_idx,:,yr_idx].reshape((-1))        \n",
    "        return_period_values_hist_rcp[latlon_idx,yr_idx,0] = numpy.nanpercentile(seasonal_events, return_val_perc)\n",
    "        return_period_values_hist_rcp[latlon_idx,yr_idx,1] = numpy.nansum(seasonal_events<return_period_values_hist_rcp[latlon_idx,yr_idx,0])\n",
    "        return_period_values_hist_rcp[latlon_idx,yr_idx,2] = numpy.nansum(seasonal_events<return_period_values_pic[latlon_idx,0])"
   ]
  },
  {
   "cell_type": "code",
   "execution_count": 8,
   "metadata": {
    "collapsed": true
   },
   "outputs": [],
   "source": [
    "# calculate ratio of frequencies of exceedance\n",
    "pic_counts = return_period_values_pic[:,1]\n",
    "hist_rcp_counts = return_period_values_hist_rcp[:,:,2]\n",
    "\n",
    "pic_counts_reshape = pic_counts.reshape((PRECT_nlat, PRECT_nlon))\n",
    "hist_rcp_counts_reshape = hist_rcp_counts.reshape((PRECT_nlat, PRECT_nlon,-1))\n",
    "pic_counts_LA = pic_counts_reshape[9,17]\n",
    "hist_rcp_counts_LA = hist_rcp_counts_reshape[9,17,:]\n",
    "hist_rcp_counts_LA_smooth = pandas.Series(hist_rcp_counts_LA).rolling(window=window, center=True).mean()\n",
    "#hist_rcp_counts_LA_smooth = pandas.Series(hist_rcp_counts_LA).rolling(window=window, center=False).mean()\n",
    "\n",
    "pic_counts_LA_equivalent = pic_counts_LA/(1798/40)\n",
    "hist_rcp_counts_LA_smooth_norm = (hist_rcp_counts_LA_smooth - pic_counts_LA_equivalent)/pic_counts_LA_equivalent * 100."
   ]
  },
  {
   "cell_type": "code",
   "execution_count": 9,
   "metadata": {
    "collapsed": true
   },
   "outputs": [],
   "source": [
    "events_dict['100yr_3season_dry_30yr_smoothing_percent'] = hist_rcp_counts_LA_smooth_norm\n",
    "events_dict['100yr_3season_dry_no_smoothing'] = hist_rcp_counts_LA\n",
    "events_dict['100yr_3season_pic_count'] = [pic_counts_LA]*hist_rcp_counts_LA.size"
   ]
  },
  {
   "cell_type": "code",
   "execution_count": 10,
   "metadata": {},
   "outputs": [
    {
     "data": {
      "image/png": "[encoded data removed]",
      "text/plain": [
       "<matplotlib.figure.Figure at 0x1053e5128>"
      ]
     },
     "metadata": {},
     "output_type": "display_data"
    }
   ],
   "source": [
    "fontsize = 12\n",
    "\n",
    "fig, axes = mp.subplots(2)\n",
    "fig.set_size_inches(8,6)\n",
    "\n",
    "ax = axes[0]\n",
    "ax.plot(numpy.arange(1920,2100), hist_rcp_counts_LA)\n",
    "ax.axhline(pic_counts_LA_equivalent)\n",
    "ax.plot(numpy.arange(1920,2100), hist_rcp_counts_LA_smooth)\n",
    "ax.set_title('100yr 3season dry event', fontsize=fontsize)\n",
    "ax.tick_params(labelsize=fontsize)\n",
    "\n",
    "ax = axes[1]\n",
    "ax.plot(numpy.arange(1920,2100), hist_rcp_counts_LA_smooth_norm)\n",
    "ax.axhline(0, c='red')\n",
    "ax.set_ylim(-110, 210)\n",
    "ax.set_title('100yr 3season dry event', fontsize=fontsize)\n",
    "ax.tick_params(labelsize=fontsize)\n",
    "\n",
    "fig.tight_layout()"
   ]
  },
  {
   "cell_type": "markdown",
   "metadata": {},
   "source": [
    "# 100yr 1season mean dry"
   ]
  },
  {
   "cell_type": "code",
   "execution_count": null,
   "metadata": {
    "collapsed": true
   },
   "outputs": [],
   "source": [
    "cali_coast_latlon_indices = numpy.load('/Users/baird/Dropbox/_analysis/attribution_2017/NEW_CALCULATIONS/npy_files/coastal_latlon_array_indices_3x.npy')\n",
    "cali_coast_latlon_indices_zip = [i for i in zip(cali_coast_latlon_indices[:,0], cali_coast_latlon_indices[:,1])]\n",
    "\n",
    "cali_coast_latlon_indices_3d = cali_coast_latlon_indices.reshape((11,3,2))\n",
    "#print(cali_coast_latlon_indices_3d[0,:,:])\n",
    "\n",
    "return_period = 100\n",
    "events_per_year = 1\n",
    "\n",
    "return_val_perc = 100*(1/(return_period*events_per_year))\n",
    "print(return_val_perc)\n",
    "\n",
    "\n",
    "\n",
    "\n",
    "\n",
    "all_events_pic = numpy.load('../100yr_dry_season/csv_files/all_events_pic.npy')\n",
    "return_period_values_pic_df = pandas.read_csv('../100yr_dry_season/csv_files/return_period_values_pic_df.csv')\n",
    "return_period_values_pic = return_period_values_pic_df.values[:,1:]\n",
    "all_events_hist_rcp_3d = numpy.load('../100yr_dry_season/csv_files/all_events_hist_rcp_3d.npy')\n",
    "\n",
    "\n",
    "\n",
    "\n",
    "#nlat_unique = numpy.unique(cali_coast_latlon_indices[:,0]).size\n",
    "return_period_values_hist_rcp = numpy.zeros((len(latlon_indices), n_seasons_hist_rcp, 3))\n",
    "#print(latitude_time_values.shape)\n",
    "\n",
    "for yr_idx in range(n_seasons_hist_rcp):\n",
    "    season_strings_hist_rcp = [str(i)+'-'+str(i+1) for i in range(1920,2100)]\n",
    "    \n",
    "    for latlon_idx in range(len(latlon_indices)):\n",
    "        seasonal_events = all_events_hist_rcp_3d[latlon_idx,:,yr_idx].reshape((-1))        \n",
    "        return_period_values_hist_rcp[latlon_idx,yr_idx,0] = numpy.nanpercentile(seasonal_events, return_val_perc)\n",
    "        return_period_values_hist_rcp[latlon_idx,yr_idx,1] = numpy.nansum(seasonal_events<return_period_values_hist_rcp[latlon_idx,yr_idx,0])\n",
    "        return_period_values_hist_rcp[latlon_idx,yr_idx,2] = numpy.nansum(seasonal_events<return_period_values_pic[latlon_idx,0])"
   ]
  },
  {
   "cell_type": "code",
   "execution_count": null,
   "metadata": {
    "collapsed": true
   },
   "outputs": [],
   "source": [
    "# calculate ratio of frequencies of exceedance\n",
    "pic_counts = return_period_values_pic[:,1]\n",
    "hist_rcp_counts = return_period_values_hist_rcp[:,:,2]\n",
    "\n",
    "pic_counts_reshape = pic_counts.reshape((PRECT_nlat, PRECT_nlon))\n",
    "hist_rcp_counts_reshape = hist_rcp_counts.reshape((PRECT_nlat, PRECT_nlon,-1))\n",
    "pic_counts_LA = pic_counts_reshape[9,17]\n",
    "hist_rcp_counts_LA = hist_rcp_counts_reshape[9,17,:]\n",
    "hist_rcp_counts_LA_smooth = pandas.Series(hist_rcp_counts_LA).rolling(window=window, center=True).mean()\n",
    "#hist_rcp_counts_LA_smooth = pandas.Series(hist_rcp_counts_LA).rolling(window=window, center=False).mean()\n",
    "\n",
    "pic_counts_LA_equivalent = pic_counts_LA/(1798/40)\n",
    "hist_rcp_counts_LA_smooth_norm = (hist_rcp_counts_LA_smooth - pic_counts_LA_equivalent)/pic_counts_LA_equivalent * 100."
   ]
  },
  {
   "cell_type": "code",
   "execution_count": null,
   "metadata": {
    "collapsed": true
   },
   "outputs": [],
   "source": [
    "events_dict['100yr_1season_dry_30yr_smoothing_percent'] = hist_rcp_counts_LA_smooth_norm\n",
    "events_dict['100yr_1season_dry_no_smoothing'] = hist_rcp_counts_LA\n",
    "events_dict['100yr_1season_pic_count'] = [pic_counts_LA]*hist_rcp_counts_LA.size"
   ]
  },
  {
   "cell_type": "code",
   "execution_count": null,
   "metadata": {
    "collapsed": true
   },
   "outputs": [],
   "source": [
    "fontsize = 12\n",
    "\n",
    "fig, axes = mp.subplots(2)\n",
    "fig.set_size_inches(8,6)\n",
    "\n",
    "ax = axes[0]\n",
    "ax.plot(numpy.arange(1920,2100), hist_rcp_counts_LA)\n",
    "ax.axhline(pic_counts_LA_equivalent)\n",
    "ax.plot(numpy.arange(1920,2100), hist_rcp_counts_LA_smooth)\n",
    "ax.set_title('100yr season dry event', fontsize=fontsize)\n",
    "ax.tick_params(labelsize=fontsize)\n",
    "\n",
    "ax = axes[1]\n",
    "ax.plot(numpy.arange(1920,2100), pic_counts_LA_smooth_norm)\n",
    "ax.axhline(0, c='red')\n",
    "ax.set_ylim(-110, 310)\n",
    "ax.set_title('100yr season dry event', fontsize=fontsize)\n",
    "ax.tick_params(labelsize=fontsize)\n",
    "\n",
    "fig.tight_layout()"
   ]
  },
  {
   "cell_type": "markdown",
   "metadata": {},
   "source": [
    "# 25yr wet events"
   ]
  },
  {
   "cell_type": "code",
   "execution_count": null,
   "metadata": {
    "collapsed": true
   },
   "outputs": [],
   "source": [
    "cali_coast_latlon_indices = numpy.load('/Users/baird/Dropbox/_analysis/attribution_2017/NEW_CALCULATIONS/npy_files/coastal_latlon_array_indices_3x.npy')\n",
    "cali_coast_latlon_indices_zip = [i for i in zip(cali_coast_latlon_indices[:,0], cali_coast_latlon_indices[:,1])]\n",
    "\n",
    "cali_coast_latlon_indices_3d = cali_coast_latlon_indices.reshape((11,3,2))\n",
    "#print(cali_coast_latlon_indices_3d[0,:,:])\n",
    "\n",
    "return_period = 25\n",
    "events_per_year = 1\n",
    "\n",
    "return_val_perc = 100*(1-1/(return_period*events_per_year))\n",
    "print(return_val_perc)\n",
    "\n",
    "\n",
    "\n",
    "\n",
    "all_events_pic = numpy.load('../25yr_wet_season/csv_files/all_events_pic.npy')\n",
    "return_period_values_pic_df = pandas.read_csv('../25yr_wet_season/csv_files/return_period_values_pic_df.csv')\n",
    "return_period_values_pic = return_period_values_pic_df.values[:,1:]\n",
    "all_events_hist_rcp_3d = numpy.load('../25yr_wet_season/csv_files/all_events_hist_rcp_3d.npy')\n",
    "\n",
    "\n",
    "\n",
    "\n",
    "#nlat_unique = numpy.unique(cali_coast_latlon_indices[:,0]).size\n",
    "return_period_values_hist_rcp = numpy.zeros((len(latlon_indices), n_seasons_hist_rcp, 3))\n",
    "#print(latitude_time_values.shape)\n",
    "\n",
    "for yr_idx in range(n_seasons_hist_rcp):\n",
    "    season_strings_hist_rcp = [str(i)+'-'+str(i+1) for i in range(1920,2100)]\n",
    "    \n",
    "    for latlon_idx in range(len(latlon_indices)):\n",
    "        seasonal_events = all_events_hist_rcp_3d[latlon_idx,:,yr_idx].reshape((-1))        \n",
    "        return_period_values_hist_rcp[latlon_idx,yr_idx,0] = numpy.nanpercentile(seasonal_events, return_val_perc)\n",
    "        return_period_values_hist_rcp[latlon_idx,yr_idx,1] = numpy.nansum(seasonal_events>return_period_values_hist_rcp[latlon_idx,yr_idx,0])\n",
    "        return_period_values_hist_rcp[latlon_idx,yr_idx,2] = numpy.nansum(seasonal_events>return_period_values_pic[latlon_idx,0])"
   ]
  },
  {
   "cell_type": "code",
   "execution_count": null,
   "metadata": {
    "collapsed": true
   },
   "outputs": [],
   "source": [
    "# calculate ratio of frequencies of exceedance\n",
    "pic_counts = return_period_values_pic[:,1]\n",
    "hist_rcp_counts = return_period_values_hist_rcp[:,:,2]\n",
    "\n",
    "pic_counts_reshape = pic_counts.reshape((PRECT_nlat, PRECT_nlon))\n",
    "hist_rcp_counts_reshape = hist_rcp_counts.reshape((PRECT_nlat, PRECT_nlon,-1))\n",
    "pic_counts_LA = pic_counts_reshape[9,17]\n",
    "hist_rcp_counts_LA = hist_rcp_counts_reshape[9,17,:]\n",
    "hist_rcp_counts_LA_smooth = pandas.Series(hist_rcp_counts_LA).rolling(window=window, center=True).mean()\n",
    "#hist_rcp_counts_LA_smooth = pandas.Series(hist_rcp_counts_LA).rolling(window=window, center=False).mean()\n",
    "\n",
    "pic_counts_LA_equivalent = pic_counts_LA/(1798/40)\n",
    "hist_rcp_counts_LA_smooth_norm = (hist_rcp_counts_LA_smooth - pic_counts_LA_equivalent)/pic_counts_LA_equivalent * 100."
   ]
  },
  {
   "cell_type": "code",
   "execution_count": null,
   "metadata": {
    "collapsed": true
   },
   "outputs": [],
   "source": [
    "events_dict['25yr_1season_wet_30yr_smoothing_percent'] = hist_rcp_counts_LA_smooth_norm\n",
    "events_dict['25yr_1season_wet_no_smoothing'] = hist_rcp_counts_LA\n",
    "events_dict['25yr_1season_wet_pic_count'] = [pic_counts_LA]*hist_rcp_counts_LA.size"
   ]
  },
  {
   "cell_type": "code",
   "execution_count": null,
   "metadata": {
    "collapsed": true
   },
   "outputs": [],
   "source": [
    "fontsize = 12\n",
    "\n",
    "fig, axes = mp.subplots(2)\n",
    "fig.set_size_inches(8,6)\n",
    "\n",
    "ax = axes[0]\n",
    "ax.plot(numpy.arange(1920,2100), hist_rcp_counts_LA)\n",
    "ax.axhline(pic_counts_LA_equivalent)\n",
    "ax.plot(numpy.arange(1920,2100), hist_rcp_counts_LA_smooth)\n",
    "ax.set_title('25yr wet event', fontsize=fontsize)\n",
    "ax.tick_params(labelsize=fontsize)\n",
    "\n",
    "ax = axes[1]\n",
    "ax.plot(numpy.arange(1920,2100), pic_counts_LA_smooth_norm)\n",
    "ax.axhline(0, c='red')\n",
    "ax.set_ylim(-110, 310)\n",
    "ax.set_title('25yr wet event', fontsize=fontsize)\n",
    "ax.tick_params(labelsize=fontsize)\n",
    "\n",
    "fig.tight_layout()"
   ]
  },
  {
   "cell_type": "code",
   "execution_count": null,
   "metadata": {
    "collapsed": true
   },
   "outputs": [],
   "source": [
    "print(pic_counts_LA_equivalent)\n",
    "print(pic_counts_LA_equivalent*30)"
   ]
  },
  {
   "cell_type": "markdown",
   "metadata": {},
   "source": [
    "# 200yr 40d wet events"
   ]
  },
  {
   "cell_type": "code",
   "execution_count": null,
   "metadata": {
    "collapsed": true
   },
   "outputs": [],
   "source": [
    "return_period = 200\n",
    "events_per_year = 151/40\n",
    "\n",
    "return_val_perc = 100*(1-1/(return_period*events_per_year))\n",
    "print(return_val_perc)"
   ]
  },
  {
   "cell_type": "code",
   "execution_count": null,
   "metadata": {
    "collapsed": true
   },
   "outputs": [],
   "source": [
    "print(1798*151/40-return_val_perc/100.*1798*151/40)"
   ]
  },
  {
   "cell_type": "raw",
   "metadata": {},
   "source": [
    "all_events_hist_rcp_4d = numpy.load('../200yr_40d_wet_events/csv_files/all_events_hist_rcp_4d.npy')"
   ]
  },
  {
   "cell_type": "raw",
   "metadata": {},
   "source": [
    "event_count = numpy.zeros((len(latlon_indices), 40, 180), dtype=numpy.int)\n",
    "dayskip = 40\n",
    "for latlon_idx in range(len(latlon_indices)):\n",
    "    if latlon_idx%10==0:\n",
    "        print(latlon_idx)\n",
    "    pic_val = return_period_values_pic[latlon_idx,0]\n",
    "    for ens_member in range(40):\n",
    "        for yr_idx in range(180):\n",
    "            daycount=0\n",
    "            while daycount<days_per_season:\n",
    "                if all_events_hist_rcp_4d[latlon_idx, ens_member, yr_idx, daycount] > pic_val:\n",
    "                    event_count[latlon_idx, ens_member, yr_idx] += 1\n",
    "                    daycount += 40\n",
    "                else:\n",
    "                    daycount += 1"
   ]
  },
  {
   "cell_type": "code",
   "execution_count": null,
   "metadata": {
    "collapsed": true
   },
   "outputs": [],
   "source": [
    "hist_rcp_counts = numpy.load('../200yr_40d_wet_events/csv_files/event_count.npy')\n",
    "hist_rcp_counts_2d = event_count.reshape((PRECT_nlat,PRECT_nlon,40,180))\n",
    "hist_rcp_counts_LA_40members = hist_rcp_counts_2d[9,17,:,:]\n",
    "hist_rcp_counts_LA = numpy.sum(hist_rcp_counts_2d[9,17,:,:], axis=0)\n",
    "hist_rcp_counts_LA_smooth = pandas.Series(hist_rcp_counts_LA).rolling(window=window, center=True).mean()\n",
    "\n",
    "pic_counts_LA = 10\n",
    "pic_counts_LA_equivalent = pic_counts_LA/(1798/40)\n",
    "hist_rcp_counts_LA_smooth_norm = (hist_rcp_counts_LA_smooth - pic_counts_LA_equivalent)/pic_counts_LA_equivalent * 100."
   ]
  },
  {
   "cell_type": "code",
   "execution_count": null,
   "metadata": {
    "collapsed": true
   },
   "outputs": [],
   "source": [
    "events_dict['200yr_40d_wet_30yr_smoothing_percent'] = hist_rcp_counts_LA_smooth_norm\n",
    "events_dict['200yr_40d_wet_no_smoothing'] = hist_rcp_counts_LA\n",
    "events_dict['200yr_40d_wet_pic_count'] = [pic_counts_LA]*hist_rcp_counts_LA.size"
   ]
  },
  {
   "cell_type": "code",
   "execution_count": null,
   "metadata": {
    "collapsed": true
   },
   "outputs": [],
   "source": [
    "fontsize = 12\n",
    "\n",
    "fig, axes = mp.subplots(2)\n",
    "fig.set_size_inches(8,6)\n",
    "\n",
    "ax = axes[0]\n",
    "ax.plot(numpy.arange(1920,2100), hist_rcp_counts_LA)\n",
    "ax.axhline(pic_counts_LA_equivalent)\n",
    "ax.plot(numpy.arange(1920,2100), hist_rcp_counts_LA_smooth)\n",
    "ax.set_title('200yr 40d wet event', fontsize=fontsize)\n",
    "ax.tick_params(labelsize=fontsize)\n",
    "\n",
    "ax = axes[1]\n",
    "ax.plot(numpy.arange(1920,2100), pic_counts_LA_smooth_norm)\n",
    "ax.axhline(0, c='red')\n",
    "ax.set_ylim(-110, 510)\n",
    "ax.set_title('200yr 40d wet event', fontsize=fontsize)\n",
    "ax.tick_params(labelsize=fontsize)\n",
    "\n",
    "fig.tight_layout()"
   ]
  },
  {
   "cell_type": "markdown",
   "metadata": {},
   "source": [
    "# Plot all together"
   ]
  },
  {
   "cell_type": "code",
   "execution_count": null,
   "metadata": {
    "collapsed": true
   },
   "outputs": [],
   "source": [
    "print(events_dict.keys())"
   ]
  },
  {
   "cell_type": "code",
   "execution_count": null,
   "metadata": {
    "collapsed": true
   },
   "outputs": [],
   "source": [
    "plot_list = ['100yr_3season_dry_30yr_smoothing_percent',\\\n",
    "             '100yr_1season_dry_30yr_smoothing_percent', \\\n",
    "             '25yr_1season_wet_30yr_smoothing_percent', \\\n",
    "             '200yr_40d_wet_30yr_smoothing_percent']\n",
    "\n",
    "fontsize = 12\n",
    "\n",
    "fig, ax = mp.subplots(1)\n",
    "fig.set_size_inches(8,3)\n",
    "\n",
    "colors = ['saddlebrown','peru','mediumseagreen','darkgreen']\n",
    "\n",
    "ax.axhline(0, c='0', ls='--')\n",
    "for i in range(len(plot_list)):\n",
    "    key_string = list(events_dict.keys())[i]\n",
    "    ax.plot(numpy.arange(1920,2100), events_dict[plot_list[i]], label=plot_list[i], c=colors[i], lw=2)\n",
    "\n",
    "ax.set_ylim(-90, 520)\n",
    "ax.tick_params(labelsize=fontsize)\n",
    "\n",
    "handles, labels = ax.get_legend_handles_labels()\n",
    "handles = handles[::-1]; labels=labels[::-1] # to reverse\n",
    "legend = ax.legend(handles, labels, fontsize=fontsize, ncol=1, \\\n",
    "                   bbox_to_anchor=(0.01,0.96), edgecolor='None', \\\n",
    "                   facecolor='None', fancybox=False, \\\n",
    "                   bbox_transform=ax.transAxes, loc='upper left', \\\n",
    "                   borderaxespad=0, borderpad=0.25, handlelength=1.0, \\\n",
    "                   handletextpad=0.5, columnspacing=0.5, markerscale=1)\n",
    "\n",
    "ax.set_xlabel('year', fontsize=fontsize)\n",
    "ax.set_ylabel('percent change\\nrelative to PIC', fontsize=fontsize)\n",
    "ax.grid()\n",
    "\n",
    "fig.tight_layout()\n",
    "\n",
    "fig.savefig('all_events_time_series.pdf', transparent=True, bbox_inches='tight')"
   ]
  },
  {
   "cell_type": "markdown",
   "metadata": {},
   "source": [
    "# Now save as a netcdf file"
   ]
  },
  {
   "cell_type": "code",
   "execution_count": null,
   "metadata": {
    "collapsed": true
   },
   "outputs": [],
   "source": [
    "year_list = numpy.arange(1921,2101)\n",
    "time_datetime = [datetime.datetime(i,1,15) for i in year_list]\n",
    "time_nc = netCDF4.date2num(time_datetime, units='days since 1920-01-01', calendar='standard')"
   ]
  },
  {
   "cell_type": "code",
   "execution_count": null,
   "metadata": {
    "collapsed": true
   },
   "outputs": [],
   "source": [
    "keys_list = list(events_dict.keys())\n",
    "units_list = ['percent','rcp_hist_counts','pic_counts']*4"
   ]
  },
  {
   "cell_type": "code",
   "execution_count": null,
   "metadata": {
    "collapsed": true
   },
   "outputs": [],
   "source": [
    "print(keys_list)"
   ]
  },
  {
   "cell_type": "code",
   "execution_count": null,
   "metadata": {
    "collapsed": true
   },
   "outputs": [],
   "source": [
    "# save hist clim\n",
    "filename = 'time_series_event_counts.nc'\n",
    "\n",
    "if os.path.exists(filename):\n",
    "    print('file exists')\n",
    "    os.remove(filename)\n",
    "\n",
    "ncfile = netCDF4.Dataset(filename, 'w', format='NETCDF4')\n",
    "\n",
    "time_dim = ncfile.createDimension('time', len(year_list))\n",
    "time_var = ncfile.createVariable('time', 'f4', ('time',))\n",
    "time_var[:] = time_nc\n",
    "time_var.units = 'days since 1920-01-01'\n",
    "\n",
    "for key in range(len(keys_list)):\n",
    "    variable = ncfile.createVariable(keys_list[key], 'f4', ('time'))\n",
    "    variable[:] = numpy.array(events_dict[keys_list[key]])\n",
    "    variable.units = units_list[key]\n",
    "\n",
    "ncfile.history = 'Created ' + time.ctime(time.time())\n",
    "ncfile.close()\n",
    "print(filename, \"saved\")"
   ]
  },
  {
   "cell_type": "code",
   "execution_count": null,
   "metadata": {
    "collapsed": true
   },
   "outputs": [],
   "source": []
  }
 ],
 "metadata": {
  "kernelspec": {
   "display_name": "Python 3",
   "language": "python",
   "name": "python3"
  },
  "language_info": {
   "codemirror_mode": {
    "name": "ipython",
    "version": 3
   },
   "file_extension": ".py",
   "mimetype": "text/x-python",
   "name": "python",
   "nbconvert_exporter": "python",
   "pygments_lexer": "ipython3",
   "version": "3.6.2"
  }
 },
 "nbformat": 4,
 "nbformat_minor": 2
}
