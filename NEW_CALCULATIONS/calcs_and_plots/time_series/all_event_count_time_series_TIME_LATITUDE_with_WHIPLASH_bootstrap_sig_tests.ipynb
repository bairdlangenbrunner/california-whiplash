{
 "cells": [
  {
   "cell_type": "code",
   "execution_count": 1,
   "metadata": {},
   "outputs": [],
   "source": [
    "import numpy\n",
    "import scipy\n",
    "import netCDF4\n",
    "import matplotlib.pyplot as mp\n",
    "import matplotlib.ticker\n",
    "import matplotlib.colors\n",
    "import scipy.stats\n",
    "import pandas\n",
    "import itertools\n",
    "from mpl_toolkits import basemap\n",
    "import mpl_toolkits.axes_grid1\n",
    "import random\n",
    "import datetime\n",
    "import os\n",
    "import time\n",
    "\n",
    "degree_sign = u'\\u00B0'\n",
    "mp.rcParams.update({'mathtext.default': 'regular'})\n",
    "mp.rcParams['hatch.color'] = '0.5'\n",
    "\n",
    "% matplotlib inline"
   ]
  },
  {
   "cell_type": "code",
   "execution_count": 2,
   "metadata": {},
   "outputs": [],
   "source": [
    "working_dir = '/Users/baird/Dropbox/_analysis/attribution_2017/NEW_CALCULATIONS/npy_files/'\n",
    "#save_dir = '/Users/baird/Dropbox/_analysis/attribution_2017/NEW_CALCULATIONS/calculations/npy_files/'\n",
    "#latlon_indices = numpy.load(working_dir + 'ccal_latlon_indices_array.npy'); region='ccal'\n",
    "#latlon_indices = numpy.load(working_dir + 'ncal_latlon_indices_array.npy'); region='ncal'\n",
    "#latlon_indices = numpy.load(working_dir + 'scal_latlon_indices_array.npy'); region='scal'\n",
    "\n",
    "PRECT_lat = numpy.load('/Users/baird/Dropbox/_analysis/attribution_2017/NEW_CALCULATIONS/npy_files/PRECT_lat.npy')\n",
    "PRECT_lon = numpy.load('/Users/baird/Dropbox/_analysis/attribution_2017/NEW_CALCULATIONS/npy_files/PRECT_lon.npy')\n",
    "\n",
    "PRECT_nlat = 26\n",
    "PRECT_nlon = 25\n",
    "\n",
    "latlon_indices = list(itertools.product(range(PRECT_nlat), range(PRECT_nlon)))\n",
    "region = 'whole_domain'"
   ]
  },
  {
   "cell_type": "code",
   "execution_count": 3,
   "metadata": {},
   "outputs": [],
   "source": [
    "LA_lat = 34.0522\n",
    "LA_lon = 118.2437 # deg west\n",
    "LA_lon = 180. + (180-LA_lon)\n",
    "\n",
    "Oroville_dam_lat = 39.5380\n",
    "Oroville_dam_lon = 121.4831 # deg west\n",
    "Oroville_dam_lon = 360 - Oroville_dam_lon\n",
    "\n",
    "SF_lat = 37.7749\n",
    "SF_lon = 122.4194\n",
    "SF_lon = 360 - SF_lon"
   ]
  },
  {
   "cell_type": "markdown",
   "metadata": {},
   "source": [
    "# Open coastal lat/lon indices"
   ]
  },
  {
   "cell_type": "code",
   "execution_count": 4,
   "metadata": {},
   "outputs": [],
   "source": [
    "cali_coast_latlon_indices = numpy.load('/Users/baird/Dropbox/_analysis/attribution_2017/NEW_CALCULATIONS/npy_files/coastal_latlon_array_indices_3x.npy')\n",
    "cali_coast_latlon_indices_zip = [i for i in zip(cali_coast_latlon_indices[:,0], cali_coast_latlon_indices[:,1])]\n",
    "\n",
    "cali_coast_latlon_indices_3d = cali_coast_latlon_indices.reshape((11,3,2))\n",
    "#print(cali_coast_latlon_indices_3d[0,:,:])"
   ]
  },
  {
   "cell_type": "code",
   "execution_count": 5,
   "metadata": {},
   "outputs": [],
   "source": [
    "def geo_idx(dd, dd_array):\n",
    "   \"\"\"\n",
    "     search for nearest decimal degree in an array of decimal degrees and return the index.\n",
    "     np.argmin returns the indices of minium value along an axis.\n",
    "     so subtract dd from all values in dd_array, take absolute value and find index of minium.\n",
    "    \"\"\"\n",
    "   geo_idx = (numpy.abs(dd_array - dd)).argmin()\n",
    "   return geo_idx"
   ]
  },
  {
   "cell_type": "code",
   "execution_count": 6,
   "metadata": {},
   "outputs": [],
   "source": [
    "LA_lat_idx = geo_idx(LA_lat, PRECT_lat)\n",
    "LA_lon_idx = geo_idx(LA_lon, PRECT_lon)\n",
    "\n",
    "SF_lat_idx = geo_idx(SF_lat, PRECT_lat)\n",
    "SF_lon_idx = geo_idx(SF_lon, PRECT_lon)\n",
    "\n",
    "OD_lat_idx = geo_idx(Oroville_dam_lat, PRECT_lat)\n",
    "OD_lon_idx = geo_idx(Oroville_dam_lon, PRECT_lon)\n",
    "\n",
    "#REGION_lat_idx, REGION_lon_idx = SF_lat_idx, SF_lon_idx; REGION_NAME = 'SF'\n",
    "REGION_lat_idx, REGION_lon_idx = LA_lat_idx, LA_lon_idx; REGION_NAME = 'LA'\n",
    "#REGION_lat_idx, REGION_lon_idx = OD_lat_idx, OD_lon_idx; REGION_NAME = 'OD'"
   ]
  },
  {
   "cell_type": "code",
   "execution_count": 7,
   "metadata": {},
   "outputs": [],
   "source": [
    "window=30"
   ]
  },
  {
   "cell_type": "markdown",
   "metadata": {},
   "source": [
    "# open data sets"
   ]
  },
  {
   "cell_type": "code",
   "execution_count": 8,
   "metadata": {},
   "outputs": [],
   "source": [
    "year_start_pic = 402 #time_subsets[chunk,0]\n",
    "year_end_pic = 2200 #time_subsets[chunk,1]\n",
    "\n",
    "# create season strings\n",
    "years_pic = numpy.arange(year_start_pic, year_end_pic+1, 1).astype(numpy.int)\n",
    "half_years_pic = numpy.arange(year_start_pic+0.75, year_end_pic, 1)\n",
    "#season_strings_pic = numpy.empty(years.size-1, dtype=numpy.str)\n",
    "\n",
    "season_strings_pic = [str(years_pic[i])+'-'+str(years_pic[i+1]) for i in range(years_pic.size-1)]\n",
    "member_strings_pic = ['{:03d}'.format(i) for i in range(1,36)]\n",
    "\n",
    "n_seasons_pic=year_end_pic-year_start_pic"
   ]
  },
  {
   "cell_type": "code",
   "execution_count": 9,
   "metadata": {},
   "outputs": [],
   "source": [
    "ensemble_members = numpy.hstack((numpy.arange(1,36), numpy.arange(101,106)))\n",
    "ensemble_names = ['{:03d}'.format(i) for i in ensemble_members]\n",
    "\n",
    "year_start = 1920\n",
    "year_end = 2100\n",
    "\n",
    "year_start_list = numpy.arange(1920,2070)\n",
    "year_end_list = numpy.arange(1950,2100)\n",
    "year_middle_list = year_start_list+15\n",
    "\n",
    "# create season strings\n",
    "years = numpy.arange(year_start, year_end+1, 1).astype(numpy.int)\n",
    "half_years_hist_rcp = numpy.arange(year_start+0.75, year_end, 1)\n",
    "season_strings_hist_rcp = [str(i)+'-'+str(i+1) for i in range(year_start,year_end)]\n",
    "\n",
    "thirty_yr_strings_hist_rcp = [str(year_start_list[i])+'-'+str(year_end_list[i]) for i in range(year_start_list.size)]\n",
    "member_strings_hist_rcp = ['{:03d}'.format(i) for i in range(1,36)]\n",
    "\n",
    "n_seasons_hist_rcp=year_end-year_start"
   ]
  },
  {
   "cell_type": "markdown",
   "metadata": {},
   "source": [
    "# Create dictionary to store everything"
   ]
  },
  {
   "cell_type": "code",
   "execution_count": 10,
   "metadata": {},
   "outputs": [],
   "source": [
    "events_dict = {}"
   ]
  },
  {
   "cell_type": "markdown",
   "metadata": {},
   "source": [
    "# 100yr 3season mean dry"
   ]
  },
  {
   "cell_type": "code",
   "execution_count": 11,
   "metadata": {},
   "outputs": [
    {
     "name": "stdout",
     "output_type": "stream",
     "text": [
      "1.0\n"
     ]
    },
    {
     "name": "stderr",
     "output_type": "stream",
     "text": [
      "/Users/baird/anaconda/lib/python3.6/site-packages/numpy/lib/function_base.py:4016: RuntimeWarning: All-NaN slice encountered\n",
      "  r = func(a, **kwargs)\n"
     ]
    }
   ],
   "source": [
    "cali_coast_latlon_indices = numpy.load('/Users/baird/Dropbox/_analysis/attribution_2017/NEW_CALCULATIONS/npy_files/coastal_latlon_array_indices_3x.npy')\n",
    "cali_coast_latlon_indices_zip = [i for i in zip(cali_coast_latlon_indices[:,0], cali_coast_latlon_indices[:,1])]\n",
    "\n",
    "cali_coast_latlon_indices_3d = cali_coast_latlon_indices.reshape((11,3,2))\n",
    "#print(cali_coast_latlon_indices_3d[0,:,:])\n",
    "\n",
    "return_interval = 100\n",
    "events_per_year = 1\n",
    "\n",
    "return_val_perc = 100*(1/(return_interval*events_per_year))\n",
    "print(return_val_perc)\n",
    "\n",
    "\n",
    "\n",
    "\n",
    "\n",
    "all_events_pic = numpy.load('../100yr_dry_3season_mean/csv_files/all_events_pic.npy')\n",
    "return_period_values_pic_df = pandas.read_csv('../100yr_dry_3season_mean/csv_files/return_period_values_pic_df.csv')\n",
    "return_period_values_pic = return_period_values_pic_df.values[:,1:]\n",
    "all_events_hist_rcp_3d = numpy.load('../100yr_dry_3season_mean/csv_files/all_events_hist_rcp_3d.npy')\n",
    "\n",
    "all_events_hist_rcp_3d_reshape = all_events_hist_rcp_3d.reshape((PRECT_nlat, PRECT_nlon, 40, 180))\n",
    "all_events_hist_rcp_3d_count = numpy.zeros((all_events_hist_rcp_3d.shape))\n",
    "\n",
    "#nlat_unique = numpy.unique(cali_coast_latlon_indices[:,0]).size\n",
    "return_period_values_hist_rcp = numpy.zeros((len(latlon_indices), n_seasons_hist_rcp, 3))\n",
    "#print(latitude_time_values.shape)\n",
    "\n",
    "for yr_idx in range(n_seasons_hist_rcp):\n",
    "    season_strings_hist_rcp = [str(i)+'-'+str(i+1) for i in range(1920,2100)]\n",
    "    \n",
    "    for latlon_idx in range(len(latlon_indices)):\n",
    "        seasonal_events = all_events_hist_rcp_3d[latlon_idx,:,yr_idx].reshape((-1))  \n",
    "        return_period_values_hist_rcp[latlon_idx,yr_idx,0] = numpy.nanpercentile(seasonal_events, return_val_perc)\n",
    "        return_period_values_hist_rcp[latlon_idx,yr_idx,1] = numpy.nansum(seasonal_events<return_period_values_hist_rcp[latlon_idx,yr_idx,0])\n",
    "        return_period_values_hist_rcp[latlon_idx,yr_idx,2] = numpy.nansum(seasonal_events<return_period_values_pic[latlon_idx,0])\n",
    "        \n",
    "        for ens_member in range(40):\n",
    "            all_events_hist_rcp_3d_count[latlon_idx,ens_member,yr_idx] = numpy.nansum(all_events_hist_rcp_3d[latlon_idx,ens_member,yr_idx]<return_period_values_pic[latlon_idx,0])\n",
    "\n",
    "all_events_hist_rcp_3d_reshape = all_events_hist_rcp_3d_count.reshape((PRECT_nlat, PRECT_nlon, 40, 180))\n"
   ]
  },
  {
   "cell_type": "code",
   "execution_count": 12,
   "metadata": {},
   "outputs": [],
   "source": [
    "# calculate ratio of frequencies of exceedance\n",
    "pic_counts = return_period_values_pic[:,1]\n",
    "hist_rcp_counts = return_period_values_hist_rcp[:,:,2]\n",
    "\n",
    "pic_counts_reshape = pic_counts.reshape((PRECT_nlat, PRECT_nlon))\n",
    "hist_rcp_counts_reshape = hist_rcp_counts.reshape((PRECT_nlat, PRECT_nlon,-1))\n",
    "pic_counts_ALL_LATLON = pic_counts_reshape[:,:]\n",
    "hist_rcp_counts_ALL_LATLON = hist_rcp_counts_reshape[:,:,:]\n",
    "hist_rcp_counts_ALL_LATLON_smooth = numpy.zeros((hist_rcp_counts_ALL_LATLON.shape))\n",
    "\n",
    "for i in range(PRECT_nlat):\n",
    "    for j in range(PRECT_nlon):\n",
    "        hist_rcp_counts_ALL_LATLON_smooth[i,j] = pandas.Series(hist_rcp_counts_ALL_LATLON[i,j,:]).rolling(window=window, center=True).mean()\n",
    "\n",
    "pic_counts_ALL_LATLON_equivalent = pic_counts_ALL_LATLON/(1798/40)\n",
    "hist_rcp_counts_ALL_LATLON_smooth_norm = numpy.zeros((hist_rcp_counts_ALL_LATLON.shape))\n",
    "for i in range(PRECT_nlat):\n",
    "    for j in range(PRECT_nlon):\n",
    "        hist_rcp_counts_ALL_LATLON_smooth_norm[i,j,:] = (hist_rcp_counts_ALL_LATLON_smooth[i,j,:] - pic_counts_ALL_LATLON_equivalent[i,j])/pic_counts_ALL_LATLON_equivalent[i,j] * 100.\n",
    "\n",
    "# ratios only, not percent change\n",
    "hist_rcp_counts_ALL_LATLON_smooth_ratios = numpy.zeros((hist_rcp_counts_ALL_LATLON.shape))\n",
    "for i in range(PRECT_nlat):\n",
    "    for j in range(PRECT_nlon):\n",
    "        hist_rcp_counts_ALL_LATLON_smooth_ratios[i,j,:] = hist_rcp_counts_ALL_LATLON_smooth[i,j,:]/pic_counts_ALL_LATLON_equivalent[i,j]"
   ]
  },
  {
   "cell_type": "markdown",
   "metadata": {},
   "source": [
    "# bootstrapping"
   ]
  },
  {
   "cell_type": "code",
   "execution_count": 13,
   "metadata": {},
   "outputs": [],
   "source": [
    "# bootstrap:  create a bunch of fake PIC time series to generate error bars for internal variability\n",
    "N_boot = 10000\n",
    "boot_window = 100\n",
    "t_series_indices = numpy.random.randint(low=0, high=1797, size=(N_boot,boot_window))\n",
    "pic_bootstrap_data = numpy.zeros((N_boot,650,boot_window))\n"
   ]
  },
  {
   "cell_type": "code",
   "execution_count": 14,
   "metadata": {},
   "outputs": [
    {
     "name": "stderr",
     "output_type": "stream",
     "text": [
      "/Users/baird/anaconda/lib/python3.6/site-packages/ipykernel_launcher.py:11: RuntimeWarning: invalid value encountered in less\n",
      "  # This is added back by InteractiveShellApp.init_path()\n"
     ]
    }
   ],
   "source": [
    "pic_counts_ALL_LATLON_peryear = pic_counts_ALL_LATLON/1798\n",
    "\n",
    "for boot in range(N_boot):\n",
    "    pic_bootstrap_data[boot,:,:] = all_events_pic[:,t_series_indices[boot,:]]\n",
    "\n",
    "return_period_values_bootstrap = numpy.zeros((N_boot, len(latlon_indices)))\n",
    "\n",
    "for boot in range(N_boot):\n",
    "    for latlon_idx in range(len(latlon_indices)):\n",
    "        seasonal_events = pic_bootstrap_data[boot,latlon_idx,:]       \n",
    "        return_period_values_bootstrap[boot,latlon_idx] = numpy.nansum(seasonal_events<return_period_values_pic[latlon_idx,0])/boot_window\n",
    "\n",
    "return_period_values_bootstrap_reshape = numpy.reshape(return_period_values_bootstrap, (-1,PRECT_nlat,PRECT_nlon))\n",
    "return_period_values_bootstrap_ratios = return_period_values_bootstrap_reshape/pic_counts_ALL_LATLON_peryear\n",
    "\n",
    "perc_hi = 90\n",
    "perc_lo = 10\n",
    "\n",
    "bootstrap_hi_value_2d = numpy.nanpercentile(return_period_values_bootstrap_ratios, q=perc_hi, axis=0)\n",
    "bootstrap_lo_value_2d = numpy.nanpercentile(return_period_values_bootstrap_ratios, q=perc_lo, axis=0)"
   ]
  },
  {
   "cell_type": "code",
   "execution_count": 15,
   "metadata": {},
   "outputs": [
    {
     "name": "stdout",
     "output_type": "stream",
     "text": [
      "(26, 25, 180)\n",
      "(10000, 26, 25)\n"
     ]
    }
   ],
   "source": [
    "print(hist_rcp_counts_ALL_LATLON_smooth_ratios.shape)\n",
    "print(return_period_values_bootstrap_ratios.shape)"
   ]
  },
  {
   "cell_type": "code",
   "execution_count": 16,
   "metadata": {},
   "outputs": [
    {
     "name": "stdout",
     "output_type": "stream",
     "text": [
      "(10000, 26, 25)\n"
     ]
    }
   ],
   "source": [
    "print(return_period_values_bootstrap_ratios.shape)\n",
    "pvals_bootstrap = numpy.zeros((PRECT_nlat,PRECT_nlon))\n",
    "\n",
    "ratios_to_test = hist_rcp_counts_ALL_LATLON_smooth_ratios[:,:,-15]\n",
    "for i in range(PRECT_nlat):\n",
    "    for j in range(PRECT_nlon):\n",
    "        pvals_bootstrap[i,j] = scipy.stats.percentileofscore(return_period_values_bootstrap_ratios[:,i,j], ratios_to_test[i,j])\n",
    "pvals_bootstrap /= 100.\n",
    "pvals_bootstrap = 1-pvals_bootstrap"
   ]
  },
  {
   "cell_type": "code",
   "execution_count": 17,
   "metadata": {},
   "outputs": [],
   "source": [
    "events_dict['100yr_3season_dry_all_events_40_separate_ens'] = all_events_hist_rcp_3d_reshape\n",
    "events_dict['100yr_3season_dry_all_events_40_summed_30yr_avg_percent'] = hist_rcp_counts_ALL_LATLON_smooth_norm\n",
    "events_dict['100yr_3season_dry_all_events_40_summed'] = hist_rcp_counts_ALL_LATLON\n",
    "events_dict['100yr_3season_pic_count'] = pic_counts_ALL_LATLON\n",
    "events_dict['100yr_3season_dry_2d_frequency_ratios_30yr_avg'] = hist_rcp_counts_ALL_LATLON_smooth_ratios[:,:,-15]\n",
    "events_dict['100yr_3season_dry_bootstrap_hi_values'] = bootstrap_hi_value_2d\n",
    "events_dict['100yr_3season_dry_bootstrap_lo_values'] = bootstrap_lo_value_2d\n",
    "events_dict['100yr_3season_dry_pvals'] = pvals_bootstrap"
   ]
  },
  {
   "cell_type": "markdown",
   "metadata": {},
   "source": [
    "# Now calculate time-latitude statistics"
   ]
  },
  {
   "cell_type": "code",
   "execution_count": 18,
   "metadata": {},
   "outputs": [
    {
     "name": "stderr",
     "output_type": "stream",
     "text": [
      "/Users/baird/anaconda/lib/python3.6/site-packages/ipykernel_launcher.py:7: RuntimeWarning: Mean of empty slice\n",
      "  import sys\n",
      "/Users/baird/anaconda/lib/python3.6/site-packages/numpy/core/fromnumeric.py:2909: RuntimeWarning: Mean of empty slice.\n",
      "  out=out, **kwargs)\n",
      "/Users/baird/anaconda/lib/python3.6/site-packages/numpy/core/_methods.py:80: RuntimeWarning: invalid value encountered in double_scalars\n",
      "  ret = ret.dtype.type(ret / rcount)\n"
     ]
    }
   ],
   "source": [
    "# pull out cali coast\n",
    "return_period_values_bootstrap_ratios_cali_coast = return_period_values_bootstrap_ratios[:,cali_coast_latlon_indices[:,0],cali_coast_latlon_indices[:,1]]\n",
    "hist_rcp_counts_ALL_LATLON_smooth_ratios_cali_coast = hist_rcp_counts_ALL_LATLON_smooth_ratios[cali_coast_latlon_indices[:,0],cali_coast_latlon_indices[:,1],:]\n",
    "\n",
    "# take means across 3 grid boxes\n",
    "return_period_values_bootstrap_ratios_cali_coast = numpy.nanmean(return_period_values_bootstrap_ratios_cali_coast.reshape((-1,11,3)), axis=2)\n",
    "hist_rcp_counts_ALL_LATLON_smooth_ratios_cali_coast = numpy.nanmean(hist_rcp_counts_ALL_LATLON_smooth_ratios_cali_coast.reshape((11,3,-1)), axis=1)\n",
    "\n",
    "# at each time-lat point, calculate the pval stuff\n",
    "pvals_bootstrap_timelat = numpy.zeros((hist_rcp_counts_ALL_LATLON_smooth_ratios_cali_coast.shape))*numpy.nan\n",
    "for i in range(pvals_bootstrap_timelat.shape[0]):\n",
    "    for t in range(pvals_bootstrap_timelat.shape[1]):\n",
    "        pvals_bootstrap_timelat[i,t] = scipy.stats.percentileofscore(return_period_values_bootstrap_ratios_cali_coast[:,i], hist_rcp_counts_ALL_LATLON_smooth_ratios_cali_coast[i,t])\n",
    "pvals_bootstrap_timelat /= 100.\n",
    "pvals_bootstrap_timelat = 1-pvals_bootstrap_timelat"
   ]
  },
  {
   "cell_type": "code",
   "execution_count": 19,
   "metadata": {},
   "outputs": [],
   "source": [
    "events_dict['100yr_3season_dry_timelat_ratios'] = hist_rcp_counts_ALL_LATLON_smooth_ratios_cali_coast\n",
    "events_dict['100yr_3season_dry_timelat_pvals'] = pvals_bootstrap_timelat"
   ]
  },
  {
   "cell_type": "markdown",
   "metadata": {},
   "source": [
    "# 100yr 1season mean dry"
   ]
  },
  {
   "cell_type": "code",
   "execution_count": 23,
   "metadata": {},
   "outputs": [
    {
     "name": "stdout",
     "output_type": "stream",
     "text": [
      "1.0\n"
     ]
    }
   ],
   "source": [
    "cali_coast_latlon_indices = numpy.load('/Users/baird/Dropbox/_analysis/attribution_2017/NEW_CALCULATIONS/npy_files/coastal_latlon_array_indices_3x.npy')\n",
    "cali_coast_latlon_indices_zip = [i for i in zip(cali_coast_latlon_indices[:,0], cali_coast_latlon_indices[:,1])]\n",
    "\n",
    "cali_coast_latlon_indices_3d = cali_coast_latlon_indices.reshape((11,3,2))\n",
    "#print(cali_coast_latlon_indices_3d[0,:,:])\n",
    "\n",
    "return_interval = 100\n",
    "events_per_year = 1\n",
    "\n",
    "return_val_perc = 100*(1/(return_interval*events_per_year))\n",
    "print(return_val_perc)\n",
    "\n",
    "\n",
    "\n",
    "\n",
    "\n",
    "all_events_pic = numpy.load('../100yr_dry_season/csv_files/all_events_pic.npy')\n",
    "return_period_values_pic_df = pandas.read_csv('../100yr_dry_season/csv_files/return_period_values_pic_df.csv')\n",
    "return_period_values_pic = return_period_values_pic_df.values[:,1:]\n",
    "all_events_hist_rcp_3d = numpy.load('../100yr_dry_season/csv_files/all_events_hist_rcp_3d.npy')\n",
    "\n",
    "all_events_hist_rcp_3d_count = numpy.zeros((all_events_hist_rcp_3d.shape))\n",
    "\n",
    "#nlat_unique = numpy.unique(cali_coast_latlon_indices[:,0]).size\n",
    "return_period_values_hist_rcp = numpy.zeros((len(latlon_indices), n_seasons_hist_rcp, 3))\n",
    "#print(latitude_time_values.shape)\n",
    "\n",
    "for yr_idx in range(n_seasons_hist_rcp):\n",
    "    season_strings_hist_rcp = [str(i)+'-'+str(i+1) for i in range(1920,2100)]\n",
    "    \n",
    "    for latlon_idx in range(len(latlon_indices)):\n",
    "        seasonal_events = all_events_hist_rcp_3d[latlon_idx,:,yr_idx].reshape((-1))        \n",
    "        return_period_values_hist_rcp[latlon_idx,yr_idx,0] = numpy.nanpercentile(seasonal_events, return_val_perc)\n",
    "        return_period_values_hist_rcp[latlon_idx,yr_idx,1] = numpy.nansum(seasonal_events<return_period_values_hist_rcp[latlon_idx,yr_idx,0])\n",
    "        return_period_values_hist_rcp[latlon_idx,yr_idx,2] = numpy.nansum(seasonal_events<return_period_values_pic[latlon_idx,0])\n",
    "\n",
    "        for ens_member in range(40):\n",
    "            all_events_hist_rcp_3d_count[latlon_idx,ens_member,yr_idx] = numpy.nansum(all_events_hist_rcp_3d[latlon_idx,ens_member,yr_idx]<return_period_values_pic[latlon_idx,0])\n",
    "\n",
    "all_events_hist_rcp_3d_reshape = all_events_hist_rcp_3d_count.reshape((PRECT_nlat, PRECT_nlon, 40, 180))"
   ]
  },
  {
   "cell_type": "code",
   "execution_count": 24,
   "metadata": {},
   "outputs": [],
   "source": [
    "# calculate ratio of frequencies of exceedance\n",
    "pic_counts = return_period_values_pic[:,1]\n",
    "hist_rcp_counts = return_period_values_hist_rcp[:,:,2]\n",
    "\n",
    "pic_counts_reshape = pic_counts.reshape((PRECT_nlat, PRECT_nlon))\n",
    "hist_rcp_counts_reshape = hist_rcp_counts.reshape((PRECT_nlat, PRECT_nlon,-1))\n",
    "pic_counts_ALL_LATLON = pic_counts_reshape[:,:]\n",
    "hist_rcp_counts_ALL_LATLON = hist_rcp_counts_reshape[:,:,:]\n",
    "hist_rcp_counts_ALL_LATLON_smooth = numpy.zeros((hist_rcp_counts_ALL_LATLON.shape))\n",
    "\n",
    "for i in range(PRECT_nlat):\n",
    "    for j in range(PRECT_nlon):\n",
    "        hist_rcp_counts_ALL_LATLON_smooth[i,j] = pandas.Series(hist_rcp_counts_ALL_LATLON[i,j,:]).rolling(window=window, center=True).mean()\n",
    "\n",
    "pic_counts_ALL_LATLON_equivalent = pic_counts_ALL_LATLON/(1798/40)\n",
    "hist_rcp_counts_ALL_LATLON_smooth_norm = numpy.zeros((hist_rcp_counts_ALL_LATLON.shape))\n",
    "for i in range(PRECT_nlat):\n",
    "    for j in range(PRECT_nlon):\n",
    "        hist_rcp_counts_ALL_LATLON_smooth_norm[i,j,:] = (hist_rcp_counts_ALL_LATLON_smooth[i,j,:] - pic_counts_ALL_LATLON_equivalent[i,j])/pic_counts_ALL_LATLON_equivalent[i,j] * 100.\n",
    "\n",
    "hist_rcp_counts_ALL_LATLON_smooth_ratios = numpy.zeros((hist_rcp_counts_ALL_LATLON.shape))\n",
    "for i in range(PRECT_nlat):\n",
    "    for j in range(PRECT_nlon):\n",
    "        hist_rcp_counts_ALL_LATLON_smooth_ratios[i,j,:] = hist_rcp_counts_ALL_LATLON_smooth[i,j,:]/pic_counts_ALL_LATLON_equivalent[i,j]"
   ]
  },
  {
   "cell_type": "markdown",
   "metadata": {},
   "source": [
    "# bootstrapping"
   ]
  },
  {
   "cell_type": "code",
   "execution_count": 25,
   "metadata": {},
   "outputs": [],
   "source": [
    "# bootstrap:  create a bunch of fake PIC time series to generate error bars for internal variability\n",
    "N_boot = 10000\n",
    "boot_window = 100\n",
    "t_series_indices = numpy.random.randint(low=0, high=1797, size=(N_boot,boot_window))\n",
    "pic_bootstrap_data = numpy.zeros((N_boot,650,boot_window))\n"
   ]
  },
  {
   "cell_type": "code",
   "execution_count": 26,
   "metadata": {},
   "outputs": [],
   "source": [
    "pic_counts_ALL_LATLON_peryear = pic_counts_ALL_LATLON/1798\n",
    "\n",
    "for boot in range(N_boot):\n",
    "    pic_bootstrap_data[boot,:,:] = all_events_pic[:,t_series_indices[boot,:]]\n",
    "\n",
    "#nlat_unique = numpy.unique(cali_coast_latlon_indices[:,0]).size\n",
    "return_period_values_bootstrap = numpy.zeros((N_boot, len(latlon_indices)))\n",
    "#print(latitude_time_values.shape)\n",
    "\n",
    "for boot in range(N_boot):\n",
    "    for latlon_idx in range(len(latlon_indices)):\n",
    "        seasonal_events = pic_bootstrap_data[boot,latlon_idx,:]       \n",
    "        return_period_values_bootstrap[boot,latlon_idx] = numpy.nansum(seasonal_events<return_period_values_pic[latlon_idx,0])/boot_window\n",
    "\n",
    "return_period_values_bootstrap_reshape = numpy.reshape(return_period_values_bootstrap, (-1,PRECT_nlat,PRECT_nlon))\n",
    "return_period_values_bootstrap_ratios = return_period_values_bootstrap_reshape/pic_counts_ALL_LATLON_peryear\n",
    "\n",
    "perc_hi = 90\n",
    "perc_lo = 10\n",
    "\n",
    "bootstrap_hi_value_2d = numpy.nanpercentile(return_period_values_bootstrap_ratios, q=perc_hi, axis=0)\n",
    "bootstrap_lo_value_2d = numpy.nanpercentile(return_period_values_bootstrap_ratios, q=perc_lo, axis=0)"
   ]
  },
  {
   "cell_type": "code",
   "execution_count": 27,
   "metadata": {},
   "outputs": [
    {
     "name": "stdout",
     "output_type": "stream",
     "text": [
      "(10000, 26, 25)\n"
     ]
    }
   ],
   "source": [
    "print(return_period_values_bootstrap_ratios.shape)\n",
    "pvals_bootstrap = numpy.zeros((PRECT_nlat,PRECT_nlon))\n",
    "\n",
    "ratios_to_test = hist_rcp_counts_ALL_LATLON_smooth_ratios[:,:,-15]\n",
    "for i in range(PRECT_nlat):\n",
    "    for j in range(PRECT_nlon):\n",
    "        pvals_bootstrap[i,j] = scipy.stats.percentileofscore(return_period_values_bootstrap_ratios[:,i,j], ratios_to_test[i,j])\n",
    "pvals_bootstrap /= 100.\n",
    "pvals_bootstrap = 1-pvals_bootstrap"
   ]
  },
  {
   "cell_type": "code",
   "execution_count": 28,
   "metadata": {},
   "outputs": [],
   "source": [
    "events_dict['100yr_1season_dry_all_events_40_separate_ens'] = all_events_hist_rcp_3d_reshape\n",
    "events_dict['100yr_1season_dry_all_events_40_summed_30yr_avg_percent'] = hist_rcp_counts_ALL_LATLON_smooth_norm\n",
    "events_dict['100yr_1season_dry_all_events_40_summed'] = hist_rcp_counts_ALL_LATLON\n",
    "events_dict['100yr_1season_pic_count'] = pic_counts_ALL_LATLON\n",
    "events_dict['100yr_1season_dry_2d_frequency_ratios_30yr_avg'] = hist_rcp_counts_ALL_LATLON_smooth_ratios[:,:,-15]\n",
    "events_dict['100yr_1season_dry_bootstrap_hi_values'] = bootstrap_hi_value_2d\n",
    "events_dict['100yr_1season_dry_bootstrap_lo_values'] = bootstrap_lo_value_2d\n",
    "events_dict['100yr_1season_dry_pvals'] = pvals_bootstrap"
   ]
  },
  {
   "cell_type": "markdown",
   "metadata": {},
   "source": [
    "# Now calculate time-latitude statistics"
   ]
  },
  {
   "cell_type": "code",
   "execution_count": 29,
   "metadata": {},
   "outputs": [
    {
     "name": "stderr",
     "output_type": "stream",
     "text": [
      "/Users/baird/anaconda/lib/python3.6/site-packages/ipykernel_launcher.py:7: RuntimeWarning: Mean of empty slice\n",
      "  import sys\n",
      "/Users/baird/anaconda/lib/python3.6/site-packages/numpy/core/fromnumeric.py:2909: RuntimeWarning: Mean of empty slice.\n",
      "  out=out, **kwargs)\n",
      "/Users/baird/anaconda/lib/python3.6/site-packages/numpy/core/_methods.py:80: RuntimeWarning: invalid value encountered in double_scalars\n",
      "  ret = ret.dtype.type(ret / rcount)\n"
     ]
    }
   ],
   "source": [
    "# pull out cali coast\n",
    "return_period_values_bootstrap_ratios_cali_coast = return_period_values_bootstrap_ratios[:,cali_coast_latlon_indices[:,0],cali_coast_latlon_indices[:,1]]\n",
    "hist_rcp_counts_ALL_LATLON_smooth_ratios_cali_coast = hist_rcp_counts_ALL_LATLON_smooth_ratios[cali_coast_latlon_indices[:,0],cali_coast_latlon_indices[:,1],:]\n",
    "\n",
    "# take means across 3 grid boxes\n",
    "return_period_values_bootstrap_ratios_cali_coast = numpy.nanmean(return_period_values_bootstrap_ratios_cali_coast.reshape((-1,11,3)), axis=2)\n",
    "hist_rcp_counts_ALL_LATLON_smooth_ratios_cali_coast = numpy.nanmean(hist_rcp_counts_ALL_LATLON_smooth_ratios_cali_coast.reshape((11,3,-1)), axis=1)\n",
    "\n",
    "# at each time-lat point, calculate the pval stuff\n",
    "pvals_bootstrap_timelat = numpy.zeros((hist_rcp_counts_ALL_LATLON_smooth_ratios_cali_coast.shape))*numpy.nan\n",
    "for i in range(pvals_bootstrap_timelat.shape[0]):\n",
    "    for t in range(pvals_bootstrap_timelat.shape[1]):\n",
    "        pvals_bootstrap_timelat[i,t] = scipy.stats.percentileofscore(return_period_values_bootstrap_ratios_cali_coast[:,i], hist_rcp_counts_ALL_LATLON_smooth_ratios_cali_coast[i,t])\n",
    "pvals_bootstrap_timelat /= 100.\n",
    "pvals_bootstrap_timelat = 1-pvals_bootstrap_timelat"
   ]
  },
  {
   "cell_type": "code",
   "execution_count": 30,
   "metadata": {},
   "outputs": [],
   "source": [
    "events_dict['100yr_1season_dry_timelat_ratios'] = hist_rcp_counts_ALL_LATLON_smooth_ratios_cali_coast\n",
    "events_dict['100yr_1season_dry_timelat_pvals'] = pvals_bootstrap_timelat"
   ]
  },
  {
   "cell_type": "raw",
   "metadata": {},
   "source": [
    "fig,axes=mp.subplots(2,1)\n",
    "\n",
    "fig.set_size_inches(10,6)\n",
    "\n",
    "cf0=axes[0].contourf(pvals_bootstrap_timelat, levels=numpy.arange(0,1.1,0.1))\n",
    "mp.colorbar(cf0)\n",
    "\n",
    "cf1=axes[1].contourf(hist_rcp_counts_ALL_LATLON_smooth_ratios_cali_coast)\n",
    "mp.colorbar(cf1)"
   ]
  },
  {
   "cell_type": "markdown",
   "metadata": {},
   "source": [
    "# 25yr wet events"
   ]
  },
  {
   "cell_type": "code",
   "execution_count": 32,
   "metadata": {},
   "outputs": [
    {
     "name": "stdout",
     "output_type": "stream",
     "text": [
      "96.0\n"
     ]
    }
   ],
   "source": [
    "cali_coast_latlon_indices = numpy.load('/Users/baird/Dropbox/_analysis/attribution_2017/NEW_CALCULATIONS/npy_files/coastal_latlon_array_indices_3x.npy')\n",
    "cali_coast_latlon_indices_zip = [i for i in zip(cali_coast_latlon_indices[:,0], cali_coast_latlon_indices[:,1])]\n",
    "\n",
    "cali_coast_latlon_indices_3d = cali_coast_latlon_indices.reshape((11,3,2))\n",
    "#print(cali_coast_latlon_indices_3d[0,:,:])\n",
    "\n",
    "return_interval = 25\n",
    "events_per_year = 1\n",
    "\n",
    "return_val_perc = 100*(1-1/(return_interval*events_per_year))\n",
    "print(return_val_perc)\n",
    "\n",
    "\n",
    "\n",
    "\n",
    "all_events_pic = numpy.load('../25yr_wet_season/csv_files/all_events_pic.npy')\n",
    "return_period_values_pic_df = pandas.read_csv('../25yr_wet_season/csv_files/return_period_values_pic_df.csv')\n",
    "return_period_values_pic = return_period_values_pic_df.values[:,1:]\n",
    "all_events_hist_rcp_3d = numpy.load('../25yr_wet_season/csv_files/all_events_hist_rcp_3d.npy')\n",
    "\n",
    "all_events_hist_rcp_3d_count = numpy.zeros((all_events_hist_rcp_3d.shape))\n",
    "\n",
    "#nlat_unique = numpy.unique(cali_coast_latlon_indices[:,0]).size\n",
    "return_period_values_hist_rcp = numpy.zeros((len(latlon_indices), n_seasons_hist_rcp, 3))\n",
    "#print(latitude_time_values.shape)\n",
    "\n",
    "for yr_idx in range(n_seasons_hist_rcp):\n",
    "    season_strings_hist_rcp = [str(i)+'-'+str(i+1) for i in range(1920,2100)]\n",
    "    \n",
    "    for latlon_idx in range(len(latlon_indices)):\n",
    "        seasonal_events = all_events_hist_rcp_3d[latlon_idx,:,yr_idx].reshape((-1))        \n",
    "        return_period_values_hist_rcp[latlon_idx,yr_idx,0] = numpy.nanpercentile(seasonal_events, return_val_perc)\n",
    "        return_period_values_hist_rcp[latlon_idx,yr_idx,1] = numpy.nansum(seasonal_events>return_period_values_hist_rcp[latlon_idx,yr_idx,0])\n",
    "        return_period_values_hist_rcp[latlon_idx,yr_idx,2] = numpy.nansum(seasonal_events>return_period_values_pic[latlon_idx,0])\n",
    "\n",
    "        for ens_member in range(40):\n",
    "            all_events_hist_rcp_3d_count[latlon_idx,ens_member,yr_idx] = numpy.nansum(all_events_hist_rcp_3d[latlon_idx,ens_member,yr_idx]>return_period_values_pic[latlon_idx,0])\n",
    "\n",
    "all_events_hist_rcp_3d_reshape = all_events_hist_rcp_3d_count.reshape((PRECT_nlat, PRECT_nlon, 40, 180))\n",
    "\n"
   ]
  },
  {
   "cell_type": "code",
   "execution_count": 33,
   "metadata": {},
   "outputs": [],
   "source": [
    "# calculate ratio of frequencies of exceedance\n",
    "pic_counts = return_period_values_pic[:,1]\n",
    "hist_rcp_counts = return_period_values_hist_rcp[:,:,2]\n",
    "\n",
    "pic_counts_reshape = pic_counts.reshape((PRECT_nlat, PRECT_nlon))\n",
    "hist_rcp_counts_reshape = hist_rcp_counts.reshape((PRECT_nlat, PRECT_nlon,-1))\n",
    "pic_counts_ALL_LATLON = pic_counts_reshape[:,:]\n",
    "hist_rcp_counts_ALL_LATLON = hist_rcp_counts_reshape[:,:,:]\n",
    "hist_rcp_counts_ALL_LATLON_smooth = numpy.zeros((hist_rcp_counts_ALL_LATLON.shape))\n",
    "\n",
    "for i in range(PRECT_nlat):\n",
    "    for j in range(PRECT_nlon):\n",
    "        hist_rcp_counts_ALL_LATLON_smooth[i,j] = pandas.Series(hist_rcp_counts_ALL_LATLON[i,j,:]).rolling(window=window, center=True).mean()\n",
    "\n",
    "pic_counts_ALL_LATLON_equivalent = pic_counts_ALL_LATLON/(1798/40)\n",
    "hist_rcp_counts_ALL_LATLON_smooth_norm = numpy.zeros((hist_rcp_counts_ALL_LATLON.shape))\n",
    "for i in range(PRECT_nlat):\n",
    "    for j in range(PRECT_nlon):\n",
    "        hist_rcp_counts_ALL_LATLON_smooth_norm[i,j,:] = (hist_rcp_counts_ALL_LATLON_smooth[i,j,:] - pic_counts_ALL_LATLON_equivalent[i,j])/pic_counts_ALL_LATLON_equivalent[i,j] * 100.\n",
    "\n",
    "hist_rcp_counts_ALL_LATLON_smooth_ratios = numpy.zeros((hist_rcp_counts_ALL_LATLON.shape))\n",
    "for i in range(PRECT_nlat):\n",
    "    for j in range(PRECT_nlon):\n",
    "        hist_rcp_counts_ALL_LATLON_smooth_ratios[i,j,:] = hist_rcp_counts_ALL_LATLON_smooth[i,j,:]/pic_counts_ALL_LATLON_equivalent[i,j]\n",
    "\n"
   ]
  },
  {
   "cell_type": "code",
   "execution_count": 34,
   "metadata": {},
   "outputs": [],
   "source": [
    "# bootstrap:  create a bunch of fake PIC time series to generate error bars for internal variability\n",
    "N_boot = 10000\n",
    "boot_window = 25\n",
    "t_series_indices = numpy.random.randint(low=0, high=1797, size=(N_boot,boot_window))\n",
    "#t_series_indices = numpy.random.randint(low=0, high=1797-boot_window, size=N_boot)\n",
    "pic_bootstrap_data = numpy.zeros((N_boot,650,boot_window))\n"
   ]
  },
  {
   "cell_type": "code",
   "execution_count": 35,
   "metadata": {},
   "outputs": [],
   "source": [
    "pic_counts_ALL_LATLON_peryear = pic_counts_ALL_LATLON/1798\n",
    "\n",
    "for boot in range(N_boot):\n",
    "    #pic_bootstrap_data[boot,:,:] = all_events_pic[:,t_series_indices[boot]:t_series_indices[boot]+boot_window]\n",
    "    pic_bootstrap_data[boot,:,:] = all_events_pic[:,t_series_indices[boot,:]]\n",
    "\n",
    "#nlat_unique = numpy.unique(cali_coast_latlon_indices[:,0]).size\n",
    "return_period_values_bootstrap = numpy.zeros((N_boot, len(latlon_indices)))\n",
    "#print(latitude_time_values.shape)\n",
    "\n",
    "for boot in range(N_boot):\n",
    "    for latlon_idx in range(len(latlon_indices)):\n",
    "        seasonal_events = pic_bootstrap_data[boot,latlon_idx,:]       \n",
    "        return_period_values_bootstrap[boot,latlon_idx] = numpy.nansum(seasonal_events>return_period_values_pic[latlon_idx,0])/boot_window\n",
    "\n",
    "return_period_values_bootstrap_reshape = numpy.reshape(return_period_values_bootstrap, (-1,PRECT_nlat,PRECT_nlon))\n",
    "return_period_values_bootstrap_ratios = return_period_values_bootstrap_reshape/pic_counts_ALL_LATLON_peryear\n",
    "\n",
    "perc_hi = 90\n",
    "perc_lo = 10\n",
    "\n",
    "bootstrap_hi_value_2d = numpy.nanpercentile(return_period_values_bootstrap_ratios, q=perc_hi, axis=0)\n",
    "bootstrap_lo_value_2d = numpy.nanpercentile(return_period_values_bootstrap_ratios, q=perc_lo, axis=0)"
   ]
  },
  {
   "cell_type": "code",
   "execution_count": 36,
   "metadata": {},
   "outputs": [
    {
     "name": "stdout",
     "output_type": "stream",
     "text": [
      "(10000, 26, 25)\n"
     ]
    }
   ],
   "source": [
    "\n",
    "\n",
    "print(return_period_values_bootstrap_ratios.shape)\n",
    "pvals_bootstrap = numpy.zeros((PRECT_nlat,PRECT_nlon))\n",
    "\n",
    "ratios_to_test = hist_rcp_counts_ALL_LATLON_smooth_ratios[:,:,-15]\n",
    "for i in range(PRECT_nlat):\n",
    "    for j in range(PRECT_nlon):\n",
    "        pvals_bootstrap[i,j] = scipy.stats.percentileofscore(return_period_values_bootstrap_ratios[:,i,j], ratios_to_test[i,j])\n",
    "pvals_bootstrap /= 100.\n",
    "pvals_bootstrap = 1-pvals_bootstrap"
   ]
  },
  {
   "cell_type": "code",
   "execution_count": 37,
   "metadata": {},
   "outputs": [],
   "source": [
    "events_dict['25yr_1season_wet_all_events_40_separate_ens'] = all_events_hist_rcp_3d_reshape\n",
    "events_dict['25yr_1season_wet_all_events_40_summed_30yr_avg_percent'] = hist_rcp_counts_ALL_LATLON_smooth_norm\n",
    "events_dict['25yr_1season_wet_all_events_40_summed'] = hist_rcp_counts_ALL_LATLON\n",
    "events_dict['25yr_1season_wet_pic_count'] = pic_counts_ALL_LATLON\n",
    "events_dict['25yr_1season_wet_2d_frequency_ratios_30yr_avg'] = hist_rcp_counts_ALL_LATLON_smooth_ratios[:,:,-15]\n",
    "events_dict['25yr_1season_wet_bootstrap_hi_values'] = bootstrap_hi_value_2d\n",
    "events_dict['25yr_1season_wet_bootstrap_lo_values'] = bootstrap_lo_value_2d\n",
    "events_dict['25yr_1season_wet_pvals'] = pvals_bootstrap"
   ]
  },
  {
   "cell_type": "markdown",
   "metadata": {},
   "source": [
    "# Now calculate time-latitude statistics"
   ]
  },
  {
   "cell_type": "code",
   "execution_count": 38,
   "metadata": {},
   "outputs": [
    {
     "name": "stderr",
     "output_type": "stream",
     "text": [
      "/Users/baird/anaconda/lib/python3.6/site-packages/ipykernel_launcher.py:7: RuntimeWarning: Mean of empty slice\n",
      "  import sys\n",
      "/Users/baird/anaconda/lib/python3.6/site-packages/numpy/core/fromnumeric.py:2909: RuntimeWarning: Mean of empty slice.\n",
      "  out=out, **kwargs)\n",
      "/Users/baird/anaconda/lib/python3.6/site-packages/numpy/core/_methods.py:80: RuntimeWarning: invalid value encountered in double_scalars\n",
      "  ret = ret.dtype.type(ret / rcount)\n"
     ]
    }
   ],
   "source": [
    "# pull out cali coast\n",
    "return_period_values_bootstrap_ratios_cali_coast = return_period_values_bootstrap_ratios[:,cali_coast_latlon_indices[:,0],cali_coast_latlon_indices[:,1]]\n",
    "hist_rcp_counts_ALL_LATLON_smooth_ratios_cali_coast = hist_rcp_counts_ALL_LATLON_smooth_ratios[cali_coast_latlon_indices[:,0],cali_coast_latlon_indices[:,1],:]\n",
    "\n",
    "# take means across 3 grid boxes\n",
    "return_period_values_bootstrap_ratios_cali_coast = numpy.nanmean(return_period_values_bootstrap_ratios_cali_coast.reshape((-1,11,3)), axis=2)\n",
    "hist_rcp_counts_ALL_LATLON_smooth_ratios_cali_coast = numpy.nanmean(hist_rcp_counts_ALL_LATLON_smooth_ratios_cali_coast.reshape((11,3,-1)), axis=1)\n",
    "\n",
    "# at each time-lat point, calculate the pval stuff\n",
    "pvals_bootstrap_timelat = numpy.zeros((hist_rcp_counts_ALL_LATLON_smooth_ratios_cali_coast.shape))*numpy.nan\n",
    "for i in range(pvals_bootstrap_timelat.shape[0]):\n",
    "    for t in range(pvals_bootstrap_timelat.shape[1]):\n",
    "        pvals_bootstrap_timelat[i,t] = scipy.stats.percentileofscore(return_period_values_bootstrap_ratios_cali_coast[:,i], hist_rcp_counts_ALL_LATLON_smooth_ratios_cali_coast[i,t])\n",
    "pvals_bootstrap_timelat /= 100.\n",
    "pvals_bootstrap_timelat = 1-pvals_bootstrap_timelat"
   ]
  },
  {
   "cell_type": "code",
   "execution_count": 39,
   "metadata": {},
   "outputs": [],
   "source": [
    "events_dict['25yr_1season_wet_timelat_ratios'] = hist_rcp_counts_ALL_LATLON_smooth_ratios_cali_coast\n",
    "events_dict['25yr_1season_wet_timelat_pvals'] = pvals_bootstrap_timelat"
   ]
  },
  {
   "cell_type": "markdown",
   "metadata": {},
   "source": [
    "# 200yr 40d wet events"
   ]
  },
  {
   "cell_type": "code",
   "execution_count": 41,
   "metadata": {},
   "outputs": [
    {
     "name": "stdout",
     "output_type": "stream",
     "text": [
      "99.86754966887416\n"
     ]
    }
   ],
   "source": [
    "return_interval = 200\n",
    "events_per_year = 151/40\n",
    "\n",
    "return_val_perc = 100*(1-1/(return_interval*events_per_year))\n",
    "print(return_val_perc)\n",
    "\n",
    "#print(1798*151/40-return_val_perc/100.*1798*151/40)"
   ]
  },
  {
   "cell_type": "raw",
   "metadata": {},
   "source": [
    "event_count = numpy.zeros((len(latlon_indices), 40, 180), dtype=numpy.int)\n",
    "dayskip = 40\n",
    "for latlon_idx in range(len(latlon_indices)):\n",
    "    if latlon_idx%10==0:\n",
    "        print(latlon_idx)\n",
    "    pic_val = return_period_values_pic[latlon_idx,0]\n",
    "    for ens_member in range(40):\n",
    "        for yr_idx in range(180):\n",
    "            daycount=0\n",
    "            while daycount<days_per_season:\n",
    "                if all_events_hist_rcp_4d[latlon_idx, ens_member, yr_idx, daycount] > pic_val:\n",
    "                    event_count[latlon_idx, ens_member, yr_idx] += 1\n",
    "                    daycount += 40\n",
    "                else:\n",
    "                    daycount += 1"
   ]
  },
  {
   "cell_type": "raw",
   "metadata": {},
   "source": [
    "print(return_period_values_pic)\n",
    "267/(1798*151/40)"
   ]
  },
  {
   "cell_type": "code",
   "execution_count": 42,
   "metadata": {},
   "outputs": [
    {
     "name": "stdout",
     "output_type": "stream",
     "text": [
      "(26, 25, 40, 180)\n"
     ]
    }
   ],
   "source": [
    "# calculate ratio of frequencies of exceedance\n",
    "pic_counts = 10 #return_period_values_pic[:,1]\n",
    "hist_rcp_counts = numpy.load('../200yr_40d_wet_events/csv_files/event_count.npy')#return_period_values_hist_rcp[:,:,2]\n",
    "\n",
    "return_period_values_pic = pandas.read_csv('../200yr_40d_wet_events/csv_files/return_period_values_pic_df_update.csv').values[:,1:]\n",
    "\n",
    "#pic_counts_reshape = pic_counts.reshape((PRECT_nlat, PRECT_nlon))\n",
    "hist_rcp_counts_ALL_LATLON_reshape = hist_rcp_counts.reshape((PRECT_nlat, PRECT_nlon, 40, 180))\n",
    "\n",
    "all_events_hist_rcp_3d_reshape = numpy.copy(hist_rcp_counts_ALL_LATLON_reshape)\n",
    "print(all_events_hist_rcp_3d_reshape.shape)\n",
    "\n",
    "#hist_rcp_counts_ALL_LATLON_40members = hist_rcp_counts_2d[REGION_lat_idx,REGION_lon_idx,:,:]\n",
    "hist_rcp_counts_ALL_LATLON_summed_across_40 = numpy.sum(hist_rcp_counts_ALL_LATLON_reshape[:,:,:,:], axis=2)\n",
    "hist_rcp_counts_ALL_LATLON = numpy.copy(hist_rcp_counts_ALL_LATLON_summed_across_40)\n",
    "\n",
    "pic_counts_ALL_LATLON = pic_counts*numpy.ones((PRECT_nlat,PRECT_nlon))\n",
    "#hist_rcp_counts_ALL_LATLON = hist_rcp_counts_reshape[:,:,:]\n",
    "hist_rcp_counts_ALL_LATLON_smooth = numpy.zeros((hist_rcp_counts_ALL_LATLON.shape))\n",
    "\n",
    "for i in range(PRECT_nlat):\n",
    "    for j in range(PRECT_nlon):\n",
    "        hist_rcp_counts_ALL_LATLON_smooth[i,j] = pandas.Series(hist_rcp_counts_ALL_LATLON[i,j,:]).rolling(window=window, center=True).mean()\n",
    "\n",
    "pic_counts_ALL_LATLON_equivalent = pic_counts_ALL_LATLON/(1798/40)\n",
    "hist_rcp_counts_ALL_LATLON_smooth_norm = numpy.zeros((hist_rcp_counts_ALL_LATLON.shape))\n",
    "for i in range(PRECT_nlat):\n",
    "    for j in range(PRECT_nlon):\n",
    "        hist_rcp_counts_ALL_LATLON_smooth_norm[i,j,:] = (hist_rcp_counts_ALL_LATLON_smooth[i,j,:] - pic_counts_ALL_LATLON_equivalent[i,j])/pic_counts_ALL_LATLON_equivalent[i,j] * 100.\n",
    "\n",
    "hist_rcp_counts_ALL_LATLON_smooth_ratios = numpy.zeros((hist_rcp_counts_ALL_LATLON.shape))\n",
    "for i in range(PRECT_nlat):\n",
    "    for j in range(PRECT_nlon):\n",
    "        hist_rcp_counts_ALL_LATLON_smooth_ratios[i,j,:] = hist_rcp_counts_ALL_LATLON_smooth[i,j,:]/pic_counts_ALL_LATLON_equivalent[i,j]"
   ]
  },
  {
   "cell_type": "raw",
   "metadata": {},
   "source": [
    "hist_rcp_counts = numpy.load('../200yr_40d_wet_events/csv_files/event_count.npy')\n",
    "hist_rcp_counts_2d = hist_rcp_counts.reshape((PRECT_nlat,PRECT_nlon,40,180))\n",
    "hist_rcp_counts_REGION_40members = hist_rcp_counts_[REGION_lat_idx,REGION_lon_idx,:,:]\n",
    "hist_rcp_counts_REGION = numpy.sum(hist_rcp_counts_2d[REGION_lat_idx,REGION_lon_idx,:,:], axis=0)\n",
    "hist_rcp_counts_REGION_smooth = pandas.Series(hist_rcp_counts_REGION).rolling(window=window, center=True).mean()\n",
    "\n",
    "pic_counts_REGION = 10\n",
    "pic_counts_REGION_equivalent = pic_counts_REGION/(1798/40)\n",
    "hist_rcp_counts_REGION_smooth_norm = (hist_rcp_counts_REGION_smooth - pic_counts_REGION_equivalent)/pic_counts_REGION_equivalent * 100."
   ]
  },
  {
   "cell_type": "markdown",
   "metadata": {},
   "source": [
    "# bootstrap"
   ]
  },
  {
   "cell_type": "code",
   "execution_count": 43,
   "metadata": {},
   "outputs": [],
   "source": [
    "# bootstrap:  create a bunch of fake PIC time series to generate error bars for internal variability\n",
    "N_boot = 100\n",
    "boot_window = 200\n",
    "t_series_indices = numpy.random.randint(low=0, high=1797, size=(N_boot,boot_window))\n",
    "#t_series_indices = numpy.random.randint(low=0, high=1797-boot_window, size=N_boot)\n",
    "\n",
    "# ========== add 151 as a dimension ==========\n",
    "pic_bootstrap_data = numpy.zeros((N_boot,650,boot_window,151))\n",
    "# ============================================"
   ]
  },
  {
   "cell_type": "code",
   "execution_count": 44,
   "metadata": {},
   "outputs": [],
   "source": [
    "all_events_pic = numpy.load('../200yr_40d_wet_events/csv_files/all_events_pic_3d.npy')"
   ]
  },
  {
   "cell_type": "code",
   "execution_count": 45,
   "metadata": {},
   "outputs": [
    {
     "name": "stdout",
     "output_type": "stream",
     "text": [
      "(100, 650, 200, 151)\n"
     ]
    },
    {
     "name": "stderr",
     "output_type": "stream",
     "text": [
      "/Users/baird/anaconda/lib/python3.6/site-packages/ipykernel_launcher.py:13: RuntimeWarning: invalid value encountered in greater\n",
      "  del sys.path[0]\n"
     ]
    }
   ],
   "source": [
    "pic_counts_ALL_LATLON_peryear = pic_counts_ALL_LATLON/1798\n",
    "\n",
    "for boot in range(N_boot):\n",
    "    #pic_bootstrap_data[boot,:,:] = all_events_pic[:,t_series_indices[boot]:t_series_indices[boot]+boot_window]\n",
    "    pic_bootstrap_data[boot,:,:,:] = all_events_pic[:,t_series_indices[boot,:],:]\n",
    "print(pic_bootstrap_data.shape)\n",
    "\n",
    "pic_bootstrap_counts = numpy.zeros((N_boot,len(latlon_indices),boot_window), dtype=numpy.int)\n",
    "for boot in range(N_boot):\n",
    "    for latlon_idx in range(len(latlon_indices)):\n",
    "        pic_val = return_period_values_pic[latlon_idx,0]\n",
    "        for year_idx in range(boot_window):\n",
    "            if numpy.nansum(pic_bootstrap_data[boot,latlon_idx,year_idx,:]>pic_val)>0:\n",
    "                daycount=0\n",
    "                while daycount<151:\n",
    "                    if pic_bootstrap_data[boot,latlon_idx,year_idx,daycount] > pic_val:\n",
    "                        pic_bootstrap_counts[boot,latlon_idx,year_idx] += 1\n",
    "                        daycount += 40\n",
    "                    else:\n",
    "                        daycount += 1"
   ]
  },
  {
   "cell_type": "code",
   "execution_count": 46,
   "metadata": {},
   "outputs": [],
   "source": [
    "return_period_values_bootstrap_peryear = numpy.mean(pic_bootstrap_counts, axis=2)\n",
    "return_period_values_bootstrap_ratios = return_period_values_bootstrap_peryear.reshape((N_boot,PRECT_nlat,PRECT_nlon))/pic_counts_ALL_LATLON_peryear\n",
    "\n",
    "perc_hi = 90\n",
    "perc_lo = 10\n",
    "\n",
    "bootstrap_hi_value_2d = numpy.nanpercentile(return_period_values_bootstrap_ratios, q=perc_hi, axis=0)\n",
    "bootstrap_lo_value_2d = numpy.nanpercentile(return_period_values_bootstrap_ratios, q=perc_lo, axis=0)"
   ]
  },
  {
   "cell_type": "code",
   "execution_count": 47,
   "metadata": {},
   "outputs": [
    {
     "name": "stdout",
     "output_type": "stream",
     "text": [
      "(100, 26, 25)\n"
     ]
    }
   ],
   "source": [
    "print(return_period_values_bootstrap_ratios.shape)\n",
    "pvals_bootstrap = numpy.zeros((PRECT_nlat,PRECT_nlon))\n",
    "\n",
    "ratios_to_test = hist_rcp_counts_ALL_LATLON_smooth_ratios[:,:,-15]\n",
    "for i in range(PRECT_nlat):\n",
    "    for j in range(PRECT_nlon):\n",
    "        pvals_bootstrap[i,j] = scipy.stats.percentileofscore(return_period_values_bootstrap_ratios[:,i,j], ratios_to_test[i,j])\n",
    "pvals_bootstrap /= 100.\n",
    "pvals_bootstrap = 1-pvals_bootstrap"
   ]
  },
  {
   "cell_type": "code",
   "execution_count": 48,
   "metadata": {},
   "outputs": [],
   "source": [
    "events_dict['200yr_40d_wet_all_events_40_separate_ens'] = all_events_hist_rcp_3d_reshape\n",
    "events_dict['200yr_40d_wet_all_events_40_summed_30yr_avg_percent'] = hist_rcp_counts_ALL_LATLON_smooth_norm\n",
    "events_dict['200yr_40d_wet_all_events_40_summed'] = hist_rcp_counts_ALL_LATLON\n",
    "events_dict['200yr_40d_wet_pic_count'] = pic_counts_ALL_LATLON\n",
    "events_dict['200yr_40d_wet_2d_frequency_ratios_30yr_avg'] = hist_rcp_counts_ALL_LATLON_smooth_ratios[:,:,-15]\n",
    "events_dict['200yr_40d_wet_bootstrap_hi_values'] = bootstrap_hi_value_2d\n",
    "events_dict['200yr_40d_wet_bootstrap_lo_values'] = bootstrap_lo_value_2d\n",
    "events_dict['200yr_40d_wet_pvals'] = pvals_bootstrap"
   ]
  },
  {
   "cell_type": "markdown",
   "metadata": {},
   "source": [
    "# Calculate time-latitude statistics"
   ]
  },
  {
   "cell_type": "code",
   "execution_count": 49,
   "metadata": {},
   "outputs": [
    {
     "name": "stderr",
     "output_type": "stream",
     "text": [
      "/Users/baird/anaconda/lib/python3.6/site-packages/ipykernel_launcher.py:7: RuntimeWarning: Mean of empty slice\n",
      "  import sys\n",
      "/Users/baird/anaconda/lib/python3.6/site-packages/numpy/core/fromnumeric.py:2909: RuntimeWarning: Mean of empty slice.\n",
      "  out=out, **kwargs)\n",
      "/Users/baird/anaconda/lib/python3.6/site-packages/numpy/core/_methods.py:80: RuntimeWarning: invalid value encountered in double_scalars\n",
      "  ret = ret.dtype.type(ret / rcount)\n"
     ]
    }
   ],
   "source": [
    "# pull out cali coast\n",
    "return_period_values_bootstrap_ratios_cali_coast = return_period_values_bootstrap_ratios[:,cali_coast_latlon_indices[:,0],cali_coast_latlon_indices[:,1]]\n",
    "hist_rcp_counts_ALL_LATLON_smooth_ratios_cali_coast = hist_rcp_counts_ALL_LATLON_smooth_ratios[cali_coast_latlon_indices[:,0],cali_coast_latlon_indices[:,1],:]\n",
    "\n",
    "# take means across 3 grid boxes\n",
    "return_period_values_bootstrap_ratios_cali_coast = numpy.nanmean(return_period_values_bootstrap_ratios_cali_coast.reshape((-1,11,3)), axis=2)\n",
    "hist_rcp_counts_ALL_LATLON_smooth_ratios_cali_coast = numpy.nanmean(hist_rcp_counts_ALL_LATLON_smooth_ratios_cali_coast.reshape((11,3,-1)), axis=1)\n",
    "\n",
    "# at each time-lat point, calculate the pval stuff\n",
    "pvals_bootstrap_timelat = numpy.zeros((hist_rcp_counts_ALL_LATLON_smooth_ratios_cali_coast.shape))*numpy.nan\n",
    "for i in range(pvals_bootstrap_timelat.shape[0]):\n",
    "    for t in range(pvals_bootstrap_timelat.shape[1]):\n",
    "        pvals_bootstrap_timelat[i,t] = scipy.stats.percentileofscore(return_period_values_bootstrap_ratios_cali_coast[:,i], hist_rcp_counts_ALL_LATLON_smooth_ratios_cali_coast[i,t])\n",
    "pvals_bootstrap_timelat /= 100.\n",
    "pvals_bootstrap_timelat = 1-pvals_bootstrap_timelat"
   ]
  },
  {
   "cell_type": "code",
   "execution_count": 50,
   "metadata": {},
   "outputs": [],
   "source": [
    "events_dict['200yr_40d_wet_timelat_ratios'] = hist_rcp_counts_ALL_LATLON_smooth_ratios_cali_coast\n",
    "events_dict['200yr_40d_wet_timelat_pvals'] = pvals_bootstrap_timelat"
   ]
  },
  {
   "cell_type": "markdown",
   "metadata": {
    "collapsed": true
   },
   "source": [
    "# do seasonal whiplash calculations"
   ]
  },
  {
   "cell_type": "code",
   "execution_count": 52,
   "metadata": {},
   "outputs": [],
   "source": [
    "filename = '/Users/baird/Dropbox/_analysis/attribution_2017/NEW_CALCULATIONS/calcs_and_plots/whiplash/calculations/seasonal_whiplash_PIC_low_to_high.nc'\n",
    "ncfile = netCDF4.Dataset(filename, 'r', 'NetCDF4')\n",
    "whiplash_events_pic = ncfile.variables['whiplash_events'][:]\n",
    "\n",
    "filename = '/Users/baird/Dropbox/_analysis/attribution_2017/NEW_CALCULATIONS/calcs_and_plots/whiplash/calculations/seasonal_whiplash_hist_rcp_low_to_high.nc'\n",
    "ncfile = netCDF4.Dataset(filename, 'r', 'NetCDF4')\n",
    "whiplash_events_hist_rcp = ncfile.variables['seasonal_total'][:]"
   ]
  },
  {
   "cell_type": "code",
   "execution_count": 53,
   "metadata": {},
   "outputs": [],
   "source": [
    "whiplash_count_pic = numpy.sum(whiplash_events_pic==1, axis=0)\n",
    "whiplash_count_pic_mean = numpy.array(whiplash_count_pic)/1798.\n",
    "\n",
    "# sum hist+rcp across ensemble members, then divide by 40\n",
    "whiplash_count_hist_rcp = numpy.sum(whiplash_events_hist_rcp==1, axis=1)\n",
    "whiplash_count_hist_rcp_mean = numpy.array(whiplash_count_hist_rcp)/40.\n",
    "\n",
    "whiplash_ratios_change = 100*numpy.array((whiplash_count_hist_rcp==1) - whiplash_count_pic_mean)/(whiplash_count_pic_mean)\n",
    "whiplash_ratios_mean = 100*whiplash_count_hist_rcp_mean/whiplash_count_pic_mean\n",
    "whiplash_ratios = whiplash_count_hist_rcp/whiplash_count_pic_mean\n",
    "#whiplash_ratios = numpy.array()"
   ]
  },
  {
   "cell_type": "code",
   "execution_count": 54,
   "metadata": {},
   "outputs": [],
   "source": [
    "hist_rcp_counts_ALL_LATLON_smooth = numpy.zeros((whiplash_count_hist_rcp.shape))\n",
    "for i in range(PRECT_nlat):\n",
    "    for j in range(PRECT_nlon):\n",
    "        hist_rcp_counts_ALL_LATLON_smooth[:,i,j] = pandas.Series(whiplash_count_hist_rcp[:,i,j]).rolling(window=window, center=True).mean()\n",
    "\n",
    "pic_counts_ALL_LATLON_equivalent = whiplash_count_pic/(1798/40)\n",
    "hist_rcp_counts_ALL_LATLON_smooth_norm = numpy.zeros((whiplash_count_hist_rcp.shape))\n",
    "for i in range(PRECT_nlat):\n",
    "    for j in range(PRECT_nlon):\n",
    "        hist_rcp_counts_ALL_LATLON_smooth_norm[:,i,j] = (hist_rcp_counts_ALL_LATLON_smooth[:,i,j] - pic_counts_ALL_LATLON_equivalent[i,j])/pic_counts_ALL_LATLON_equivalent[i,j] * 100.\n",
    "\n",
    "hist_rcp_counts_ALL_LATLON_smooth_ratios = numpy.zeros((whiplash_count_hist_rcp.shape))\n",
    "for i in range(PRECT_nlat):\n",
    "    for j in range(PRECT_nlon):\n",
    "        hist_rcp_counts_ALL_LATLON_smooth_ratios[:,i,j] = hist_rcp_counts_ALL_LATLON_smooth[:,i,j]/pic_counts_ALL_LATLON_equivalent[i,j]"
   ]
  },
  {
   "cell_type": "code",
   "execution_count": 55,
   "metadata": {},
   "outputs": [
    {
     "name": "stdout",
     "output_type": "stream",
     "text": [
      "(26, 25)\n"
     ]
    }
   ],
   "source": [
    "count_ratio_2d = hist_rcp_counts_ALL_LATLON_smooth_ratios[-15,:,:]\n",
    "print(count_ratio_2d.shape)"
   ]
  },
  {
   "cell_type": "markdown",
   "metadata": {},
   "source": [
    "# bootstrap for whiplash"
   ]
  },
  {
   "cell_type": "code",
   "execution_count": 56,
   "metadata": {},
   "outputs": [
    {
     "name": "stdout",
     "output_type": "stream",
     "text": [
      "(10000, 26, 25)\n"
     ]
    }
   ],
   "source": [
    "# bootstrap:  create a bunch of fake PIC time series to generate error bars for internal variability\n",
    "N_boot = 10000\n",
    "boot_window = 100\n",
    "t_series_indices = numpy.random.randint(low=0, high=1797, size=(N_boot,boot_window))\n",
    "#t_series_indices = numpy.random.randint(low=0, high=1797-boot_window, size=N_boot)\n",
    "pic_bootstrap_data = numpy.zeros((N_boot,boot_window,PRECT_nlat,PRECT_nlon))\n",
    "\n",
    "pic_counts_ALL_LATLON_peryear = whiplash_count_pic/1798\n",
    "\n",
    "for boot in range(N_boot):\n",
    "    #pic_bootstrap_data[boot,:,:,:] = whiplash_events_pic[t_series_indices[boot]:t_series_indices[boot]+boot_window,:,:]\n",
    "    pic_bootstrap_data[boot,:,:,:] = whiplash_events_pic[t_series_indices[boot,:],:,:]\n",
    "\n",
    "#nlat_unique = numpy.unique(cali_coast_latlon_indices[:,0]).size\n",
    "whiplash_events_bootstrap = numpy.zeros((N_boot, PRECT_nlat, PRECT_nlon))\n",
    "#print(latitude_time_values.shape)\n",
    "\n",
    "for boot in range(N_boot):\n",
    "    for i in range(PRECT_nlat):\n",
    "        for j in range(PRECT_nlon):\n",
    "            seasonal_events = pic_bootstrap_data[boot,:,i,j] \n",
    "            #print(seasonal_events.shape, whiplash_events_bootstrap.shape)\n",
    "            whiplash_events_bootstrap[boot,i,j] = numpy.sum(seasonal_events==1)/boot_window\n",
    "\n",
    "return_period_values_bootstrap_reshape = numpy.reshape(whiplash_events_bootstrap, (-1,PRECT_nlat,PRECT_nlon))\n",
    "return_period_values_bootstrap_ratios = return_period_values_bootstrap_reshape/pic_counts_ALL_LATLON_peryear\n",
    "\n",
    "perc_hi = 90\n",
    "perc_lo = 10\n",
    "\n",
    "bootstrap_hi_value_2d = numpy.nanpercentile(return_period_values_bootstrap_ratios, q=perc_hi, axis=0)\n",
    "bootstrap_lo_value_2d = numpy.nanpercentile(return_period_values_bootstrap_ratios, q=perc_lo, axis=0)\n",
    "\n",
    "print(return_period_values_bootstrap_ratios.shape)\n",
    "pvals_bootstrap = numpy.zeros((PRECT_nlat,PRECT_nlon))\n",
    "\n",
    "ratios_to_test = hist_rcp_counts_ALL_LATLON_smooth_ratios[-15,:,:]\n",
    "for i in range(PRECT_nlat):\n",
    "    for j in range(PRECT_nlon):\n",
    "        pvals_bootstrap[i,j] = scipy.stats.percentileofscore(return_period_values_bootstrap_ratios[:,i,j], ratios_to_test[i,j])\n",
    "pvals_bootstrap /= 100.\n",
    "pvals_bootstrap = 1-pvals_bootstrap"
   ]
  },
  {
   "cell_type": "code",
   "execution_count": 57,
   "metadata": {},
   "outputs": [],
   "source": [
    "hist_rcp_counts_ALL_LATLON_smooth_ratios = hist_rcp_counts_ALL_LATLON_smooth_ratios.transpose(1,2,0)\n",
    "events_dict['whiplash_pic_count'] = whiplash_count_pic\n",
    "events_dict['whiplash_2d_frequency_ratios_30yr_avg'] = hist_rcp_counts_ALL_LATLON_smooth_ratios[:,:,-15]\n",
    "events_dict['whiplash_pvals'] = pvals_bootstrap"
   ]
  },
  {
   "cell_type": "code",
   "execution_count": 58,
   "metadata": {},
   "outputs": [
    {
     "name": "stdout",
     "output_type": "stream",
     "text": [
      "(26, 25, 180)\n"
     ]
    }
   ],
   "source": [
    "print(hist_rcp_counts_ALL_LATLON_smooth_ratios.shape)"
   ]
  },
  {
   "cell_type": "markdown",
   "metadata": {},
   "source": [
    "# Time-latitude calculations"
   ]
  },
  {
   "cell_type": "code",
   "execution_count": 59,
   "metadata": {},
   "outputs": [
    {
     "name": "stdout",
     "output_type": "stream",
     "text": [
      "(26, 25, 180)\n",
      "(10000, 26, 25)\n"
     ]
    }
   ],
   "source": [
    "print(hist_rcp_counts_ALL_LATLON_smooth_ratios.shape)\n",
    "print(return_period_values_bootstrap_ratios.shape)"
   ]
  },
  {
   "cell_type": "code",
   "execution_count": 60,
   "metadata": {},
   "outputs": [
    {
     "name": "stdout",
     "output_type": "stream",
     "text": [
      "(11, 180)\n",
      "(10000, 11)\n"
     ]
    },
    {
     "name": "stderr",
     "output_type": "stream",
     "text": [
      "/Users/baird/anaconda/lib/python3.6/site-packages/ipykernel_launcher.py:7: RuntimeWarning: Mean of empty slice\n",
      "  import sys\n",
      "/Users/baird/anaconda/lib/python3.6/site-packages/numpy/core/fromnumeric.py:2909: RuntimeWarning: Mean of empty slice.\n",
      "  out=out, **kwargs)\n",
      "/Users/baird/anaconda/lib/python3.6/site-packages/numpy/core/_methods.py:80: RuntimeWarning: invalid value encountered in double_scalars\n",
      "  ret = ret.dtype.type(ret / rcount)\n"
     ]
    }
   ],
   "source": [
    "# pull out cali coast\n",
    "return_period_values_bootstrap_ratios_cali_coast = return_period_values_bootstrap_ratios[:,cali_coast_latlon_indices[:,0],cali_coast_latlon_indices[:,1]]\n",
    "hist_rcp_counts_ALL_LATLON_smooth_ratios_cali_coast = hist_rcp_counts_ALL_LATLON_smooth_ratios[cali_coast_latlon_indices[:,0],cali_coast_latlon_indices[:,1],:]\n",
    "\n",
    "# take means across 3 grid boxes\n",
    "return_period_values_bootstrap_ratios_cali_coast = numpy.nanmean(return_period_values_bootstrap_ratios_cali_coast.reshape((-1,11,3)), axis=2)\n",
    "hist_rcp_counts_ALL_LATLON_smooth_ratios_cali_coast = numpy.nanmean(hist_rcp_counts_ALL_LATLON_smooth_ratios_cali_coast.reshape((11,3,-1)), axis=1)\n",
    "\n",
    "print(hist_rcp_counts_ALL_LATLON_smooth_ratios_cali_coast.shape)\n",
    "print(return_period_values_bootstrap_ratios_cali_coast.shape)\n",
    "\n",
    "# at each time-lat point, calculate the pval stuff\n",
    "pvals_bootstrap_timelat = numpy.zeros((hist_rcp_counts_ALL_LATLON_smooth_ratios_cali_coast.shape))*numpy.nan\n",
    "for i in range(pvals_bootstrap_timelat.shape[0]):\n",
    "    for t in range(pvals_bootstrap_timelat.shape[1]):\n",
    "        pvals_bootstrap_timelat[i,t] = scipy.stats.percentileofscore(return_period_values_bootstrap_ratios_cali_coast[:,i], hist_rcp_counts_ALL_LATLON_smooth_ratios_cali_coast[i,t])\n",
    "pvals_bootstrap_timelat /= 100.\n",
    "pvals_bootstrap_timelat = 1-pvals_bootstrap_timelat"
   ]
  },
  {
   "cell_type": "code",
   "execution_count": 61,
   "metadata": {},
   "outputs": [],
   "source": [
    "events_dict['whiplash_timelat_ratios'] = hist_rcp_counts_ALL_LATLON_smooth_ratios_cali_coast\n",
    "events_dict['whiplash_timelat_pvals'] = pvals_bootstrap_timelat"
   ]
  },
  {
   "cell_type": "markdown",
   "metadata": {},
   "source": [
    "# month-to-month whiplash (monthly stdev)"
   ]
  },
  {
   "cell_type": "code",
   "execution_count": 127,
   "metadata": {},
   "outputs": [],
   "source": [
    "# import monthly pic data\n",
    "working_dir = '/Users/baird/Dropbox/_data_original/NCAR_LENS/daily/PRECT/calculated_npy_files/whole_domain_MONTHLY_TOTALS/'\n",
    "monthly_data_pic = numpy.load(working_dir+'member_005_years_0402-2200_threshold_0.1mmday_whole_domain.npy')\n",
    "#print(monthly_data_pic.shape)\n",
    "# (26, 25, 1799, 12)\n",
    "\n",
    "monthly_data_pic_NDJFM = numpy.zeros((26,25,1798,5))\n",
    "\n",
    "monthly_data_pic_NDJFM[:,:,:,0] = monthly_data_pic[:,:,:1798,10]\n",
    "monthly_data_pic_NDJFM[:,:,:,1] = monthly_data_pic[:,:,:1798,11]\n",
    "monthly_data_pic_NDJFM[:,:,:,2] = monthly_data_pic[:,:,1:,0]\n",
    "monthly_data_pic_NDJFM[:,:,:,3] = monthly_data_pic[:,:,1:,1]\n",
    "monthly_data_pic_NDJFM[:,:,:,4] = monthly_data_pic[:,:,1:,2]"
   ]
  },
  {
   "cell_type": "code",
   "execution_count": 128,
   "metadata": {},
   "outputs": [],
   "source": [
    "# import monthly RCP data\n",
    "monthly_data_hist_rcp = []\n",
    "for ens_name in ensemble_names:\n",
    "    monthly_data_hist_rcp.append(numpy.load(working_dir+'PRECT_monthly_data_member_' +ens_name+ '_years_1920-2100_threshold_0.1mmday_whole_domain.npy'))\n",
    "monthly_data_hist_rcp = numpy.array((monthly_data_hist_rcp))\n",
    "#print(monthly_data_hist_rcp.shape)\n",
    "# (40, 26, 25, 181, 12)\n",
    "\n",
    "# store just NDJFM\n",
    "monthly_data_hist_rcp_NDJFM = numpy.zeros((40,26,25,180,5))\n",
    "monthly_data_hist_rcp_NDJFM[:,:,:,:,0] = monthly_data_hist_rcp[:,:,:,:180,10]\n",
    "monthly_data_hist_rcp_NDJFM[:,:,:,:,1] = monthly_data_hist_rcp[:,:,:,:180,11]\n",
    "monthly_data_hist_rcp_NDJFM[:,:,:,:,2] = monthly_data_hist_rcp[:,:,:,1:,0]\n",
    "monthly_data_hist_rcp_NDJFM[:,:,:,:,3] = monthly_data_hist_rcp[:,:,:,1:,1]\n",
    "monthly_data_hist_rcp_NDJFM[:,:,:,:,4] = monthly_data_hist_rcp[:,:,:,1:,2]"
   ]
  },
  {
   "cell_type": "code",
   "execution_count": 129,
   "metadata": {},
   "outputs": [
    {
     "name": "stdout",
     "output_type": "stream",
     "text": [
      "(26, 25, 1798, 5)\n",
      "(40, 26, 25, 180, 5)\n"
     ]
    }
   ],
   "source": [
    "print(monthly_data_pic_NDJFM.shape)\n",
    "print(monthly_data_hist_rcp_NDJFM.shape)"
   ]
  },
  {
   "cell_type": "markdown",
   "metadata": {},
   "source": [
    "# calculate stdev at each grid point for each year"
   ]
  },
  {
   "cell_type": "code",
   "execution_count": 130,
   "metadata": {},
   "outputs": [],
   "source": [
    "monthly_stdev_hist_rcp = numpy.zeros((26,25,180))\n",
    "monthly_stdev_pic = numpy.zeros((26,25))\n",
    "monthly_stdev_pic_peryear = numpy.zeros((26,25,1798))\n",
    "monthly_stdev_pic_peryear_norm = numpy.zeros((26,25,1798))\n",
    "\n",
    "for i in range(26):\n",
    "    for j in range(25):\n",
    "        for t in range(180):\n",
    "            monthly_stdev_hist_rcp[i,j,t] = numpy.std( monthly_data_hist_rcp_NDJFM[:,i,j,t,:].flatten(), ddof=1)\n",
    "\n",
    "for i in range(26):\n",
    "    for j in range(25):\n",
    "        monthly_stdev_pic[i,j] = numpy.std( monthly_data_pic_NDJFM[i,j,:,:].flatten(), ddof=1)\n",
    "\n",
    "for t in range(1798):\n",
    "    for i in range(PRECT_nlat):\n",
    "        for j in range(PRECT_nlon):\n",
    "            monthly_stdev_pic_peryear[i,j,t] = numpy.std( monthly_data_pic_NDJFM[i,j,t,:])\n",
    "    monthly_stdev_pic_peryear_norm[:,:,t] = monthly_stdev_pic_peryear[:,:,t]/monthly_stdev_pic"
   ]
  },
  {
   "cell_type": "code",
   "execution_count": 131,
   "metadata": {},
   "outputs": [],
   "source": [
    "whiplash_monthly_ALL_LATLON_smooth = numpy.zeros((monthly_stdev_hist_rcp.shape))\n",
    "for i in range(PRECT_nlat):\n",
    "    for j in range(PRECT_nlon):\n",
    "        whiplash_monthly_ALL_LATLON_smooth[i,j,:] = pandas.Series(monthly_stdev_hist_rcp[i,j,:]).rolling(window=window, center=True).mean()\n",
    "\n",
    "whiplash_monthly_ALL_LATLON_smooth_ratios = numpy.zeros((monthly_stdev_hist_rcp.shape))\n",
    "for i in range(PRECT_nlat):\n",
    "    for j in range(PRECT_nlon):\n",
    "        whiplash_monthly_ALL_LATLON_smooth_ratios[i,j,:] = whiplash_monthly_ALL_LATLON_smooth[i,j,:]/monthly_stdev_pic[i,j]"
   ]
  },
  {
   "cell_type": "code",
   "execution_count": null,
   "metadata": {},
   "outputs": [],
   "source": []
  },
  {
   "cell_type": "markdown",
   "metadata": {},
   "source": [
    "# Generate bootstrap version and avoid just-PIC-distro approach"
   ]
  },
  {
   "cell_type": "code",
   "execution_count": 155,
   "metadata": {},
   "outputs": [],
   "source": [
    "# bootstrap:  create a bunch of fake PIC time series to generate error bars for internal variability\n",
    "N_boot = 10000\n",
    "boot_window = 40\n",
    "t_series_indices = numpy.random.randint(low=0, high=1797, size=(N_boot,boot_window))\n",
    "pic_bootstrap_data = numpy.zeros((N_boot,PRECT_nlat,PRECT_nlon,boot_window,5))\n",
    "\n",
    "for boot in range(N_boot):\n",
    "    pic_bootstrap_data[boot,:,:,:,:] = monthly_data_pic_NDJFM[:,:,t_series_indices[boot,:],:]\n",
    "\n",
    "whiplash_monthly_bootstrap = numpy.zeros((N_boot, PRECT_nlat, PRECT_nlon))\n",
    "\n",
    "for boot in range(N_boot):\n",
    "    for i in range(PRECT_nlat):\n",
    "        for j in range(PRECT_nlon):\n",
    "            seasonal_events = pic_bootstrap_data[boot,i,j,:,:] \n",
    "            whiplash_monthly_bootstrap[boot,i,j] = numpy.std(seasonal_events, ddof=1)\n",
    "\n",
    "whiplash_monthly_bootstrap_ratios = whiplash_monthly_bootstrap/monthly_stdev_pic\n",
    "\n",
    "pvals_bootstrap = numpy.zeros((PRECT_nlat,PRECT_nlon))\n",
    "\n",
    "ratios_to_test = whiplash_monthly_ALL_LATLON_smooth_ratios[:,:,-15]\n",
    "for i in range(PRECT_nlat):\n",
    "    for j in range(PRECT_nlon):\n",
    "        pvals_bootstrap[i,j] = scipy.stats.percentileofscore(whiplash_monthly_bootstrap_ratios[:,i,j], ratios_to_test[i,j])\n",
    "pvals_bootstrap /= 100.\n",
    "pvals_bootstrap = 1-pvals_bootstrap"
   ]
  },
  {
   "cell_type": "code",
   "execution_count": 156,
   "metadata": {},
   "outputs": [],
   "source": [
    "events_dict['whiplash_monthly_pic'] = monthly_stdev_pic\n",
    "events_dict['whiplash_monthly_2d_frequency_ratios_30yr_avg'] = whiplash_monthly_ALL_LATLON_smooth_ratios[:,:,-15]\n",
    "#events_dict['monthly_stdev_pvals'] = pvals_bootstrap\n",
    "events_dict['whiplash_monthly_pvals'] = pvals_bootstrap"
   ]
  },
  {
   "cell_type": "code",
   "execution_count": 157,
   "metadata": {},
   "outputs": [],
   "source": [
    "class MidpointNormalize(matplotlib.colors.Normalize):\n",
    "    def __init__(self, vmin=None, vmax=None, midpoint=None, clip=False):\n",
    "        self.midpoint = midpoint\n",
    "        matplotlib.colors.Normalize.__init__(self, vmin, vmax, clip)\n",
    "\n",
    "    def __call__(self, value, clip=None):\n",
    "        # I'm ignoring masked values and all kinds of edge cases to make a\n",
    "        # simple example...\n",
    "        x, y = [self.vmin, self.midpoint, self.vmax], [0, 0.5, 1]\n",
    "        return numpy.ma.masked_array(numpy.interp(value, x, y))"
   ]
  },
  {
   "cell_type": "code",
   "execution_count": 159,
   "metadata": {},
   "outputs": [
    {
     "name": "stdout",
     "output_type": "stream",
     "text": [
      "(26, 25)\n"
     ]
    },
    {
     "name": "stderr",
     "output_type": "stream",
     "text": [
      "/Users/baird/anaconda/lib/python3.6/site-packages/mpl_toolkits/basemap/__init__.py:1708: MatplotlibDeprecationWarning: The axesPatch function was deprecated in version 2.1. Use Axes.patch instead.\n",
      "  limb = ax.axesPatch\n",
      "/Users/baird/anaconda/lib/python3.6/site-packages/mpl_toolkits/basemap/__init__.py:1711: MatplotlibDeprecationWarning: The axesPatch function was deprecated in version 2.1. Use Axes.patch instead.\n",
      "  if limb is not ax.axesPatch:\n"
     ]
    },
    {
     "data": {
      "image/png": "[encoded data removed]",
      "text/plain": [
       "<matplotlib.figure.Figure at 0x11339a5f8>"
      ]
     },
     "metadata": {},
     "output_type": "display_data"
    }
   ],
   "source": [
    "count_ratio_2d = whiplash_monthly_ALL_LATLON_smooth_ratios[:,:,-15]\n",
    "fill_hi = pvals_bootstrap<=0.1\n",
    "print(count_ratio_2d.shape)\n",
    "\n",
    "fontsize=12\n",
    "contour_levels = numpy.arange(0,1.51,0.05)\n",
    "\n",
    "fig = mp.figure(figsize=(5,5))\n",
    "\n",
    "ax = fig.add_subplot(111)\n",
    "map = basemap.Basemap(projection='cyl',ax=ax, llcrnrlat=PRECT_lat.min(),urcrnrlat=PRECT_lat.max(),llcrnrlon=PRECT_lon.min(),urcrnrlon=PRECT_lon.max(),resolution='i')\n",
    "map.fillcontinents(color='0.75',lake_color='0.5')\n",
    "map.drawmapboundary(fill_color='0')\n",
    "\n",
    "map.drawcoastlines(linewidth=1.5, color='0', zorder=3)\n",
    "map.drawstates(linewidth=1.5, color='0', zorder=3)\n",
    "map.drawcountries(linewidth=1.5, color='0', zorder=3)\n",
    "\n",
    "lons,lats = numpy.meshgrid(PRECT_lon, PRECT_lat)\n",
    "xi,yi = map(lons, lats)\n",
    "\n",
    "#pr_map = map.contourf(xi, yi, count_ratio_2d, cmap='gist_earth_r', levels=contour_levels, zorder=2, extend='max', latlon=True)\n",
    "\n",
    "pr_map = map.contourf(xi, yi, count_ratio_2d, \\\n",
    "                      #cmap='inferno', \\\n",
    "                      cmap='RdBu', \\\n",
    "                      norm=MidpointNormalize(midpoint=1.0), \\\n",
    "                      levels=contour_levels, \\\n",
    "                      zorder=2, \\\n",
    "                      extend='max', \\\n",
    "                      latlon=True)\n",
    "contour_plot = map.contour(xi, yi, count_ratio_2d, \\\n",
    "                         levels=[0.5,1.,1.5,2], \\\n",
    "                         colors='0.25', \\\n",
    "                         linewidths=[1]*1+[2]+[1]*2, \\\n",
    "                         linestyles=['--']*1+[':']+['-']*2, \\\n",
    "                         )\n",
    "\n",
    "\n",
    "contour_pval_hi = map.contourf(xi, yi, fill_hi, levels=[0,0.5,1.5], hatches=[None,'//'], colors='none', zorder=3)\n",
    "\n",
    "# new_levels = []\n",
    "# for i in contour_plot.levels:\n",
    "#     if i in [0.5,1.5]:\n",
    "#         new_levels.append('{:.1f}'.format(i))\n",
    "#     else:\n",
    "#         new_levels.append('{:.0f}'.format(i))\n",
    "# contour_plot.levels = new_levels\n",
    "# mp.clabel(contour_plot, fontsize=fontsize-2, colors=['0.25']*7+['0.75']*5)\n",
    "\n",
    "divider = mpl_toolkits.axes_grid1.make_axes_locatable(ax)\n",
    "cbar_ax = divider.append_axes('bottom', size='5%', pad=0.2) #fig.add_axes([0.0, -0.02, 1.0, 0.03])\n",
    "cbar = fig.colorbar(pr_map, cax=cbar_ax, orientation='horizontal')\n",
    "\n",
    "cbar.set_label('ratio of frequencies', fontsize=fontsize)\n",
    "cbar.ax.tick_params(labelsize=fontsize)\n",
    "#cbar.set_ticks(contour_levels)\n",
    "cbar.set_ticks([0,0.5,1,1.5,2])\n",
    "\n",
    "ax.text(s='Monthly stdev ratios (2070-2100 vs. PIC)', x=0, y=1.01, transform=ax.transAxes, fontsize=fontsize, ha='left', va='bottom')\n",
    "\n",
    "fig.tight_layout()\n",
    "#mp.savefig('25yr_return_values_seasonal_accumulation_RATIOS.pdf', transparent=True, bbox_inches='tight')"
   ]
  },
  {
   "cell_type": "code",
   "execution_count": null,
   "metadata": {},
   "outputs": [],
   "source": []
  },
  {
   "cell_type": "code",
   "execution_count": null,
   "metadata": {},
   "outputs": [],
   "source": []
  },
  {
   "cell_type": "code",
   "execution_count": null,
   "metadata": {},
   "outputs": [],
   "source": []
  },
  {
   "cell_type": "code",
   "execution_count": null,
   "metadata": {},
   "outputs": [],
   "source": []
  },
  {
   "cell_type": "markdown",
   "metadata": {},
   "source": [
    "# Time-latitude calculations"
   ]
  },
  {
   "cell_type": "code",
   "execution_count": 120,
   "metadata": {},
   "outputs": [
    {
     "name": "stdout",
     "output_type": "stream",
     "text": [
      "(10000, 26, 25)\n",
      "(10000, 33)\n",
      "(11, 180)\n",
      "(10000, 11)\n"
     ]
    },
    {
     "name": "stderr",
     "output_type": "stream",
     "text": [
      "/Users/baird/anaconda/lib/python3.6/site-packages/ipykernel_launcher.py:9: RuntimeWarning: Mean of empty slice\n",
      "  if __name__ == '__main__':\n",
      "/Users/baird/anaconda/lib/python3.6/site-packages/numpy/core/fromnumeric.py:2909: RuntimeWarning: Mean of empty slice.\n",
      "  out=out, **kwargs)\n",
      "/Users/baird/anaconda/lib/python3.6/site-packages/numpy/core/_methods.py:80: RuntimeWarning: invalid value encountered in double_scalars\n",
      "  ret = ret.dtype.type(ret / rcount)\n"
     ]
    }
   ],
   "source": [
    "# pull out cali coast\n",
    "print(whiplash_monthly_bootstrap_ratios.shape)\n",
    "whiplash_monthly_bootstrap_ratios_cali_coast = whiplash_monthly_bootstrap_ratios[:,cali_coast_latlon_indices[:,0],cali_coast_latlon_indices[:,1]]\n",
    "whiplash_monthly_ALL_LATLON_smooth_ratios_cali_coast = whiplash_monthly_ALL_LATLON_smooth_ratios[cali_coast_latlon_indices[:,0],cali_coast_latlon_indices[:,1],:]\n",
    "\n",
    "print(whiplash_monthly_bootstrap_ratios_cali_coast.shape)\n",
    "# take means across 3 grid boxes\n",
    "whiplash_monthly_bootstrap_ratios_cali_coast = numpy.nanmean(whiplash_monthly_bootstrap_ratios_cali_coast.reshape((-1,11,3)), axis=2)\n",
    "whiplash_monthly_ALL_LATLON_smooth_ratios_cali_coast = numpy.nanmean(whiplash_monthly_ALL_LATLON_smooth_ratios_cali_coast.reshape((11,3,-1)), axis=1)\n",
    "\n",
    "print(whiplash_monthly_ALL_LATLON_smooth_ratios_cali_coast.shape)\n",
    "print(return_period_values_bootstrap_ratios_cali_coast.shape)\n",
    "\n",
    "# at each time-lat point, calculate the pval stuff\n",
    "pvals_bootstrap_timelat = numpy.zeros((whiplash_monthly_ALL_LATLON_smooth_ratios_cali_coast.shape))*numpy.nan\n",
    "for i in range(pvals_bootstrap_timelat.shape[0]):\n",
    "    for t in range(pvals_bootstrap_timelat.shape[1]):\n",
    "        pvals_bootstrap_timelat[i,t] = scipy.stats.percentileofscore(whiplash_monthly_bootstrap_ratios_cali_coast[:,i], whiplash_monthly_ALL_LATLON_smooth_ratios_cali_coast[i,t])\n",
    "pvals_bootstrap_timelat /= 100.\n",
    "pvals_bootstrap_timelat = 1-pvals_bootstrap_timelat"
   ]
  },
  {
   "cell_type": "code",
   "execution_count": 121,
   "metadata": {},
   "outputs": [],
   "source": [
    "events_dict['whiplash_monthly_timelat_ratios'] = whiplash_monthly_ALL_LATLON_smooth_ratios_cali_coast\n",
    "events_dict['whiplash_monthly_timelat_pvals'] = pvals_bootstrap_timelat"
   ]
  },
  {
   "cell_type": "markdown",
   "metadata": {},
   "source": [
    "# save netcdf file for maps"
   ]
  },
  {
   "cell_type": "code",
   "execution_count": 126,
   "metadata": {},
   "outputs": [
    {
     "name": "stdout",
     "output_type": "stream",
     "text": [
      "file exists\n",
      "100yr_3season_dry_2d_frequency_ratios_30yr_avg\n",
      "(26, 25)\n",
      "100yr_3season_dry_pvals\n",
      "(26, 25)\n",
      "100yr_1season_dry_2d_frequency_ratios_30yr_avg\n",
      "(26, 25)\n",
      "100yr_1season_dry_pvals\n",
      "(26, 25)\n",
      "25yr_1season_wet_2d_frequency_ratios_30yr_avg\n",
      "(26, 25)\n",
      "25yr_1season_wet_pvals\n",
      "(26, 25)\n",
      "200yr_40d_wet_2d_frequency_ratios_30yr_avg\n",
      "(26, 25)\n",
      "200yr_40d_wet_pvals\n",
      "(26, 25)\n",
      "whiplash_2d_frequency_ratios_30yr_avg\n",
      "(26, 25)\n",
      "whiplash_pvals\n",
      "(26, 25)\n",
      "whiplash_monthly_2d_frequency_ratios_30yr_avg\n",
      "(26, 25)\n",
      "whiplash_monthly_pvals\n",
      "(26, 25)\n",
      "frequency_change_maps_and_sig_vals_LAT_LON_with_whiplash.nc saved\n"
     ]
    }
   ],
   "source": [
    "units_list = ['30yr mean frequency ratio (2070-2100 vs PIC)',\\\n",
    "              'P-values from bootstrap distribution'] * 6\n",
    "\n",
    "keys_save_2d = [\\\n",
    "'100yr_3season_dry_2d_frequency_ratios_30yr_avg', \\\n",
    "'100yr_3season_dry_pvals', \\\n",
    "\n",
    "'100yr_1season_dry_2d_frequency_ratios_30yr_avg', \\\n",
    "'100yr_1season_dry_pvals', \\\n",
    "\n",
    "'25yr_1season_wet_2d_frequency_ratios_30yr_avg', \\\n",
    "'25yr_1season_wet_pvals', \\\n",
    "\n",
    "'200yr_40d_wet_2d_frequency_ratios_30yr_avg', \\\n",
    "'200yr_40d_wet_pvals', \\\n",
    "\n",
    "'whiplash_2d_frequency_ratios_30yr_avg', \\\n",
    "'whiplash_pvals', \\\n",
    "\n",
    "'whiplash_monthly_2d_frequency_ratios_30yr_avg', \\\n",
    "'whiplash_monthly_pvals' ]\n",
    "\n",
    "\n",
    "# save hist clim\n",
    "filename = 'frequency_change_maps_and_sig_vals_'+'LAT_LON'+'_with_whiplash.nc'\n",
    "\n",
    "if os.path.exists(filename):\n",
    "    print('file exists')\n",
    "    os.remove(filename)\n",
    "\n",
    "ncfile = netCDF4.Dataset(filename, 'w', format='NETCDF4')\n",
    "\n",
    "lat_dim = ncfile.createDimension('lat', PRECT_nlat)\n",
    "lat_var = ncfile.createVariable('lat', 'f4', ('lat',))\n",
    "lat_var[:] = PRECT_lat\n",
    "lat_var.units = 'degrees North'\n",
    "\n",
    "lon_dim = ncfile.createDimension('lon', PRECT_nlon)\n",
    "lon_var = ncfile.createVariable('lon', 'f4', ('lon',))\n",
    "lon_var[:] = PRECT_lon\n",
    "lon_var.units = 'degrees East'\n",
    "\n",
    "for key in range(len(keys_save_2d)):\n",
    "    variable = ncfile.createVariable(keys_save_2d[key], 'f4', ('lat', 'lon',), fill_value=numpy.nan)\n",
    "    print(keys_save_2d[key])\n",
    "    print(events_dict[keys_save_2d[key]].shape)\n",
    "    variable[:] = events_dict[keys_save_2d[key]]\n",
    "    variable.units = units_list[key]\n",
    "\n",
    "ncfile.history = 'Created ' + time.ctime(time.time())\n",
    "ncfile.close()\n",
    "print(filename, \"saved\")"
   ]
  },
  {
   "cell_type": "markdown",
   "metadata": {},
   "source": [
    "# Save time-latitude files"
   ]
  },
  {
   "cell_type": "code",
   "execution_count": 123,
   "metadata": {},
   "outputs": [],
   "source": [
    "# convert times\n",
    "year_list = numpy.arange(1921,2101)\n",
    "time_datetime = [datetime.datetime(i,1,15) for i in year_list]\n",
    "time_nc = netCDF4.date2num(time_datetime, units='days since 1920-01-01', calendar='standard')"
   ]
  },
  {
   "cell_type": "code",
   "execution_count": 124,
   "metadata": {},
   "outputs": [],
   "source": [
    "PRECT_lat_subset = PRECT_lat[numpy.unique(cali_coast_latlon_indices[:,0])]"
   ]
  },
  {
   "cell_type": "code",
   "execution_count": 125,
   "metadata": {},
   "outputs": [
    {
     "name": "stdout",
     "output_type": "stream",
     "text": [
      "file exists\n",
      "100yr_3season_dry_timelat_ratios\n",
      "(11, 180)\n",
      "100yr_3season_dry_timelat_pvals\n",
      "(11, 180)\n",
      "100yr_1season_dry_timelat_ratios\n",
      "(11, 180)\n",
      "100yr_1season_dry_timelat_pvals\n",
      "(11, 180)\n",
      "25yr_1season_wet_timelat_ratios\n",
      "(11, 180)\n",
      "25yr_1season_wet_timelat_pvals\n",
      "(11, 180)\n",
      "200yr_40d_wet_timelat_ratios\n",
      "(11, 180)\n",
      "200yr_40d_wet_timelat_pvals\n",
      "(11, 180)\n",
      "whiplash_timelat_ratios\n",
      "(11, 180)\n",
      "whiplash_timelat_pvals\n",
      "(11, 180)\n",
      "whiplash_monthly_timelat_ratios\n",
      "(11, 180)\n",
      "whiplash_monthly_timelat_pvals\n",
      "(11, 180)\n",
      "frequency_change_maps_and_sig_vals_TIME_LATITUDE_with_whiplash.nc saved\n"
     ]
    }
   ],
   "source": [
    "units_list = ['30yr running mean frequency ratio (time-latitude)',\\\n",
    "              'P-values from bootstrap distribution'] * 6\n",
    "\n",
    "keys_save_2d = [\\\n",
    "'100yr_3season_dry_timelat_ratios', \\\n",
    "'100yr_3season_dry_timelat_pvals', \\\n",
    "\n",
    "'100yr_1season_dry_timelat_ratios', \\\n",
    "'100yr_1season_dry_timelat_pvals', \\\n",
    "\n",
    "'25yr_1season_wet_timelat_ratios', \\\n",
    "'25yr_1season_wet_timelat_pvals', \\\n",
    "\n",
    "'200yr_40d_wet_timelat_ratios', \\\n",
    "'200yr_40d_wet_timelat_pvals', \\\n",
    "\n",
    "'whiplash_timelat_ratios', \\\n",
    "'whiplash_timelat_pvals', \\\n",
    "\n",
    "'whiplash_monthly_timelat_ratios', \\\n",
    "'whiplash_monthly_timelat_pvals' ]\n",
    "\n",
    "# save hist clim\n",
    "filename = 'frequency_change_maps_and_sig_vals_'+'TIME_LATITUDE'+'_with_whiplash.nc'\n",
    "\n",
    "if os.path.exists(filename):\n",
    "    print('file exists')\n",
    "    os.remove(filename)\n",
    "\n",
    "ncfile = netCDF4.Dataset(filename, 'w', format='NETCDF4')\n",
    "\n",
    "lat_dim = ncfile.createDimension('lat', PRECT_lat_subset.size)\n",
    "time_dim = ncfile.createDimension('time', len(year_list))\n",
    "\n",
    "lat_var = ncfile.createVariable('lat', 'f4', ('lat',))\n",
    "time_var = ncfile.createVariable('time', 'f4', ('time',))\n",
    "lat_var[:] = PRECT_lat_subset\n",
    "time_var[:] = time_nc\n",
    "lat_var.units = 'degrees_north'\n",
    "time_var.units = 'days since 1920-01-01'\n",
    "time_var.description = 'Reported for yearly (seasonal) values; no smoothing or averaging'\n",
    "\n",
    "for key in range(len(keys_save_2d)):\n",
    "    variable = ncfile.createVariable(keys_save_2d[key], 'f4', ('lat', 'time',), fill_value=numpy.nan)\n",
    "    print(keys_save_2d[key])\n",
    "    print(events_dict[keys_save_2d[key]].shape)\n",
    "    variable[:] = events_dict[keys_save_2d[key]]\n",
    "    variable.units = units_list[key]\n",
    "\n",
    "ncfile.history = 'Created ' + time.ctime(time.time())\n",
    "ncfile.close()\n",
    "print(filename, \"saved\")"
   ]
  },
  {
   "cell_type": "code",
   "execution_count": null,
   "metadata": {},
   "outputs": [],
   "source": []
  }
 ],
 "metadata": {
  "kernelspec": {
   "display_name": "Python 3",
   "language": "python",
   "name": "python3"
  },
  "language_info": {
   "codemirror_mode": {
    "name": "ipython",
    "version": 3
   },
   "file_extension": ".py",
   "mimetype": "text/x-python",
   "name": "python",
   "nbconvert_exporter": "python",
   "pygments_lexer": "ipython3",
   "version": "3.6.3"
  }
 },
 "nbformat": 4,
 "nbformat_minor": 2
}
