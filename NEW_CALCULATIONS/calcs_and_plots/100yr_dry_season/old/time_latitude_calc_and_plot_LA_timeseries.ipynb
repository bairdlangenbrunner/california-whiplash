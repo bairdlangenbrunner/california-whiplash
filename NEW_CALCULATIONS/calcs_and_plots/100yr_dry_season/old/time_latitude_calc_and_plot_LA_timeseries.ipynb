{
 "cells": [
  {
   "cell_type": "code",
   "execution_count": 2,
   "metadata": {
    "collapsed": true
   },
   "outputs": [],
   "source": [
    "import numpy\n",
    "import scipy\n",
    "import netCDF4\n",
    "import matplotlib.pyplot as mp\n",
    "import matplotlib.ticker\n",
    "import matplotlib.colors\n",
    "import scipy.stats\n",
    "import pandas\n",
    "import itertools\n",
    "from mpl_toolkits import basemap\n",
    "import mpl_toolkits.axes_grid1\n",
    "import random\n",
    "import datetime\n",
    "import time\n",
    "\n",
    "degree_sign = u'\\u00B0'\n",
    "mp.rcParams.update({'mathtext.default': 'regular'})\n",
    "mp.rcParams['hatch.color'] = '0.5'\n",
    "\n",
    "% matplotlib inline"
   ]
  },
  {
   "cell_type": "markdown",
   "metadata": {},
   "source": [
    "# Set up lat/lon of locations of interest"
   ]
  },
  {
   "cell_type": "code",
   "execution_count": 3,
   "metadata": {
    "collapsed": true
   },
   "outputs": [],
   "source": [
    "LA_lat = 34.0522\n",
    "LA_lon = 118.2437 # deg west\n",
    "LA_lon = 180. + (180-LA_lon)\n",
    "\n",
    "Oroville_dam_lat = 39.5380\n",
    "Oroville_dam_lon = 121.4831 # deg west\n",
    "Oroville_dam_lon = 360 - Oroville_dam_lon\n",
    "\n",
    "SF_lat = 37.7749\n",
    "SF_lon = 122.4194\n",
    "SF_lon = 360 - SF_lon"
   ]
  },
  {
   "cell_type": "markdown",
   "metadata": {},
   "source": [
    "# Import coastal grid point indices"
   ]
  },
  {
   "cell_type": "code",
   "execution_count": 4,
   "metadata": {
    "collapsed": true
   },
   "outputs": [],
   "source": [
    "cali_coast_latlon_indices = numpy.load('/Users/baird/Dropbox/_analysis/attribution_2017/NEW_CALCULATIONS/npy_files/coastal_latlon_array_indices_3x.npy')\n",
    "cali_coast_latlon_indices_zip = [i for i in zip(cali_coast_latlon_indices[:,0], cali_coast_latlon_indices[:,1])]\n",
    "\n",
    "cali_coast_latlon_indices_3d = cali_coast_latlon_indices.reshape((11,3,2))\n",
    "#print(cali_coast_latlon_indices_3d[0,:,:])"
   ]
  },
  {
   "cell_type": "markdown",
   "metadata": {},
   "source": [
    "# Specify return period information and percentiles"
   ]
  },
  {
   "cell_type": "code",
   "execution_count": 5,
   "metadata": {},
   "outputs": [
    {
     "name": "stdout",
     "output_type": "stream",
     "text": [
      "1.0\n"
     ]
    }
   ],
   "source": [
    "#return_period = 200 # in years\n",
    "#events_per_year = 151-40\n",
    "\n",
    "return_period = 100\n",
    "events_per_year = 1\n",
    "\n",
    "return_val_perc = 100*(1/(return_period*events_per_year))\n",
    "print(return_val_perc)"
   ]
  },
  {
   "cell_type": "markdown",
   "metadata": {},
   "source": [
    "# Set up directories where data are stored"
   ]
  },
  {
   "cell_type": "code",
   "execution_count": 6,
   "metadata": {
    "collapsed": true
   },
   "outputs": [],
   "source": [
    "working_dir = '/Users/baird/Dropbox/_analysis/attribution_2017/NEW_CALCULATIONS/npy_files/'\n",
    "#save_dir = '/Users/baird/Dropbox/_analysis/attribution_2017/NEW_CALCULATIONS/calculations/npy_files/'\n",
    "#latlon_indices = numpy.load(working_dir + 'ccal_latlon_indices_array.npy'); region='ccal'\n",
    "#latlon_indices = numpy.load(working_dir + 'ncal_latlon_indices_array.npy'); region='ncal'\n",
    "#latlon_indices = numpy.load(working_dir + 'scal_latlon_indices_array.npy'); region='scal'\n",
    "\n",
    "PRECT_lat = numpy.load('/Users/baird/Dropbox/_analysis/attribution_2017/NEW_CALCULATIONS/npy_files/PRECT_lat.npy')\n",
    "PRECT_lon = numpy.load('/Users/baird/Dropbox/_analysis/attribution_2017/NEW_CALCULATIONS/npy_files/PRECT_lon.npy')"
   ]
  },
  {
   "cell_type": "code",
   "execution_count": 7,
   "metadata": {
    "collapsed": true
   },
   "outputs": [],
   "source": [
    "working_dir = '/Users/baird/google_drive/_data_original/NCAR_LENS/daily/PRECT/calculated_npy_files/'\n",
    "#threshold=0.0\n",
    "threshold=0.1\n",
    "#threshold=0.5\n",
    "#threshold=1.0\n",
    "#threshold=5.0\n",
    "#threshold=10.0"
   ]
  },
  {
   "cell_type": "markdown",
   "metadata": {},
   "source": [
    "# Import lat/lon information"
   ]
  },
  {
   "cell_type": "code",
   "execution_count": 8,
   "metadata": {
    "collapsed": true
   },
   "outputs": [],
   "source": [
    "PRECT_nlat = 26\n",
    "PRECT_nlon = 25\n",
    "\n",
    "latlon_indices = list(itertools.product(range(PRECT_nlat), range(PRECT_nlon)))\n",
    "region = 'whole_domain'\n",
    "window=1"
   ]
  },
  {
   "cell_type": "markdown",
   "metadata": {},
   "source": [
    "# Open PIC data"
   ]
  },
  {
   "cell_type": "code",
   "execution_count": 9,
   "metadata": {
    "collapsed": true
   },
   "outputs": [],
   "source": [
    "year_start_pic = 402 #time_subsets[chunk,0]\n",
    "year_end_pic = 2200 #time_subsets[chunk,1]\n",
    "\n",
    "# create season strings\n",
    "years_pic = numpy.arange(year_start_pic, year_end_pic+1, 1).astype(numpy.int)\n",
    "half_years_pic = numpy.arange(year_start_pic+0.75, year_end_pic, 1)\n",
    "#season_strings_pic = numpy.empty(years.size-1, dtype=numpy.str)\n",
    "\n",
    "season_strings_pic = [str(years_pic[i])+'-'+str(years_pic[i+1]) for i in range(years_pic.size-1)]\n",
    "member_strings_pic = ['{:03d}'.format(i) for i in range(1,36)]\n",
    "\n",
    "n_seasons_pic=year_end_pic-year_start_pic"
   ]
  },
  {
   "cell_type": "markdown",
   "metadata": {},
   "source": [
    "# Save all events as a numpy array, and save return period values"
   ]
  },
  {
   "cell_type": "raw",
   "metadata": {},
   "source": [
    "working_dir = '/Users/baird/Dropbox/_data_original/NCAR_LENS/daily/PRECT/calculated_npy_files/whole_domain/'\n",
    "# for each grid point:\n",
    "# cycle through all times, get extreme seasonal sum in each time period, store in array with length(season_strings_pic)\n",
    "# once this is done, calculate the return periods of each of these\n",
    "return_period_values_pic = numpy.zeros(( PRECT_nlat*PRECT_nlon, 2))\n",
    "all_events_pic = numpy.zeros((len(latlon_indices), n_seasons_pic))\n",
    "\n",
    "for latlon_idx in range(len(latlon_indices)):\n",
    "    if latlon_idx%10==0:\n",
    "        print(latlon_idx)\n",
    "    filename = 'member_005_latidx_'+'{:02d}'.format(latlon_indices[latlon_idx][0])+'_lonidx_'+'{:02d}'.format(latlon_indices[latlon_idx][1])+'_years_'+'{:04d}'.format(year_start_pic)+'-'+'{:04d}'.format(year_end_pic)+'_threshold_'+str(threshold)+'mmday_'+region+'.npy'\n",
    "    dict_pic = numpy.load(working_dir + filename).item()\n",
    "    #print(dict_pic['402-403'].keys())\n",
    "    seasonal_events_list = [dict_pic[i]['seasonal_total'] for i in dict_pic.keys()]\n",
    "    all_events_pic[latlon_idx,:] = seasonal_events_list\n",
    "    return_period_values_pic[latlon_idx,0] = numpy.percentile(seasonal_events_list, return_val_perc)#, interpolation='nearest')\n",
    "    return_period_values_pic[latlon_idx,1] = numpy.sum(seasonal_events_list>return_period_values_pic[latlon_idx,0])"
   ]
  },
  {
   "cell_type": "raw",
   "metadata": {},
   "source": [
    "numpy.save('csv_files/all_events_pic.npy', all_events_pic)"
   ]
  },
  {
   "cell_type": "markdown",
   "metadata": {},
   "source": [
    "# Open all PIC events (which have already been saved as a npy array)"
   ]
  },
  {
   "cell_type": "code",
   "execution_count": 10,
   "metadata": {
    "collapsed": true
   },
   "outputs": [],
   "source": [
    "all_events_pic = numpy.load('csv_files/all_events_pic.npy')"
   ]
  },
  {
   "cell_type": "markdown",
   "metadata": {},
   "source": [
    "# Open return period calculations"
   ]
  },
  {
   "cell_type": "code",
   "execution_count": 11,
   "metadata": {
    "collapsed": true
   },
   "outputs": [],
   "source": [
    "return_period_values_pic_df = pandas.read_csv('csv_files/return_period_values_pic_df.csv')\n",
    "return_period_values_pic = return_period_values_pic_df.values[:,1:]"
   ]
  },
  {
   "cell_type": "markdown",
   "metadata": {},
   "source": [
    "# Open historical, RCP and place all data into a 3d array"
   ]
  },
  {
   "cell_type": "code",
   "execution_count": 12,
   "metadata": {
    "collapsed": true
   },
   "outputs": [],
   "source": [
    "ensemble_members = numpy.hstack((numpy.arange(1,36), numpy.arange(101,106)))\n",
    "ensemble_names = ['{:03d}'.format(i) for i in ensemble_members]"
   ]
  },
  {
   "cell_type": "code",
   "execution_count": 13,
   "metadata": {
    "collapsed": true
   },
   "outputs": [],
   "source": [
    "year_start = 1920\n",
    "year_end = 2100\n",
    "\n",
    "year_start_list = numpy.arange(1920,2070)\n",
    "year_end_list = numpy.arange(1950,2100)\n",
    "year_middle_list = year_start_list+15\n",
    "\n",
    "# create season strings\n",
    "years = numpy.arange(year_start, year_end+1, 1).astype(numpy.int)\n",
    "half_years_hist_rcp = numpy.arange(year_start+0.75, year_end, 1)\n",
    "season_strings_hist_rcp = [str(i)+'-'+str(i+1) for i in range(year_start,year_end)]\n",
    "\n",
    "thirty_yr_strings_hist_rcp = [str(year_start_list[i])+'-'+str(year_end_list[i]) for i in range(year_start_list.size)]\n",
    "member_strings_hist_rcp = ['{:03d}'.format(i) for i in range(1,36)]\n",
    "\n",
    "n_seasons_hist_rcp=year_end-year_start"
   ]
  },
  {
   "cell_type": "raw",
   "metadata": {},
   "source": [
    "# loop through every grid point and attach ALL ensemble members information\n",
    "all_events_total = []\n",
    "total_events_each_latlon = []\n",
    "all_events_hist_rcp = numpy.zeros(( 650, 40, n_seasons_hist_rcp ))\n",
    "\n",
    "for latlon_idx in range(len(latlon_indices)):\n",
    "    if latlon_idx%10==0:\n",
    "        print(latlon_idx)\n",
    "    total_events_each_latlon = []\n",
    "    for ensemble_idx in range(len(ensemble_members)):\n",
    "        filename = 'member_'+ensemble_names[ensemble_idx]+'_latidx_'+'{:02d}'.format(latlon_indices[latlon_idx][0])+'_lonidx_'+'{:02d}'.format(latlon_indices[latlon_idx][1])+'_years_1920-2100_threshold_'+str(threshold)+'mmday_'+region+'.npy'\n",
    "        dict_hist_rcp = numpy.load(working_dir+filename).item()\n",
    "        total_events_each_latlon.append( [dict_hist_rcp[i]['seasonal_total'] for i in season_strings_hist_rcp] )\n",
    "        all_events_hist_rcp[latlon_idx,ensemble_idx,:] = total_events_each_latlon[-1]\n",
    "    #all_events_total.append(total_events_each_latlon)"
   ]
  },
  {
   "cell_type": "raw",
   "metadata": {},
   "source": [
    "numpy.save('all_events_hist_rcp_3d.npy', all_events_hist_rcp)"
   ]
  },
  {
   "cell_type": "markdown",
   "metadata": {},
   "source": [
    "## Open all data already saved in npy array"
   ]
  },
  {
   "cell_type": "code",
   "execution_count": 14,
   "metadata": {},
   "outputs": [
    {
     "name": "stdout",
     "output_type": "stream",
     "text": [
      "(650, 40, 180)\n"
     ]
    }
   ],
   "source": [
    "all_events_hist_rcp_3d = numpy.load('csv_files/all_events_hist_rcp_3d.npy')\n",
    "print(all_events_hist_rcp_3d.shape)"
   ]
  },
  {
   "cell_type": "markdown",
   "metadata": {},
   "source": [
    "## Calculate all return periods for all time (in chunks of 30 years)"
   ]
  },
  {
   "cell_type": "code",
   "execution_count": 15,
   "metadata": {
    "collapsed": true
   },
   "outputs": [],
   "source": [
    "#nlat_unique = numpy.unique(cali_coast_latlon_indices[:,0]).size\n",
    "return_period_values_hist_rcp = numpy.zeros((len(latlon_indices), n_seasons_hist_rcp-30, 3))\n",
    "#print(latitude_time_values.shape)\n",
    "\n",
    "for yr_idx in range(n_seasons_hist_rcp-30):\n",
    "    season_strings_hist_rcp = [str(i)+'-'+str(i+1) for i in range(year_start_list[yr_idx],year_end_list[yr_idx])]\n",
    "    \n",
    "    for latlon_idx in range(len(latlon_indices)):\n",
    "\n",
    "        # collect seasonal events for the specific 30 year chunk\n",
    "        seasonal_events = all_events_hist_rcp_3d[latlon_idx,:,yr_idx:yr_idx+30].reshape((-1))\n",
    "\n",
    "        return_period_values_hist_rcp[latlon_idx,yr_idx,0] = numpy.percentile(seasonal_events, return_val_perc)\n",
    "        return_period_values_hist_rcp[latlon_idx,yr_idx,1] = numpy.sum(seasonal_events<return_period_values_hist_rcp[latlon_idx,yr_idx,0])\n",
    "        return_period_values_hist_rcp[latlon_idx,yr_idx,2] = numpy.sum(seasonal_events<return_period_values_pic[latlon_idx,0])\n",
    "    #return_period_values_hist_rcp_df = pandas.DataFrame(return_period_values_hist_rcp, columns=['Perc value hist eoc','Num hist eoc exceedances','Num PIC exceedances'])\n"
   ]
  },
  {
   "cell_type": "markdown",
   "metadata": {},
   "source": [
    "# 1 year window"
   ]
  },
  {
   "cell_type": "code",
   "execution_count": 16,
   "metadata": {
    "collapsed": true
   },
   "outputs": [],
   "source": [
    "year_start = 1920\n",
    "year_end = 2100\n",
    "\n",
    "year_start_list = numpy.arange(1920,2099)\n",
    "year_end_list = numpy.arange(1921,2100)\n",
    "year_middle_list = year_start_list+15\n",
    "\n",
    "# create season strings\n",
    "years = numpy.arange(year_start, year_end+1, 1).astype(numpy.int)\n",
    "half_years_hist_rcp = numpy.arange(year_start+0.75, year_end, 1)\n",
    "season_strings_hist_rcp = [str(i)+'-'+str(i+1) for i in range(year_start,year_end)]\n",
    "\n",
    "thirty_yr_strings_hist_rcp = [str(year_start_list[i])+'-'+str(year_end_list[i]) for i in range(year_start_list.size)]\n",
    "member_strings_hist_rcp = ['{:03d}'.format(i) for i in range(1,36)]\n",
    "\n",
    "n_seasons_hist_rcp=year_end-year_start"
   ]
  },
  {
   "cell_type": "code",
   "execution_count": 17,
   "metadata": {
    "collapsed": true
   },
   "outputs": [],
   "source": [
    "window=1\n",
    "#nlat_unique = numpy.unique(cali_coast_latlon_indices[:,0]).size\n",
    "return_period_values_hist_rcp = numpy.zeros((len(latlon_indices), n_seasons_hist_rcp-window, 3))\n",
    "#print(latitude_time_values.shape)\n",
    "\n",
    "for yr_idx in range(n_seasons_hist_rcp-window):\n",
    "    season_strings_hist_rcp = [str(i)+'-'+str(i+1) for i in range(year_start_list[yr_idx],year_end_list[yr_idx])]\n",
    "    \n",
    "    for latlon_idx in range(len(latlon_indices)):\n",
    "\n",
    "        # collect seasonal events for the specific 30 year chunk\n",
    "        seasonal_events = all_events_hist_rcp_3d[latlon_idx,:,yr_idx:yr_idx+window].reshape((-1))\n",
    "\n",
    "        return_period_values_hist_rcp[latlon_idx,yr_idx,0] = numpy.percentile(seasonal_events, return_val_perc)\n",
    "        return_period_values_hist_rcp[latlon_idx,yr_idx,1] = numpy.sum(seasonal_events<return_period_values_hist_rcp[latlon_idx,yr_idx,0])\n",
    "        return_period_values_hist_rcp[latlon_idx,yr_idx,2] = numpy.sum(seasonal_events<return_period_values_pic[latlon_idx,0])\n",
    "    #return_period_values_hist_rcp_df = pandas.DataFrame(return_period_values_hist_rcp, columns=['Perc value hist eoc','Num hist eoc exceedances','Num PIC exceedances'])\n"
   ]
  },
  {
   "cell_type": "code",
   "execution_count": 18,
   "metadata": {
    "collapsed": true
   },
   "outputs": [],
   "source": [
    "# calculate ratio of frequencies of exceedance\n",
    "pic_counts = return_period_values_pic[:,1]\n",
    "hist_rcp_counts = return_period_values_hist_rcp[:,:,2]\n",
    "\n",
    "#return_values_pic_2d = return_period_values_pic[:,0].reshape(PRECT_nlat, PRECT_nlon)\n",
    "#return_values_hist_rcp_2d = return_period_values_hist_rcp[:,0].reshape(PRECT_nlat, PRECT_nlon)\n",
    "\n",
    "\n",
    "#print(pic_counts.shape, hist_rcp_counts.shape)\n",
    "pic_counts_reshape = pic_counts.reshape((PRECT_nlat, PRECT_nlon))\n",
    "hist_rcp_counts_reshape = hist_rcp_counts.reshape((PRECT_nlat, PRECT_nlon,-1))\n",
    "pic_counts_LA = pic_counts_reshape[9,17]\n",
    "hist_rcp_counts_LA = hist_rcp_counts_reshape[9,17,:]\n",
    "\n",
    "#count_ratio = ((hist_rcp_counts/(30*40)).T/(pic_counts/1798)).T\n",
    "#count_ratio_2d = count_ratio.reshape((PRECT_nlat, PRECT_nlon, 150))\n",
    "#count_ratio_2d_cali = numpy.mean( count_ratio_2d[cali_coast_latlon_indices[:,0],cali_coast_latlon_indices[:,1],:].reshape((11,3,150)) , axis=1)"
   ]
  },
  {
   "cell_type": "code",
   "execution_count": 19,
   "metadata": {},
   "outputs": [
    {
     "data": {
      "image/png": "[encoded data removed]",
      "text/plain": [
       "<matplotlib.figure.Figure at 0x11397b160>"
      ]
     },
     "metadata": {},
     "output_type": "display_data"
    }
   ],
   "source": [
    "fontsize=12\n",
    "\n",
    "xvals = numpy.arange(1921,2100)\n",
    "fig = mp.figure(figsize=(8,3))\n",
    "\n",
    "ax = fig.add_subplot(111)\n",
    "ax.plot(xvals, hist_rcp_counts_LA, c='firebrick')\n",
    "ax.axhline(numpy.mean(pic_counts_LA/44.95)*window, c='0.25', ls='--', label='PIC equivalent')\n",
    "\n",
    "ax.tick_params(labelsize=fontsize)\n",
    "ax.grid()\n",
    "ax.set_axisbelow(True)\n",
    "\n",
    "ax.set_xlim(1920,2100)\n",
    "\n",
    "ax.text(s='Number of events per 40 ensemble members ('+str(window)+'-year window)', \\\n",
    "        x=0, y=1.03, \\\n",
    "        ha='left', \\\n",
    "        va='bottom', \\\n",
    "        transform=ax.transAxes, \\\n",
    "        fontsize=fontsize)\n",
    "\n",
    "handles, labels = ax.get_legend_handles_labels()\n",
    "ax.legend(handles, labels, fontsize=fontsize, \\\n",
    "          scatterpoints=1, ncol=2, bbox_to_anchor=(0.03,0.95), \\\n",
    "          bbox_transform=ax.transAxes, loc='upper left', \\\n",
    "          borderaxespad=0, labelspacing=0.25, fancybox=False, \\\n",
    "          edgecolor='None', framealpha=0, borderpad=0., handletextpad=0.25)\n",
    "\n",
    "fig.savefig('N_events_'+str(window)+'year_window.pdf', bbox_inches='tight', transparent=True)\n",
    "\n",
    "#print(pic_counts_LA)\n",
    "#mp.plot(hist_rcp_counts_LA)\n"
   ]
  },
  {
   "cell_type": "code",
   "execution_count": 20,
   "metadata": {},
   "outputs": [
    {
     "name": "stdout",
     "output_type": "stream",
     "text": [
      "0.400444938821\n",
      "18.0\n"
     ]
    }
   ],
   "source": [
    "print(pic_counts_LA/44.95)\n",
    "print(pic_counts_LA)"
   ]
  },
  {
   "cell_type": "code",
   "execution_count": 21,
   "metadata": {
    "collapsed": true
   },
   "outputs": [],
   "source": [
    "col_names = ['years', 'N_events', 'N_PIC_events']\n",
    "hist_rcp_counts_LA_df = pandas.DataFrame(numpy.column_stack((xvals, hist_rcp_counts_LA, [pic_counts_LA]*xvals.size)), columns=col_names)\n",
    "hist_rcp_counts_LA_df.to_csv('csv_files/hist_rcp_counts_LA_'+str(window)+'year_window_with_PIC.csv')"
   ]
  },
  {
   "cell_type": "markdown",
   "metadata": {},
   "source": [
    "# 30 year window"
   ]
  },
  {
   "cell_type": "code",
   "execution_count": 22,
   "metadata": {
    "collapsed": true
   },
   "outputs": [],
   "source": [
    "window=30\n",
    "#nlat_unique = numpy.unique(cali_coast_latlon_indices[:,0]).size\n",
    "return_period_values_hist_rcp = numpy.zeros((len(latlon_indices), n_seasons_hist_rcp-window, 3))\n",
    "#print(latitude_time_values.shape)\n",
    "\n",
    "for yr_idx in range(n_seasons_hist_rcp-window):\n",
    "    season_strings_hist_rcp = [str(i)+'-'+str(i+1) for i in range(year_start_list[yr_idx],year_end_list[yr_idx])]\n",
    "    \n",
    "    for latlon_idx in range(len(latlon_indices)):\n",
    "\n",
    "        # collect seasonal events for the specific 30 year chunk\n",
    "        seasonal_events = all_events_hist_rcp_3d[latlon_idx,:,yr_idx:yr_idx+window].reshape((-1))\n",
    "\n",
    "        return_period_values_hist_rcp[latlon_idx,yr_idx,0] = numpy.percentile(seasonal_events, return_val_perc)\n",
    "        return_period_values_hist_rcp[latlon_idx,yr_idx,1] = numpy.sum(seasonal_events<return_period_values_hist_rcp[latlon_idx,yr_idx,0])\n",
    "        return_period_values_hist_rcp[latlon_idx,yr_idx,2] = numpy.sum(seasonal_events<return_period_values_pic[latlon_idx,0])\n",
    "    #return_period_values_hist_rcp_df = pandas.DataFrame(return_period_values_hist_rcp, columns=['Perc value hist eoc','Num hist eoc exceedances','Num PIC exceedances'])\n"
   ]
  },
  {
   "cell_type": "code",
   "execution_count": 23,
   "metadata": {
    "collapsed": true
   },
   "outputs": [],
   "source": [
    "# calculate ratio of frequencies of exceedance\n",
    "pic_counts = return_period_values_pic[:,1]\n",
    "hist_rcp_counts = return_period_values_hist_rcp[:,:,2]\n",
    "\n",
    "#return_values_pic_2d = return_period_values_pic[:,0].reshape(PRECT_nlat, PRECT_nlon)\n",
    "#return_values_hist_rcp_2d = return_period_values_hist_rcp[:,0].reshape(PRECT_nlat, PRECT_nlon)\n",
    "\n",
    "\n",
    "#print(pic_counts.shape, hist_rcp_counts.shape)\n",
    "pic_counts_reshape = pic_counts.reshape((PRECT_nlat, PRECT_nlon))\n",
    "hist_rcp_counts_reshape = hist_rcp_counts.reshape((PRECT_nlat, PRECT_nlon,-1))\n",
    "pic_counts_LA = pic_counts_reshape[9,17]\n",
    "hist_rcp_counts_LA = hist_rcp_counts_reshape[9,17,:]\n",
    "\n",
    "#count_ratio = ((hist_rcp_counts/(30*40)).T/(pic_counts/1798)).T\n",
    "#count_ratio_2d = count_ratio.reshape((PRECT_nlat, PRECT_nlon, 150))\n",
    "#count_ratio_2d_cali = numpy.mean( count_ratio_2d[cali_coast_latlon_indices[:,0],cali_coast_latlon_indices[:,1],:].reshape((11,3,150)) , axis=1)"
   ]
  },
  {
   "cell_type": "code",
   "execution_count": 24,
   "metadata": {},
   "outputs": [
    {
     "data": {
      "image/png": "[encoded data removed]",
      "text/plain": [
       "<matplotlib.figure.Figure at 0x113911588>"
      ]
     },
     "metadata": {},
     "output_type": "display_data"
    }
   ],
   "source": [
    "fontsize=12\n",
    "\n",
    "xvals = numpy.arange(1936,2086, dtype=numpy.int)\n",
    "fig = mp.figure(figsize=(8,3))\n",
    "\n",
    "ax = fig.add_subplot(111)\n",
    "ax.plot(xvals, hist_rcp_counts_LA, c='firebrick')\n",
    "ax.axhline(numpy.mean(pic_counts_LA/44.95)*window, c='0.25', ls='--', label='PIC equivalent')\n",
    "\n",
    "ax.tick_params(labelsize=fontsize)\n",
    "ax.grid()\n",
    "ax.set_axisbelow(True)\n",
    "\n",
    "ax.set_xlim(1920,2100)\n",
    "\n",
    "ax.text(s='Number of events per 40 ensemble members ('+str(window)+'-year window)', \\\n",
    "        x=0, y=1.03, \\\n",
    "        ha='left', \\\n",
    "        va='bottom', \\\n",
    "        transform=ax.transAxes, \\\n",
    "        fontsize=fontsize)\n",
    "\n",
    "handles, labels = ax.get_legend_handles_labels()\n",
    "ax.legend(handles, labels, fontsize=fontsize, \\\n",
    "          scatterpoints=1, ncol=2, bbox_to_anchor=(0.03,0.95), \\\n",
    "          bbox_transform=ax.transAxes, loc='upper left', \\\n",
    "          borderaxespad=0, labelspacing=0.25, fancybox=False, \\\n",
    "          edgecolor='None', framealpha=0, borderpad=0., handletextpad=0.25)\n",
    "\n",
    "fig.savefig('N_events_'+str(window)+'year_window.pdf', bbox_inches='tight', transparent=True)"
   ]
  },
  {
   "cell_type": "code",
   "execution_count": 25,
   "metadata": {},
   "outputs": [
    {
     "name": "stdout",
     "output_type": "stream",
     "text": [
      "12.0133481646\n",
      "18.0\n"
     ]
    }
   ],
   "source": [
    "print((pic_counts_LA/44.95)*window)\n",
    "print(pic_counts_LA)"
   ]
  },
  {
   "cell_type": "markdown",
   "metadata": {},
   "source": [
    "# Now save as csv files"
   ]
  },
  {
   "cell_type": "code",
   "execution_count": 26,
   "metadata": {
    "collapsed": true
   },
   "outputs": [],
   "source": [
    "col_names = ['years', 'N_events', 'N_PIC_events']\n",
    "hist_rcp_counts_LA_df = pandas.DataFrame(numpy.column_stack((xvals, hist_rcp_counts_LA, [pic_counts_LA]*xvals.size)), columns=col_names)\n",
    "hist_rcp_counts_LA_df.to_csv('csv_files/hist_rcp_counts_LA_'+str(window)+'year_window_with_PIC.csv')"
   ]
  },
  {
   "cell_type": "code",
   "execution_count": null,
   "metadata": {
    "collapsed": true
   },
   "outputs": [],
   "source": []
  }
 ],
 "metadata": {
  "kernelspec": {
   "display_name": "Python 3",
   "language": "python",
   "name": "python3"
  },
  "language_info": {
   "codemirror_mode": {
    "name": "ipython",
    "version": 3
   },
   "file_extension": ".py",
   "mimetype": "text/x-python",
   "name": "python",
   "nbconvert_exporter": "python",
   "pygments_lexer": "ipython3",
   "version": "3.6.2"
  }
 },
 "nbformat": 4,
 "nbformat_minor": 2
}
