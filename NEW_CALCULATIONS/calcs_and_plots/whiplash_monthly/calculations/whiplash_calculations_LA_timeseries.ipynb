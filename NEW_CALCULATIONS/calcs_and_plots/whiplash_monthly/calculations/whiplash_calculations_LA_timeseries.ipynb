{
 "cells": [
  {
   "cell_type": "code",
   "execution_count": 1,
   "metadata": {
    "collapsed": true
   },
   "outputs": [],
   "source": [
    "import numpy\n",
    "import scipy\n",
    "import netCDF4\n",
    "import matplotlib.pyplot as mp\n",
    "import matplotlib.ticker\n",
    "import matplotlib.colors\n",
    "import scipy.stats\n",
    "import pandas\n",
    "import itertools\n",
    "import mpl_toolkits.axes_grid1\n",
    "\n",
    "from mpl_toolkits import basemap\n",
    "\n",
    "mp.rcParams.update({'mathtext.default': 'regular'})\n",
    "% matplotlib inline"
   ]
  },
  {
   "cell_type": "markdown",
   "metadata": {},
   "source": [
    "# Alternative test:  instead of using month-specific percentiles, use percentiles over whole season"
   ]
  },
  {
   "cell_type": "code",
   "execution_count": 2,
   "metadata": {
    "collapsed": true
   },
   "outputs": [],
   "source": [
    "PRECT_lat = numpy.load('/Users/baird/Dropbox/_analysis/attribution_2017/NEW_CALCULATIONS/npy_files/PRECT_lat.npy')\n",
    "PRECT_lon = numpy.load('/Users/baird/Dropbox/_analysis/attribution_2017/NEW_CALCULATIONS/npy_files/PRECT_lon.npy')"
   ]
  },
  {
   "cell_type": "code",
   "execution_count": 3,
   "metadata": {
    "collapsed": true
   },
   "outputs": [],
   "source": [
    "PRECT_nlat = 26\n",
    "PRECT_nlon = 25\n",
    "\n",
    "latlon_indices = list(itertools.product(range(PRECT_nlat), range(PRECT_nlon)))\n",
    "region = 'whole_domain'\n",
    "window=1\n",
    "\n",
    "year_start_pic = 402 #time_subsets[chunk,0]\n",
    "year_end_pic = 2200 #time_subsets[chunk,1]\n",
    "year_start = 1920\n",
    "year_end = 2100"
   ]
  },
  {
   "cell_type": "code",
   "execution_count": 4,
   "metadata": {
    "collapsed": true
   },
   "outputs": [],
   "source": [
    "year_start_list = numpy.arange(1920,2071)\n",
    "year_end_list = numpy.arange(1950,2101)\n",
    "\n",
    "whiplash_ratios_all = numpy.zeros(( year_start_list.size, len(latlon_indices) ))\n",
    "whiplash_counts_pic_all = numpy.zeros(( year_start_list.size, len(latlon_indices) ))\n",
    "whiplash_counts_rcp_all = numpy.zeros(( year_start_list.size, len(latlon_indices) ))\n",
    "\n",
    "# create list of names of members '001','002','003', ...\n",
    "ensemble_members = numpy.hstack((numpy.arange(1,36), numpy.arange(101,106)))\n",
    "ensemble_names = ['{:03d}'.format(i) for i in ensemble_members]\n",
    "\n",
    "working_dir = '/Users/baird/Dropbox/_data_original/NCAR_LENS/daily/PRECT/calculated_npy_files/whole_domain/'"
   ]
  },
  {
   "cell_type": "code",
   "execution_count": 5,
   "metadata": {
    "collapsed": true
   },
   "outputs": [],
   "source": [
    "# create season strings\n",
    "years_hist_rcp = numpy.arange(1920, 2100+1, 1).astype(numpy.int)\n",
    "\n",
    "idx_2003 = numpy.where(years_hist_rcp==2003)[0][0]\n",
    "idx_2033 = numpy.where(years_hist_rcp==2033)[0][0]\n",
    "idx_2070 = numpy.where(years_hist_rcp==2070)[0][0]\n",
    "idx_2100 = numpy.where(years_hist_rcp==2100)[0][0]\n",
    "\n",
    "season_strings_hist_rcp = [str(years_hist_rcp[i])+'-'+str(years_hist_rcp[i+1]) for i in range(years_hist_rcp.size-1)]\n",
    "#print(season_strings_hist_rcp[idx_2003:idx_2033])\n",
    "\n",
    "n_seasons_hist_rcp = 2100-1920\n",
    "#print(len(season_strings_hist_rcp))"
   ]
  },
  {
   "cell_type": "code",
   "execution_count": 6,
   "metadata": {
    "collapsed": true
   },
   "outputs": [],
   "source": [
    "# import monthly pic data\n",
    "working_dir = '/Users/baird/Dropbox/_data_original/NCAR_LENS/daily/PRECT/calculated_npy_files/whole_domain_MONTHLY_TOTALS/'\n",
    "monthly_data_pic = numpy.load(working_dir+'member_005_years_0402-2200_threshold_0.1mmday_whole_domain.npy')\n",
    "#print(monthly_data_pic.shape)\n",
    "# (26, 25, 1799, 12)\n",
    "\n",
    "monthly_data_pic_NDJFM = numpy.zeros((26,25,1798,5))\n",
    "\n",
    "monthly_data_pic_NDJFM[:,:,:,0] = monthly_data_pic[:,:,:1798,10]\n",
    "monthly_data_pic_NDJFM[:,:,:,1] = monthly_data_pic[:,:,:1798,11]\n",
    "monthly_data_pic_NDJFM[:,:,:,2] = monthly_data_pic[:,:,1:,0]\n",
    "monthly_data_pic_NDJFM[:,:,:,3] = monthly_data_pic[:,:,1:,1]\n",
    "monthly_data_pic_NDJFM[:,:,:,4] = monthly_data_pic[:,:,1:,2]"
   ]
  },
  {
   "cell_type": "code",
   "execution_count": 7,
   "metadata": {
    "collapsed": true
   },
   "outputs": [],
   "source": [
    "# import monthly RCP data\n",
    "monthly_data_hist_rcp = []\n",
    "for ens_name in ensemble_names:\n",
    "    monthly_data_hist_rcp.append(numpy.load(working_dir+'PRECT_monthly_data_member_' +ens_name+ '_years_1920-2100_threshold_0.1mmday_whole_domain.npy'))\n",
    "monthly_data_hist_rcp = numpy.array((monthly_data_hist_rcp))\n",
    "#print(monthly_data_hist_rcp.shape)\n",
    "# (40, 26, 25, 181, 12)\n",
    "\n",
    "# store just NDJFM\n",
    "monthly_data_hist_rcp_NDJFM = numpy.zeros((40,26,25,180,12))\n",
    "monthly_data_hist_rcp_NDJFM[:,:,:,:,0] = monthly_data_hist_rcp[:,:,:,:180,10]\n",
    "monthly_data_hist_rcp_NDJFM[:,:,:,:,1] = monthly_data_hist_rcp[:,:,:,:180,11]\n",
    "monthly_data_hist_rcp_NDJFM[:,:,:,:,2] = monthly_data_hist_rcp[:,:,:,1:,0]\n",
    "monthly_data_hist_rcp_NDJFM[:,:,:,:,3] = monthly_data_hist_rcp[:,:,:,1:,1]\n",
    "monthly_data_hist_rcp_NDJFM[:,:,:,:,4] = monthly_data_hist_rcp[:,:,:,1:,2]"
   ]
  },
  {
   "cell_type": "code",
   "execution_count": 25,
   "metadata": {},
   "outputs": [
    {
     "name": "stdout",
     "output_type": "stream",
     "text": [
      "(26, 25, 1798, 5)\n"
     ]
    }
   ],
   "source": [
    "# calculate 80th, 20th percentiles for PIC for each month\n",
    "hi_perc = 95\n",
    "lo_perc = 5\n",
    "\n",
    "monthly_data_pic_NDJFM_reshape = monthly_data_pic_NDJFM.reshape((26,25,-1))\n",
    "print(monthly_data_pic_NDJFM.shape) # \n",
    "\n",
    "#pic_hi_perc_NDJFM = numpy.percentile(monthly_data_pic_NDJFM_reshape, hi_perc, axis=2) # 26x25x5\n",
    "#pic_lo_perc_NDJFM = numpy.percentile(monthly_data_pic_NDJFM_reshape, lo_perc, axis=2) # 26x25x5\n",
    "\n",
    "pic_hi_perc_NDJFM = numpy.percentile(monthly_data_pic_NDJFM, hi_perc, axis=2) # 26x25x5\n",
    "pic_lo_perc_NDJFM = numpy.percentile(monthly_data_pic_NDJFM, lo_perc, axis=2) # 26x25x5"
   ]
  },
  {
   "cell_type": "raw",
   "metadata": {
    "collapsed": true
   },
   "source": [
    "# whiplash events for pic runs\n",
    "whiplash_lotohi_count_pic = numpy.zeros((1798,26,25))\n",
    "whiplash_hitolo_count_pic = numpy.zeros((1798,26,25))\n",
    "for lat_idx in range(26):\n",
    "    for lon_idx in range(25):\n",
    "        for s in range(1798):\n",
    "            for m in range(5-1):\n",
    "                # lo to hi\n",
    "                m_val = monthly_data_pic_NDJFM[lat_idx,lon_idx,s,m]\n",
    "                m_plus_one_val = monthly_data_pic_NDJFM[lat_idx,lon_idx,s,m+1]\n",
    "                \n",
    "                if ( (m_val<pic_lo_perc_NDJFM[lat_idx,lon_idx,m]) and (m_plus_one_val>pic_hi_perc_NDJFM[lat_idx,lon_idx,m+1]) ):\n",
    "                    whiplash_lotohi_count_pic[s,lat_idx,lon_idx]+=1\n",
    "                if ( (m_val>pic_hi_perc_NDJFM[lat_idx,lon_idx,m]) and (m_plus_one_val<pic_lo_perc_NDJFM[lat_idx,lon_idx,m+1]) ):\n",
    "                    whiplash_hitolo_count_pic[s,lat_idx,lon_idx]+=1"
   ]
  },
  {
   "cell_type": "code",
   "execution_count": 26,
   "metadata": {
    "collapsed": true
   },
   "outputs": [],
   "source": [
    "# whiplash events for pic runs\n",
    "whiplash_lotohi_count_pic = numpy.zeros((1798,26,25))\n",
    "whiplash_hitolo_count_pic = numpy.zeros((1798,26,25))\n",
    "for lat_idx in range(26):\n",
    "    for lon_idx in range(25):\n",
    "        for s in range(1798):\n",
    "            for m in range(5-1):\n",
    "                # lo to hi\n",
    "                m_val = monthly_data_pic_NDJFM[lat_idx,lon_idx,s,m]\n",
    "                m_plus_one_val = monthly_data_pic_NDJFM[lat_idx,lon_idx,s,m+1]\n",
    "                \n",
    "                if ( (m_val<pic_lo_perc_NDJFM[lat_idx,lon_idx,m]) and (m_plus_one_val>pic_hi_perc_NDJFM[lat_idx,lon_idx,m+1]) ):\n",
    "                    whiplash_lotohi_count_pic[s,lat_idx,lon_idx]+=1\n",
    "                if ( (m_val>pic_hi_perc_NDJFM[lat_idx,lon_idx,m]) and (m_plus_one_val<pic_lo_perc_NDJFM[lat_idx,lon_idx,m+1]) ):\n",
    "                    whiplash_hitolo_count_pic[s,lat_idx,lon_idx]+=1"
   ]
  },
  {
   "cell_type": "code",
   "execution_count": 10,
   "metadata": {
    "collapsed": true
   },
   "outputs": [],
   "source": [
    "#whiplash_pic = whiplash_hitolo_count_pic#+whiplash_lotohi_count_pic\n",
    "whiplash_pic = whiplash_lotohi_count_pic#+whiplash_hitolo_count_pic\n",
    "#whiplash_pic = whiplash_hitolo_count_pic+whiplash_lotohi_count_pic\n",
    "\n",
    "whiplash_pic_alltime = numpy.sum(whiplash_pic, axis=0)"
   ]
  },
  {
   "cell_type": "code",
   "execution_count": 11,
   "metadata": {},
   "outputs": [
    {
     "data": {
      "text/plain": [
       "<matplotlib.colorbar.Colorbar at 0x12d6162e8>"
      ]
     },
     "execution_count": 11,
     "metadata": {},
     "output_type": "execute_result"
    },
    {
     "data": {
      "image/png": "[encoded data removed]",
      "text/plain": [
       "<matplotlib.figure.Figure at 0x11a3b9c50>"
      ]
     },
     "metadata": {},
     "output_type": "display_data"
    }
   ],
   "source": [
    "plot_array = whiplash_pic_alltime#+whiplash_hitolo_count_pic\n",
    "#plot_array = whiplash_hitolo_count_pic\n",
    "cf=mp.contourf(plot_array/1798)\n",
    "mp.colorbar(cf)"
   ]
  },
  {
   "cell_type": "code",
   "execution_count": 27,
   "metadata": {},
   "outputs": [
    {
     "name": "stdout",
     "output_type": "stream",
     "text": [
      "0\n",
      "1\n",
      "2\n",
      "3\n",
      "4\n",
      "5\n",
      "6\n",
      "7\n",
      "8\n",
      "9\n",
      "10\n",
      "11\n",
      "12\n",
      "13\n",
      "14\n",
      "15\n",
      "16\n",
      "17\n",
      "18\n",
      "19\n",
      "20\n",
      "21\n",
      "22\n",
      "23\n",
      "24\n",
      "25\n",
      "26\n",
      "27\n",
      "28\n",
      "29\n",
      "30\n",
      "31\n",
      "32\n",
      "33\n",
      "34\n",
      "35\n",
      "36\n",
      "37\n",
      "38\n",
      "39\n"
     ]
    }
   ],
   "source": [
    "# whiplash events for RCP runs\n",
    "whiplash_lotohi_count_hist_rcp = numpy.zeros((180,40,26,25))\n",
    "whiplash_hitolo_count_hist_rcp = numpy.zeros((180,40,26,25))\n",
    "for ens_idx in range(40):\n",
    "    print(ens_idx)\n",
    "    for lat_idx in range(26):\n",
    "        for lon_idx in range(25):\n",
    "            for s in range(180):\n",
    "                for m in range(5-1):\n",
    "                    # lo to hi\n",
    "                    m_val = monthly_data_hist_rcp_NDJFM[ens_idx,lat_idx,lon_idx,s,m]\n",
    "                    m_plus_one_val = monthly_data_hist_rcp_NDJFM[ens_idx,lat_idx,lon_idx,s,m+1]\n",
    "                    if ( (m_val<pic_lo_perc_NDJFM[lat_idx,lon_idx,m]) and (m_plus_one_val>pic_hi_perc_NDJFM[lat_idx,lon_idx,m+1]) ):\n",
    "                        whiplash_lotohi_count_hist_rcp[s,ens_idx,lat_idx,lon_idx]+=1\n",
    "                    if ( (m_val>pic_hi_perc_NDJFM[lat_idx,lon_idx,m]) and (m_plus_one_val<pic_lo_perc_NDJFM[lat_idx,lon_idx,m+1]) ):\n",
    "                        whiplash_hitolo_count_hist_rcp[s,ens_idx,lat_idx,lon_idx]+=1\n"
   ]
  },
  {
   "cell_type": "markdown",
   "metadata": {},
   "source": [
    "# Choose to only account for lo-to-hi, hi-to-lo, or both"
   ]
  },
  {
   "cell_type": "code",
   "execution_count": 28,
   "metadata": {},
   "outputs": [
    {
     "name": "stdout",
     "output_type": "stream",
     "text": [
      "(180, 40, 26, 25)\n",
      "(40, 26, 25)\n",
      "(26, 25)\n"
     ]
    }
   ],
   "source": [
    "#whiplash_hist_rcp = whiplash_hitolo_count_hist_rcp# + whiplash_lotohi_count_hist_rcp\n",
    "whiplash_hist_rcp = whiplash_lotohi_count_hist_rcp# + whiplash_hitolo_count_hist_rcp\n",
    "#whiplash_hist_rcp = whiplash_lotohi_count_hist_rcp + whiplash_hitolo_count_hist_rcp\n",
    "\n",
    "print(whiplash_hist_rcp.shape)\n",
    "\n",
    "whiplash_all_ens_alltime_hist_rcp = numpy.mean(whiplash_hist_rcp, axis=0)\n",
    "print(whiplash_all_ens_alltime_hist_rcp.shape)\n",
    "whiplash_all_ens_alltime_hist_rcp = numpy.mean(whiplash_all_ens_alltime_hist_rcp, axis=0)\n",
    "print(whiplash_all_ens_alltime_hist_rcp.shape)"
   ]
  },
  {
   "cell_type": "code",
   "execution_count": 29,
   "metadata": {},
   "outputs": [
    {
     "data": {
      "text/plain": [
       "<matplotlib.colorbar.Colorbar at 0x12c9a6908>"
      ]
     },
     "execution_count": 29,
     "metadata": {},
     "output_type": "execute_result"
    },
    {
     "data": {
      "image/png": "[encoded data removed]",
      "text/plain": [
       "<matplotlib.figure.Figure at 0x12dd865c0>"
      ]
     },
     "metadata": {},
     "output_type": "display_data"
    }
   ],
   "source": [
    "cf=mp.contourf(whiplash_all_ens_alltime_hist_rcp)\n",
    "mp.colorbar(cf)"
   ]
  },
  {
   "cell_type": "markdown",
   "metadata": {},
   "source": [
    "# Whiplash for 2003-2033 and 2070-2100"
   ]
  },
  {
   "cell_type": "markdown",
   "metadata": {},
   "source": [
    "# Calculate whiplash ratios relative to PIC"
   ]
  },
  {
   "cell_type": "code",
   "execution_count": 30,
   "metadata": {},
   "outputs": [
    {
     "name": "stdout",
     "output_type": "stream",
     "text": [
      "(180, 40, 26, 25)\n"
     ]
    }
   ],
   "source": [
    "print(whiplash_hist_rcp.shape)"
   ]
  },
  {
   "cell_type": "code",
   "execution_count": 31,
   "metadata": {
    "collapsed": true
   },
   "outputs": [],
   "source": [
    "whiplash_hist_rcp_alltime = numpy.sum(whiplash_hist_rcp, axis=1)\n",
    "#print(whiplash_hist_rcp_alltime.shape) # 180x26x25\n",
    "\n",
    "whiplash_hist_rcp_2003_2033 = numpy.sum(whiplash_hist_rcp_alltime[idx_2003:idx_2033,:,:], axis=0)\n",
    "whiplash_hist_rcp_2070_2100 = numpy.sum(whiplash_hist_rcp_alltime[idx_2070:idx_2100,:,:], axis=0)\n",
    "\n",
    "# whiplash events for pic runs\n",
    "pic_freq = (whiplash_pic_alltime/1798)\n",
    "# times per century for RCP8.5-like warming\n",
    "rcp_freq_2003_2033 = (whiplash_hist_rcp_2003_2033/(40*30))\n",
    "rcp_freq_2070_2100 = (whiplash_hist_rcp_2070_2100/(40*30))\n",
    "\n",
    "wr_2003_2033 = rcp_freq_2003_2033/pic_freq\n",
    "wr_2070_2100 = rcp_freq_2070_2100/pic_freq"
   ]
  },
  {
   "cell_type": "raw",
   "metadata": {},
   "source": [
    "mp.contourf(whiplash_pic_alltime)"
   ]
  },
  {
   "cell_type": "markdown",
   "metadata": {
    "collapsed": true
   },
   "source": [
    "# Calculate time-latitude array"
   ]
  },
  {
   "cell_type": "code",
   "execution_count": 32,
   "metadata": {
    "collapsed": true
   },
   "outputs": [],
   "source": [
    "cali_coast_latlon_indices = numpy.load('/Users/baird/Dropbox/_analysis/attribution_2017/NEW_CALCULATIONS/npy_files/coastal_latlon_array_indices_3x.npy')\n",
    "cali_coast_latlon_indices_zip = [i for i in zip(cali_coast_latlon_indices[:,0], cali_coast_latlon_indices[:,1])]\n",
    "\n",
    "cali_coast_latlon_indices_3d = cali_coast_latlon_indices.reshape((11,3,2))\n",
    "#print(cali_coast_latlon_indices_3d[0,:,:])"
   ]
  },
  {
   "cell_type": "markdown",
   "metadata": {},
   "source": [
    "# Pull out LA specific lat/lon"
   ]
  },
  {
   "cell_type": "code",
   "execution_count": 33,
   "metadata": {},
   "outputs": [
    {
     "name": "stdout",
     "output_type": "stream",
     "text": [
      "(180, 40, 26, 25)\n",
      "(1798, 26, 25)\n"
     ]
    }
   ],
   "source": [
    "print(whiplash_hist_rcp.shape)\n",
    "print(whiplash_pic.shape)\n",
    "\n",
    "whiplash_hist_rcp_LA = whiplash_hist_rcp[:,:,9,17].sum(axis=1) # sum across ensemble members\n",
    "whiplash_pic_LA = whiplash_pic[:,9,17]\n",
    "\n",
    "#pic_counts_LA = pic_counts_reshape[9,17]\n",
    "#hist_rcp_counts_LA = hist_rcp_counts_reshape[9,17,:]"
   ]
  },
  {
   "cell_type": "code",
   "execution_count": 34,
   "metadata": {},
   "outputs": [
    {
     "name": "stdout",
     "output_type": "stream",
     "text": [
      "10\n"
     ]
    },
    {
     "data": {
      "image/png": "[encoded data removed]",
      "text/plain": [
       "<matplotlib.figure.Figure at 0x12c9b67f0>"
      ]
     },
     "metadata": {},
     "output_type": "display_data"
    }
   ],
   "source": [
    "fig = mp.figure(figsize=(10,3))\n",
    "ax = fig.add_subplot(111)\n",
    "ax.plot(whiplash_pic_LA)\n",
    "print(numpy.sum(whiplash_pic_LA>0))"
   ]
  },
  {
   "cell_type": "code",
   "execution_count": 35,
   "metadata": {},
   "outputs": [
    {
     "name": "stdout",
     "output_type": "stream",
     "text": [
      "0.00583333333333\n"
     ]
    },
    {
     "data": {
      "image/png": "[encoded data removed]",
      "text/plain": [
       "<matplotlib.figure.Figure at 0x12dc59358>"
      ]
     },
     "metadata": {},
     "output_type": "display_data"
    }
   ],
   "source": [
    "mp.plot(numpy.arange(1920,2100), whiplash_hist_rcp_LA)\n",
    "print(numpy.sum(whiplash_hist_rcp_LA[whiplash_hist_rcp_LA>0])/(40*180))"
   ]
  },
  {
   "cell_type": "code",
   "execution_count": 36,
   "metadata": {
    "collapsed": true
   },
   "outputs": [],
   "source": [
    "window=1\n",
    "whiplash_pic_LA_rolling = pandas.Series(whiplash_pic_LA).rolling(window=window).mean()\n",
    "whiplash_hist_rcp_LA_rolling = pandas.Series(whiplash_hist_rcp_LA).rolling(window=window).mean()"
   ]
  },
  {
   "cell_type": "code",
   "execution_count": 37,
   "metadata": {},
   "outputs": [
    {
     "name": "stdout",
     "output_type": "stream",
     "text": [
      "0.005833333333333334\n"
     ]
    },
    {
     "data": {
      "image/png": "[encoded data removed]",
      "text/plain": [
       "<matplotlib.figure.Figure at 0x12db4f2e8>"
      ]
     },
     "metadata": {},
     "output_type": "display_data"
    }
   ],
   "source": [
    "fig = mp.figure(figsize=(5,2))\n",
    "\n",
    "ax = fig.add_subplot(111)\n",
    "\n",
    "ax.plot(numpy.arange(1920,2100), whiplash_hist_rcp_LA_rolling/40)\n",
    "ax.axhline(whiplash_hist_rcp_LA_rolling.mean()/40)\n",
    "\n",
    "print(whiplash_hist_rcp_LA_rolling.mean()/40)"
   ]
  },
  {
   "cell_type": "code",
   "execution_count": 38,
   "metadata": {},
   "outputs": [
    {
     "name": "stdout",
     "output_type": "stream",
     "text": [
      "0.0055617352614015575\n"
     ]
    },
    {
     "data": {
      "image/png": "[encoded data removed]",
      "text/plain": [
       "<matplotlib.figure.Figure at 0x12d95d518>"
      ]
     },
     "metadata": {},
     "output_type": "display_data"
    }
   ],
   "source": [
    "fig = mp.figure(figsize=(10,2))\n",
    "\n",
    "ax = fig.add_subplot(111)\n",
    "\n",
    "ax.plot(numpy.arange(402,2200), whiplash_pic_LA_rolling)\n",
    "ax.axhline(whiplash_pic_LA_rolling.mean())\n",
    "print(whiplash_pic_LA_rolling.mean())\n"
   ]
  },
  {
   "cell_type": "code",
   "execution_count": null,
   "metadata": {
    "collapsed": true
   },
   "outputs": [],
   "source": []
  }
 ],
 "metadata": {
  "kernelspec": {
   "display_name": "Python 3",
   "language": "python",
   "name": "python3"
  },
  "language_info": {
   "codemirror_mode": {
    "name": "ipython",
    "version": 3
   },
   "file_extension": ".py",
   "mimetype": "text/x-python",
   "name": "python",
   "nbconvert_exporter": "python",
   "pygments_lexer": "ipython3",
   "version": "3.6.2"
  }
 },
 "nbformat": 4,
 "nbformat_minor": 2
}
