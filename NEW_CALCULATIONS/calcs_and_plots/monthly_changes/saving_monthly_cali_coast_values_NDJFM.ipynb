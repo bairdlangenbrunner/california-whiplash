{
 "cells": [
  {
   "cell_type": "code",
   "execution_count": 1,
   "metadata": {
    "collapsed": true
   },
   "outputs": [],
   "source": [
    "import numpy\n",
    "import scipy\n",
    "import netCDF4\n",
    "import matplotlib.pyplot as mp\n",
    "import matplotlib.ticker\n",
    "import matplotlib.colors\n",
    "import matplotlib.cm\n",
    "import scipy.stats\n",
    "import pandas\n",
    "import itertools\n",
    "from mpl_toolkits import basemap\n",
    "import mpl_toolkits.axes_grid1\n",
    "import time\n",
    "\n",
    "mp.rcParams.update({'mathtext.default': 'regular'})\n",
    "% matplotlib inline"
   ]
  },
  {
   "cell_type": "markdown",
   "metadata": {},
   "source": [
    "# Determine number of \"events\" that happen per year, and then establish your return period of interest"
   ]
  },
  {
   "cell_type": "raw",
   "metadata": {},
   "source": [
    "#return_period = 200 # in years\n",
    "#events_per_year = 151-40\n",
    "\n",
    "return_period = 25\n",
    "events_per_year = 1\n",
    "\n",
    "return_val_perc = 100*(1-1/(return_period*events_per_year))\n",
    "print(return_val_perc)"
   ]
  },
  {
   "cell_type": "code",
   "execution_count": 2,
   "metadata": {
    "collapsed": true
   },
   "outputs": [],
   "source": [
    "working_dir = '/Users/baird/Dropbox/_analysis/attribution_2017/NEW_CALCULATIONS/npy_files/'\n",
    "#save_dir = '/Users/baird/Dropbox/_analysis/attribution_2017/NEW_CALCULATIONS/calculations/npy_files/'\n",
    "#latlon_indices = numpy.load(working_dir + 'ccal_latlon_indices_array.npy'); region='ccal'\n",
    "#latlon_indices = numpy.load(working_dir + 'ncal_latlon_indices_array.npy'); region='ncal'\n",
    "#latlon_indices = numpy.load(working_dir + 'scal_latlon_indices_array.npy'); region='scal'\n",
    "\n",
    "PRECT_lat = numpy.load('/Users/baird/Dropbox/_analysis/attribution_2017/NEW_CALCULATIONS/npy_files/PRECT_lat.npy')\n",
    "PRECT_lon = numpy.load('/Users/baird/Dropbox/_analysis/attribution_2017/NEW_CALCULATIONS/npy_files/PRECT_lon.npy')"
   ]
  },
  {
   "cell_type": "code",
   "execution_count": 3,
   "metadata": {
    "collapsed": true
   },
   "outputs": [],
   "source": [
    "working_dir = '/Users/baird/Dropbox/_data_original/NCAR_LENS/daily/PRECT/calculated_npy_files/whole_domain/'\n",
    "#threshold=0.0\n",
    "threshold=0.1\n",
    "#threshold=0.5\n",
    "#threshold=1.0\n",
    "#threshold=5.0\n",
    "#threshold=10.0"
   ]
  },
  {
   "cell_type": "code",
   "execution_count": 4,
   "metadata": {
    "collapsed": true
   },
   "outputs": [],
   "source": [
    "PRECT_nlat = 26\n",
    "PRECT_nlon = 25\n",
    "\n",
    "latlon_indices = list(itertools.product(range(PRECT_nlat), range(PRECT_nlon)))\n",
    "region = 'whole_domain'\n",
    "window=1"
   ]
  },
  {
   "cell_type": "code",
   "execution_count": 5,
   "metadata": {
    "collapsed": true
   },
   "outputs": [],
   "source": [
    "cali_coast_latlon_indices = numpy.load('/Users/baird/Dropbox/_analysis/attribution_2017/NEW_CALCULATIONS/npy_files/coastal_latlon_array_indices_3x.npy')\n",
    "cali_coast_latlon_indices_zip = [i for i in zip(cali_coast_latlon_indices[:,0], cali_coast_latlon_indices[:,1])]\n",
    "\n",
    "cali_coast_latlon_indices_3d = cali_coast_latlon_indices.reshape((11,3,2))\n",
    "#print(cali_coast_latlon_indices_3d[0,:,:])"
   ]
  },
  {
   "cell_type": "markdown",
   "metadata": {},
   "source": [
    "# Open and save preindustrial control data"
   ]
  },
  {
   "cell_type": "code",
   "execution_count": 6,
   "metadata": {
    "collapsed": true
   },
   "outputs": [],
   "source": [
    "year_start_pic = 402 #time_subsets[chunk,0]\n",
    "year_end_pic = 2200 #time_subsets[chunk,1]\n",
    "\n",
    "# create season strings\n",
    "years_pic = numpy.arange(year_start_pic, year_end_pic+1, 1).astype(numpy.int)\n",
    "half_years_pic = numpy.arange(year_start_pic+0.75, year_end_pic, 1)\n",
    "#season_strings_pic = numpy.empty(years.size-1, dtype=numpy.str)\n",
    "\n",
    "season_strings_pic = [str(years_pic[i])+'-'+str(years_pic[i+1]) for i in range(years_pic.size-1)]\n",
    "member_strings_pic = ['{:03d}'.format(i) for i in range(1,36)]\n",
    "\n",
    "n_seasons_pic=year_end_pic-year_start_pic"
   ]
  },
  {
   "cell_type": "raw",
   "metadata": {},
   "source": [
    "working_dir = '/Users/baird/Dropbox/_data_original/NCAR_LENS/daily/PRECT/calculated_npy_files/whole_domain/'\n",
    "# for each grid point:\n",
    "# cycle through all times, get extreme seasonal sum in each time period, store in array with length(season_strings_pic)\n",
    "# once this is done, calculate the return periods of each of these\n",
    "monthly_total_values_pic = numpy.zeros(( PRECT_nlat*PRECT_nlon, len(season_strings_pic), 5))\n",
    "for latlon_idx in range(len(latlon_indices)):\n",
    "    if latlon_idx%10==0:\n",
    "        print(latlon_idx)\n",
    "    filename = 'member_005_latidx_'+'{:02d}'.format(latlon_indices[latlon_idx][0])+'_lonidx_'+'{:02d}'.format(latlon_indices[latlon_idx][1])+'_years_'+'{:04d}'.format(year_start_pic)+'-'+'{:04d}'.format(year_end_pic)+'_threshold_'+str(threshold)+'mmday_'+region+'.npy'\n",
    "    dict_pic = numpy.load(working_dir + filename).item()\n",
    "    #print(dict_pic['402-403'].keys())\n",
    "    #print(dict_pic['402-403']['monthly_totals'])\n",
    "    monthly_total_values_pic[latlon_idx,:,:] = [dict_pic[i]['monthly_totals'] for i in dict_pic.keys()]\n",
    "    #seasonal_events_list = [dict_pic[i]['seasonal_total'] for i in dict_pic.keys()]\n",
    "    #return_period_values_pic[latlon_idx,0] = numpy.percentile(seasonal_events_list, return_val_perc)#, interpolation='nearest')\n",
    "    #return_period_values_pic[latlon_idx,1] = numpy.sum(seasonal_events_list>return_period_values_pic[latlon_idx,0])"
   ]
  },
  {
   "cell_type": "raw",
   "metadata": {},
   "source": [
    "numpy.save('csv_files/monthly_total_values_pic.npy', monthly_total_values_pic)"
   ]
  },
  {
   "cell_type": "raw",
   "metadata": {
    "collapsed": true
   },
   "source": [
    "return_period_values_pic_df = pandas.DataFrame(return_period_values_pic)\n",
    "return_period_values_pic_df.to_csv('csv_files/return_period_values_pic_df.csv')\n",
    "print(return_period_values_pic_df)\n",
    "return_period_values_pic_df = pandas.read_csv('csv_files/return_period_values_pic_df.csv')\n",
    "return_period_values_pic = return_period_values_pic_df.values[:,1:]"
   ]
  },
  {
   "cell_type": "code",
   "execution_count": 7,
   "metadata": {
    "collapsed": true
   },
   "outputs": [],
   "source": [
    "monthly_total_values_pic = numpy.load('csv_files/monthly_total_values_pic.npy')"
   ]
  },
  {
   "cell_type": "code",
   "execution_count": 8,
   "metadata": {},
   "outputs": [
    {
     "name": "stdout",
     "output_type": "stream",
     "text": [
      "(650, 1798, 5)\n"
     ]
    }
   ],
   "source": [
    "print(monthly_total_values_pic.shape)"
   ]
  },
  {
   "cell_type": "code",
   "execution_count": 9,
   "metadata": {
    "collapsed": true
   },
   "outputs": [],
   "source": [
    "# pull out coastal cali lat/lon values\n",
    "monthly_total_values_pic = monthly_total_values_pic.reshape((PRECT_nlat, PRECT_nlon,1798,5))"
   ]
  },
  {
   "cell_type": "code",
   "execution_count": 10,
   "metadata": {},
   "outputs": [
    {
     "name": "stdout",
     "output_type": "stream",
     "text": [
      "(11, 1798, 5)\n"
     ]
    }
   ],
   "source": [
    "monthly_pic_cali_coast = monthly_total_values_pic[cali_coast_latlon_indices[:,0], cali_coast_latlon_indices[:,1],:,:].reshape((11,3,1798,5))\n",
    "monthly_pic_cali_coast_lonmean = numpy.mean(monthly_pic_cali_coast, axis=1)\n",
    "print(monthly_pic_cali_coast_lonmean.shape)\n",
    "monthly_pic_cali_coast_timemean = numpy.mean(monthly_pic_cali_coast_lonmean, axis=1)"
   ]
  },
  {
   "cell_type": "code",
   "execution_count": 11,
   "metadata": {},
   "outputs": [
    {
     "name": "stdout",
     "output_type": "stream",
     "text": [
      "(26, 25, 1798, 5)\n"
     ]
    }
   ],
   "source": [
    "print(monthly_total_values_pic.shape)"
   ]
  },
  {
   "cell_type": "code",
   "execution_count": 31,
   "metadata": {
    "collapsed": true
   },
   "outputs": [],
   "source": [
    "# calculate standard error of the mean\n",
    "monthly_pic_stdev = numpy.std(monthly_total_values_pic, axis=2, ddof=1)\n",
    "monthly_pic_stderr = monthly_pic_stdev#/numpy.sqrt(monthly_total_values_pic.shape[2]) # 26x25x5\n",
    "monthly_pic_cali_coast_stderr = monthly_pic_stderr[cali_coast_latlon_indices[:,0], cali_coast_latlon_indices[:,1],:].reshape((11,3,-1))\n",
    "monthly_pic_cali_coast_stderr_lonmean = numpy.mean(monthly_pic_cali_coast_stderr, axis=1)"
   ]
  },
  {
   "cell_type": "code",
   "execution_count": 32,
   "metadata": {},
   "outputs": [
    {
     "name": "stdout",
     "output_type": "stream",
     "text": [
      "(11, 5)\n"
     ]
    }
   ],
   "source": [
    "print(monthly_pic_cali_coast_stderr_lonmean.shape)"
   ]
  },
  {
   "cell_type": "code",
   "execution_count": 33,
   "metadata": {},
   "outputs": [
    {
     "name": "stdout",
     "output_type": "stream",
     "text": [
      "(26, 25, 5)\n"
     ]
    }
   ],
   "source": [
    "print(monthly_pic_stderr.shape)"
   ]
  },
  {
   "cell_type": "code",
   "execution_count": 38,
   "metadata": {},
   "outputs": [
    {
     "data": {
      "image/png": "[encoded data removed]",
      "text/plain": [
       "<matplotlib.figure.Figure at 0x12fd8e588>"
      ]
     },
     "metadata": {},
     "output_type": "display_data"
    }
   ],
   "source": [
    "month_values = [1.5,2.5,3.5,4.5,5.5]\n",
    "month_labels = ['Nov', 'Dec', 'Jan', 'Feb', 'Mar']\n",
    "\n",
    "fontsize=12\n",
    "fig = mp.figure(figsize=(3,3))\n",
    "ax = fig.add_subplot(111)\n",
    "for i in range(11):\n",
    "    ax.plot(month_values, monthly_pic_cali_coast_timemean[i,:], color=matplotlib.cm.viridis_r((i+1)/11), lw=2)\n",
    "\n",
    "for i in range(11):\n",
    "    ax.fill_between(month_values, monthly_pic_cali_coast_timemean[i,:]-monthly_pic_cali_coast_stderr_lonmean[i,:]*1.96, \\\n",
    "                    monthly_pic_cali_coast_timemean[i,:]+monthly_pic_cali_coast_stderr_lonmean[i,:]*1.96, \\\n",
    "                    facecolor=matplotlib.cm.viridis_r((i+1)/11), \\\n",
    "                    edgecolor=matplotlib.cm.viridis_r((i+1)/11), \\\n",
    "                    alpha=0.25)\n",
    "\n",
    "ax.set_xticks(month_values)\n",
    "ax.set_xticklabels(month_labels, ha='center', va='top')\n",
    "ax.tick_params(labelsize=fontsize)\n",
    "ax.set_ylabel('Monthly precip. (mm day$^{-1}$)', fontsize=fontsize)\n",
    "ax.set_xlabel('Month', fontsize=fontsize)\n",
    "\n",
    "ax.set_xlim(1,6)\n",
    "#ax.set_ylim(-25,300)\n",
    "\n",
    "ax.grid()\n",
    "ax.set_axisbelow(True)\n",
    "fig.savefig('pic_monthly_precip_values.pdf', bbox_inches='tight', transparent=True)"
   ]
  },
  {
   "cell_type": "code",
   "execution_count": null,
   "metadata": {
    "collapsed": true
   },
   "outputs": [],
   "source": []
  },
  {
   "cell_type": "markdown",
   "metadata": {},
   "source": [
    "# Open historical and RCP8.5 data"
   ]
  },
  {
   "cell_type": "code",
   "execution_count": 16,
   "metadata": {
    "collapsed": true
   },
   "outputs": [],
   "source": [
    "year_start = 1920\n",
    "year_end = 2100\n",
    "\n",
    "year_start_list = [1920,1950,1980,2010,2040,2070]\n",
    "year_end_list = [1950,1980,2010,2040,2070,2100]\n",
    "\n",
    "# create season strings\n",
    "years = numpy.arange(year_start, year_end+1, 1).astype(numpy.int)\n",
    "half_years_hist_rcp = numpy.arange(year_start+0.75, year_end, 1)\n",
    "\n",
    "season_strings_hist_rcp = [str(years[i])+'-'+str(years[i+1]) for i in range(years.size-1)]\n",
    "member_strings_hist_rcp = ['{:03d}'.format(i) for i in range(1,36)]\n",
    "\n",
    "n_seasons_hist_rcp=year_end-year_start"
   ]
  },
  {
   "cell_type": "code",
   "execution_count": 17,
   "metadata": {
    "collapsed": true
   },
   "outputs": [],
   "source": [
    "ensemble_members = numpy.hstack((numpy.arange(1,36), numpy.arange(101,106)))\n",
    "ensemble_names = ['{:03d}'.format(i) for i in ensemble_members]"
   ]
  },
  {
   "cell_type": "raw",
   "metadata": {},
   "source": [
    "# loop through every grid point and attach ALL ensemble members information\n",
    "all_events_total = []\n",
    "total_events_each_latlon = []\n",
    "\n",
    "for latlon_idx in range(len(latlon_indices)):\n",
    "    if latlon_idx%10==0:\n",
    "        print(latlon_idx)\n",
    "    total_events_each_latlon = []\n",
    "    for ensemble_idx in range(len(ensemble_members)):\n",
    "        filename = 'member_'+ensemble_names[ensemble_idx]+'_latidx_'+'{:02d}'.format(latlon_indices[latlon_idx][0])+'_lonidx_'+'{:02d}'.format(latlon_indices[latlon_idx][1])+'_years_1920-2100_threshold_'+str(threshold)+'mmday_'+region+'.npy'\n",
    "        dict_hist_rcp = numpy.load(working_dir+filename).item()\n",
    "        a=[dict_hist_rcp[i]['seasonal_total'] for i in season_strings_hist_rcp]\n",
    "        total_events_each_latlon.append( [dict_hist_rcp[i]['monthly_totals'] for i in season_strings_hist_rcp] )\n",
    "    all_events_total.append(total_events_each_latlon)"
   ]
  },
  {
   "cell_type": "markdown",
   "metadata": {},
   "source": [
    "# Saving in 4D format (latlon x ensemble member x years x month"
   ]
  },
  {
   "cell_type": "raw",
   "metadata": {},
   "source": [
    "all_events_hist_rcp = numpy.zeros(( 650, 40, 180, 5 ))\n",
    "for latlon_idx in range(len(latlon_indices)):\n",
    "    for ens_idx in range(40):\n",
    "        for yr_idx in range(180):\n",
    "            all_events_hist_rcp[latlon_idx,ens_idx,yr_idx,:] = all_events_total[latlon_idx][ens_idx][yr_idx]"
   ]
  },
  {
   "cell_type": "code",
   "execution_count": 18,
   "metadata": {
    "collapsed": true
   },
   "outputs": [],
   "source": [
    "# all_events_hist_rcp = numpy.zeros(( 650, 40*30, 5 ))\n",
    "# for latlon_idx in range(len(latlon_indices)):\n",
    "#     all_events_hist_rcp[latlon_idx,:,:,:] = [i for sublist in all_events_total[latlon_idx] for i in sublist]"
   ]
  },
  {
   "cell_type": "code",
   "execution_count": 19,
   "metadata": {
    "collapsed": true
   },
   "outputs": [],
   "source": [
    "#numpy.save('all_events_hist_rcp_4d.npy', all_events_hist_rcp)"
   ]
  },
  {
   "cell_type": "code",
   "execution_count": 20,
   "metadata": {
    "collapsed": true
   },
   "outputs": [],
   "source": [
    "all_events_hist_rcp = numpy.load('csv_files/all_events_hist_rcp_4d.npy')"
   ]
  },
  {
   "cell_type": "code",
   "execution_count": 21,
   "metadata": {},
   "outputs": [
    {
     "name": "stdout",
     "output_type": "stream",
     "text": [
      "(650, 40, 180, 5)\n"
     ]
    }
   ],
   "source": [
    "print(all_events_hist_rcp.shape)"
   ]
  },
  {
   "cell_type": "code",
   "execution_count": 22,
   "metadata": {},
   "outputs": [
    {
     "name": "stdout",
     "output_type": "stream",
     "text": [
      "(11, 40, 180, 5)\n",
      "(11, 5)\n"
     ]
    }
   ],
   "source": [
    "all_events_hist_rcp = all_events_hist_rcp.reshape((PRECT_nlat,PRECT_nlon,40,180,5))\n",
    "monthly_hist_rcp_cali_coast = all_events_hist_rcp[cali_coast_latlon_indices[:,0], cali_coast_latlon_indices[:,1],:,:].reshape((11,3,40,180,5))\n",
    "monthly_hist_rcp_cali_coast_lonmean = numpy.mean(monthly_hist_rcp_cali_coast, axis=1)\n",
    "print(monthly_hist_rcp_cali_coast_lonmean.shape)\n",
    "monthly_hist_rcp_cali_coast_timemean = numpy.mean(monthly_hist_rcp_cali_coast_lonmean[:,:,150:180,:], axis=2)\n",
    "monthly_hist_rcp_cali_coast_enstimemean = numpy.mean(monthly_hist_rcp_cali_coast_timemean, axis=1)\n",
    "print(monthly_hist_rcp_cali_coast_enstimemean.shape)"
   ]
  },
  {
   "cell_type": "code",
   "execution_count": 23,
   "metadata": {},
   "outputs": [
    {
     "data": {
      "image/png": "[encoded data removed]",
      "text/plain": [
       "<matplotlib.figure.Figure at 0x123a709e8>"
      ]
     },
     "metadata": {},
     "output_type": "display_data"
    }
   ],
   "source": [
    "month_values = [1.5,2.5,3.5,4.5,5.5]\n",
    "month_labels = ['Nov', 'Dec', 'Jan', 'Feb', 'Mar']\n",
    "\n",
    "fontsize=12\n",
    "fig = mp.figure(figsize=(3,3))\n",
    "ax = fig.add_subplot(111)\n",
    "for i in range(11):\n",
    "    ax.plot(month_values, monthly_hist_rcp_cali_coast_enstimemean[i,:], color=matplotlib.cm.viridis_r((i+1)/11), lw=2)\n",
    "\n",
    "ax.set_xticks(month_values)\n",
    "ax.set_xticklabels(month_labels, ha='center', va='top')\n",
    "ax.tick_params(labelsize=fontsize)\n",
    "ax.set_ylabel('Monthly precip. (mm day$^{-1}$)', fontsize=fontsize)\n",
    "ax.set_xlabel('Month', fontsize=fontsize)\n",
    "\n",
    "ax.set_xlim(1,6)\n",
    "ax.set_ylim(-25,300)\n",
    "\n",
    "ax.grid()"
   ]
  },
  {
   "cell_type": "code",
   "execution_count": 24,
   "metadata": {
    "collapsed": true
   },
   "outputs": [],
   "source": [
    "unique_lat_indices = numpy.unique(cali_coast_latlon_indices[:,0])"
   ]
  },
  {
   "cell_type": "code",
   "execution_count": 25,
   "metadata": {},
   "outputs": [
    {
     "name": "stdout",
     "output_type": "stream",
     "text": [
      "(5,) 5\n"
     ]
    },
    {
     "data": {
      "image/png": "[encoded data removed]",
      "text/plain": [
       "<matplotlib.figure.Figure at 0x12fa019e8>"
      ]
     },
     "metadata": {},
     "output_type": "display_data"
    }
   ],
   "source": [
    "# month_values = numpy.array((1.5,2.,2.5,3.,3.5,4.,4.5,5.,5.5))\n",
    "#month_labels = ['Nov','', 'Dec','', 'Jan','', 'Feb','', 'Mar']\n",
    "month_values = numpy.array((1.,2.,3.,4.,5.))\n",
    "month_half_values = numpy.hstack((0.5, month_values+0.5))\n",
    "month_labels = ['Nov', 'Dec', 'Jan', 'Feb', 'Mar']\n",
    "\n",
    "print(month_values.shape, len(month_labels))\n",
    "\n",
    "fontsize=12\n",
    "fig = mp.figure(figsize=(3,3))\n",
    "ax = fig.add_subplot(111)\n",
    "for i in range(11):\n",
    "    ax.plot(month_values, monthly_hist_rcp_cali_coast_enstimemean[i,:]-monthly_pic_cali_coast_timemean[i,:], lw=2, color=matplotlib.cm.viridis_r((i+1)/11), label='{:.1f}'.format(PRECT_lat[unique_lat_indices][i]))\n",
    "\n",
    "ax.axhline(y=0, lw=2, color='0.25', ls='--', zorder=1)\n",
    "\n",
    "#x_interp = numpy.linspace(month_values.min(), month_values.max(), 1000)\n",
    "#for i in range(11):\n",
    "#    f_interp = scipy.interpolate.interp1d(month_values, monthly_hist_rcp_cali_coast_timemean[i,:]-monthly_pic_cali_coast_timemean[i,:],kind='cubic')\n",
    "#    y_interp = f_interp(x_interp)\n",
    "#    ax.plot(x_interp, y_interp, color=matplotlib.cm.viridis_r((i+1)/11))\n",
    "\n",
    "ax.set_xticks(month_values)\n",
    "ax.set_xticklabels(month_labels, ha='center', va='top')\n",
    "ax.tick_params(labelsize=fontsize)\n",
    "ax.set_ylabel('Monthly precip. (mm)', fontsize=fontsize)\n",
    "ax.set_xlabel('Month', fontsize=fontsize)\n",
    "\n",
    "handles, labels = ax.get_legend_handles_labels()\n",
    "ax.legend(handles, labels, \\\n",
    "          fontsize=fontsize, \\\n",
    "          #ncol=2, \\\n",
    "          bbox_to_anchor=(1.05,1.0), \\\n",
    "          edgecolor='0', \\\n",
    "          facecolor='None', \\\n",
    "          fancybox=False, \\\n",
    "          bbox_transform=ax.transAxes, \\\n",
    "          loc='upper left', \\\n",
    "          borderaxespad=0, \\\n",
    "          borderpad=0.25, \\\n",
    "          handlelength=1.0, \\\n",
    "          handletextpad=0.5, \\\n",
    "          #columnspacing=0.5, \\\n",
    "          markerscale=1, \\\n",
    "          labelspacing=0.2)\n",
    "\n",
    "ax.text(s='latitude', x=1.05, y=1.02, ha='left', va='bottom', transform=ax.transAxes, fontsize=fontsize)\n",
    "ax.text(s='2070-2100 minus PIC', x=0, y=1.02, ha='left', va='bottom', transform=ax.transAxes, fontsize=fontsize)\n",
    "\n",
    "ax.set_xlim(0.5,5.5)\n",
    "#ax.set_ylim(-25,275)\n",
    "\n",
    "ax.grid()\n",
    "ax.set_axisbelow(True)\n",
    "\n",
    "fig.savefig('monthly_precip_changes_1920-2100_minus_PIC.pdf', bbox_inches='tight', transparent=True)"
   ]
  },
  {
   "cell_type": "markdown",
   "metadata": {
    "collapsed": true
   },
   "source": [
    "# Save the longitudinally averaged data"
   ]
  },
  {
   "cell_type": "code",
   "execution_count": 26,
   "metadata": {},
   "outputs": [
    {
     "name": "stdout",
     "output_type": "stream",
     "text": [
      "(11, 5)\n",
      "(11, 5)\n"
     ]
    }
   ],
   "source": [
    "print(monthly_hist_rcp_cali_coast_enstimemean[:,:].shape)\n",
    "print(monthly_pic_cali_coast_timemean[:,:].shape)"
   ]
  },
  {
   "cell_type": "code",
   "execution_count": 27,
   "metadata": {
    "collapsed": true
   },
   "outputs": [],
   "source": [
    "lat_vals= PRECT_lat[unique_lat_indices]"
   ]
  },
  {
   "cell_type": "code",
   "execution_count": 28,
   "metadata": {
    "collapsed": true
   },
   "outputs": [],
   "source": [
    "month_strings = ['November', 'December', 'January', 'February', 'March']\n",
    "lat_strings = ['lat_'+'{:02d}'.format(i) for i in range(1,12)]\n",
    "\n",
    "monthly_hist_rcp_cali_coast_df = pandas.DataFrame(numpy.column_stack((lat_vals, \\\n",
    "                                                  monthly_hist_rcp_cali_coast_enstimemean)), \\\n",
    "                                                  #index=range(1,lat_vals.size+1), \\\n",
    "                                                  columns=['lat_values']+month_strings)\n",
    "monthly_pic_cali_coast_df = pandas.DataFrame(numpy.column_stack((lat_vals, \\\n",
    "                                                  monthly_pic_cali_coast_timemean)), \\\n",
    "                                                  #index=range(1,lat_vals.size+1), \\\n",
    "                                                  columns=['lat_values']+month_strings)"
   ]
  },
  {
   "cell_type": "code",
   "execution_count": 29,
   "metadata": {},
   "outputs": [
    {
     "name": "stdout",
     "output_type": "stream",
     "text": [
      "    lat_values    November    December     January    February       March\n",
      "0    32.513089   17.434223   28.764447   34.625145   43.287598   39.149677\n",
      "1    33.455497   22.232371   39.956738   50.135647   62.000726   52.949627\n",
      "2    34.397906   30.328497   57.727356   72.792619   86.722587   71.508515\n",
      "3    35.340314   40.407586   74.813870   90.051926  101.243302   83.282775\n",
      "4    36.282723   51.959379   91.498510  106.576823  113.667225   91.762919\n",
      "5    37.225131   70.521901  119.884239  134.576351  135.411828  108.720897\n",
      "6    38.167539   84.443280  134.618042  147.767336  142.584973  113.603598\n",
      "7    39.109948  115.197757  176.588632  187.599315  172.038637  136.608594\n",
      "8    40.052356  147.070287  209.858035  215.212950  188.299627  151.866767\n",
      "9    40.994764  165.836808  223.285123  216.821107  178.735881  148.489293\n",
      "10   41.937173  188.620323  241.929943  226.708949  178.868565  152.309314\n"
     ]
    }
   ],
   "source": [
    "print(monthly_pic_cali_coast_df)"
   ]
  },
  {
   "cell_type": "code",
   "execution_count": 30,
   "metadata": {
    "collapsed": true
   },
   "outputs": [],
   "source": [
    "monthly_hist_rcp_cali_coast_df.to_csv('csv_files/NDJFM_hist_rcp_cali_coast_values_'+str(2070)+'-'+str(2100)+'.csv')\n",
    "monthly_pic_cali_coast_df.to_csv('csv_files/NDJFM_pic_cali_coast_values.csv')"
   ]
  },
  {
   "cell_type": "code",
   "execution_count": null,
   "metadata": {
    "collapsed": true
   },
   "outputs": [],
   "source": []
  }
 ],
 "metadata": {
  "anaconda-cloud": {},
  "kernelspec": {
   "display_name": "Python 3",
   "language": "python",
   "name": "python3"
  },
  "language_info": {
   "codemirror_mode": {
    "name": "ipython",
    "version": 3
   },
   "file_extension": ".py",
   "mimetype": "text/x-python",
   "name": "python",
   "nbconvert_exporter": "python",
   "pygments_lexer": "ipython3",
   "version": "3.6.0"
  }
 },
 "nbformat": 4,
 "nbformat_minor": 1
}
