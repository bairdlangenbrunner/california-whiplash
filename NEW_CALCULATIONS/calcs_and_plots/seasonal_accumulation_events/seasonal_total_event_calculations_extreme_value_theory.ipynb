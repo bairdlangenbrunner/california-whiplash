{
 "cells": [
  {
   "cell_type": "code",
   "execution_count": 1,
   "metadata": {
    "collapsed": true
   },
   "outputs": [],
   "source": [
    "import numpy\n",
    "import scipy\n",
    "import netCDF4\n",
    "import matplotlib.pyplot as mp\n",
    "import matplotlib.ticker\n",
    "import matplotlib.colors\n",
    "import scipy.stats\n",
    "import pandas\n",
    "import itertools\n",
    "\n",
    "mp.rcParams.update({'mathtext.default': 'regular'})\n",
    "% matplotlib inline"
   ]
  },
  {
   "cell_type": "code",
   "execution_count": 2,
   "metadata": {
    "collapsed": true
   },
   "outputs": [],
   "source": [
    "working_dir = '/Users/baird/Dropbox/_analysis/attribution_2017/NEW_CALCULATIONS/npy_files/'\n",
    "#save_dir = '/Users/baird/Dropbox/_analysis/attribution_2017/NEW_CALCULATIONS/calculations/npy_files/'\n",
    "#latlon_indices = numpy.load(working_dir + 'ccal_latlon_indices_array.npy'); region='ccal'\n",
    "#latlon_indices = numpy.load(working_dir + 'ncal_latlon_indices_array.npy'); region='ncal'\n",
    "#latlon_indices = numpy.load(working_dir + 'scal_latlon_indices_array.npy'); region='scal'\n",
    "\n",
    "PRECT_lat = numpy.load('/Users/baird/Dropbox/_analysis/attribution_2017/NEW_CALCULATIONS/npy_files/PRECT_lat.npy')\n",
    "PRECT_lon = numpy.load('/Users/baird/Dropbox/_analysis/attribution_2017/NEW_CALCULATIONS/npy_files/PRECT_lon.npy')"
   ]
  },
  {
   "cell_type": "code",
   "execution_count": 3,
   "metadata": {
    "collapsed": true
   },
   "outputs": [],
   "source": [
    "working_dir = '/Users/baird/google_drive/_data_original/NCAR_LENS/daily/PRECT/calculated_npy_files/'\n",
    "#threshold=0.0\n",
    "threshold=0.1\n",
    "#threshold=0.5\n",
    "#threshold=1.0\n",
    "#threshold=5.0\n",
    "#threshold=10.0"
   ]
  },
  {
   "cell_type": "code",
   "execution_count": 4,
   "metadata": {
    "collapsed": true
   },
   "outputs": [],
   "source": [
    "PRECT_nlat = 26\n",
    "PRECT_nlon = 25\n",
    "\n",
    "latlon_indices = list(itertools.product(range(PRECT_nlat), range(PRECT_nlon)))\n",
    "region = 'whole_domain'\n",
    "window=1"
   ]
  },
  {
   "cell_type": "markdown",
   "metadata": {},
   "source": [
    "# Open preindustrial control data"
   ]
  },
  {
   "cell_type": "code",
   "execution_count": 5,
   "metadata": {
    "collapsed": true
   },
   "outputs": [],
   "source": [
    "year_start_pic = 402 #time_subsets[chunk,0]\n",
    "year_end_pic = 2200 #time_subsets[chunk,1]\n",
    "\n",
    "# create season strings\n",
    "years_pic = numpy.arange(year_start_pic, year_end_pic+1, 1).astype(numpy.int)\n",
    "half_years_pic = numpy.arange(year_start_pic+0.75, year_end_pic, 1)\n",
    "#season_strings_pic = numpy.empty(years.size-1, dtype=numpy.str)\n",
    "\n",
    "season_strings_pic = [str(years_pic[i])+'-'+str(years_pic[i+1]) for i in range(years_pic.size-1)]\n",
    "member_strings_pic = ['{:03d}'.format(i) for i in range(1,36)]\n",
    "\n",
    "n_seasons_pic=year_end_pic-year_start_pic"
   ]
  },
  {
   "cell_type": "code",
   "execution_count": 9,
   "metadata": {},
   "outputs": [],
   "source": [
    "latlon_idx = 200\n",
    "working_dir = '/Users/baird/Dropbox/_data_original/NCAR_LENS/daily/PRECT/calculated_npy_files/whole_domain/'\n",
    "filename = 'member_005_latidx_'+'{:02d}'.format(latlon_indices[latlon_idx][0])+'_lonidx_'+'{:02d}'.format(latlon_indices[latlon_idx][1])+'_years_'+'{:04d}'.format(year_start_pic)+'-'+'{:04d}'.format(year_end_pic)+'_threshold_'+str(threshold)+'mmday_'+region+'.npy'\n",
    "dict_pic = numpy.load(working_dir + filename).item()"
   ]
  },
  {
   "cell_type": "code",
   "execution_count": 10,
   "metadata": {},
   "outputs": [
    {
     "data": {
      "text/plain": [
       "{'monthly_totals': [156.48085904121399,\n",
       "  188.29112079739571,\n",
       "  318.29036964476109,\n",
       "  318.87784793227911,\n",
       "  211.44120836257935],\n",
       " 'running_40d_sum': [nan,\n",
       "  nan,\n",
       "  nan,\n",
       "  nan,\n",
       "  nan,\n",
       "  nan,\n",
       "  nan,\n",
       "  nan,\n",
       "  nan,\n",
       "  nan,\n",
       "  nan,\n",
       "  nan,\n",
       "  nan,\n",
       "  nan,\n",
       "  nan,\n",
       "  nan,\n",
       "  nan,\n",
       "  nan,\n",
       "  nan,\n",
       "  nan,\n",
       "  nan,\n",
       "  nan,\n",
       "  nan,\n",
       "  nan,\n",
       "  nan,\n",
       "  nan,\n",
       "  nan,\n",
       "  nan,\n",
       "  nan,\n",
       "  nan,\n",
       "  nan,\n",
       "  nan,\n",
       "  nan,\n",
       "  nan,\n",
       "  nan,\n",
       "  nan,\n",
       "  nan,\n",
       "  nan,\n",
       "  nan,\n",
       "  181.38755264878273,\n",
       "  181.11891874670982,\n",
       "  178.02706894278526,\n",
       "  149.99140760302544,\n",
       "  170.21745654940605,\n",
       "  170.54137381911278,\n",
       "  161.99959513545036,\n",
       "  161.29031643271446,\n",
       "  156.3791022002697,\n",
       "  151.6867319047451,\n",
       "  152.03108605742455,\n",
       "  153.08924940228462,\n",
       "  137.80511239171028,\n",
       "  127.25107815861702,\n",
       "  141.73346856236458,\n",
       "  156.44486001133919,\n",
       "  173.19499638676643,\n",
       "  169.67128339409828,\n",
       "  189.03661218285561,\n",
       "  193.4841305911541,\n",
       "  194.99890229105949,\n",
       "  203.03898903727531,\n",
       "  202.79399517178535,\n",
       "  206.08966115117073,\n",
       "  204.41693890094757,\n",
       "  194.49607738852501,\n",
       "  194.79685443639755,\n",
       "  205.81521743535995,\n",
       "  207.23043912649155,\n",
       "  206.57870107889175,\n",
       "  205.95335054397583,\n",
       "  205.96080583333969,\n",
       "  216.16867870092392,\n",
       "  217.41540840268135,\n",
       "  236.32133927941322,\n",
       "  239.76626029610634,\n",
       "  241.1878272742033,\n",
       "  241.72040128707886,\n",
       "  259.13864874839783,\n",
       "  265.90888953208923,\n",
       "  268.16299146413803,\n",
       "  322.60943084955215,\n",
       "  328.54758459329605,\n",
       "  328.12838913500309,\n",
       "  337.07370926439762,\n",
       "  347.74530209600925,\n",
       "  392.59771348536015,\n",
       "  396.48243047297001,\n",
       "  408.78842057287693,\n",
       "  416.07342125475407,\n",
       "  417.46420742571354,\n",
       "  433.6785633713007,\n",
       "  444.01110126078129,\n",
       "  439.75520159304142,\n",
       "  452.29059435427189,\n",
       "  430.29808355867863,\n",
       "  402.01186074316502,\n",
       "  424.50384356081486,\n",
       "  422.3477995544672,\n",
       "  421.68003536760807,\n",
       "  421.26839162409306,\n",
       "  414.75893892347813,\n",
       "  414.05309606343508,\n",
       "  411.75569237023592,\n",
       "  435.4266996756196,\n",
       "  448.39795333892107,\n",
       "  459.04163048416376,\n",
       "  457.66612789779902,\n",
       "  461.35639736801386,\n",
       "  463.14318583160639,\n",
       "  490.94213030487299,\n",
       "  495.31764156371355,\n",
       "  484.73051980882883,\n",
       "  515.84236518293619,\n",
       "  504.58296290785074,\n",
       "  511.96205035597086,\n",
       "  512.42168382555246,\n",
       "  515.8332229629159,\n",
       "  508.92900238186121,\n",
       "  508.22985611110926,\n",
       "  532.38965330272913,\n",
       "  477.96739504486322,\n",
       "  472.68248227983713,\n",
       "  485.75517507642508,\n",
       "  459.53483816236258,\n",
       "  449.44601675122976,\n",
       "  409.16428896039724,\n",
       "  408.40555163472891,\n",
       "  398.97437068074942,\n",
       "  396.46984501928091,\n",
       "  396.04609056562185,\n",
       "  384.77315326780081,\n",
       "  377.56769033521414,\n",
       "  413.06587382405996,\n",
       "  383.13759475201368,\n",
       "  375.84022539108992,\n",
       "  393.56513648480177,\n",
       "  378.86868243664503,\n",
       "  364.6358695551753,\n",
       "  361.53285806626081,\n",
       "  377.34808986634016,\n",
       "  382.01430039852858,\n",
       "  382.21062454581261,\n",
       "  392.35586068034172,\n",
       "  375.68395563960075,\n",
       "  363.07674399018288,\n",
       "  378.66407003998756,\n",
       "  370.89426949620247,\n",
       "  365.78877833485603,\n",
       "  365.57918003201485,\n",
       "  339.13703110814095,\n",
       "  335.37806507945061],\n",
       " 'seasonal_total': 1193.3813,\n",
       " 'storm_count': 6,\n",
       " 'storm_length_list': [19, 1, 2, 13, 27, 77],\n",
       " 'storm_magnitude_list': [141.73299080133438,\n",
       "  1.0636990070343018,\n",
       "  11.949392557144165,\n",
       "  27.369736403226852,\n",
       "  180.31839081645012,\n",
       "  826.68748760968447]}"
      ]
     },
     "execution_count": 10,
     "metadata": {},
     "output_type": "execute_result"
    }
   ],
   "source": [
    "dict_pic['402-403']"
   ]
  },
  {
   "cell_type": "markdown",
   "metadata": {},
   "source": [
    "# Contruct extreme value distributions for each grid point"
   ]
  },
  {
   "cell_type": "raw",
   "metadata": {},
   "source": [
    "working_dir = '/Users/baird/Dropbox/_data_original/NCAR_LENS/daily/PRECT/calculated_npy_files/whole_domain/'\n",
    "# for each grid point:\n",
    "# cycle through all times, get extreme seas_accum sum in each time period, store in array with length(season_strings_pic)\n",
    "# once this is done, calculate the return periods of each of these\n",
    "extreme_values_seas_accum = numpy.zeros(( PRECT_nlat*PRECT_nlon, len(season_strings_pic) ))\n",
    "for latlon_idx in range(len(latlon_indices)):\n",
    "    if latlon_idx%10==0:\n",
    "        print(latlon_idx)\n",
    "    filename = 'member_005_latidx_'+'{:02d}'.format(latlon_indices[latlon_idx][0])+'_lonidx_'+'{:02d}'.format(latlon_indices[latlon_idx][1])+'_years_'+'{:04d}'.format(year_start_pic)+'-'+'{:04d}'.format(year_end_pic)+'_threshold_'+str(threshold)+'mmday_'+region+'.npy'\n",
    "    dict_pic = numpy.load(working_dir + filename).item()\n",
    "    sum_seas_accum_list = [dict_pic[i]['running_seas_accum'] for i in dict_pic.keys()]\n",
    "    for season_idx in range(len(season_strings_pic)):\n",
    "        extreme_values_seas_accum[latlon_idx, season_idx] = numpy.nanmax(sum_seas_accum_list[season_idx])"
   ]
  },
  {
   "cell_type": "raw",
   "metadata": {},
   "source": [
    "extreme_values_seas_accum_df = pandas.DataFrame(extreme_values_seas_accum, columns=[season_strings_pic])\n",
    "extreme_values_seas_accum_df.to_csv('extreme_values_seas_accums_dataframe_pic.csv')"
   ]
  },
  {
   "cell_type": "markdown",
   "metadata": {},
   "source": [
    "# Open historical and RCP8.5 data"
   ]
  },
  {
   "cell_type": "code",
   "execution_count": 10,
   "metadata": {
    "collapsed": true
   },
   "outputs": [],
   "source": [
    "year_start = 1920\n",
    "year_end = 2100\n",
    "\n",
    "year_start_list = [1920,1950,1980,2010,2040,2070]\n",
    "year_end_list = [1950,1980,2010,2040,2070,2100]\n",
    "\n",
    "# create season strings\n",
    "years = numpy.arange(year_start, year_end+1, 1).astype(numpy.int)\n",
    "half_years_hist_rcp = numpy.arange(year_start+0.75, year_end, 1)\n",
    "\n",
    "season_strings_hist_rcp = [str(years[i])+'-'+str(years[i+1]) for i in range(years.size-1)]\n",
    "member_strings_hist_rcp = ['{:03d}'.format(i) for i in range(1,36)]\n",
    "\n",
    "n_seasons_hist_rcp=year_end-year_start"
   ]
  },
  {
   "cell_type": "code",
   "execution_count": 13,
   "metadata": {
    "collapsed": true
   },
   "outputs": [],
   "source": [
    "ensemble_members = numpy.hstack((numpy.arange(1,36), numpy.arange(101,106)))\n",
    "ensemble_names = ['{:03d}'.format(i) for i in ensemble_members]"
   ]
  },
  {
   "cell_type": "code",
   "execution_count": null,
   "metadata": {},
   "outputs": [
    {
     "name": "stdout",
     "output_type": "stream",
     "text": [
      "001\n",
      "extreme_values_40d_sums_dataframe_model_001_1920-2100.csv written!\n",
      "002\n",
      "extreme_values_40d_sums_dataframe_model_002_1920-2100.csv written!\n",
      "003\n",
      "extreme_values_40d_sums_dataframe_model_003_1920-2100.csv written!\n",
      "004\n",
      "extreme_values_40d_sums_dataframe_model_004_1920-2100.csv written!\n",
      "005\n",
      "extreme_values_40d_sums_dataframe_model_005_1920-2100.csv written!\n",
      "006\n",
      "extreme_values_40d_sums_dataframe_model_006_1920-2100.csv written!\n",
      "007\n",
      "extreme_values_40d_sums_dataframe_model_007_1920-2100.csv written!\n",
      "008\n"
     ]
    }
   ],
   "source": [
    "working_dir = '/Users/baird/Dropbox/_data_original/NCAR_LENS/daily/PRECT/calculated_npy_files/whole_domain/'\n",
    "# for each grid point:\n",
    "# cycle through all times, get extreme seas_accum sum in each time period, store in array with length(season_strings_pic)\n",
    "# once this is done, calculate the return periods of each of these\n",
    "extreme_values_seas_accum = numpy.zeros(( PRECT_nlat*PRECT_nlon, len(season_strings_hist_rcp) ))\n",
    "\n",
    "for ensemble_idx in range(len(ensemble_members)):\n",
    "    print(ensemble_names[ensemble_idx])\n",
    "    for latlon_idx in range(len(latlon_indices)):\n",
    "        filename = 'member_'+ensemble_names[ensemble_idx]+'_latidx_'+'{:02d}'.format(latlon_indices[latlon_idx][0])+'_lonidx_'+'{:02d}'.format(latlon_indices[latlon_idx][1])+'_years_1920-2100_threshold_'+str(threshold)+'mmday_'+region+'.npy'\n",
    "        #if latlon_idx%10==0:\n",
    "        #    print(latlon_idx)\n",
    "        dict_hist_rcp = numpy.load(working_dir + filename).item()\n",
    "        sum_seas_accum_list = [dict_hist_rcp[i]['running_seas_accum'] for i in dict_hist_rcp.keys()]\n",
    "        for season_idx in range(len(season_strings_hist_rcp)):\n",
    "            extreme_values_seas_accum[latlon_idx, season_idx] = numpy.nanmax(sum_seas_accum_list[season_idx])\n",
    "\n",
    "    extreme_values_seas_accum_df = pandas.DataFrame(extreme_values_seas_accum, columns=[season_strings_hist_rcp])\n",
    "    csv_filename = 'extreme_values_seas_accums_dataframe_model_'+ensemble_names[ensemble_idx]+'_1920-2100.csv'\n",
    "    extreme_values_seas_accum_df.to_csv('csv_files/'+csv_filename)\n",
    "    print(csv_filename, 'written!')"
   ]
  },
  {
   "cell_type": "code",
   "execution_count": null,
   "metadata": {
    "collapsed": true
   },
   "outputs": [],
   "source": []
  }
 ],
 "metadata": {
  "anaconda-cloud": {},
  "kernelspec": {
   "display_name": "Python 3",
   "language": "python",
   "name": "python3"
  },
  "language_info": {
   "codemirror_mode": {
    "name": "ipython",
    "version": 3
   },
   "file_extension": ".py",
   "mimetype": "text/x-python",
   "name": "python",
   "nbconvert_exporter": "python",
   "pygments_lexer": "ipython3",
   "version": "3.6.1"
  }
 },
 "nbformat": 4,
 "nbformat_minor": 1
}
