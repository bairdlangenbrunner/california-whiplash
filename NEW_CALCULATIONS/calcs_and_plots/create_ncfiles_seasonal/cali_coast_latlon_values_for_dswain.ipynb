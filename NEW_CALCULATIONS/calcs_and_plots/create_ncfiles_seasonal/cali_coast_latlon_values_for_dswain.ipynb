{
 "cells": [
  {
   "cell_type": "code",
   "execution_count": 1,
   "metadata": {
    "collapsed": true
   },
   "outputs": [],
   "source": [
    "import numpy\n",
    "import matplotlib\n",
    "import matplotlib.pyplot as mp\n",
    "import pandas\n",
    "import mpl_toolkits\n",
    "from mpl_toolkits import basemap\n",
    "import matplotlib.cm as cm\n",
    "import netCDF4\n",
    "import time\n",
    "import itertools\n",
    "import datetime\n",
    "\n",
    "degree_sign = u'\\u00B0'\n",
    "mp.rcParams.update({'mathtext.default': 'regular'})\n",
    "mp.rcParams['hatch.color'] = '0.5'\n",
    "\n",
    "% matplotlib inline"
   ]
  },
  {
   "cell_type": "code",
   "execution_count": 2,
   "metadata": {
    "collapsed": true
   },
   "outputs": [],
   "source": [
    "cali_coast_latlon_indices = numpy.load('/Users/baird/Dropbox/_analysis/attribution_2017/NEW_CALCULATIONS/npy_files/coastal_latlon_array_indices_3x.npy')\n",
    "cali_coast_latlon_indices_zip = [i for i in zip(cali_coast_latlon_indices[:,0], cali_coast_latlon_indices[:,1])]\n",
    "\n",
    "cali_coast_latlon_indices_3d = cali_coast_latlon_indices.reshape((11,3,2))"
   ]
  },
  {
   "cell_type": "code",
   "execution_count": null,
   "metadata": {
    "collapsed": true
   },
   "outputs": [],
   "source": []
  },
  {
   "cell_type": "code",
   "execution_count": 14,
   "metadata": {},
   "outputs": [
    {
     "data": {
      "text/plain": [
       "[0, 3, 6, 9]"
      ]
     },
     "execution_count": 14,
     "metadata": {},
     "output_type": "execute_result"
    }
   ],
   "source": [
    "[i for i in range(10)][::3]"
   ]
  },
  {
   "cell_type": "code",
   "execution_count": 22,
   "metadata": {},
   "outputs": [
    {
     "name": "stdout",
     "output_type": "stream",
     "text": [
      "[[ 7 17]\n",
      " [ 7 18]\n",
      " [ 7 19]\n",
      " [ 8 16]\n",
      " [ 8 17]\n",
      " [ 8 18]\n",
      " [ 9 15]\n",
      " [ 9 16]\n",
      " [ 9 17]\n",
      " [10 14]\n",
      " [10 15]\n",
      " [10 16]\n",
      " [11 13]\n",
      " [11 14]\n",
      " [11 15]\n",
      " [12 13]\n",
      " [12 14]\n",
      " [12 15]\n",
      " [13 12]\n",
      " [13 13]\n",
      " [13 14]\n",
      " [14 12]\n",
      " [14 13]\n",
      " [14 14]\n",
      " [15 11]\n",
      " [15 12]\n",
      " [15 13]\n",
      " [16 11]\n",
      " [16 12]\n",
      " [16 13]\n",
      " [17 11]\n",
      " [17 12]\n",
      " [17 13]]\n"
     ]
    }
   ],
   "source": [
    "cali_coast_latlon_indices_sorted = numpy.array(( sorted(list(cali_coast_latlon_indices), \\\n",
    "                                                        key=lambda x: (x[0], x[1])) ))\n",
    "print(cali_coast_latlon_indices_sorted)"
   ]
  },
  {
   "cell_type": "code",
   "execution_count": 23,
   "metadata": {
    "collapsed": true
   },
   "outputs": [],
   "source": [
    "PRECT_lat = numpy.load('/Users/baird/Dropbox/_analysis/attribution_2017/NEW_CALCULATIONS/npy_files/PRECT_lat.npy')\n",
    "PRECT_lon = numpy.load('/Users/baird/Dropbox/_analysis/attribution_2017/NEW_CALCULATIONS/npy_files/PRECT_lon.npy')"
   ]
  },
  {
   "cell_type": "code",
   "execution_count": 24,
   "metadata": {},
   "outputs": [],
   "source": [
    "coastal_lat_vals = PRECT_lat[cali_coast_latlon_indices_sorted[:,0]]\n",
    "coastal_lon_vals = PRECT_lon[cali_coast_latlon_indices_sorted[:,1]]"
   ]
  },
  {
   "cell_type": "code",
   "execution_count": 25,
   "metadata": {},
   "outputs": [],
   "source": [
    "latlon_vals_2columns = numpy.column_stack((coastal_lat_vals, coastal_lon_vals))"
   ]
  },
  {
   "cell_type": "code",
   "execution_count": 26,
   "metadata": {
    "collapsed": true
   },
   "outputs": [],
   "source": [
    "latlon_vals_df = pandas.DataFrame(latlon_vals_2columns, columns=['lat','lon'])"
   ]
  },
  {
   "cell_type": "code",
   "execution_count": 27,
   "metadata": {},
   "outputs": [
    {
     "name": "stdout",
     "output_type": "stream",
     "text": [
      "          lat     lon\n",
      "0   32.513089  241.25\n",
      "1   32.513089  242.50\n",
      "2   32.513089  243.75\n",
      "3   33.455497  240.00\n",
      "4   33.455497  241.25\n",
      "5   33.455497  242.50\n",
      "6   34.397906  238.75\n",
      "7   34.397906  240.00\n",
      "8   34.397906  241.25\n",
      "9   35.340314  237.50\n",
      "10  35.340314  238.75\n",
      "11  35.340314  240.00\n",
      "12  36.282723  236.25\n",
      "13  36.282723  237.50\n",
      "14  36.282723  238.75\n",
      "15  37.225131  236.25\n",
      "16  37.225131  237.50\n",
      "17  37.225131  238.75\n",
      "18  38.167539  235.00\n",
      "19  38.167539  236.25\n",
      "20  38.167539  237.50\n",
      "21  39.109948  235.00\n",
      "22  39.109948  236.25\n",
      "23  39.109948  237.50\n",
      "24  40.052356  233.75\n",
      "25  40.052356  235.00\n",
      "26  40.052356  236.25\n",
      "27  40.994764  233.75\n",
      "28  40.994764  235.00\n",
      "29  40.994764  236.25\n",
      "30  41.937173  233.75\n",
      "31  41.937173  235.00\n",
      "32  41.937173  236.25\n"
     ]
    }
   ],
   "source": [
    "print(latlon_vals_df)"
   ]
  },
  {
   "cell_type": "code",
   "execution_count": 28,
   "metadata": {
    "collapsed": true
   },
   "outputs": [],
   "source": [
    "latlon_vals_df.to_csv('coastal_cali_latlon_values.csv')"
   ]
  },
  {
   "cell_type": "code",
   "execution_count": null,
   "metadata": {
    "collapsed": true
   },
   "outputs": [],
   "source": []
  }
 ],
 "metadata": {
  "kernelspec": {
   "display_name": "Python 3",
   "language": "python",
   "name": "python3"
  },
  "language_info": {
   "codemirror_mode": {
    "name": "ipython",
    "version": 3
   },
   "file_extension": ".py",
   "mimetype": "text/x-python",
   "name": "python",
   "nbconvert_exporter": "python",
   "pygments_lexer": "ipython3",
   "version": "3.6.3"
  }
 },
 "nbformat": 4,
 "nbformat_minor": 2
}
