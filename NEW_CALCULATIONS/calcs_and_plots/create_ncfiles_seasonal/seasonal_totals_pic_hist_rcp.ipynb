{
 "cells": [
  {
   "cell_type": "code",
   "execution_count": 51,
   "metadata": {
    "collapsed": true
   },
   "outputs": [],
   "source": [
    "import numpy\n",
    "import scipy\n",
    "import netCDF4\n",
    "import matplotlib.pyplot as mp\n",
    "import matplotlib.ticker\n",
    "import matplotlib.colors\n",
    "import scipy.stats\n",
    "import pandas\n",
    "import itertools\n",
    "import datetime\n",
    "import os\n",
    "\n",
    "mp.rcParams.update({'mathtext.default': 'regular'})\n",
    "#get_ipython().magic('matplotlib inline')\n",
    "%matplotlib inline"
   ]
  },
  {
   "cell_type": "code",
   "execution_count": 31,
   "metadata": {
    "collapsed": true
   },
   "outputs": [],
   "source": [
    "PRECT_nlat = 26\n",
    "PRECT_nlon = 25\n",
    "\n",
    "latlon_indices = list(itertools.product(range(PRECT_nlat), range(PRECT_nlon)))\n",
    "\n",
    "PRECT_lat = numpy.load('/Users/baird/Dropbox/_analysis/attribution_2017/NEW_CALCULATIONS/npy_files/PRECT_lat.npy')\n",
    "PRECT_lon = numpy.load('/Users/baird/Dropbox/_analysis/attribution_2017/NEW_CALCULATIONS/npy_files/PRECT_lon.npy')"
   ]
  },
  {
   "cell_type": "code",
   "execution_count": 3,
   "metadata": {
    "collapsed": true
   },
   "outputs": [],
   "source": [
    "threshold = 0.1\n",
    "\n",
    "year_start_pic = 402 #time_subsets[chunk,0]\n",
    "year_end_pic = 2200 #time_subsets[chunk,1]\n",
    "\n",
    "year_start = 1920\n",
    "year_end = 2100\n",
    "\n",
    "lo_perc = 20\n",
    "hi_perc = 80"
   ]
  },
  {
   "cell_type": "code",
   "execution_count": 33,
   "metadata": {
    "collapsed": true
   },
   "outputs": [],
   "source": [
    "ensemble_members = numpy.hstack((numpy.arange(1,36), numpy.arange(101,106)))\n",
    "ensemble_names = ['{:03d}'.format(i) for i in ensemble_members]"
   ]
  },
  {
   "cell_type": "code",
   "execution_count": 9,
   "metadata": {
    "collapsed": true
   },
   "outputs": [],
   "source": [
    "working_dir = '/Users/baird/Dropbox/_data_original/NCAR_LENS/daily/PRECT/calculated_npy_files/whole_domain/'"
   ]
  },
  {
   "cell_type": "code",
   "execution_count": 14,
   "metadata": {},
   "outputs": [
    {
     "name": "stdout",
     "output_type": "stream",
     "text": [
      "1798\n"
     ]
    }
   ],
   "source": [
    "# ======================================================================\n",
    "# Open preindustrial control info (dict_pic)\n",
    "# create season strings for PIC\n",
    "years_pic = numpy.arange(year_start_pic, year_end_pic+1, 1).astype(numpy.int)\n",
    "half_years_pic = numpy.arange(year_start_pic+0.75, year_end_pic, 1)\n",
    "\n",
    "season_strings_pic = [str(years_pic[i])+'-'+str(years_pic[i+1]) for i in range(years_pic.size-1)]\n",
    "member_strings_pic = ['{:03d}'.format(i) for i in range(1,36)]\n",
    "n_seasons_pic=year_end_pic-year_start_pic\n",
    "print(n_seasons_pic)"
   ]
  },
  {
   "cell_type": "code",
   "execution_count": 15,
   "metadata": {
    "collapsed": true
   },
   "outputs": [],
   "source": [
    "all_seasonal_total_pic = numpy.zeros((n_seasons_pic, len(latlon_indices)))"
   ]
  },
  {
   "cell_type": "code",
   "execution_count": 16,
   "metadata": {},
   "outputs": [
    {
     "name": "stdout",
     "output_type": "stream",
     "text": [
      "latlon_idx 0\n",
      "latlon_idx 10\n",
      "latlon_idx 20\n",
      "latlon_idx 30\n",
      "latlon_idx 40\n",
      "latlon_idx 50\n",
      "latlon_idx 60\n",
      "latlon_idx 70\n",
      "latlon_idx 80\n",
      "latlon_idx 90\n",
      "latlon_idx 100\n",
      "latlon_idx 110\n",
      "latlon_idx 120\n",
      "latlon_idx 130\n",
      "latlon_idx 140\n",
      "latlon_idx 150\n",
      "latlon_idx 160\n",
      "latlon_idx 170\n",
      "latlon_idx 180\n",
      "latlon_idx 190\n",
      "latlon_idx 200\n",
      "latlon_idx 210\n",
      "latlon_idx 220\n",
      "latlon_idx 230\n",
      "latlon_idx 240\n",
      "latlon_idx 250\n",
      "latlon_idx 260\n",
      "latlon_idx 270\n",
      "latlon_idx 280\n",
      "latlon_idx 290\n",
      "latlon_idx 300\n",
      "latlon_idx 310\n",
      "latlon_idx 320\n",
      "latlon_idx 330\n",
      "latlon_idx 340\n",
      "latlon_idx 350\n",
      "latlon_idx 360\n",
      "latlon_idx 370\n",
      "latlon_idx 380\n",
      "latlon_idx 390\n",
      "latlon_idx 400\n",
      "latlon_idx 410\n",
      "latlon_idx 420\n",
      "latlon_idx 430\n",
      "latlon_idx 440\n",
      "latlon_idx 450\n",
      "latlon_idx 460\n",
      "latlon_idx 470\n",
      "latlon_idx 480\n",
      "latlon_idx 490\n",
      "latlon_idx 500\n",
      "latlon_idx 510\n",
      "latlon_idx 520\n",
      "latlon_idx 530\n",
      "latlon_idx 540\n",
      "latlon_idx 550\n",
      "latlon_idx 560\n",
      "latlon_idx 570\n",
      "latlon_idx 580\n",
      "latlon_idx 590\n",
      "latlon_idx 600\n",
      "latlon_idx 610\n",
      "latlon_idx 620\n",
      "latlon_idx 630\n",
      "latlon_idx 640\n"
     ]
    }
   ],
   "source": [
    "for latlon_idx in range(len(latlon_indices)):\n",
    "\n",
    "    if latlon_idx%10==0:\n",
    "        print('latlon_idx', latlon_idx)\n",
    "\n",
    "    filename = 'member_005_latidx_'+'{:02d}'.format(latlon_indices[latlon_idx][0])+'_lonidx_'+'{:02d}'.format(latlon_indices[latlon_idx][1])+'_years_'+'{:04d}'.format(year_start_pic)+'-'+'{:04d}'.format(year_end_pic)+'_threshold_'+str(threshold)+'mmday_'+region+'.npy'\n",
    "\n",
    "    dict_pic = numpy.load(working_dir + filename).item()\n",
    "\n",
    "    all_seasonal_total_pic[:,latlon_idx] = numpy.array([dict_pic[s]['seasonal_total'] for s in season_strings_pic])"
   ]
  },
  {
   "cell_type": "code",
   "execution_count": 40,
   "metadata": {
    "collapsed": true
   },
   "outputs": [],
   "source": [
    "all_seasonal_total_pic_3d = all_seasonal_total_pic.reshape((1798,PRECT_nlat,PRECT_nlon))"
   ]
  },
  {
   "cell_type": "code",
   "execution_count": 44,
   "metadata": {},
   "outputs": [
    {
     "name": "stdout",
     "output_type": "stream",
     "text": [
      "(1798, 26, 25)\n"
     ]
    }
   ],
   "source": [
    "print(all_seasonal_total_pic_3d.shape)"
   ]
  },
  {
   "cell_type": "markdown",
   "metadata": {},
   "source": [
    "# Save all seasonal data in a netcdf file"
   ]
  },
  {
   "cell_type": "code",
   "execution_count": 41,
   "metadata": {},
   "outputs": [],
   "source": [
    "year_list = numpy.arange(1,1798+1)\n",
    "time_datetime = [datetime.datetime(i,1,15) for i in year_list]\n",
    "time_nc = netCDF4.date2num(time_datetime, units='days since 0001-01-01', calendar='standard')"
   ]
  },
  {
   "cell_type": "code",
   "execution_count": 53,
   "metadata": {},
   "outputs": [
    {
     "name": "stdout",
     "output_type": "stream",
     "text": [
      "file exists\n"
     ]
    }
   ],
   "source": [
    "# save hist clim\n",
    "filename = 'seasonal_totals_PIC.nc'\n",
    "\n",
    "if os.path.exists(filename):\n",
    "    print('file exists')\n",
    "    os.remove(filename)\n",
    "\n",
    "ncfile = netCDF4.Dataset(filename, 'w', format='NETCDF4')\n",
    "\n",
    "time_dim = ncfile.createDimension('time', None)\n",
    "time_var = ncfile.createVariable('time', 'f4', ('time',))\n",
    "time_var[:] = time_nc\n",
    "time_var.units = 'days since 0001-01-01'\n",
    "\n",
    "lat_dim = ncfile.createDimension('lat', PRECT_nlat)\n",
    "lat_var = ncfile.createVariable('lat', 'f4', ('lat',))\n",
    "lat_var[:] = PRECT_lat\n",
    "lat_var.units = 'degrees North'\n",
    "\n",
    "lon_dim = ncfile.createDimension('lon', PRECT_nlon)\n",
    "lon_var = ncfile.createVariable('lon', 'f4', ('lon',))\n",
    "lon_var[:] = PRECT_lon\n",
    "lon_var.units = 'degrees East'\n",
    "\n",
    "data_var = ncfile.createVariable('seasonal_total', 'f4', ('time','lat','lon',))\n",
    "data_var[:] = all_seasonal_total_pic_3d[:,:,:]\n",
    "data_var.units = 'Seasonal total precipitation (mm), with days <= 0.1 mm omitted to avoid drizzle effect'\n",
    "\n",
    "ncfile.close()"
   ]
  },
  {
   "cell_type": "markdown",
   "metadata": {},
   "source": [
    "# Now do same for hist + RCP8.5"
   ]
  },
  {
   "cell_type": "code",
   "execution_count": 69,
   "metadata": {},
   "outputs": [],
   "source": [
    "n_ens = len(ensemble_names)\n",
    "all_seasonal_total_hist_rcp = numpy.zeros((180, n_ens, len(latlon_indices)))"
   ]
  },
  {
   "cell_type": "code",
   "execution_count": 72,
   "metadata": {},
   "outputs": [
    {
     "name": "stdout",
     "output_type": "stream",
     "text": [
      "001\n",
      "002\n",
      "003\n",
      "004\n",
      "005\n",
      "006\n",
      "007\n",
      "008\n",
      "009\n",
      "010\n",
      "011\n",
      "012\n",
      "013\n",
      "014\n",
      "015\n",
      "016\n",
      "017\n",
      "018\n",
      "019\n",
      "020\n",
      "021\n",
      "022\n",
      "023\n",
      "024\n",
      "025\n",
      "026\n",
      "027\n",
      "028\n",
      "029\n",
      "030\n",
      "031\n",
      "032\n",
      "033\n",
      "034\n",
      "035\n",
      "101\n",
      "102\n",
      "103\n",
      "104\n",
      "105\n"
     ]
    }
   ],
   "source": [
    "for ens_idx in range(len(ensemble_names)):\n",
    "    print(ensemble_names[ens_idx])\n",
    "    for latlon_idx in range(len(latlon_indices)):\n",
    "        #if latlon_idx%10==0:\n",
    "        #    print('latlon_idx', latlon_idx)\n",
    "        ensemble_member=ensemble_names[ens_idx]\n",
    "        filename = 'member_'+ensemble_member+'_latidx_'+'{:02d}'.format(latlon_indices[latlon_idx][0])+'_lonidx_'+'{:02d}'.format(latlon_indices[latlon_idx][1])+'_years_'+'{:04d}'.format(year_start)+'-'+'{:04d}'.format(year_end)+'_threshold_'+str(threshold)+'mmday_'+region+'.npy'\n",
    "        #dict_list_hist_rcp.append(numpy.load(working_dir + filename).item())\n",
    "        dict_hist_rcp = numpy.load(working_dir + filename).item()\n",
    "        seasonal_totals = [dict_hist_rcp[i]['seasonal_total'] for i in dict_hist_rcp.keys()]\n",
    "        all_seasonal_total_hist_rcp[:,ens_idx,latlon_idx] = seasonal_totals"
   ]
  },
  {
   "cell_type": "code",
   "execution_count": 73,
   "metadata": {
    "collapsed": true
   },
   "outputs": [],
   "source": [
    "all_seasonal_total_hist_rcp_3d = all_seasonal_total_hist_rcp.reshape((180,n_ens,PRECT_nlat,PRECT_nlon))"
   ]
  },
  {
   "cell_type": "code",
   "execution_count": 74,
   "metadata": {},
   "outputs": [
    {
     "name": "stdout",
     "output_type": "stream",
     "text": [
      "(180, 40, 26, 25)\n"
     ]
    }
   ],
   "source": [
    "print(all_seasonal_total_hist_rcp_3d.shape)"
   ]
  },
  {
   "cell_type": "code",
   "execution_count": 75,
   "metadata": {
    "collapsed": true
   },
   "outputs": [],
   "source": [
    "year_list = numpy.arange(1921,2101)\n",
    "time_datetime = [datetime.datetime(i,1,15) for i in year_list]\n",
    "time_nc = netCDF4.date2num(time_datetime, units='days since 1920-01-01', calendar='standard')"
   ]
  },
  {
   "cell_type": "code",
   "execution_count": 77,
   "metadata": {},
   "outputs": [
    {
     "name": "stdout",
     "output_type": "stream",
     "text": [
      "file exists\n"
     ]
    }
   ],
   "source": [
    "# save hist clim\n",
    "filename = 'seasonal_totals_hist_rcp.nc'\n",
    "\n",
    "if os.path.exists(filename):\n",
    "    print('file exists')\n",
    "    os.remove(filename)\n",
    "\n",
    "ncfile = netCDF4.Dataset(filename, 'w', format='NETCDF4')\n",
    "\n",
    "time_dim = ncfile.createDimension('time', None)\n",
    "time_var = ncfile.createVariable('time', 'f4', ('time',))\n",
    "time_var[:] = time_nc\n",
    "time_var.units = 'days since 1920-01-01'\n",
    "\n",
    "lat_dim = ncfile.createDimension('lat', PRECT_nlat)\n",
    "lat_var = ncfile.createVariable('lat', 'f4', ('lat',))\n",
    "lat_var[:] = PRECT_lat\n",
    "lat_var.units = 'degrees North'\n",
    "\n",
    "lon_dim = ncfile.createDimension('lon', PRECT_nlon)\n",
    "lon_var = ncfile.createVariable('lon', 'f4', ('lon',))\n",
    "lon_var[:] = PRECT_lon\n",
    "lon_var.units = 'degrees East'\n",
    "\n",
    "ens_dim = ncfile.createDimension('ensemble', len(ensemble_names))\n",
    "ens_var = ncfile.createVariable('ensemble', 'f4', ('ensemble',))\n",
    "ens_var[:] = ensemble_names\n",
    "ens_var.units = 'NCAR LENS ensemble member'\n",
    "\n",
    "data_var = ncfile.createVariable('seasonal_total', 'f4', ('time','ensemble','lat','lon',))\n",
    "data_var[:] = all_seasonal_total_hist_rcp_3d\n",
    "data_var.units = 'Seasonal total precipitation (mm), with days <= 0.1 mm omitted to avoid drizzle effect'\n",
    "\n",
    "ncfile.close()"
   ]
  },
  {
   "cell_type": "code",
   "execution_count": null,
   "metadata": {
    "collapsed": true
   },
   "outputs": [],
   "source": []
  }
 ],
 "metadata": {
  "kernelspec": {
   "display_name": "Python 3",
   "language": "python",
   "name": "python3"
  },
  "language_info": {
   "codemirror_mode": {
    "name": "ipython",
    "version": 3
   },
   "file_extension": ".py",
   "mimetype": "text/x-python",
   "name": "python",
   "nbconvert_exporter": "python",
   "pygments_lexer": "ipython3",
   "version": "3.6.3"
  }
 },
 "nbformat": 4,
 "nbformat_minor": 2
}
