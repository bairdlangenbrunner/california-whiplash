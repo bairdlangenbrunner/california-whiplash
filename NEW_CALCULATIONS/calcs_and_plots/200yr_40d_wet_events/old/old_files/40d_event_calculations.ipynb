{
 "cells": [
  {
   "cell_type": "code",
   "execution_count": 48,
   "metadata": {
    "collapsed": true
   },
   "outputs": [],
   "source": [
    "import numpy\n",
    "import scipy\n",
    "import netCDF4\n",
    "import matplotlib.pyplot as mp\n",
    "import matplotlib.ticker\n",
    "import matplotlib.colors\n",
    "import scipy.stats\n",
    "import pandas\n",
    "import itertools\n",
    "\n",
    "mp.rcParams.update({'mathtext.default': 'regular'})\n",
    "% matplotlib inline"
   ]
  },
  {
   "cell_type": "code",
   "execution_count": 49,
   "metadata": {},
   "outputs": [],
   "source": [
    "working_dir = '/Users/baird/Dropbox/_analysis/attribution_2017/NEW_CALCULATIONS/npy_files/'\n",
    "#save_dir = '/Users/baird/Dropbox/_analysis/attribution_2017/NEW_CALCULATIONS/calculations/npy_files/'\n",
    "#latlon_indices = numpy.load(working_dir + 'ccal_latlon_indices_array.npy'); region='ccal'\n",
    "#latlon_indices = numpy.load(working_dir + 'ncal_latlon_indices_array.npy'); region='ncal'\n",
    "#latlon_indices = numpy.load(working_dir + 'scal_latlon_indices_array.npy'); region='scal'\n",
    "\n",
    "PRECT_lat = numpy.load('/Users/baird/Dropbox/_analysis/attribution_2017/NEW_CALCULATIONS/npy_files/PRECT_lat.npy')\n",
    "PRECT_lon = numpy.load('/Users/baird/Dropbox/_analysis/attribution_2017/NEW_CALCULATIONS/npy_files/PRECT_lon.npy')"
   ]
  },
  {
   "cell_type": "code",
   "execution_count": 50,
   "metadata": {
    "collapsed": true
   },
   "outputs": [],
   "source": [
    "working_dir = '/Users/baird/google_drive/_data_original/NCAR_LENS/daily/PRECT/calculated_npy_files/'\n",
    "#threshold=0.0\n",
    "threshold=0.1\n",
    "#threshold=0.5\n",
    "#threshold=1.0\n",
    "#threshold=5.0\n",
    "#threshold=10.0"
   ]
  },
  {
   "cell_type": "code",
   "execution_count": 51,
   "metadata": {},
   "outputs": [],
   "source": [
    "PRECT_nlat = 26\n",
    "PRECT_nlon = 25\n",
    "\n",
    "latlon_indices = list(itertools.product(range(PRECT_nlat), range(PRECT_nlon)))\n",
    "region = 'whole_domain'\n",
    "window=1"
   ]
  },
  {
   "cell_type": "markdown",
   "metadata": {},
   "source": [
    "# Open preindustrial control info"
   ]
  },
  {
   "cell_type": "code",
   "execution_count": 52,
   "metadata": {
    "collapsed": true
   },
   "outputs": [],
   "source": [
    "year_start_pic = 402 #time_subsets[chunk,0]\n",
    "year_end_pic = 2200 #time_subsets[chunk,1]\n",
    "\n",
    "year_start = 1920\n",
    "year_end = 2100\n",
    "\n",
    "# create season strings\n",
    "years_pic = numpy.arange(year_start_pic, year_end_pic+1, 1).astype(numpy.int)\n",
    "half_years_pic = numpy.arange(year_start_pic+0.75, year_end_pic, 1)\n",
    "#season_strings_pic = numpy.empty(years.size-1, dtype=numpy.str)\n",
    "\n",
    "season_strings_pic = [str(years_pic[i])+'-'+str(years_pic[i+1]) for i in range(years_pic.size-1)]\n",
    "member_strings_pic = ['{:03d}'.format(i) for i in range(1,36)]\n",
    "\n",
    "n_seasons_pic=year_end_pic-year_start_pic"
   ]
  },
  {
   "cell_type": "code",
   "execution_count": 34,
   "metadata": {},
   "outputs": [
    {
     "name": "stdout",
     "output_type": "stream",
     "text": [
      "member_005_latidx_00_lonidx_04_years_0402-2200_threshold_0.1mmday_whole_domain.npy\n"
     ]
    }
   ],
   "source": [
    "latlon_idx = 4\n",
    "filename = 'member_005_latidx_'+'{:02d}'.format(latlon_indices[latlon_idx][0])+'_lonidx_'+'{:02d}'.format(latlon_indices[latlon_idx][1])+'_years_'+'{:04d}'.format(year_start_pic)+'-'+'{:04d}'.format(year_end_pic)+'_threshold_'+str(threshold)+'mmday_'+region+'.npy'\n",
    "print(filename)\n",
    "working_dir = '/Users/baird/Dropbox/_data_original/NCAR_LENS/daily/PRECT/calculated_npy_files/whole_domain/'\n",
    "\n",
    "dict_pic = numpy.load(working_dir + filename).item()"
   ]
  },
  {
   "cell_type": "code",
   "execution_count": 35,
   "metadata": {},
   "outputs": [
    {
     "name": "stdout",
     "output_type": "stream",
     "text": [
      "dict_keys(['storm_count', 'storm_magnitude_list', 'storm_length_list', 'seasonal_total', 'running_40d_sum', 'monthly_totals'])\n"
     ]
    }
   ],
   "source": [
    "print(dict_pic['466-467'].keys())\n",
    "#sum_40d_list = dict_region['402-403']['running_40d_sum']\n",
    "\n",
    "# flatten all values\n",
    "#sum_40d_list = [dict_region[i]['running_40d_sum'] for i in dict_region.keys()]\n",
    "#sum_40d_array = numpy.array([item for sublist in sum_40d_list for item in sublist])\n",
    "\n",
    "# just keep one 40d period\n",
    "#sum_40d_list = [dict_region[i]['running_40d_sum'][149] for i in dict_region.keys()]\n",
    "#sum_40d_array = numpy.array(sum_40d_list)\n",
    "\n",
    "# store every 40d period in a separate place\n",
    "sum_40d_list = [dict_pic[i]['running_40d_sum'] for i in dict_region.keys()]\n",
    "store_all_distros = numpy.zeros((151-40, n_seasons_pic))\n",
    "for yr in range(len(season_strings_pic)):\n",
    "    for d40_idx in range(151-40):\n",
    "        store_all_distros[d40_idx, yr] = numpy.array([dict_pic[season_strings_pic[yr]]['running_40d_sum'][d40_idx]])\n",
    "\n",
    "#print(store_all_distros.shape)\n",
    "#print(len(sum_40d_list[0]))\n",
    "sum_40d_array = numpy.array([item for sublist in sum_40d_list for item in sublist])"
   ]
  },
  {
   "cell_type": "code",
   "execution_count": 36,
   "metadata": {},
   "outputs": [],
   "source": [
    "sum_40d_array = sum_40d_array[~numpy.isnan(sum_40d_array)]"
   ]
  },
  {
   "cell_type": "code",
   "execution_count": 37,
   "metadata": {
    "collapsed": true
   },
   "outputs": [],
   "source": [
    "#bins = numpy.linspace(sum_40d_array.min(), sum_40d_array.max(), 500)\n",
    "bins = numpy.arange(sum_40d_array.min(), sum_40d_array.max()+1, 1)\n",
    "hist_count, bin_edges = numpy.histogram(sum_40d_array, bins=bins, density=False)\n",
    "hist, bin_edges = numpy.histogram(sum_40d_array, bins=bins, density=True)"
   ]
  },
  {
   "cell_type": "code",
   "execution_count": 38,
   "metadata": {
    "collapsed": true
   },
   "outputs": [],
   "source": [
    "bin_centers = (bin_edges[:-1]+bin_edges[1:])/2\n",
    "bin_width = numpy.diff(bin_edges)"
   ]
  },
  {
   "cell_type": "code",
   "execution_count": 39,
   "metadata": {},
   "outputs": [
    {
     "name": "stdout",
     "output_type": "stream",
     "text": [
      "4.464307883302296e-05\n",
      "50.2494368365\n"
     ]
    },
    {
     "data": {
      "text/plain": [
       "0.5556173526140156"
      ]
     },
     "execution_count": 39,
     "metadata": {},
     "output_type": "execute_result"
    }
   ],
   "source": [
    "sum_40d_array.size/1798\n",
    "perc = 1.0/(sum_40d_array.size/1798 * 200)\n",
    "print(perc)\n",
    "perc_hi = scipy.stats.scoreatpercentile(sum_40d_array, per=99.5)\n",
    "print(numpy.percentile(sum_40d_array, 55.6))\n",
    "#print(scipy.stats.percentileatscore(sum_40d_array, score=))\n",
    "9*111/1798"
   ]
  },
  {
   "cell_type": "code",
   "execution_count": 40,
   "metadata": {
    "collapsed": true
   },
   "outputs": [],
   "source": [
    "cumul_dist = numpy.cumsum(hist)"
   ]
  },
  {
   "cell_type": "code",
   "execution_count": 41,
   "metadata": {},
   "outputs": [
    {
     "data": {
      "image/png": "[encoded data removed]",
      "text/plain": [
       "<matplotlib.figure.Figure at 0x119323d30>"
      ]
     },
     "metadata": {},
     "output_type": "display_data"
    }
   ],
   "source": [
    "fontsize=12\n",
    "\n",
    "fig = mp.figure(figsize=(4,6))\n",
    "\n",
    "ax1 = fig.add_subplot(211)\n",
    "ax1.bar(bin_centers, hist_count, align='center', width=bin_width, color='0.25', edgecolor='0.25', label='PIC')\n",
    "ax1.axvline(perc_hi, c='firebrick', lw=2)\n",
    "ax1.tick_params(labelsize=fontsize)\n",
    "ax1.set_ylabel('probability', fontsize=fontsize)\n",
    "ax1.set_xlabel('40d accumulation (mm)', fontsize=fontsize)\n",
    "ax1.grid()\n",
    "ax1.set_axisbelow(True)\n",
    "\n",
    "ax2 = fig.add_subplot(212)\n",
    "ax2.plot(bin_centers, cumul_dist, c='0.25', lw=2)\n",
    "ax2.axhline(.995, c='firebrick')\n",
    "ax2.tick_params(labelsize=fontsize)\n",
    "ax2.set_ylabel('cumul. distro', fontsize=fontsize)\n",
    "ax2.set_xlabel('40d accumulation (mm)', fontsize=fontsize)\n",
    "ax2.grid()\n",
    "ax2.set_axisbelow(True)\n",
    "\n",
    "\n",
    "fig.tight_layout()"
   ]
  },
  {
   "cell_type": "code",
   "execution_count": null,
   "metadata": {
    "collapsed": true
   },
   "outputs": [],
   "source": []
  },
  {
   "cell_type": "code",
   "execution_count": null,
   "metadata": {
    "collapsed": true
   },
   "outputs": [],
   "source": []
  },
  {
   "cell_type": "code",
   "execution_count": null,
   "metadata": {
    "collapsed": true
   },
   "outputs": [],
   "source": []
  },
  {
   "cell_type": "markdown",
   "metadata": {},
   "source": [
    "# Open hist and RCP8.5 info"
   ]
  },
  {
   "cell_type": "code",
   "execution_count": 42,
   "metadata": {
    "collapsed": true
   },
   "outputs": [],
   "source": [
    "year_start_hist = 1920 #time_subsets[chunk,0]\n",
    "year_end_hist = 2010 #time_subsets[chunk,1]\n",
    "\n",
    "# create season strings\n",
    "years = numpy.arange(year_start_hist, year_end_hist+1, 1).astype(numpy.int)\n",
    "half_years_hist = numpy.arange(year_start_hist+0.75, year_end_hist, 1)\n",
    "\n",
    "season_strings_hist = [str(years[i])+'-'+str(years[i+1]) for i in range(years.size-1)]\n",
    "member_strings_hist = ['{:03d}'.format(i) for i in range(1,36)]\n",
    "\n",
    "n_seasons_hist=year_end_hist-year_start_hist"
   ]
  },
  {
   "cell_type": "code",
   "execution_count": 43,
   "metadata": {
    "collapsed": true
   },
   "outputs": [],
   "source": [
    "year_start_rcp = 1920\n",
    "year_end_rcp = 2100\n",
    "\n",
    "# create season strings\n",
    "years = numpy.arange(year_start_rcp, year_end_rcp+1, 1).astype(numpy.int)\n",
    "half_years_rcp = numpy.arange(year_start_rcp+0.75, year_end_rcp, 1)\n",
    "\n",
    "season_strings_rcp = [str(years[i])+'-'+str(years[i+1]) for i in range(years.size-1)]\n",
    "member_strings_rcp = ['{:03d}'.format(i) for i in range(1,36)]\n",
    "\n",
    "n_seasons_rcp=year_end_rcp-year_start_rcp"
   ]
  },
  {
   "cell_type": "code",
   "execution_count": 44,
   "metadata": {},
   "outputs": [
    {
     "name": "stdout",
     "output_type": "stream",
     "text": [
      "['001', '002', '003', '004', '005', '006', '007', '008', '009', '010', '011', '012', '013', '014', '015', '016', '017', '018', '019', '020', '021', '022', '023', '024', '025', '026', '027', '028', '029', '030', '031', '032', '033', '034', '035', '101', '102', '103', '104', '105']\n"
     ]
    }
   ],
   "source": [
    "ensemble_members = numpy.hstack((numpy.arange(1,36), numpy.arange(101,106)))\n",
    "ensemble_names = ['{:03d}'.format(i) for i in ensemble_members]\n",
    "print(ensemble_names)"
   ]
  },
  {
   "cell_type": "code",
   "execution_count": 45,
   "metadata": {},
   "outputs": [],
   "source": [
    "working_dir = '/Users/baird/Dropbox/_data_original/NCAR_LENS/daily/PRECT/calculated_npy_files/whole_domain/'\n",
    "\n",
    "dict_list_hist_rcp = []\n",
    "for i in range(len(ensemble_names)):\n",
    "    ensemble_member=ensemble_names[i]\n",
    "    filename = 'member_'+ensemble_member+'_latidx_'+'{:02d}'.format(latlon_indices[latlon_idx][0])+'_lonidx_'+'{:02d}'.format(latlon_indices[latlon_idx][1])+'_years_'+'{:04d}'.format(year_start)+'-'+'{:04d}'.format(year_end)+'_threshold_'+str(threshold)+'mmday_'+region+'.npy'\n",
    "    dict_list_hist_rcp.append(numpy.load(working_dir + filename).item())"
   ]
  },
  {
   "cell_type": "code",
   "execution_count": null,
   "metadata": {
    "collapsed": true
   },
   "outputs": [],
   "source": []
  },
  {
   "cell_type": "code",
   "execution_count": null,
   "metadata": {
    "collapsed": true
   },
   "outputs": [],
   "source": []
  },
  {
   "cell_type": "code",
   "execution_count": null,
   "metadata": {
    "collapsed": true
   },
   "outputs": [],
   "source": []
  },
  {
   "cell_type": "code",
   "execution_count": null,
   "metadata": {
    "collapsed": true
   },
   "outputs": [],
   "source": []
  },
  {
   "cell_type": "code",
   "execution_count": null,
   "metadata": {
    "collapsed": true
   },
   "outputs": [],
   "source": []
  },
  {
   "cell_type": "code",
   "execution_count": null,
   "metadata": {
    "collapsed": true
   },
   "outputs": [],
   "source": []
  },
  {
   "cell_type": "code",
   "execution_count": null,
   "metadata": {
    "collapsed": true
   },
   "outputs": [],
   "source": []
  },
  {
   "cell_type": "code",
   "execution_count": null,
   "metadata": {
    "collapsed": true
   },
   "outputs": [],
   "source": []
  },
  {
   "cell_type": "code",
   "execution_count": null,
   "metadata": {
    "collapsed": true
   },
   "outputs": [],
   "source": []
  },
  {
   "cell_type": "code",
   "execution_count": null,
   "metadata": {
    "collapsed": true
   },
   "outputs": [],
   "source": []
  },
  {
   "cell_type": "code",
   "execution_count": null,
   "metadata": {
    "collapsed": true
   },
   "outputs": [],
   "source": []
  },
  {
   "cell_type": "code",
   "execution_count": null,
   "metadata": {
    "collapsed": true
   },
   "outputs": [],
   "source": []
  },
  {
   "cell_type": "markdown",
   "metadata": {},
   "source": [
    "# Import seasonal accumulation data"
   ]
  },
  {
   "cell_type": "code",
   "execution_count": 46,
   "metadata": {},
   "outputs": [],
   "source": [
    "#dict_hist_rcp = dict_OD_list_hist_rcp; dict_pic = dict_OD; location='OD'\n",
    "#dict_hist_rcp = dict_SF_list_hist_rcp; dict_pic = dict_SF; location='SF'\n",
    "dict_hist_rcp = dict_list_hist_rcp\n",
    "\n",
    "seasonal_total_list_hist = []\n",
    "for i in range(len(ensemble_names)):\n",
    "    seasonal_total = [dict_hist_rcp[i][s]['seasonal_total'] for s in season_strings_hist]\n",
    "    #seasonal_total = numpy.array([item for sublist in seasonal_total for item in sublist])  \n",
    "    seasonal_total_list_hist.append(seasonal_total)\n",
    "seasonal_total_hist = numpy.array([item for sublist in seasonal_total_list_hist for item in sublist])\n",
    "\n",
    "seasonal_total_list_rcp = []\n",
    "for i in range(len(ensemble_names)):\n",
    "    seasonal_total = [dict_hist_rcp[i][s]['seasonal_total'] for s in season_strings_rcp]\n",
    "    #seasonal_total = numpy.array([item for sublist in seasonal_total for item in sublist])  \n",
    "    seasonal_total_list_rcp.append(seasonal_total)\n",
    "seasonal_total_rcp = numpy.array([item for sublist in seasonal_total_list_rcp for item in sublist])\n",
    "\n",
    "seasonal_total_pic = numpy.array([dict_pic[s]['seasonal_total'] for s in season_strings_pic])\n",
    "#seasonal_total_pic = numpy.array([item for sublist in seasonal_total_pic for item in sublist])"
   ]
  },
  {
   "cell_type": "code",
   "execution_count": 47,
   "metadata": {},
   "outputs": [
    {
     "data": {
      "image/png": "[encoded data removed]",
      "text/plain": [
       "<matplotlib.figure.Figure at 0x115204978>"
      ]
     },
     "metadata": {},
     "output_type": "display_data"
    }
   ],
   "source": [
    "# now count the number of events that happen in the RCP data set\n",
    "# for each season, count number of events gte the value in the pic\n",
    "\n",
    "fontsize=12\n",
    "\n",
    "seasonal_total_allseasons = []\n",
    "for s in range(len(season_strings_rcp)):\n",
    "    seasonal_total = [dict_hist_rcp[i][season_strings_rcp[s]]['seasonal_total'] for i in range(len(ensemble_names))]\n",
    "    #seasonal_total = [item for sublist in seasonal_total for item in sublist]\n",
    "    seasonal_total_allseasons.append(seasonal_total)\n",
    "\n",
    "fig = mp.figure(figsize=(7,3.5))\n",
    "ax = fig.add_subplot(111)\n",
    "for t in range(half_years_rcp.size):\n",
    "    ax.plot([half_years_rcp[t]]*len(seasonal_total_allseasons[t]), seasonal_total_allseasons[t], color='0.25')\n",
    "\n",
    "ax.tick_params(labelsize=fontsize)\n",
    "ax.set_xlabel('Year in control run', fontsize=fontsize)\n",
    "ax.set_ylabel('Seasonal accumulation (mm)', fontsize=fontsize)\n",
    "#ax.set_xticks(numpy.arange(400,2201,300))#[400,500,750,1000,1250,1500,1750,2000,2200])\n",
    "#ax.set_yticks([0,250,500,750,1000,1250,1500])\n",
    "#ax.set_xlim(300,2300)\n",
    "ax.set_xticks(numpy.arange(1920,2101,20))\n",
    "\n",
    "ax.grid()\n",
    "ax.set_axisbelow(True)"
   ]
  },
  {
   "cell_type": "markdown",
   "metadata": {},
   "source": [
    "# Set up whiplash calculation information"
   ]
  },
  {
   "cell_type": "code",
   "execution_count": null,
   "metadata": {
    "collapsed": true
   },
   "outputs": [],
   "source": [
    "# get top and bottom 10th percentiles in PIC\n",
    "# then see how often it transitions from 1 or 2 seasons with that\n",
    "\n",
    "lo_perc = 20\n",
    "hi_perc = 80\n",
    "pic_hi = numpy.percentile(seasonal_total_pic, hi_perc)\n",
    "window=3\n",
    "\n",
    "# take 3 year running mean for pic_lo\n",
    "seasonal_total_pic_3yr_mean = numpy.array(pandas.Series(seasonal_total_pic).rolling(window=window).mean())\n",
    "pic_lo = numpy.nanpercentile(seasonal_total_pic_3yr_mean, lo_perc)\n",
    "\n",
    "whiplash_count_pic = 0\n",
    "whiplash_hi_seasons = []\n",
    "whiplash_lo_seasons = []\n",
    "lo_count = 0\n",
    "\n",
    "s=0\n",
    "# check and see if the 3 year running mean is less than the necessary low\n",
    "# if so, consider it a low count\n",
    "# and then ask if the NEXT season is above the hi perc\n",
    "# if so\n",
    "while s<seasonal_total_pic.size:\n",
    "    if (seasonal_total_pic_3yr_mean[s]<pic_lo):\n",
    "        lo_count+=1\n",
    "        s+=1\n",
    "    elif (seasonal_total_pic[s]>pic_hi)&(lo_count>0):\n",
    "        whiplash_count_pic+=1\n",
    "        whiplash_hi_seasons.append(s)\n",
    "        whiplash_lo_seasons.append(s-1)\n",
    "        lo_count=0\n",
    "        s+=window-1\n",
    "    else:\n",
    "        lo_count=0\n",
    "        s+=1\n",
    "#print(whiplash_lo_seasons)\n",
    "\"\"\"\n",
    "s=0\n",
    "while s<seasonal_total_pic.size:\n",
    "    if (seasonal_total_pic[s]<pic_lo):\n",
    "        lo_count += 1\n",
    "        s+=1\n",
    "    elif (seasonal_total_pic[s]>pic_hi)&(lo_count>(n_lo_events-1)):\n",
    "        whiplash_count_pic += 1\n",
    "        whiplash_hi_seasons.append(s)\n",
    "        whiplash_lo_seasons.append([i for i in range((s-n_lo_events),(s))])\n",
    "        lo_count = 0\n",
    "        s+=1\n",
    "    else:\n",
    "        s+=1\n",
    "        lo_count=0\n",
    "\"\"\"\n",
    "\n",
    "#flatten this list\n",
    "#whiplash_lo_seasons = [item for sublist in whiplash_lo_seasons for item in sublist]\n",
    "whiplash_lo_seasons = [item for item in whiplash_lo_seasons]"
   ]
  },
  {
   "cell_type": "code",
   "execution_count": null,
   "metadata": {
    "collapsed": true
   },
   "outputs": [],
   "source": [
    "# now count the number of events that happen in the RCP data set\n",
    "# for each season, count number of events gte the value in the pic\n",
    "\n",
    "fontsize=12\n",
    "\n",
    "fig = mp.figure(figsize=(7,3))\n",
    "ax = fig.add_subplot(111)\n",
    "\n",
    "ax.plot(half_years_pic, seasonal_total_pic, color='0.4', zorder=1)\n",
    "\n",
    "ax.scatter(half_years_pic[whiplash_hi_seasons], seasonal_total_pic[whiplash_hi_seasons], marker='s', c='dodgerblue', s=25, zorder=2)\n",
    "ax.scatter(half_years_pic[whiplash_lo_seasons], seasonal_total_pic_3yr_mean[whiplash_lo_seasons], marker='s', c='firebrick', s=25, zorder=2)\n",
    "#ax.plot(half_years_pic, seasonal_total_pic_3yr_mean, color='darkcyan', zorder=10)\n",
    "\n",
    "ax.tick_params(labelsize=fontsize)\n",
    "ax.set_xticks([400,600,800,1000,1200,1400,1600,1800,2000,2200])\n",
    "#ax.set_xlabel('Year in control run', fontsize=fontsize)\n",
    "ax.set_ylabel('Seasonal accumulation (mm)', fontsize=fontsize)\n",
    "ax.set_xlabel('Year in preindustrial control', fontsize=fontsize)\n",
    "\n",
    "ax.axhline(pic_hi, lw=2, zorder=1, color='dodgerblue')\n",
    "ax.axhline(pic_lo, lw=2, zorder=1, color='firebrick')\n",
    "\n",
    "ax.text(s='whiplash count: '+str(whiplash_count_pic)+\\\n",
    "        '\\nlow percentile: '+str(lo_perc)+\\\n",
    "        '%\\nhigh percentile: '+str(hi_perc)+'%', x=1.02, y=1.0, ha='left', va='top', fontsize=fontsize, transform=ax.transAxes, zorder=1)\n",
    "\n",
    "ax.axhspan(pic_lo, pic_hi, color='0.75', zorder=0)\n",
    "ax.grid()\n",
    "ax.set_axisbelow(True)\n",
    "\n",
    "#mp.savefig('./figs/all_preindustrial_seasonal_accumulations_threshold_WHIPLASH_'+str(threshold)+'_mmday_loperc_'+'{:.0f}'.format(lo_perc)+'_hiperc_'+'{:.0f}'.format(hi_perc)+'_dryseasons_'+str(n_lo_events)+'_'+location+'.pdf', transparent=True, bbox_inches='tight')"
   ]
  },
  {
   "cell_type": "code",
   "execution_count": null,
   "metadata": {
    "collapsed": true
   },
   "outputs": [],
   "source": [
    "print(whiplash_lo_seasons)"
   ]
  },
  {
   "cell_type": "code",
   "execution_count": null,
   "metadata": {
    "collapsed": true
   },
   "outputs": [],
   "source": [
    "# import all rcp data NOT BUNCHED TOGETHER but separately as each ensemble member\n",
    "seasonal_total_separate_ensembles = []\n",
    "\n",
    "year_start_whiplash = 1920\n",
    "year_end_whiplash = 2100\n",
    "\n",
    "# calculate index\n",
    "year_start_index = 180 - (2100 - year_start_whiplash)\n",
    "year_end_index = 180 - (2100 - year_end_whiplash)\n",
    "\n",
    "for i in range(len(ensemble_names)):\n",
    "    seasonal_total = [dict_hist_rcp[i][s]['seasonal_total'] for s in season_strings_rcp[year_start_index:year_end_index]]\n",
    "    #seasonal_total = [item for sublist in seasonal_total for item in sublist]\n",
    "    seasonal_total_separate_ensembles.append(numpy.array(seasonal_total))"
   ]
  },
  {
   "cell_type": "code",
   "execution_count": null,
   "metadata": {
    "collapsed": true
   },
   "outputs": [],
   "source": [
    "# now calculate 3 yr running mean for each ensemble member\n",
    "seasonal_total_separate_ensembles_3yr_mean = []\n",
    "for data in seasonal_total_separate_ensembles:\n",
    "    seasonal_total_separate_ensembles_3yr_mean.append( numpy.array( pandas.Series(data).rolling(window=window).mean() ))"
   ]
  },
  {
   "cell_type": "code",
   "execution_count": null,
   "metadata": {
    "collapsed": true
   },
   "outputs": [],
   "source": [
    "# get top and bottom 10th percentiles in PIC\n",
    "# then see how often it transitions from 1 or 2 seasons with that\n",
    "\n",
    "whiplash_count = 0\n",
    "whiplash_hi_seasons = []\n",
    "whiplash_lo_seasons = []\n",
    "lo_count = 0\n",
    "whiplash_lo_seasons_ens = []\n",
    "whiplash_hi_seasons_ens = []\n",
    "\n",
    "for i in range(len(ensemble_names)):\n",
    "    s=0\n",
    "    while s<len(season_strings_rcp[year_start_index:year_end_index]):\n",
    "        if (seasonal_total_separate_ensembles_3yr_mean[i][s]<pic_lo):\n",
    "            lo_count += 1\n",
    "            s+=1\n",
    "        elif (seasonal_total_separate_ensembles[i][s]>pic_hi)&(lo_count>0):\n",
    "            whiplash_count += 1\n",
    "            whiplash_hi_seasons.append(s)\n",
    "            whiplash_lo_seasons.append(s-1)\n",
    "            lo_count = 0\n",
    "            s+=window-1\n",
    "        else:\n",
    "            s+=1\n",
    "            lo_count=0\n",
    "\n",
    "    whiplash_lo_seasons = [item for item in whiplash_lo_seasons]\n",
    "    whiplash_lo_seasons_ens.append(whiplash_lo_seasons)\n",
    "    whiplash_hi_seasons_ens.append(whiplash_hi_seasons)\n",
    "    \n",
    "    whiplash_hi_seasons = []\n",
    "    whiplash_lo_seasons = []\n",
    "\n",
    "#whiplash_lo_seasons_ens = [item for sublist in whiplash_lo_seasons_ens for item in sublist]\n",
    "\n",
    "#print(whiplash_lo_seasons_ens[0])\n",
    "#print(whiplash_hi_seasons_ens[0])\n",
    "\n",
    "#print(len(whiplash_hi_seasons_ens))\n",
    "#print(len(whiplash_lo_seasons_ens))"
   ]
  },
  {
   "cell_type": "code",
   "execution_count": null,
   "metadata": {
    "collapsed": true
   },
   "outputs": [],
   "source": [
    "# now count the number of events that happen in the RCP data set\n",
    "# for each season, count number of events gte the value in the pic\n",
    "\n",
    "fontsize=12\n",
    "\n",
    "fig = mp.figure(figsize=(12,10))\n",
    "\n",
    "total_whiplash_count = 0\n",
    "\n",
    "for i in range(len(ensemble_names)):\n",
    "    \n",
    "    ax = fig.add_subplot(8,5,i+1)\n",
    "    ax.plot(half_years_rcp[year_start_index:year_end_index], seasonal_total_separate_ensembles[i], color='0.4', zorder=2)\n",
    "\n",
    "    ax.grid()\n",
    "    ax.tick_params(labelsize=fontsize)\n",
    "    ax.set_axisbelow(True)\n",
    "    ax.set_ylim(-200,1700)\n",
    "    ax.set_yticks([0,500,1000,1500])\n",
    "    ax.set_xlim(year_start_whiplash-10, year_end_whiplash+10)#(1900,2120)\n",
    "    #ax.set_xticks([1920,1980,2040,2100])\n",
    "    \n",
    "    ax.text(s=ensemble_names[i], x=0.03, y=0.95, fontsize=fontsize, ha='left', va='top', transform=ax.transAxes, color='firebrick', zorder=1)\n",
    "    ax.text(s='count: '+str(len(whiplash_hi_seasons_ens[i])), fontsize=fontsize, ha='right', va='top', x=0.97, y=0.97, transform=ax.transAxes, color='dodgerblue', zorder=1)\n",
    "    total_whiplash_count += len(whiplash_hi_seasons_ens[i])\n",
    "    \n",
    "    ax.scatter(half_years_rcp[year_start_index:year_end_index][whiplash_hi_seasons_ens[i]], seasonal_total_separate_ensembles[i][whiplash_hi_seasons_ens[i]], marker='s', c='dodgerblue', s=10, zorder=3)\n",
    "    ax.scatter(half_years_rcp[year_start_index:year_end_index][whiplash_lo_seasons_ens[i]], seasonal_total_separate_ensembles_3yr_mean[i][whiplash_lo_seasons_ens[i]], marker='s', c='firebrick', s=10, zorder=3)\n",
    "\n",
    "    ax.axhspan(pic_lo, pic_hi, color='0.75', zorder=0)\n",
    "    \n",
    "    if i in [0,5,10,15,20,25,30]:\n",
    "        ax.xaxis.set_ticklabels([])\n",
    "        ax.tick_params('x', length=0)\n",
    "        #ax.xaxis.set_major_formatter(matplotlib.ticker.NullFormatter())\n",
    "    elif i in [36,37,38,39]:\n",
    "        ax.yaxis.set_ticklabels([])\n",
    "        ax.tick_params('y', length=0)\n",
    "    elif i==35:\n",
    "        pass\n",
    "    else:\n",
    "        ax.xaxis.set_ticklabels([])\n",
    "        ax.yaxis.set_ticklabels([])\n",
    "        ax.tick_params('x', length=0)\n",
    "        ax.tick_params('y', length=0)\n",
    "    \n",
    "fig.text(s='Year in historical + RCP8.5 runs', x=0.5, y=-0.005, fontsize=fontsize, ha='center', va='top')\n",
    "fig.text(s='Seasonal accumulation (mm)', x=-0.005, y=0.5, fontsize=fontsize, ha='right', va='center', rotation=90)\n",
    "fig.text(s='Total whiplash count:  '+str(total_whiplash_count), x=0.5, y=1.005, fontsize=fontsize, ha='center', va='bottom')\n",
    "\n",
    "fig.tight_layout(w_pad=0, h_pad=0)\n",
    "\n",
    "\n",
    "\"\"\"\n",
    "\n",
    "\n",
    "ax.scatter(half_years_pic[whiplash_hi_seasons], seasonal_total_pic[whiplash_hi_seasons], marker='s', c='dodgerblue', s=25, zorder=2)\n",
    "ax.scatter(half_years_pic[whiplash_lo_seasons], seasonal_total_pic[whiplash_lo_seasons], marker='s', c='firebrick', s=25, zorder=2)\n",
    "\n",
    "ax.tick_params(labelsize=fontsize)\n",
    "#ax.set_xlabel('Year in control run', fontsize=fontsize)\n",
    "ax.set_ylabel('Seasonal accumulation (mm)', fontsize=fontsize)\n",
    "ax.set_xlabel('Year in preindustrial control', fontsize=fontsize)\n",
    "\n",
    "ax.axhline(pic_hi, lw=2, zorder=1, color='dodgerblue')\n",
    "ax.axhline(pic_lo, lw=2, zorder=1, color='firebrick')\n",
    "\n",
    "ax.text(s='whiplash count: '+str(whiplash_count)+\\\n",
    "        '\\nlow percentile: '+str(lo_perc)+\\\n",
    "        '%\\nhigh percentile: '+str(hi_perc)+'%'+\\\n",
    "        '\\nlow seasons:  '+str(n_low_events), x=0.97, y=0.95, ha='right', va='top', fontsize=fontsize, transform=ax.transAxes)\n",
    "\"\"\"\n",
    "\n",
    "#fig.savefig('./figs/all_hist_rcp_seasonal_accumulations_threshold_WHIPLASH_'+str(threshold)+'_mmday_loperc_'+'{:.0f}'.format(lo_perc)+'_hiperc_'+'{:.0f}'.format(hi_perc)+'_dryseasons_'+str(n_lo_events)+'_'+location+'.pdf', transparent=True, bbox_inches='tight')"
   ]
  },
  {
   "cell_type": "code",
   "execution_count": null,
   "metadata": {
    "collapsed": true
   },
   "outputs": [],
   "source": [
    "# times per century for PREINDUSTRIAL whiplash event\n",
    "pic_freq = (whiplash_count_pic/1798)*100\n",
    "\n",
    "# times per century for RCP8.5-like warming\n",
    "rcp_freq = (total_whiplash_count/(len(ensemble_names)*(2100-1920)))*100\n",
    "\n",
    "print(pic_freq, rcp_freq)\n",
    "rcp_freq/pic_freq"
   ]
  },
  {
   "cell_type": "markdown",
   "metadata": {
    "collapsed": true
   },
   "source": [
    "# Now do these counts for only the time period of interest"
   ]
  },
  {
   "cell_type": "code",
   "execution_count": null,
   "metadata": {
    "collapsed": true
   },
   "outputs": [],
   "source": [
    "# import all rcp data NOT BUNCHED TOGETHER but separately as each ensemble member\n",
    "seasonal_total_separate_ensembles = []\n",
    "\n",
    "year_start_whiplash = 2070\n",
    "year_end_whiplash = 2100\n",
    "\n",
    "# calculate index\n",
    "year_start_index = 180 - (2100 - year_start_whiplash)\n",
    "year_end_index = 180 - (2100 - year_end_whiplash)\n",
    "\n",
    "for i in range(len(ensemble_names)):\n",
    "    seasonal_total = [dict_hist_rcp[i][s]['seasonal_total'] for s in season_strings_rcp[year_start_index:year_end_index]]\n",
    "    #seasonal_total = [item for sublist in seasonal_total for item in sublist]\n",
    "    seasonal_total_separate_ensembles.append(numpy.array(seasonal_total))"
   ]
  },
  {
   "cell_type": "code",
   "execution_count": null,
   "metadata": {
    "collapsed": true
   },
   "outputs": [],
   "source": [
    "# now calculate 3 yr running mean for each ensemble member\n",
    "seasonal_total_separate_ensembles_3yr_mean = []\n",
    "for data in seasonal_total_separate_ensembles:\n",
    "    seasonal_total_separate_ensembles_3yr_mean.append( numpy.array( pandas.Series(data).rolling(window=window).mean() ))"
   ]
  },
  {
   "cell_type": "code",
   "execution_count": null,
   "metadata": {
    "collapsed": true
   },
   "outputs": [],
   "source": [
    "# get top and bottom 10th percentiles in PIC\n",
    "# then see how often it transitions from 1 or 2 seasons with that\n",
    "\n",
    "whiplash_count = 0\n",
    "whiplash_hi_seasons = []\n",
    "whiplash_lo_seasons = []\n",
    "lo_count = 0\n",
    "whiplash_lo_seasons_ens = []\n",
    "whiplash_hi_seasons_ens = []\n",
    "\n",
    "for i in range(len(ensemble_names)):\n",
    "    s=0\n",
    "    while s<len(season_strings_rcp[year_start_index:year_end_index]):\n",
    "        if (seasonal_total_separate_ensembles_3yr_mean[i][s]<pic_lo):\n",
    "            lo_count += 1\n",
    "            s+=1\n",
    "        elif (seasonal_total_separate_ensembles[i][s]>pic_hi)&(lo_count>0):\n",
    "            whiplash_count += 1\n",
    "            whiplash_hi_seasons.append(s)\n",
    "            whiplash_lo_seasons.append(s-1)\n",
    "            lo_count = 0\n",
    "            s+=window-1\n",
    "        else:\n",
    "            s+=1\n",
    "            lo_count=0\n",
    "\n",
    "    whiplash_lo_seasons = [item for item in whiplash_lo_seasons]\n",
    "    whiplash_lo_seasons_ens.append(whiplash_lo_seasons)\n",
    "    whiplash_hi_seasons_ens.append(whiplash_hi_seasons)\n",
    "    \n",
    "    whiplash_hi_seasons = []\n",
    "    whiplash_lo_seasons = []\n",
    "\n",
    "#whiplash_lo_seasons_ens = [item for sublist in whiplash_lo_seasons_ens for item in sublist]\n",
    "\n",
    "#print(whiplash_lo_seasons_ens[0])\n",
    "#print(whiplash_hi_seasons_ens[0])\n",
    "\n",
    "#print(len(whiplash_hi_seasons_ens))\n",
    "#print(len(whiplash_lo_seasons_ens))"
   ]
  },
  {
   "cell_type": "code",
   "execution_count": null,
   "metadata": {
    "collapsed": true
   },
   "outputs": [],
   "source": [
    "# now count the number of events that happen in the RCP data set\n",
    "# for each season, count number of events gte the value in the pic\n",
    "\n",
    "fontsize=12\n",
    "\n",
    "fig = mp.figure(figsize=(12,10))\n",
    "\n",
    "total_whiplash_count = 0\n",
    "\n",
    "for i in range(len(ensemble_names)):\n",
    "    \n",
    "    ax = fig.add_subplot(8,5,i+1)\n",
    "    ax.plot(half_years_rcp[year_start_index:year_end_index], seasonal_total_separate_ensembles[i], color='0.4', zorder=2)\n",
    "\n",
    "    ax.grid()\n",
    "    ax.tick_params(labelsize=fontsize)\n",
    "    ax.set_axisbelow(True)\n",
    "    ax.set_ylim(-200,1700)\n",
    "    ax.set_yticks([0,500,1000,1500])\n",
    "    ax.set_xlim(year_start_whiplash-5, year_end_whiplash+5)#(1900,2120)\n",
    "    #ax.set_xticks([1920,1980,2040,2100])\n",
    "    \n",
    "    ax.text(s=ensemble_names[i], x=0.03, y=0.95, fontsize=fontsize, ha='left', va='top', transform=ax.transAxes, color='firebrick', zorder=1)\n",
    "    ax.text(s='count: '+str(len(whiplash_hi_seasons_ens[i])), fontsize=fontsize, ha='right', va='top', x=0.97, y=0.97, transform=ax.transAxes, color='dodgerblue', zorder=1)\n",
    "    total_whiplash_count += len(whiplash_hi_seasons_ens[i])\n",
    "    \n",
    "    ax.scatter(half_years_rcp[year_start_index:year_end_index][whiplash_hi_seasons_ens[i]], seasonal_total_separate_ensembles[i][whiplash_hi_seasons_ens[i]], marker='s', c='dodgerblue', s=10, zorder=3)\n",
    "    ax.scatter(half_years_rcp[year_start_index:year_end_index][whiplash_lo_seasons_ens[i]], seasonal_total_separate_ensembles_3yr_mean[i][whiplash_lo_seasons_ens[i]], marker='s', c='firebrick', s=10, zorder=3)\n",
    "\n",
    "    ax.axhspan(pic_lo, pic_hi, color='0.75', zorder=0)\n",
    "    \n",
    "    if i in [0,5,10,15,20,25,30]:\n",
    "        ax.xaxis.set_ticklabels([])\n",
    "        ax.tick_params('x', length=0)\n",
    "        #ax.xaxis.set_major_formatter(matplotlib.ticker.NullFormatter())\n",
    "    elif i in [36,37,38,39]:\n",
    "        ax.yaxis.set_ticklabels([])\n",
    "        ax.tick_params('y', length=0)\n",
    "    elif i==35:\n",
    "        pass\n",
    "    else:\n",
    "        ax.xaxis.set_ticklabels([])\n",
    "        ax.yaxis.set_ticklabels([])\n",
    "        ax.tick_params('x', length=0)\n",
    "        ax.tick_params('y', length=0)\n",
    "    \n",
    "fig.text(s='Year in historical + RCP8.5 runs', x=0.5, y=-0.005, fontsize=fontsize, ha='center', va='top')\n",
    "fig.text(s='Seasonal accumulation (mm)', x=-0.005, y=0.5, fontsize=fontsize, ha='right', va='center', rotation=90)\n",
    "fig.text(s='Total whiplash count:  '+str(total_whiplash_count), x=0.5, y=1.005, fontsize=fontsize, ha='center', va='bottom')\n",
    "\n",
    "fig.tight_layout(w_pad=0, h_pad=0)\n",
    "\n",
    "\n",
    "\"\"\"\n",
    "\n",
    "\n",
    "ax.scatter(half_years_pic[whiplash_hi_seasons], seasonal_total_pic[whiplash_hi_seasons], marker='s', c='dodgerblue', s=25, zorder=2)\n",
    "ax.scatter(half_years_pic[whiplash_lo_seasons], seasonal_total_pic[whiplash_lo_seasons], marker='s', c='firebrick', s=25, zorder=2)\n",
    "\n",
    "ax.tick_params(labelsize=fontsize)\n",
    "#ax.set_xlabel('Year in control run', fontsize=fontsize)\n",
    "ax.set_ylabel('Seasonal accumulation (mm)', fontsize=fontsize)\n",
    "ax.set_xlabel('Year in preindustrial control', fontsize=fontsize)\n",
    "\n",
    "ax.axhline(pic_hi, lw=2, zorder=1, color='dodgerblue')\n",
    "ax.axhline(pic_lo, lw=2, zorder=1, color='firebrick')\n",
    "\n",
    "ax.text(s='whiplash count: '+str(whiplash_count)+\\\n",
    "        '\\nlow percentile: '+str(lo_perc)+\\\n",
    "        '%\\nhigh percentile: '+str(hi_perc)+'%'+\\\n",
    "        '\\nlow seasons:  '+str(n_low_events), x=0.97, y=0.95, ha='right', va='top', fontsize=fontsize, transform=ax.transAxes)\n",
    "\"\"\"\n",
    "\n",
    "#fig.savefig('./figs/all_hist_rcp_seasonal_accumulations_threshold_WHIPLASH_'+str(threshold)+'_mmday_loperc_'+'{:.0f}'.format(lo_perc)+'_hiperc_'+'{:.0f}'.format(hi_perc)+'_dryseasons_'+str(n_lo_events)+'_'+location+'.pdf', transparent=True, bbox_inches='tight')"
   ]
  },
  {
   "cell_type": "code",
   "execution_count": null,
   "metadata": {
    "collapsed": true
   },
   "outputs": [],
   "source": [
    "# times per century for PREINDUSTRIAL whiplash event\n",
    "pic_freq = (whiplash_count_pic/1798)*100\n",
    "\n",
    "# times per century for RCP8.5-like warming\n",
    "rcp_freq = (total_whiplash_count/(len(ensemble_names)*(year_end_whiplash-year_start_whiplash)))*100\n",
    "\n",
    "print(pic_freq, rcp_freq)\n",
    "rcp_freq/pic_freq"
   ]
  },
  {
   "cell_type": "code",
   "execution_count": null,
   "metadata": {
    "collapsed": true
   },
   "outputs": [],
   "source": []
  }
 ],
 "metadata": {
  "anaconda-cloud": {},
  "kernelspec": {
   "display_name": "Python 3",
   "language": "python",
   "name": "python3"
  },
  "language_info": {
   "codemirror_mode": {
    "name": "ipython",
    "version": 3
   },
   "file_extension": ".py",
   "mimetype": "text/x-python",
   "name": "python",
   "nbconvert_exporter": "python",
   "pygments_lexer": "ipython3",
   "version": "3.6.0"
  }
 },
 "nbformat": 4,
 "nbformat_minor": 1
}
