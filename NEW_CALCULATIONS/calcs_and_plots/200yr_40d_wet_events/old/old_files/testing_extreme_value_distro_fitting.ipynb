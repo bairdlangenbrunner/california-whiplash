{
 "cells": [
  {
   "cell_type": "code",
   "execution_count": 3,
   "metadata": {
    "collapsed": true
   },
   "outputs": [],
   "source": [
    "import numpy\n",
    "import scipy\n",
    "import netCDF4\n",
    "import matplotlib.pyplot as mp\n",
    "import matplotlib.ticker\n",
    "import matplotlib.colors\n",
    "import scipy.stats\n",
    "import pandas\n",
    "import itertools\n",
    "\n",
    "import mpl_toolkits\n",
    "from mpl_toolkits import basemap\n",
    "\n",
    "mp.rcParams.update({'mathtext.default': 'regular'})\n",
    "% matplotlib inline"
   ]
  },
  {
   "cell_type": "code",
   "execution_count": 4,
   "metadata": {
    "collapsed": true
   },
   "outputs": [],
   "source": [
    "working_dir = '/Users/baird/Dropbox/_analysis/attribution_2017/NEW_CALCULATIONS/npy_files/'\n",
    "#save_dir = '/Users/baird/Dropbox/_analysis/attribution_2017/NEW_CALCULATIONS/calculations/npy_files/'\n",
    "#latlon_indices = numpy.load(working_dir + 'ccal_latlon_indices_array.npy'); region='ccal'\n",
    "#latlon_indices = numpy.load(working_dir + 'ncal_latlon_indices_array.npy'); region='ncal'\n",
    "#latlon_indices = numpy.load(working_dir + 'scal_latlon_indices_array.npy'); region='scal'\n",
    "\n",
    "PRECT_lat = numpy.load('/Users/baird/Dropbox/_analysis/attribution_2017/NEW_CALCULATIONS/npy_files/PRECT_lat.npy')\n",
    "PRECT_lon = numpy.load('/Users/baird/Dropbox/_analysis/attribution_2017/NEW_CALCULATIONS/npy_files/PRECT_lon.npy')"
   ]
  },
  {
   "cell_type": "code",
   "execution_count": 5,
   "metadata": {
    "collapsed": true
   },
   "outputs": [],
   "source": [
    "working_dir = '/Users/baird/google_drive/_data_original/NCAR_LENS/daily/PRECT/calculated_npy_files/'\n",
    "#threshold=0.0\n",
    "threshold=0.1\n",
    "#threshold=0.5\n",
    "#threshold=1.0\n",
    "#threshold=5.0\n",
    "#threshold=10.0"
   ]
  },
  {
   "cell_type": "code",
   "execution_count": 6,
   "metadata": {
    "collapsed": true
   },
   "outputs": [],
   "source": [
    "# make color map\n",
    "minval=0.0 # \n",
    "maxval=0.95 #\n",
    "n=256\n",
    "full_cmap = mp.get_cmap('RdBu')\n",
    "cmap_partial = matplotlib.colors.LinearSegmentedColormap.from_list('trunc({n},{a:.2f},{b:.2f})'.format(n=full_cmap.name, a=minval, b=maxval), full_cmap(numpy.linspace(minval, maxval, n)))"
   ]
  },
  {
   "cell_type": "code",
   "execution_count": 7,
   "metadata": {
    "collapsed": true
   },
   "outputs": [],
   "source": [
    "PRECT_nlat = 26\n",
    "PRECT_nlon = 25\n",
    "\n",
    "latlon_indices = list(itertools.product(range(PRECT_nlat), range(PRECT_nlon)))\n",
    "region = 'whole_domain'\n",
    "window=1"
   ]
  },
  {
   "cell_type": "code",
   "execution_count": 8,
   "metadata": {
    "collapsed": true
   },
   "outputs": [],
   "source": [
    "extreme_values_40d = pandas.read_csv('csv_files/extreme_values_40d_sums_dataframe_pic.csv')\n",
    "extreme_values_40d_data = extreme_values_40d.values[:,1:]\n",
    "# each row is a latlon value\n",
    "# each column is a different season\n",
    "# for each row, find the 95th percentile across all seasons\n",
    "# plot them as histograms first"
   ]
  },
  {
   "cell_type": "code",
   "execution_count": 9,
   "metadata": {
    "collapsed": true
   },
   "outputs": [],
   "source": [
    "#bins = numpy.linspace(sum_40d_array.min(), sum_40d_array.max(), 500)\n",
    "latlon_idx = 647\n",
    "\n",
    "bins = numpy.linspace(extreme_values_40d_data[latlon_idx,:].min(), extreme_values_40d_data[latlon_idx,:].max(), 50)\n",
    "#hist_count, bin_edges = numpy.histogram(extreme_values_40d[latlon_idx,:], bins=bins, density=False)\n",
    "hist, bin_edges = numpy.histogram(extreme_values_40d_data[latlon_idx,:], bins=bins, density=True)\n",
    "bin_centers = (bin_edges[:-1]+bin_edges[1:])/2\n",
    "bin_width = numpy.diff(bin_edges)"
   ]
  },
  {
   "cell_type": "raw",
   "metadata": {},
   "source": [
    "fontsize=12\n",
    "# create histogram for one latlon array\n",
    "fig = mp.figure(figsize=(4,6))\n",
    "\n",
    "ax1 = fig.add_subplot(211)\n",
    "ax1.bar(bin_centers, hist, align='center', width=bin_width, color='0.5', edgecolor='0.25', label='PIC')\n",
    "ax1.tick_params(labelsize=fontsize)\n",
    "ax1.set_ylabel('probability', fontsize=fontsize)\n",
    "ax1.set_xlabel('40d accumulation (mm)', fontsize=fontsize)\n",
    "ax1.grid()\n",
    "ax1.set_axisbelow(True)"
   ]
  },
  {
   "cell_type": "code",
   "execution_count": 10,
   "metadata": {
    "collapsed": true
   },
   "outputs": [],
   "source": [
    "perc=99.5\n",
    "scores_at_perc = numpy.zeros((PRECT_nlat*PRECT_nlon))\n",
    "for latlon_idx in range(len(latlon_indices)):\n",
    "    scores_at_perc[latlon_idx] = scipy.stats.scoreatpercentile(extreme_values_40d_data[latlon_idx,:], perc)\n",
    "scores_at_perc_2d = scores_at_perc.reshape((PRECT_nlat, PRECT_nlon))"
   ]
  },
  {
   "cell_type": "code",
   "execution_count": 11,
   "metadata": {
    "collapsed": true
   },
   "outputs": [],
   "source": [
    "#year_start = 1920\n",
    "#year_end = 2100\n",
    "\n",
    "year_start_list = [1920,1950,1980,2010,2040,2070]\n",
    "year_end_list = [1950,1980,2010,2040,2070,2100]\n",
    "\n",
    "year_start = year_start_list[5]\n",
    "year_end = year_end_list[5]\n",
    "\n",
    "# create season strings\n",
    "years = numpy.arange(year_start, year_end+1, 1).astype(numpy.int)\n",
    "half_years_hist_rcp = numpy.arange(year_start+0.75, year_end, 1)\n",
    "\n",
    "season_strings_hist_rcp = [str(years[i])+'-'+str(years[i+1]) for i in range(years.size-1)]\n",
    "member_strings_hist_rcp = ['{:03d}'.format(i) for i in range(1,36)]\n",
    "\n",
    "n_seasons_hist_rcp=year_end-year_start"
   ]
  },
  {
   "cell_type": "code",
   "execution_count": 12,
   "metadata": {
    "collapsed": true
   },
   "outputs": [],
   "source": [
    "ensemble_members = numpy.hstack((numpy.arange(1,36), numpy.arange(101,106)))\n",
    "ensemble_names = ['{:03d}'.format(i) for i in ensemble_members]"
   ]
  },
  {
   "cell_type": "markdown",
   "metadata": {},
   "source": [
    "# Pull out only the year_start to year_end interval"
   ]
  },
  {
   "cell_type": "code",
   "execution_count": 13,
   "metadata": {},
   "outputs": [
    {
     "name": "stdout",
     "output_type": "stream",
     "text": [
      "(650, 30)\n"
     ]
    }
   ],
   "source": [
    "extreme_values_40d_hist_rcp_list = []\n",
    "for ensemble_idx in range(len(ensemble_names)):\n",
    "    extreme_values_40d = pandas.read_csv('csv_files/extreme_values_40d_sums_dataframe_model_'+ensemble_names[ensemble_idx]+'_1920-2100.csv')\n",
    "    extreme_values_40d_hist_rcp_list.append(extreme_values_40d[season_strings_hist_rcp].values)\n",
    "print(extreme_values_40d_hist_rcp_list[0].shape)"
   ]
  },
  {
   "cell_type": "code",
   "execution_count": 14,
   "metadata": {
    "collapsed": true
   },
   "outputs": [],
   "source": [
    "# collapse all lists into one full list\n",
    "extreme_values_40d_hist_rcp_single_array = numpy.empty((extreme_values_40d_hist_rcp_list[0].shape[0],0))\n",
    "#print(extreme_values_40d_hist_rcp_single_array.shape)\n",
    "for ensemble_idx in range(len(ensemble_names)):\n",
    "    #print(extreme_values_40d_hist_rcp_list[0].shape)\n",
    "    extreme_values_40d_hist_rcp_single_array = numpy.hstack(( extreme_values_40d_hist_rcp_single_array, extreme_values_40d_hist_rcp_list[ensemble_idx] ))"
   ]
  },
  {
   "cell_type": "code",
   "execution_count": 15,
   "metadata": {
    "collapsed": true
   },
   "outputs": [],
   "source": [
    "perc=99.5\n",
    "scores_at_perc_hist_rcp = numpy.zeros((PRECT_nlat*PRECT_nlon))\n",
    "for latlon_idx in range(len(latlon_indices)):\n",
    "    scores_at_perc_hist_rcp[latlon_idx] = scipy.stats.scoreatpercentile(extreme_values_40d_hist_rcp_single_array[latlon_idx,:], perc)\n",
    "scores_at_perc_hist_rcp_2d = scores_at_perc_hist_rcp.reshape((PRECT_nlat, PRECT_nlon))"
   ]
  },
  {
   "cell_type": "markdown",
   "metadata": {},
   "source": [
    "# Now calculate change in likelihood of a 200yr event"
   ]
  },
  {
   "cell_type": "code",
   "execution_count": 16,
   "metadata": {
    "collapsed": true
   },
   "outputs": [],
   "source": [
    "perc=99.5\n",
    "perc_of_pic_score = numpy.zeros((PRECT_nlat*PRECT_nlon))\n",
    "for latlon_idx in range(len(latlon_indices)):\n",
    "    perc_of_pic_score[latlon_idx] = scipy.stats.percentileofscore(extreme_values_40d_hist_rcp_single_array[latlon_idx,:], scores_at_perc[latlon_idx])\n",
    "\n",
    "change_likelihood = numpy.zeros((PRECT_nlat*PRECT_nlon))\n",
    "for latlon_idx in range(len(latlon_indices)):\n",
    "    change_likelihood[latlon_idx] = (100-perc_of_pic_score[latlon_idx])/(100-perc)\n",
    "change_likelihood_2d = change_likelihood.reshape((PRECT_nlat,PRECT_nlon))"
   ]
  },
  {
   "cell_type": "code",
   "execution_count": 17,
   "metadata": {
    "collapsed": true
   },
   "outputs": [],
   "source": [
    "# make color map\n",
    "minval=0.0 # \n",
    "maxval=0.9 #\n",
    "n=256\n",
    "full_cmap = mp.get_cmap('RdBu')\n",
    "cmap_partial = matplotlib.colors.LinearSegmentedColormap.from_list('trunc({n},{a:.2f},{b:.2f})'.format(n=full_cmap.name, a=minval, b=maxval), full_cmap(numpy.linspace(minval, maxval, n)))"
   ]
  },
  {
   "cell_type": "markdown",
   "metadata": {},
   "source": [
    "# Extreme value distro fitting"
   ]
  },
  {
   "cell_type": "code",
   "execution_count": 20,
   "metadata": {},
   "outputs": [
    {
     "data": {
      "text/plain": [
       "(1200,)"
      ]
     },
     "execution_count": 20,
     "metadata": {},
     "output_type": "execute_result"
    }
   ],
   "source": [
    "perc=99.5\n",
    "perc_of_pic_score = numpy.zeros((PRECT_nlat*PRECT_nlon))\n",
    "for latlon_idx in range(len(latlon_indices)):\n",
    "    perc_of_pic_score[latlon_idx] = scipy.stats.percentileofscore(extreme_values_40d_hist_rcp_single_array[latlon_idx,:], scores_at_perc[latlon_idx])\n",
    "\n",
    "#change_likelihood = numpy.zeros((PRECT_nlat*PRECT_nlon))\n",
    "#for latlon_idx in range(len(latlon_indices)):\n",
    "#    change_likelihood[latlon_idx] = (100-perc_of_pic_score[latlon_idx])/(100-perc)\n",
    "#change_likelihood_2d = change_likelihood.reshape((PRECT_nlat,PRECT_nlon))\n",
    "\n",
    "a = extreme_values_40d_hist_rcp_single_array[20,:]\n",
    "a.shape"
   ]
  },
  {
   "cell_type": "code",
   "execution_count": 21,
   "metadata": {
    "collapsed": true
   },
   "outputs": [],
   "source": [
    "#distro_fit = scipy.stats.gamma.fit(a)\n",
    "#distro_fit = scipy.stats.gumbel_r.fit(a)\n",
    "distro_fit = scipy.stats.pearson3.fit(a)"
   ]
  },
  {
   "cell_type": "code",
   "execution_count": 22,
   "metadata": {},
   "outputs": [
    {
     "data": {
      "text/plain": [
       "[<matplotlib.lines.Line2D at 0x11a06a5c0>]"
      ]
     },
     "execution_count": 22,
     "metadata": {},
     "output_type": "execute_result"
    },
    {
     "data": {
      "image/png": "[encoded data removed]",
      "text/plain": [
       "<matplotlib.figure.Figure at 0x11a06a5f8>"
      ]
     },
     "metadata": {},
     "output_type": "display_data"
    }
   ],
   "source": [
    "h = mp.hist(a, normed=True, bins=60, alpha=0.5)\n",
    "x = numpy.linspace(a.min(), a.max(), 1000)\n",
    "pdf_fitted = scipy.stats.pearson3.pdf(x, *distro_fit)\n",
    "mp.plot(x, pdf_fitted, label='fit')"
   ]
  },
  {
   "cell_type": "code",
   "execution_count": 1,
   "metadata": {},
   "outputs": [
    {
     "ename": "NameError",
     "evalue": "name 'scipy' is not defined",
     "output_type": "error",
     "traceback": [
      "\u001b[0;31m---------------------------------------------------------------------------\u001b[0m",
      "\u001b[0;31mNameError\u001b[0m                                 Traceback (most recent call last)",
      "\u001b[0;32m<ipython-input-1-61ba84e81e8e>\u001b[0m in \u001b[0;36m<module>\u001b[0;34m()\u001b[0m\n\u001b[0;32m----> 1\u001b[0;31m \u001b[0mcdf_fitted\u001b[0m \u001b[0;34m=\u001b[0m \u001b[0mscipy\u001b[0m\u001b[0;34m.\u001b[0m\u001b[0mstats\u001b[0m\u001b[0;34m.\u001b[0m\u001b[0mpearson3\u001b[0m\u001b[0;34m.\u001b[0m\u001b[0mcdf\u001b[0m\u001b[0;34m(\u001b[0m\u001b[0mx\u001b[0m\u001b[0;34m,\u001b[0m \u001b[0;34m*\u001b[0m\u001b[0mdistro_fit\u001b[0m\u001b[0;34m)\u001b[0m\u001b[0;34m\u001b[0m\u001b[0m\n\u001b[0m\u001b[1;32m      2\u001b[0m \u001b[0mmp\u001b[0m\u001b[0;34m.\u001b[0m\u001b[0mplot\u001b[0m\u001b[0;34m(\u001b[0m\u001b[0mx\u001b[0m\u001b[0;34m,\u001b[0m \u001b[0mcdf_fitted\u001b[0m\u001b[0;34m,\u001b[0m \u001b[0mlabel\u001b[0m\u001b[0;34m=\u001b[0m\u001b[0;34m'fit'\u001b[0m\u001b[0;34m)\u001b[0m\u001b[0;34m\u001b[0m\u001b[0m\n",
      "\u001b[0;31mNameError\u001b[0m: name 'scipy' is not defined"
     ]
    }
   ],
   "source": [
    "cdf_fitted = scipy.stats.pearson3.cdf(x, *distro_fit)\n",
    "mp.plot(x, cdf_fitted, label='fit')"
   ]
  },
  {
   "cell_type": "code",
   "execution_count": 24,
   "metadata": {},
   "outputs": [
    {
     "data": {
      "text/plain": [
       "170.11204398092249"
      ]
     },
     "execution_count": 24,
     "metadata": {},
     "output_type": "execute_result"
    }
   ],
   "source": [
    "scipy.stats.pearson3.ppf(0.995, *distro_fit)"
   ]
  },
  {
   "cell_type": "code",
   "execution_count": 26,
   "metadata": {},
   "outputs": [
    {
     "data": {
      "text/plain": [
       "0.99498255999240903"
      ]
     },
     "execution_count": 26,
     "metadata": {},
     "output_type": "execute_result"
    }
   ],
   "source": [
    "scipy.stats.pearson3.cdf(170, *distro_fit)"
   ]
  },
  {
   "cell_type": "code",
   "execution_count": null,
   "metadata": {
    "collapsed": true
   },
   "outputs": [],
   "source": []
  }
 ],
 "metadata": {
  "anaconda-cloud": {},
  "kernelspec": {
   "display_name": "Python 3",
   "language": "python",
   "name": "python3"
  },
  "language_info": {
   "codemirror_mode": {
    "name": "ipython",
    "version": 3
   },
   "file_extension": ".py",
   "mimetype": "text/x-python",
   "name": "python",
   "nbconvert_exporter": "python",
   "pygments_lexer": "ipython3",
   "version": "3.6.4"
  }
 },
 "nbformat": 4,
 "nbformat_minor": 1
}
