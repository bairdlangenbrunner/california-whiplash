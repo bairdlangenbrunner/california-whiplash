{
 "cells": [
  {
   "cell_type": "code",
   "execution_count": 1,
   "metadata": {
    "collapsed": true
   },
   "outputs": [],
   "source": [
    "import numpy\n",
    "import scipy\n",
    "import netCDF4\n",
    "import matplotlib.pyplot as mp\n",
    "import matplotlib.ticker\n",
    "import matplotlib.colors\n",
    "import scipy.stats\n",
    "import pandas\n",
    "import itertools\n",
    "from mpl_toolkits import basemap\n",
    "import mpl_toolkits.axes_grid1\n",
    "import random\n",
    "import datetime\n",
    "import time\n",
    "import os\n",
    "\n",
    "degree_sign = u'\\u00B0'\n",
    "mp.rcParams.update({'mathtext.default': 'regular'})\n",
    "mp.rcParams['hatch.color'] = '0.5'\n",
    "\n",
    "% matplotlib inline"
   ]
  },
  {
   "cell_type": "markdown",
   "metadata": {},
   "source": [
    "# Set up lat/lon of locations of interest"
   ]
  },
  {
   "cell_type": "code",
   "execution_count": 2,
   "metadata": {
    "collapsed": true
   },
   "outputs": [],
   "source": [
    "LA_lat = 34.0522\n",
    "LA_lon = 118.2437 # deg west\n",
    "LA_lon = 180. + (180-LA_lon)\n",
    "\n",
    "Oroville_dam_lat = 39.5380\n",
    "Oroville_dam_lon = 121.4831 # deg west\n",
    "Oroville_dam_lon = 360 - Oroville_dam_lon\n",
    "\n",
    "SF_lat = 37.7749\n",
    "SF_lon = 122.4194\n",
    "SF_lon = 360 - SF_lon"
   ]
  },
  {
   "cell_type": "markdown",
   "metadata": {},
   "source": [
    "# Import coastal grid point indices"
   ]
  },
  {
   "cell_type": "code",
   "execution_count": 3,
   "metadata": {
    "collapsed": true
   },
   "outputs": [],
   "source": [
    "cali_coast_latlon_indices = numpy.load('/Users/baird/Dropbox/_analysis/attribution_2017/NEW_CALCULATIONS/npy_files/coastal_latlon_array_indices_3x.npy')\n",
    "cali_coast_latlon_indices_zip = [i for i in zip(cali_coast_latlon_indices[:,0], cali_coast_latlon_indices[:,1])]\n",
    "\n",
    "cali_coast_latlon_indices_3d = cali_coast_latlon_indices.reshape((11,3,2))\n",
    "#print(cali_coast_latlon_indices_3d[0,:,:])"
   ]
  },
  {
   "cell_type": "markdown",
   "metadata": {},
   "source": [
    "# Specify return period information and percentiles"
   ]
  },
  {
   "cell_type": "code",
   "execution_count": 4,
   "metadata": {},
   "outputs": [
    {
     "name": "stdout",
     "output_type": "stream",
     "text": [
      "99.86754966887416\n"
     ]
    }
   ],
   "source": [
    "#return_period = 200 # in years\n",
    "#events_per_year = 151/40\n",
    "\n",
    "return_period = 200\n",
    "events_per_year = 151/40\n",
    "\n",
    "return_val_perc = 100*(1-1/(return_period*events_per_year))\n",
    "print(return_val_perc)"
   ]
  },
  {
   "cell_type": "code",
   "execution_count": 5,
   "metadata": {
    "collapsed": true
   },
   "outputs": [],
   "source": [
    "window=30\n",
    "half_window=int(window/2)"
   ]
  },
  {
   "cell_type": "markdown",
   "metadata": {},
   "source": [
    "# Set up directories where data are stored"
   ]
  },
  {
   "cell_type": "code",
   "execution_count": 6,
   "metadata": {
    "collapsed": true
   },
   "outputs": [],
   "source": [
    "working_dir = '/Users/baird/Dropbox/_analysis/attribution_2017/NEW_CALCULATIONS/npy_files/'\n",
    "#save_dir = '/Users/baird/Dropbox/_analysis/attribution_2017/NEW_CALCULATIONS/calculations/npy_files/'\n",
    "#latlon_indices = numpy.load(working_dir + 'ccal_latlon_indices_array.npy'); region='ccal'\n",
    "#latlon_indices = numpy.load(working_dir + 'ncal_latlon_indices_array.npy'); region='ncal'\n",
    "#latlon_indices = numpy.load(working_dir + 'scal_latlon_indices_array.npy'); region='scal'\n",
    "\n",
    "PRECT_lat = numpy.load('/Users/baird/Dropbox/_analysis/attribution_2017/NEW_CALCULATIONS/npy_files/PRECT_lat.npy')\n",
    "PRECT_lon = numpy.load('/Users/baird/Dropbox/_analysis/attribution_2017/NEW_CALCULATIONS/npy_files/PRECT_lon.npy')"
   ]
  },
  {
   "cell_type": "code",
   "execution_count": 7,
   "metadata": {
    "collapsed": true
   },
   "outputs": [],
   "source": [
    "working_dir = '/Users/baird/google_drive/_data_original/NCAR_LENS/daily/PRECT/calculated_npy_files/'\n",
    "#threshold=0.0\n",
    "threshold=0.1\n",
    "#threshold=0.5\n",
    "#threshold=1.0\n",
    "#threshold=5.0\n",
    "#threshold=10.0"
   ]
  },
  {
   "cell_type": "markdown",
   "metadata": {},
   "source": [
    "# Import lat/lon information"
   ]
  },
  {
   "cell_type": "code",
   "execution_count": 8,
   "metadata": {
    "collapsed": true
   },
   "outputs": [],
   "source": [
    "PRECT_nlat = 26\n",
    "PRECT_nlon = 25\n",
    "\n",
    "latlon_indices = list(itertools.product(range(PRECT_nlat), range(PRECT_nlon)))\n",
    "region = 'whole_domain'\n",
    "window=30\n",
    "\n",
    "days_per_season = 30+31+31+28+31"
   ]
  },
  {
   "cell_type": "code",
   "execution_count": 31,
   "metadata": {
    "collapsed": true
   },
   "outputs": [],
   "source": [
    "def geo_idx(dd, dd_array):\n",
    "   \"\"\"\n",
    "     search for nearest decimal degree in an array of decimal degrees and return the index.\n",
    "     np.argmin returns the indices of minium value along an axis.\n",
    "     so subtract dd from all values in dd_array, take absolute value and find index of minium.\n",
    "    \"\"\"\n",
    "   geo_idx = (numpy.abs(dd_array - dd)).argmin()\n",
    "   return geo_idx"
   ]
  },
  {
   "cell_type": "code",
   "execution_count": 32,
   "metadata": {
    "collapsed": true
   },
   "outputs": [],
   "source": [
    "LA_lat_idx = geo_idx(LA_lat, PRECT_lat)\n",
    "LA_lon_idx = geo_idx(LA_lon, PRECT_lon)\n",
    "\n",
    "SF_lat_idx = geo_idx(SF_lat, PRECT_lat)\n",
    "SF_lon_idx = geo_idx(SF_lon, PRECT_lon)\n",
    "\n",
    "OD_lat_idx = geo_idx(Oroville_dam_lat, PRECT_lat)\n",
    "OD_lon_idx = geo_idx(Oroville_dam_lon, PRECT_lon)\n",
    "\n",
    "#REGION_lat_idx, REGION_lon_idx = SF_lat_idx, SF_lon_idx; REGION_NAME = 'SF'\n",
    "REGION_lat_idx, REGION_lon_idx = LA_lat_idx, LA_lon_idx; REGION_NAME = 'LA'\n",
    "#REGION_lat_idx, REGION_lon_idx = OD_lat_idx, OD_lon_idx; REGION_NAME = 'OD'"
   ]
  },
  {
   "cell_type": "markdown",
   "metadata": {},
   "source": [
    "# Open PIC data"
   ]
  },
  {
   "cell_type": "code",
   "execution_count": 9,
   "metadata": {
    "collapsed": true
   },
   "outputs": [],
   "source": [
    "year_start_pic = 402 #time_subsets[chunk,0]\n",
    "year_end_pic = 2200 #time_subsets[chunk,1]\n",
    "\n",
    "# create season strings\n",
    "years_pic = numpy.arange(year_start_pic, year_end_pic+1, 1).astype(numpy.int)\n",
    "#half_years_pic = numpy.arange(year_start_pic+0.75, year_end_pic, 1)\n",
    "#season_strings_pic = numpy.empty(years.size-1, dtype=numpy.str)\n",
    "\n",
    "season_strings_pic = [str(years_pic[i])+'-'+str(years_pic[i+1]) for i in range(years_pic.size-1)]\n",
    "member_strings_pic = ['{:03d}'.format(i) for i in range(1,36)]\n",
    "\n",
    "n_seasons_pic=year_end_pic-year_start_pic"
   ]
  },
  {
   "cell_type": "code",
   "execution_count": 10,
   "metadata": {
    "collapsed": true
   },
   "outputs": [],
   "source": [
    "working_dir = '/Users/baird/Dropbox/_data_original/NCAR_LENS/daily/PRECT/calculated_npy_files/whole_domain/'"
   ]
  },
  {
   "cell_type": "markdown",
   "metadata": {},
   "source": [
    "# Save all events as a numpy array, and save return period values"
   ]
  },
  {
   "cell_type": "raw",
   "metadata": {
    "collapsed": true
   },
   "source": [
    "working_dir = '/Users/baird/Dropbox/_data_original/NCAR_LENS/daily/PRECT/calculated_npy_files/whole_domain/'\n",
    "# for each grid point:\n",
    "# cycle through all times, get extreme seasonal sum in each time period, store in array with length(season_strings_pic)\n",
    "# once this is done, calculate the return periods of each of these\n",
    "return_period_values_pic = numpy.zeros(( PRECT_nlat*PRECT_nlon, 2))\n",
    "all_events_pic = numpy.zeros((len(latlon_indices), n_seasons_pic))\n",
    "\n",
    "for latlon_idx in range(len(latlon_indices)):\n",
    "    if latlon_idx%10==0:\n",
    "        print(latlon_idx)\n",
    "    filename = 'member_005_latidx_'+'{:02d}'.format(latlon_indices[latlon_idx][0])+'_lonidx_'+'{:02d}'.format(latlon_indices[latlon_idx][1])+'_years_'+'{:04d}'.format(year_start_pic)+'-'+'{:04d}'.format(year_end_pic)+'_threshold_'+str(threshold)+'mmday_'+region+'.npy'\n",
    "    dict_pic = numpy.load(working_dir + filename).item()\n",
    "    #print(dict_pic['402-403'].keys())\n",
    "    seasonal_events_list = [dict_pic[i]['seasonal_total'] for i in dict_pic.keys()]\n",
    "    all_events_pic[latlon_idx,:] = seasonal_events_list\n",
    "    return_period_values_pic[latlon_idx,0] = numpy.percentile(seasonal_events_list, return_val_perc)#, interpolation='nearest')\n",
    "    return_period_values_pic[latlon_idx,1] = numpy.sum(seasonal_events_list>return_period_values_pic[latlon_idx,0])"
   ]
  },
  {
   "cell_type": "raw",
   "metadata": {},
   "source": [
    "numpy.save('csv_files/all_events_pic.npy', all_events_pic)"
   ]
  },
  {
   "cell_type": "markdown",
   "metadata": {},
   "source": [
    "# Open all PIC events (which have already been saved as a npy array)"
   ]
  },
  {
   "cell_type": "code",
   "execution_count": 11,
   "metadata": {
    "collapsed": true
   },
   "outputs": [],
   "source": [
    "all_events_pic = numpy.load('csv_files/all_events_pic.npy')"
   ]
  },
  {
   "cell_type": "markdown",
   "metadata": {},
   "source": [
    "# Open return period calculations"
   ]
  },
  {
   "cell_type": "code",
   "execution_count": 12,
   "metadata": {
    "collapsed": true
   },
   "outputs": [],
   "source": [
    "return_period_values_pic_df = pandas.read_csv('csv_files/return_period_values_pic_df_update.csv')\n",
    "return_period_values_pic = return_period_values_pic_df.values[:,1:]"
   ]
  },
  {
   "cell_type": "code",
   "execution_count": 13,
   "metadata": {},
   "outputs": [
    {
     "name": "stdout",
     "output_type": "stream",
     "text": [
      "     Unnamed: 0            0      1\n",
      "0             0   362.197806  267.0\n",
      "1             1   336.077598  267.0\n",
      "2             2   328.762059  267.0\n",
      "3             3   307.488663  267.0\n",
      "4             4   301.458560  267.0\n",
      "5             5   277.368956  267.0\n",
      "6             6   239.395205  267.0\n",
      "7             7   226.115425  267.0\n",
      "8             8   222.629654  267.0\n",
      "9             9   218.048425  267.0\n",
      "10           10   209.354619  267.0\n",
      "11           11   198.520972  266.0\n",
      "12           12   212.208580  266.0\n",
      "13           13   190.435540  264.0\n",
      "14           14   190.867870  267.0\n",
      "15           15   187.565082  265.0\n",
      "16           16   172.252956  266.0\n",
      "17           17   169.236159  267.0\n",
      "18           18   176.938227  255.0\n",
      "19           19   195.502873  267.0\n",
      "20           20   195.048131  267.0\n",
      "21           21   201.574999  267.0\n",
      "22           22   212.398038  266.0\n",
      "23           23   247.561622  262.0\n",
      "24           24   317.707136  267.0\n",
      "25           25   385.855175  267.0\n",
      "26           26   362.988875  267.0\n",
      "27           27   343.086228  267.0\n",
      "28           28   325.425440  267.0\n",
      "29           29   308.811887  267.0\n",
      "..          ...          ...    ...\n",
      "620         620   342.920061  267.0\n",
      "621         621   134.904578  267.0\n",
      "622         622   120.558236  267.0\n",
      "623         623   100.117975  267.0\n",
      "624         624    88.543049  267.0\n",
      "625         625   351.405552  267.0\n",
      "626         626   357.056958  267.0\n",
      "627         627   351.838353  267.0\n",
      "628         628   362.572823  267.0\n",
      "629         629   372.329948  267.0\n",
      "630         630   376.402486  267.0\n",
      "631         631   384.837935  267.0\n",
      "632         632   401.661604  267.0\n",
      "633         633   441.182844  267.0\n",
      "634         634   533.475895  267.0\n",
      "635         635   710.024972  267.0\n",
      "636         636   879.155015  267.0\n",
      "637         637   927.220953  267.0\n",
      "638         638  1013.641206  267.0\n",
      "639         639   862.819149  267.0\n",
      "640         640   419.634506  267.0\n",
      "641         641   259.517705  267.0\n",
      "642         642   264.445559  267.0\n",
      "643         643   327.207680  267.0\n",
      "644         644   391.913029  267.0\n",
      "645         645   217.659004  267.0\n",
      "646         646   109.106239  267.0\n",
      "647         647    85.292079  267.0\n",
      "648         648   100.136255  267.0\n",
      "649         649    88.182863  267.0\n",
      "\n",
      "[650 rows x 3 columns]\n"
     ]
    }
   ],
   "source": [
    "print(return_period_values_pic_df)"
   ]
  },
  {
   "cell_type": "markdown",
   "metadata": {},
   "source": [
    "# Open historical, RCP and place all data into a 4d array!"
   ]
  },
  {
   "cell_type": "code",
   "execution_count": 14,
   "metadata": {
    "collapsed": true
   },
   "outputs": [],
   "source": [
    "ensemble_members = numpy.hstack((numpy.arange(1,36), numpy.arange(101,106)))\n",
    "ensemble_names = ['{:03d}'.format(i) for i in ensemble_members]"
   ]
  },
  {
   "cell_type": "code",
   "execution_count": 15,
   "metadata": {
    "collapsed": true
   },
   "outputs": [],
   "source": [
    "year_start = 1920\n",
    "year_end = 2100\n",
    "\n",
    "year_start_list = numpy.arange(1920,2070)\n",
    "year_end_list = numpy.arange(1950,2100)\n",
    "year_middle_list = year_start_list+15\n",
    "\n",
    "# create season strings\n",
    "years = numpy.arange(year_start, year_end+1, 1).astype(numpy.int)\n",
    "half_years_hist_rcp = numpy.arange(year_start+0.75, year_end, 1)\n",
    "season_strings_hist_rcp = [str(i)+'-'+str(i+1) for i in range(year_start,year_end)]\n",
    "\n",
    "thirty_yr_strings_hist_rcp = [str(year_start_list[i])+'-'+str(year_end_list[i]) for i in range(year_start_list.size)]\n",
    "member_strings_hist_rcp = ['{:03d}'.format(i) for i in range(1,36)]\n",
    "\n",
    "n_seasons_hist_rcp=year_end-year_start"
   ]
  },
  {
   "cell_type": "raw",
   "metadata": {},
   "source": [
    "# loop through every grid point and attach ALL ensemble members information\n",
    "all_events_total = []\n",
    "total_events_each_latlon = []\n",
    "all_events_hist_rcp_4d = numpy.zeros(( 650, 40, n_seasons_hist_rcp, days_per_season ))\n",
    "\n",
    "for latlon_idx in range(len(latlon_indices)):\n",
    "    if latlon_idx%10==0:\n",
    "        print(latlon_idx)\n",
    "    total_events_each_latlon = []\n",
    "    for ensemble_idx in range(len(ensemble_members)):\n",
    "        filename = 'member_'+ensemble_names[ensemble_idx]+'_latidx_'+'{:02d}'.format(latlon_indices[latlon_idx][0])+'_lonidx_'+'{:02d}'.format(latlon_indices[latlon_idx][1])+'_years_1920-2100_threshold_'+str(threshold)+'mmday_'+region+'.npy'\n",
    "        dict_hist_rcp = numpy.load(working_dir+filename).item()\n",
    "        #print(dict_hist_rcp['1920-1921'])\n",
    "        seasonal_events_list = [dict_hist_rcp[i]['running_40d_sum'] for i in dict_hist_rcp.keys()]\n",
    "        all_events_hist_rcp_4d[latlon_idx,ensemble_idx,:,:] = seasonal_events_list\n",
    "    #all_events_total.append(total_events_each_latlon)"
   ]
  },
  {
   "cell_type": "raw",
   "metadata": {},
   "source": [
    "numpy.save('csv_files/all_events_hist_rcp_4d.npy', all_events_hist_rcp_4d)"
   ]
  },
  {
   "cell_type": "code",
   "execution_count": 16,
   "metadata": {
    "collapsed": true
   },
   "outputs": [],
   "source": [
    "all_events_hist_rcp_4d = numpy.load('csv_files/all_events_hist_rcp_4d.npy')"
   ]
  },
  {
   "cell_type": "code",
   "execution_count": 17,
   "metadata": {},
   "outputs": [
    {
     "name": "stdout",
     "output_type": "stream",
     "text": [
      "(650, 40, 180, 151)\n"
     ]
    }
   ],
   "source": [
    "print(all_events_hist_rcp_4d.shape)"
   ]
  },
  {
   "cell_type": "raw",
   "metadata": {},
   "source": [
    "event_count = numpy.zeros((len(latlon_indices), 40, 180), dtype=numpy.int)\n",
    "dayskip = 40\n",
    "for latlon_idx in range(len(latlon_indices)):\n",
    "    if latlon_idx%10==0:\n",
    "        print(latlon_idx)\n",
    "    pic_val = return_period_values_pic[latlon_idx,0]\n",
    "    for ens_member in range(40):\n",
    "        for yr_idx in range(180):\n",
    "            daycount=0\n",
    "            while daycount<days_per_season:\n",
    "                if all_events_hist_rcp_4d[latlon_idx, ens_member, yr_idx, daycount] > pic_val:\n",
    "                    event_count[latlon_idx, ens_member, yr_idx] += 1\n",
    "                    daycount += 40\n",
    "                else:\n",
    "                    daycount += 1"
   ]
  },
  {
   "cell_type": "raw",
   "metadata": {},
   "source": [
    "numpy.save('csv_files/event_count.npy', event_count)"
   ]
  },
  {
   "cell_type": "code",
   "execution_count": 18,
   "metadata": {
    "collapsed": true
   },
   "outputs": [],
   "source": [
    "event_count = numpy.load('csv_files/event_count.npy')"
   ]
  },
  {
   "cell_type": "code",
   "execution_count": 19,
   "metadata": {},
   "outputs": [
    {
     "name": "stdout",
     "output_type": "stream",
     "text": [
      "(650, 40, 180)\n"
     ]
    }
   ],
   "source": [
    "print(event_count.shape)"
   ]
  },
  {
   "cell_type": "code",
   "execution_count": 70,
   "metadata": {},
   "outputs": [
    {
     "name": "stdout",
     "output_type": "stream",
     "text": [
      "97\n",
      "(650, 40, 83)\n"
     ]
    }
   ],
   "source": [
    "idx_2017_2018 = numpy.where(numpy.array((season_strings_hist_rcp))=='2017-2018')[0][0]\n",
    "print(numpy.where(numpy.array((season_strings_hist_rcp))=='2017-2018')[0][0])\n",
    "event_count_2017_2100 = event_count[:,:,idx_2017_2018:]\n",
    "print(event_count_2017_2100.shape)"
   ]
  },
  {
   "cell_type": "code",
   "execution_count": 71,
   "metadata": {
    "collapsed": true
   },
   "outputs": [],
   "source": [
    "event_count_ens_mean = numpy.mean(event_count_2017_2100, axis=1)\n",
    "event_count_year_sum = numpy.sum(event_count_ens_mean, axis=1)"
   ]
  },
  {
   "cell_type": "code",
   "execution_count": 72,
   "metadata": {
    "collapsed": true
   },
   "outputs": [],
   "source": [
    "event_count_year_sum_reshape = event_count_year_sum.reshape((PRECT_nlat, PRECT_nlon))"
   ]
  },
  {
   "cell_type": "code",
   "execution_count": 73,
   "metadata": {},
   "outputs": [
    {
     "data": {
      "text/plain": [
       "<matplotlib.colorbar.Colorbar at 0x2c7995ef0>"
      ]
     },
     "execution_count": 73,
     "metadata": {},
     "output_type": "execute_result"
    },
    {
     "data": {
      "image/png": "[encoded data removed]",
      "text/plain": [
       "<matplotlib.figure.Figure at 0x2c78f2400>"
      ]
     },
     "metadata": {},
     "output_type": "display_data"
    }
   ],
   "source": [
    "cf = mp.contourf(event_count_year_sum_reshape, levels=[0,1,2,3,4,5], extend='max')\n",
    "mp.colorbar(cf)"
   ]
  },
  {
   "cell_type": "markdown",
   "metadata": {},
   "source": [
    "# Create significance test"
   ]
  },
  {
   "cell_type": "code",
   "execution_count": 74,
   "metadata": {},
   "outputs": [
    {
     "data": {
      "text/plain": [
       "(650, 40, 83)"
      ]
     },
     "execution_count": 74,
     "metadata": {},
     "output_type": "execute_result"
    }
   ],
   "source": [
    "event_count_2017_2100.shape"
   ]
  },
  {
   "cell_type": "code",
   "execution_count": 75,
   "metadata": {
    "collapsed": true
   },
   "outputs": [],
   "source": [
    "event_count_across_years = numpy.sum(event_count_2017_2100, axis=2)\n",
    "event_count_across_years_2d = event_count_across_years.reshape((PRECT_lat.size,PRECT_lon.size,40))\n",
    "\n",
    "sig_test_gte_1 = numpy.sum(event_count_across_years>=1, axis=1)/40.\n",
    "sig_test_gte_2 = numpy.sum(event_count_across_years>=2, axis=1)/40.\n",
    "\n",
    "nmods_gte_1 = numpy.sum(event_count_across_years>=1, axis=1)\n",
    "nmods_gte_2 = numpy.sum(event_count_across_years>=2, axis=1)\n",
    "\n",
    "sig_test_gte_1_2d = sig_test_gte_1.reshape((PRECT_lat.size,PRECT_lon.size))\n",
    "sig_test_gte_2_2d = sig_test_gte_2.reshape((PRECT_lat.size,PRECT_lon.size))\n",
    "\n",
    "nmods_gte_1_2d = nmods_gte_1.reshape((PRECT_lat.size,PRECT_lon.size))\n",
    "nmods_gte_2_2d = nmods_gte_2.reshape((PRECT_lat.size,PRECT_lon.size))"
   ]
  },
  {
   "cell_type": "code",
   "execution_count": 76,
   "metadata": {},
   "outputs": [
    {
     "data": {
      "text/plain": [
       "<matplotlib.colorbar.Colorbar at 0x2c75cb0b8>"
      ]
     },
     "execution_count": 76,
     "metadata": {},
     "output_type": "execute_result"
    },
    {
     "data": {
      "image/png": "[encoded data removed]",
      "text/plain": [
       "<matplotlib.figure.Figure at 0x2c78f2128>"
      ]
     },
     "metadata": {},
     "output_type": "display_data"
    }
   ],
   "source": [
    "cf=mp.contourf(nmods_gte_2_2d)\n",
    "mp.colorbar(cf)"
   ]
  },
  {
   "cell_type": "code",
   "execution_count": 77,
   "metadata": {},
   "outputs": [
    {
     "data": {
      "image/png": "[encoded data removed]",
      "text/plain": [
       "<matplotlib.figure.Figure at 0x2c75ac438>"
      ]
     },
     "metadata": {},
     "output_type": "display_data"
    }
   ],
   "source": [
    "fontsize=12\n",
    "contour_levels = numpy.arange(0,5.1,0.5)\n",
    "\n",
    "fig = mp.figure(figsize=(5,5))\n",
    "\n",
    "ax = fig.add_subplot(111)\n",
    "map = basemap.Basemap(projection='cyl',ax=ax, llcrnrlat=PRECT_lat.min(),urcrnrlat=PRECT_lat.max(),llcrnrlon=PRECT_lon.min(),urcrnrlon=PRECT_lon.max(),resolution='i')\n",
    "map.fillcontinents(color='0.75',lake_color='0.5')\n",
    "map.drawmapboundary(fill_color='0')\n",
    "\n",
    "map.drawcoastlines(linewidth=1.5, color='0', zorder=3)\n",
    "map.drawstates(linewidth=1.5, color='0', zorder=3)\n",
    "map.drawcountries(linewidth=1.5, color='0', zorder=3)\n",
    "\n",
    "lons,lats = numpy.meshgrid(PRECT_lon, PRECT_lat)\n",
    "xi,yi = map(lons, lats)\n",
    "\n",
    "pr_map = map.contourf(xi, yi, event_count_year_sum_reshape, cmap='magma', levels=contour_levels, zorder=2, extend='max', latlon=True)\n",
    "\n",
    "ax_sig = ax.contourf(xi, \\\n",
    "                    yi, \\\n",
    "                    sig_test_gte_1_2d, \\\n",
    "                    colors='None', \\\n",
    "                    levels=[0.0,0.85,1.0], \\\n",
    "                    hatches=[None,'///'], \\\n",
    "                    extend='lower', \\\n",
    "                    edgecolors='red', \\\n",
    "                    zorder=2)\n",
    "\n",
    "divider = mpl_toolkits.axes_grid1.make_axes_locatable(ax)\n",
    "cbar_ax = divider.append_axes('bottom', size='5%', pad=0.2) #fig.add_axes([0.0, -0.02, 1.0, 0.03])\n",
    "cbar = fig.colorbar(pr_map, cax=cbar_ax, orientation='horizontal')\n",
    "\n",
    "cbar.set_label('Number of events', fontsize=fontsize)\n",
    "cbar.ax.tick_params(labelsize=fontsize)\n",
    "#cbar.set_ticks(contour_levels)\n",
    "\n",
    "ax.text(s='# of times a 40d,200yr event occurs 2017-2100 (sum across 40 runs)\\n(hatching where >= 85% of ens. members have at least 1)', x=0, y=1.01, transform=ax.transAxes, fontsize=fontsize, ha='left', va='bottom')\n",
    "\n",
    "fig.tight_layout()\n",
    "mp.savefig('N_events_2017_2100_stippling_gte_1_event.pdf', transparent=True, bbox_inches='tight')"
   ]
  },
  {
   "cell_type": "markdown",
   "metadata": {},
   "source": [
    "# plotting gte 2"
   ]
  },
  {
   "cell_type": "code",
   "execution_count": 78,
   "metadata": {},
   "outputs": [
    {
     "data": {
      "image/png": "[encoded data removed]",
      "text/plain": [
       "<matplotlib.figure.Figure at 0x2c7552048>"
      ]
     },
     "metadata": {},
     "output_type": "display_data"
    }
   ],
   "source": [
    "fontsize=12\n",
    "contour_levels = numpy.arange(0,5.1,0.5)\n",
    "\n",
    "fig = mp.figure(figsize=(5,5))\n",
    "\n",
    "ax = fig.add_subplot(111)\n",
    "map = basemap.Basemap(projection='cyl',ax=ax, llcrnrlat=PRECT_lat.min(),urcrnrlat=PRECT_lat.max(),llcrnrlon=PRECT_lon.min(),urcrnrlon=PRECT_lon.max(),resolution='i')\n",
    "map.fillcontinents(color='0.75',lake_color='0.5')\n",
    "map.drawmapboundary(fill_color='0')\n",
    "\n",
    "map.drawcoastlines(linewidth=1.5, color='0', zorder=3)\n",
    "map.drawstates(linewidth=1.5, color='0', zorder=3)\n",
    "map.drawcountries(linewidth=1.5, color='0', zorder=3)\n",
    "\n",
    "lons,lats = numpy.meshgrid(PRECT_lon, PRECT_lat)\n",
    "xi,yi = map(lons, lats)\n",
    "\n",
    "pr_map = map.contourf(xi, yi, event_count_year_sum_reshape, cmap='magma', levels=contour_levels, zorder=2, extend='max', latlon=True)\n",
    "\n",
    "ax_sig = ax.contourf(xi, \\\n",
    "                    yi, \\\n",
    "                    sig_test_gte_2_2d, \\\n",
    "                    colors='None', \\\n",
    "                    levels=[0.0,0.6,1.0], \\\n",
    "                    hatches=[None,'///'], \\\n",
    "                    extend='lower', \\\n",
    "                    edgecolors='red', \\\n",
    "                    zorder=2)\n",
    "\n",
    "divider = mpl_toolkits.axes_grid1.make_axes_locatable(ax)\n",
    "cbar_ax = divider.append_axes('bottom', size='5%', pad=0.2) #fig.add_axes([0.0, -0.02, 1.0, 0.03])\n",
    "cbar = fig.colorbar(pr_map, cax=cbar_ax, orientation='horizontal')\n",
    "\n",
    "cbar.set_label('Number of events', fontsize=fontsize)\n",
    "cbar.ax.tick_params(labelsize=fontsize)\n",
    "#cbar.set_ticks(contour_levels)\n",
    "\n",
    "ax.text(s='# of times a 40d,200yr event occurs 2017-2100 (sum across 40 runs)\\n(hatching where >= 60% of ens. members have at least 2)', x=0, y=1.01, transform=ax.transAxes, fontsize=fontsize, ha='left', va='bottom')\n",
    "\n",
    "fig.tight_layout()\n",
    "mp.savefig('N_events_2017_2100_stippling_gte_2_events.pdf', transparent=True, bbox_inches='tight')"
   ]
  },
  {
   "cell_type": "markdown",
   "metadata": {
    "collapsed": true
   },
   "source": [
    "# Save netcdf file"
   ]
  },
  {
   "cell_type": "code",
   "execution_count": 29,
   "metadata": {},
   "outputs": [
    {
     "name": "stdout",
     "output_type": "stream",
     "text": [
      "removed 200yr_40d_N_event_map.nc\n"
     ]
    }
   ],
   "source": [
    "# save hist clim\n",
    "filename = '200yr_40d_N_event_map.nc'\n",
    "if os.path.isfile(filename):\n",
    "    os.remove(filename)\n",
    "    print('removed '+filename)\n",
    "\n",
    "ncfile = netCDF4.Dataset(filename, 'w', format='NETCDF4')\n",
    "\n",
    "lat_dim = ncfile.createDimension('lat', PRECT_lat.size)\n",
    "lon_dim = ncfile.createDimension('lon', PRECT_lon.size)\n",
    "ens_dim = ncfile.createDimension('ens', 40)\n",
    "\n",
    "lat_var = ncfile.createVariable('lat', 'f4', ('lat',))\n",
    "lon_var = ncfile.createVariable('lon', 'f4', ('lon',))\n",
    "lat_var[:] = PRECT_lat\n",
    "lon_var[:] = PRECT_lon\n",
    "lat_var.units = 'degrees_north'\n",
    "lon_var.units = 'degrees_east'\n",
    "ens_var = ncfile.createVariable('ens', 'S1', ('ens',))\n",
    "ens_var[:] = ensemble_names\n",
    "\n",
    "events_count = ncfile.createVariable('N_events_count_mean', 'f4', ('lat','lon',))\n",
    "events_count[:] = event_count_year_sum_reshape\n",
    "events_count.units = 'number of models'\n",
    "events_count.description = 'Number of 200yr 40d events from 2017-2018 wet season onward in the NCAR Large Ensemble (averaged across 40 different realizations)'\n",
    "\n",
    "n_gte_1_count = ncfile.createVariable('nmods_gte_1', 'f4', ('lat','lon',))\n",
    "n_gte_1_count[:] = nmods_gte_1_2d[:]\n",
    "n_gte_1_count.units = 'number of models'\n",
    "n_gte_1_count.description = 'Number of ensemble members (out of 40 total) that have at least one 200yr 40d event after 2017-2018'\n",
    "\n",
    "n_gte_2_count = ncfile.createVariable('nmods_gte_2', 'f4', ('lat','lon',))\n",
    "n_gte_2_count[:] = nmods_gte_2_2d[:]\n",
    "n_gte_2_count.units = 'number of models'\n",
    "n_gte_2_count.description = 'Number of ensemble members (out of 40 total) that have at least two 200yr 40d events after 2017-2018'\n",
    "\n",
    "all_event_counts = ncfile.createVariable('individual_ens_member_counts', 'f4', ('ens','lat','lon'))\n",
    "all_event_counts[:] = event_count_across_years_2d.transpose((2,0,1))\n",
    "all_event_counts.units = 'number of events'\n",
    "all_event_counts.description = 'Number of events for each ensemble member after 2017-2018 wet season'\n",
    "\n",
    "ncfile.close()"
   ]
  },
  {
   "cell_type": "code",
   "execution_count": null,
   "metadata": {
    "collapsed": true
   },
   "outputs": [],
   "source": []
  },
  {
   "cell_type": "code",
   "execution_count": null,
   "metadata": {
    "collapsed": true
   },
   "outputs": [],
   "source": []
  },
  {
   "cell_type": "code",
   "execution_count": null,
   "metadata": {
    "collapsed": true
   },
   "outputs": [],
   "source": []
  },
  {
   "cell_type": "markdown",
   "metadata": {},
   "source": [
    "# Create time series for D Swain"
   ]
  },
  {
   "cell_type": "code",
   "execution_count": 79,
   "metadata": {
    "collapsed": true
   },
   "outputs": [],
   "source": [
    "year_list = numpy.arange(2018,2101)\n",
    "time_datetime = [datetime.datetime(i,1,15) for i in year_list]"
   ]
  },
  {
   "cell_type": "code",
   "execution_count": 92,
   "metadata": {},
   "outputs": [
    {
     "name": "stdout",
     "output_type": "stream",
     "text": [
      "(26, 25, 40)\n",
      "(650, 40, 180)\n"
     ]
    }
   ],
   "source": [
    "print(event_count_across_years_2d.shape)\n",
    "print(event_count.shape)"
   ]
  },
  {
   "cell_type": "code",
   "execution_count": 81,
   "metadata": {
    "collapsed": true
   },
   "outputs": [],
   "source": [
    "event_count_2d = numpy.reshape(event_count, (PRECT_nlat,PRECT_nlon,40,180))\n",
    "event_count_2d_2017_2100 = numpy.reshape(event_count_2017_2100, (PRECT_nlat,PRECT_nlon,40,-1))"
   ]
  },
  {
   "cell_type": "code",
   "execution_count": 82,
   "metadata": {},
   "outputs": [
    {
     "name": "stdout",
     "output_type": "stream",
     "text": [
      "(83, 40, 26, 25)\n"
     ]
    }
   ],
   "source": [
    "event_count_2d = numpy.transpose(event_count_2d, (3,2,0,1))\n",
    "event_count_2d_2017_2100 = numpy.transpose(event_count_2d_2017_2100, (3,2,0,1))\n",
    "print(event_count_2d_2017_2100.shape)"
   ]
  },
  {
   "cell_type": "code",
   "execution_count": 90,
   "metadata": {
    "collapsed": true
   },
   "outputs": [],
   "source": [
    "event_count_2d_2017_2100_LA = event_count_2d_2017_2100[:,:,LA_lat_idx,LA_lon_idx-1:LA_lon_idx+1]\n",
    "\n",
    "# calculate mean perc change (gpm = grid point mean)\n",
    "event_count_2d_2017_2100_LA_gpm = numpy.mean(event_count_2d_2017_2100_LA, axis=2)\n",
    "\n",
    "# 180yr percent change time series for 100yr wet, 100yr dry, 80/20 whipLAsh\n",
    "column_names = ['Sum across all 40 members', 'Cumulative sum'] + ensemble_names\n",
    "\n",
    "all_ens_sum = numpy.sum(event_count_2d_2017_2100_LA_gpm, axis=1)\n",
    "all_ens_cumsum = numpy.cumsum(all_ens_sum)\n",
    "\n",
    "df_array = numpy.column_stack((all_ens_sum, all_ens_cumsum, event_count_2d_2017_2100_LA_gpm))\n",
    "df_array = pandas.DataFrame(df_array, columns=column_names, index=time_datetime)\n",
    "df_array.to_csv('N_200yr_events_LA_2gdpts.csv')\n",
    "\n",
    "# ==================================================\n",
    "\n",
    "event_count_2d_2017_2100_LA = event_count_2d_2017_2100[:,:,LA_lat_idx-1:LA_lat_idx+2,LA_lon_idx-1:LA_lon_idx+2]\n",
    "\n",
    "# calculate mean perc change (gpm = grid point mean)\n",
    "event_count_2d_2017_2100_LA_gpm = numpy.mean(event_count_2d_2017_2100_LA, axis=2)\n",
    "event_count_2d_2017_2100_LA_gpm = numpy.mean(event_count_2d_2017_2100_LA_gpm, axis=2)\n",
    "\n",
    "# 180yr percent change time series for 100yr wet, 100yr dry, 80/20 whipLAsh\n",
    "column_names = ['Sum across all 40 members', 'Cumulative sum'] + ensemble_names\n",
    "\n",
    "all_ens_sum = numpy.sum(event_count_2d_2017_2100_LA_gpm, axis=1)\n",
    "all_ens_cumsum = numpy.cumsum(all_ens_sum)\n",
    "\n",
    "df_array = numpy.column_stack((all_ens_sum, all_ens_cumsum, event_count_2d_2017_2100_LA_gpm))\n",
    "df_array = pandas.DataFrame(df_array, columns=column_names, index=time_datetime)\n",
    "df_array.to_csv('N_200yr_events_LA_3x3gdpts.csv')\n",
    "\n",
    "# ==================================================\n",
    "\n",
    "event_count_2d_2017_2100_LA = event_count_2d_2017_2100[:,:,LA_lat_idx,LA_lon_idx]\n",
    "\n",
    "# calculate mean perc change (gpm = grid point mean)\n",
    "event_count_2d_2017_2100_LA_gpm = numpy.copy(event_count_2d_2017_2100_LA)\n",
    "\n",
    "# 180yr percent change time series for 100yr wet, 100yr dry, 80/20 whipLAsh\n",
    "column_names = ['Sum across all 40 members', 'Cumulative sum'] + ensemble_names\n",
    "\n",
    "all_ens_sum = numpy.sum(event_count_2d_2017_2100_LA_gpm, axis=1)\n",
    "all_ens_cumsum = numpy.cumsum(all_ens_sum)\n",
    "\n",
    "df_array = numpy.column_stack((all_ens_sum, all_ens_cumsum, event_count_2d_2017_2100_LA_gpm))\n",
    "df_array = pandas.DataFrame(df_array, columns=column_names, index=time_datetime)\n",
    "df_array.to_csv('N_200yr_events_LA_1gdpt.csv')"
   ]
  },
  {
   "cell_type": "code",
   "execution_count": 93,
   "metadata": {
    "collapsed": true
   },
   "outputs": [],
   "source": [
    "event_count_2d_2017_2100_SF = event_count_2d_2017_2100[:,:,SF_lat_idx,SF_lon_idx-1:SF_lon_idx+1]\n",
    "\n",
    "# calculate mean perc change (gpm = grid point mean)\n",
    "event_count_2d_2017_2100_SF_gpm = numpy.mean(event_count_2d_2017_2100_SF, axis=2)\n",
    "\n",
    "# 180yr percent change time series for 100yr wet, 100yr dry, 80/20 whipSFsh\n",
    "column_names = ['Sum across all 40 members', 'Cumulative sum'] + ensemble_names\n",
    "\n",
    "all_ens_sum = numpy.sum(event_count_2d_2017_2100_SF_gpm, axis=1)\n",
    "all_ens_cumsum = numpy.cumsum(all_ens_sum)\n",
    "\n",
    "df_array = numpy.column_stack((all_ens_sum, all_ens_cumsum, event_count_2d_2017_2100_SF_gpm))\n",
    "df_array = pandas.DataFrame(df_array, columns=column_names, index=time_datetime)\n",
    "df_array.to_csv('N_200yr_events_SF_2gdpts.csv')\n",
    "\n",
    "# ==================================================\n",
    "\n",
    "event_count_2d_2017_2100_SF = event_count_2d_2017_2100[:,:,SF_lat_idx-1:SF_lat_idx+2,SF_lon_idx-1:SF_lon_idx+2]\n",
    "\n",
    "# calculate mean perc change (gpm = grid point mean)\n",
    "event_count_2d_2017_2100_SF_gpm = numpy.mean(event_count_2d_2017_2100_SF, axis=2)\n",
    "event_count_2d_2017_2100_SF_gpm = numpy.mean(event_count_2d_2017_2100_SF_gpm, axis=2)\n",
    "\n",
    "# 180yr percent change time series for 100yr wet, 100yr dry, 80/20 whipSFsh\n",
    "column_names = ['Sum across all 40 members', 'Cumulative sum'] + ensemble_names\n",
    "\n",
    "all_ens_sum = numpy.sum(event_count_2d_2017_2100_SF_gpm, axis=1)\n",
    "all_ens_cumsum = numpy.cumsum(all_ens_sum)\n",
    "\n",
    "df_array = numpy.column_stack((all_ens_sum, all_ens_cumsum, event_count_2d_2017_2100_SF_gpm))\n",
    "df_array = pandas.DataFrame(df_array, columns=column_names, index=time_datetime)\n",
    "df_array.to_csv('N_200yr_events_SF_3x3gdpts.csv')\n",
    "\n",
    "# ==================================================\n",
    "\n",
    "event_count_2d_2017_2100_SF = event_count_2d_2017_2100[:,:,SF_lat_idx,SF_lon_idx]\n",
    "\n",
    "# calculate mean perc change (gpm = grid point mean)\n",
    "event_count_2d_2017_2100_SF_gpm = numpy.copy(event_count_2d_2017_2100_SF)\n",
    "\n",
    "# 180yr percent change time series for 100yr wet, 100yr dry, 80/20 whipSFsh\n",
    "column_names = ['Sum across all 40 members', 'Cumulative sum'] + ensemble_names\n",
    "\n",
    "all_ens_sum = numpy.sum(event_count_2d_2017_2100_SF_gpm, axis=1)\n",
    "all_ens_cumsum = numpy.cumsum(all_ens_sum)\n",
    "\n",
    "df_array = numpy.column_stack((all_ens_sum, all_ens_cumsum, event_count_2d_2017_2100_SF_gpm))\n",
    "df_array = pandas.DataFrame(df_array, columns=column_names, index=time_datetime)\n",
    "df_array.to_csv('N_200yr_events_SF_1gdpt.csv')"
   ]
  },
  {
   "cell_type": "code",
   "execution_count": null,
   "metadata": {
    "collapsed": true
   },
   "outputs": [],
   "source": []
  }
 ],
 "metadata": {
  "kernelspec": {
   "display_name": "Python 3",
   "language": "python",
   "name": "python3"
  },
  "language_info": {
   "codemirror_mode": {
    "name": "ipython",
    "version": 3
   },
   "file_extension": ".py",
   "mimetype": "text/x-python",
   "name": "python",
   "nbconvert_exporter": "python",
   "pygments_lexer": "ipython3",
   "version": "3.6.2"
  }
 },
 "nbformat": 4,
 "nbformat_minor": 2
}
