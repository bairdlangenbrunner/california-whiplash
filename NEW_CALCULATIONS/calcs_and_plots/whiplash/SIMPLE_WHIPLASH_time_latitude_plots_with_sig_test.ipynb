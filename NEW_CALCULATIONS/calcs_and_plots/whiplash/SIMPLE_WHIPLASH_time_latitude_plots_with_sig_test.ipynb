{
 "cells": [
  {
   "cell_type": "code",
   "execution_count": 1,
   "metadata": {},
   "outputs": [],
   "source": [
    "import numpy\n",
    "import matplotlib\n",
    "import matplotlib.pyplot as mp\n",
    "import pandas\n",
    "import mpl_toolkits\n",
    "from mpl_toolkits import basemap\n",
    "import matplotlib.cm as cm\n",
    "import netCDF4\n",
    "import time\n",
    "import itertools\n",
    "import datetime\n",
    "import scipy.stats\n",
    "\n",
    "degree_sign = u'\\u00B0'\n",
    "mp.rcParams.update({'mathtext.default': 'regular'})\n",
    "mp.rcParams['hatch.color'] = '0.5'\n",
    "\n",
    "% matplotlib inline"
   ]
  },
  {
   "cell_type": "code",
   "execution_count": 2,
   "metadata": {},
   "outputs": [],
   "source": [
    "class MidpointNormalize(matplotlib.colors.Normalize):\n",
    "    def __init__(self, vmin=None, vmax=None, midpoint=None, clip=False):\n",
    "        self.midpoint = midpoint\n",
    "        matplotlib.colors.Normalize.__init__(self, vmin, vmax, clip)\n",
    "\n",
    "    def __call__(self, value, clip=None):\n",
    "        # I'm ignoring masked values and all kinds of edge cases to make a\n",
    "        # simple example...\n",
    "        x, y = [self.vmin, self.midpoint, self.vmax], [0, 0.5, 1]\n",
    "        return numpy.ma.masked_array(numpy.interp(value, x, y))"
   ]
  },
  {
   "cell_type": "code",
   "execution_count": 3,
   "metadata": {},
   "outputs": [],
   "source": [
    "# make color map\n",
    "minval=0.05 # \n",
    "maxval=0.95 #\n",
    "n=256\n",
    "full_cmap = mp.get_cmap('RdBu')\n",
    "cmap_partial = matplotlib.colors.LinearSegmentedColormap.from_list('trunc({n},{a:.2f},{b:.2f})'.format(n=full_cmap.name, a=minval, b=maxval), full_cmap(numpy.linspace(minval, maxval, n)))"
   ]
  },
  {
   "cell_type": "code",
   "execution_count": 4,
   "metadata": {},
   "outputs": [],
   "source": [
    "SKIP_LONS = []#[120.,240.]\n",
    "def format_every_other(lon):\n",
    "    if lon in SKIP_LONS:\n",
    "        return ''\n",
    "    else:\n",
    "        return '%3d' % lon + '\\N{DEGREE SIGN}E' #r'${%3d\\/^{\\circ}\\/E}$'%lon"
   ]
  },
  {
   "cell_type": "code",
   "execution_count": 5,
   "metadata": {},
   "outputs": [],
   "source": [
    "whiplash_segments = numpy.array(( \\\n",
    "'1920-1950', \\\n",
    "'1950-1980', \\\n",
    "'1980-2010', \\\n",
    "'2010-2040', \\\n",
    "'2040-2070', \\\n",
    "'2070-2100', \\\n",
    "))"
   ]
  },
  {
   "cell_type": "code",
   "execution_count": 6,
   "metadata": {},
   "outputs": [],
   "source": [
    "PRECT_lat = numpy.load('/Users/baird/Dropbox/_analysis/attribution_2017/NEW_CALCULATIONS/npy_files/PRECT_lat.npy')\n",
    "PRECT_lon = numpy.load('/Users/baird/Dropbox/_analysis/attribution_2017/NEW_CALCULATIONS/npy_files/PRECT_lon.npy')"
   ]
  },
  {
   "cell_type": "code",
   "execution_count": null,
   "metadata": {},
   "outputs": [],
   "source": []
  },
  {
   "cell_type": "code",
   "execution_count": null,
   "metadata": {},
   "outputs": [],
   "source": []
  },
  {
   "cell_type": "code",
   "execution_count": null,
   "metadata": {},
   "outputs": [],
   "source": []
  },
  {
   "cell_type": "code",
   "execution_count": null,
   "metadata": {},
   "outputs": [],
   "source": []
  },
  {
   "cell_type": "code",
   "execution_count": null,
   "metadata": {},
   "outputs": [],
   "source": []
  },
  {
   "cell_type": "code",
   "execution_count": null,
   "metadata": {},
   "outputs": [],
   "source": []
  },
  {
   "cell_type": "code",
   "execution_count": null,
   "metadata": {},
   "outputs": [],
   "source": []
  },
  {
   "cell_type": "code",
   "execution_count": null,
   "metadata": {},
   "outputs": [],
   "source": []
  },
  {
   "cell_type": "code",
   "execution_count": 7,
   "metadata": {},
   "outputs": [],
   "source": [
    "LA_lat = 34.0522\n",
    "LA_lon = 118.2437 # deg west\n",
    "LA_lon = 180. + (180-LA_lon)\n",
    "\n",
    "Oroville_dam_lat = 39.5380\n",
    "Oroville_dam_lon = 121.4831 # deg west\n",
    "Oroville_dam_lon = 360 - Oroville_dam_lon\n",
    "\n",
    "SF_lat = 37.7749\n",
    "SF_lon = 122.4194\n",
    "SF_lon = 360 - SF_lon"
   ]
  },
  {
   "cell_type": "code",
   "execution_count": 8,
   "metadata": {},
   "outputs": [],
   "source": [
    "cali_coast_latlon_indices = numpy.load('/Users/baird/Dropbox/_analysis/attribution_2017/NEW_CALCULATIONS/npy_files/coastal_latlon_array_indices_3x.npy')\n",
    "cali_coast_latlon_indices_zip = [i for i in zip(cali_coast_latlon_indices[:,0], cali_coast_latlon_indices[:,1])]\n",
    "\n",
    "cali_coast_latlon_indices_3d = cali_coast_latlon_indices.reshape((11,3,2))\n",
    "#print(cali_coast_latlon_indices_3d[0,:,:])"
   ]
  },
  {
   "cell_type": "code",
   "execution_count": 9,
   "metadata": {},
   "outputs": [],
   "source": [
    "PRECT_nlat = 26\n",
    "PRECT_nlon = 25\n",
    "\n",
    "latlon_indices = list(itertools.product(range(PRECT_nlat), range(PRECT_nlon)))\n",
    "region = 'whole_domain'\n",
    "window=30"
   ]
  },
  {
   "cell_type": "markdown",
   "metadata": {},
   "source": [
    "# Added later to calculate significance"
   ]
  },
  {
   "cell_type": "code",
   "execution_count": 10,
   "metadata": {},
   "outputs": [],
   "source": [
    "filename = '/Users/baird/Dropbox/_analysis/attribution_2017/NEW_CALCULATIONS/calcs_and_plots/whiplash/calculations/seasonal_whiplash_PIC_low_to_high.nc'\n",
    "ncfile = netCDF4.Dataset(filename, 'r', 'NetCDF4')\n",
    "whiplash_events_pic = ncfile.variables['whiplash_events'][:]\n",
    "\n",
    "filename = '/Users/baird/Dropbox/_analysis/attribution_2017/NEW_CALCULATIONS/calcs_and_plots/whiplash/calculations/seasonal_whiplash_hist_rcp_low_to_high.nc'\n",
    "ncfile = netCDF4.Dataset(filename, 'r', 'NetCDF4')\n",
    "whiplash_events_hist_rcp = ncfile.variables['seasonal_total'][:]"
   ]
  },
  {
   "cell_type": "code",
   "execution_count": 12,
   "metadata": {},
   "outputs": [
    {
     "name": "stdout",
     "output_type": "stream",
     "text": [
      "(1798, 26, 25)\n"
     ]
    },
    {
     "data": {
      "text/plain": [
       "<matplotlib.contour.QuadContourSet at 0x1125976d8>"
      ]
     },
     "execution_count": 12,
     "metadata": {},
     "output_type": "execute_result"
    },
    {
     "data": {
      "image/png": "[encoded data removed]",
      "text/plain": [
       "<matplotlib.figure.Figure at 0x10684d0b8>"
      ]
     },
     "metadata": {},
     "output_type": "display_data"
    }
   ],
   "source": [
    "print(whiplash_events_pic.shape)\n",
    "mp.contourf(whiplash_events_pic[0,:,:])"
   ]
  },
  {
   "cell_type": "code",
   "execution_count": 11,
   "metadata": {
    "collapsed": true
   },
   "outputs": [],
   "source": [
    "whiplash_count_pic = numpy.sum(whiplash_events_pic==1, axis=0)\n",
    "whiplash_count_pic_mean = numpy.array(whiplash_count_pic)/1798.\n",
    "\n",
    "# sum hist+rcp across ensemble members, then divide by 40\n",
    "whiplash_count_hist_rcp = numpy.sum(whiplash_events_hist_rcp==1, axis=1)\n",
    "whiplash_count_hist_rcp_mean = numpy.array(whiplash_count_hist_rcp)/40.\n",
    "\n",
    "whiplash_ratios_change = 100*numpy.array((whiplash_count_hist_rcp==1) - whiplash_count_pic_mean)/(whiplash_count_pic_mean)\n",
    "whiplash_ratios_mean = 100*whiplash_count_hist_rcp_mean/whiplash_count_pic_mean\n",
    "whiplash_ratios = whiplash_count_hist_rcp/whiplash_count_pic_mean\n",
    "#whiplash_ratios = numpy.array()"
   ]
  },
  {
   "cell_type": "code",
   "execution_count": 12,
   "metadata": {},
   "outputs": [],
   "source": [
    "hist_rcp_counts_ALL_LATLON_smooth = numpy.zeros((whiplash_count_hist_rcp.shape))\n",
    "for i in range(PRECT_nlat):\n",
    "    for j in range(PRECT_nlon):\n",
    "        hist_rcp_counts_ALL_LATLON_smooth[:,i,j] = pandas.Series(whiplash_count_hist_rcp[:,i,j]).rolling(window=window, center=True).mean()\n",
    "\n",
    "pic_counts_ALL_LATLON_equivalent = whiplash_count_pic/(1798/40)\n",
    "hist_rcp_counts_ALL_LATLON_smooth_norm = numpy.zeros((whiplash_count_hist_rcp.shape))\n",
    "for i in range(PRECT_nlat):\n",
    "    for j in range(PRECT_nlon):\n",
    "        hist_rcp_counts_ALL_LATLON_smooth_norm[:,i,j] = (hist_rcp_counts_ALL_LATLON_smooth[:,i,j] - pic_counts_ALL_LATLON_equivalent[i,j])/pic_counts_ALL_LATLON_equivalent[i,j] * 100.\n",
    "\n",
    "hist_rcp_counts_ALL_LATLON_smooth_ratios = numpy.zeros((whiplash_count_hist_rcp.shape))\n",
    "for i in range(PRECT_nlat):\n",
    "    for j in range(PRECT_nlon):\n",
    "        hist_rcp_counts_ALL_LATLON_smooth_ratios[:,i,j] = hist_rcp_counts_ALL_LATLON_smooth[:,i,j]/pic_counts_ALL_LATLON_equivalent[i,j]"
   ]
  },
  {
   "cell_type": "code",
   "execution_count": 13,
   "metadata": {},
   "outputs": [
    {
     "name": "stdout",
     "output_type": "stream",
     "text": [
      "(26, 25)\n"
     ]
    }
   ],
   "source": [
    "count_ratio_2d = hist_rcp_counts_ALL_LATLON_smooth_ratios[-15,:,:]\n",
    "print(count_ratio_2d.shape)\n",
    "#cf=mp.contourf(count_ratio_2d)\n",
    "#mp.colorbar(cf)"
   ]
  },
  {
   "cell_type": "markdown",
   "metadata": {},
   "source": [
    "# Significance test (internal variability test on PIC)"
   ]
  },
  {
   "cell_type": "code",
   "execution_count": 14,
   "metadata": {},
   "outputs": [
    {
     "name": "stdout",
     "output_type": "stream",
     "text": [
      "(11, 1798)\n"
     ]
    },
    {
     "name": "stderr",
     "output_type": "stream",
     "text": [
      "/Users/baird/anaconda/lib/python3.6/site-packages/numpy/lib/nanfunctions.py:703: RuntimeWarning: Mean of empty slice\n",
      "  warnings.warn(\"Mean of empty slice\", RuntimeWarning)\n"
     ]
    }
   ],
   "source": [
    "whiplash_events_pic_alltime = numpy.array((whiplash_events_pic==1))\n",
    "whiplash_events_pic_alltime_smooth = numpy.zeros((whiplash_events_pic_alltime.shape))*numpy.nan\n",
    "for i in range(PRECT_nlat):\n",
    "    for j in range(PRECT_nlon):\n",
    "        whiplash_events_pic_alltime_smooth[:,i,j] = pandas.Series(whiplash_events_pic_alltime[:,i,j]).rolling(window=window, center=True).mean()\n",
    "    \n",
    "# calculate 30yr ratios of pic to itself\n",
    "# divide 30yr rolling mean number of PIC events by the total average number of events per year for each grid point\n",
    "# total average number per year is:\n",
    "whiplash_events_pic_alltime_smooth_ratios = numpy.zeros((whiplash_events_pic_alltime_smooth.shape))\n",
    "for t in range(whiplash_events_pic_alltime_smooth.shape[0]):\n",
    "    whiplash_events_pic_alltime_smooth_ratios[t,:,:] = whiplash_events_pic_alltime_smooth[t,:,:]/whiplash_count_pic_mean\n",
    "\n",
    "# calculate means across the coastal California latitudes\n",
    "# then calculate pvalues of percentiles\n",
    "whiplash_events_pic_alltime_smooth_ratios_cali_coast = whiplash_events_pic_alltime_smooth_ratios[:,cali_coast_latlon_indices[:,0],cali_coast_latlon_indices[:,1]]\n",
    "whiplash_events_pic_alltime_smooth_ratios_cali_coast = numpy.reshape(whiplash_events_pic_alltime_smooth_ratios_cali_coast, (-1,11,3))\n",
    "whiplash_events_pic_alltime_smooth_ratios_latmean = numpy.nanmean(whiplash_events_pic_alltime_smooth_ratios_cali_coast, axis=2).T\n",
    "print(whiplash_events_pic_alltime_smooth_ratios_latmean.shape)\n"
   ]
  },
  {
   "cell_type": "code",
   "execution_count": 36,
   "metadata": {},
   "outputs": [
    {
     "name": "stdout",
     "output_type": "stream",
     "text": [
      "1.00051114286\n"
     ]
    },
    {
     "data": {
      "image/png": "[encoded data removed]",
      "text/plain": [
       "<matplotlib.figure.Figure at 0x122318470>"
      ]
     },
     "metadata": {},
     "output_type": "display_data"
    }
   ],
   "source": [
    "cf=mp.contourf(whiplash_events_pic_alltime_smooth_ratios_latmean, levels=numpy.arange(0.0, 2.1, 0.25), extend='max')\n",
    "mp.colorbar(cf)\n",
    "print(numpy.nanmean(whiplash_events_pic_alltime_smooth_ratios_latmean))"
   ]
  },
  {
   "cell_type": "code",
   "execution_count": 39,
   "metadata": {},
   "outputs": [
    {
     "name": "stderr",
     "output_type": "stream",
     "text": [
      "/Users/baird/anaconda/lib/python3.6/site-packages/numpy/lib/nanfunctions.py:703: RuntimeWarning: Mean of empty slice\n",
      "  warnings.warn(\"Mean of empty slice\", RuntimeWarning)\n"
     ]
    }
   ],
   "source": [
    "all_wr_data_2d_cali_coast = hist_rcp_counts_ALL_LATLON_smooth_ratios[:,cali_coast_latlon_indices[:,0],cali_coast_latlon_indices[:,1]]\n",
    "all_wr_data_2d_cali_coast = numpy.reshape(all_wr_data_2d_cali_coast, (-1,11,3))\n",
    "all_wr_data_cali_coast_latmean = numpy.nanmean(all_wr_data_2d_cali_coast, axis=2).T"
   ]
  },
  {
   "cell_type": "code",
   "execution_count": 40,
   "metadata": {},
   "outputs": [
    {
     "name": "stdout",
     "output_type": "stream",
     "text": [
      "(11, 180)\n"
     ]
    }
   ],
   "source": [
    "print(all_wr_data_cali_coast_latmean.shape)"
   ]
  },
  {
   "cell_type": "code",
   "execution_count": 58,
   "metadata": {},
   "outputs": [
    {
     "name": "stderr",
     "output_type": "stream",
     "text": [
      "/Users/baird/anaconda/lib/python3.6/site-packages/numpy/core/_methods.py:59: RuntimeWarning: Mean of empty slice.\n",
      "  warnings.warn(\"Mean of empty slice.\", RuntimeWarning)\n",
      "/Users/baird/anaconda/lib/python3.6/site-packages/numpy/core/_methods.py:70: RuntimeWarning: invalid value encountered in double_scalars\n",
      "  ret = ret.dtype.type(ret / rcount)\n"
     ]
    }
   ],
   "source": [
    "ratios_to_test = all_wr_data_cali_coast_latmean\n",
    "pvals_wr_time_lat = numpy.zeros((all_wr_data_cali_coast_latmean.shape))\n",
    "for i in range(11):\n",
    "    for t in range(180):\n",
    "        pvals_wr_time_lat[i,t] = scipy.stats.percentileofscore( whiplash_events_pic_alltime_smooth_ratios_latmean[i,:], ratios_to_test[i,t])#, kind='weak')\n",
    "pvals_wr_time_lat /= 100.\n",
    "pvals_wr_time_lat = 1-pvals_wr_time_lat"
   ]
  },
  {
   "cell_type": "code",
   "execution_count": 59,
   "metadata": {},
   "outputs": [
    {
     "name": "stdout",
     "output_type": "stream",
     "text": [
      "(11, 180)\n"
     ]
    }
   ],
   "source": [
    "print(all_wr_data_cali_coast_latmean.shape)"
   ]
  },
  {
   "cell_type": "code",
   "execution_count": 60,
   "metadata": {},
   "outputs": [
    {
     "data": {
      "text/plain": [
       "<matplotlib.colorbar.Colorbar at 0x119c010f0>"
      ]
     },
     "execution_count": 60,
     "metadata": {},
     "output_type": "execute_result"
    },
    {
     "data": {
      "image/png": "[encoded data removed]",
      "text/plain": [
       "<matplotlib.figure.Figure at 0x119a383c8>"
      ]
     },
     "metadata": {},
     "output_type": "display_data"
    }
   ],
   "source": [
    "cf=mp.contourf(pvals_wr_time_lat, levels=numpy.arange(0,1.1,0.1))\n",
    "mp.colorbar(cf)"
   ]
  },
  {
   "cell_type": "markdown",
   "metadata": {},
   "source": [
    "# New version (October 28)"
   ]
  },
  {
   "cell_type": "code",
   "execution_count": 61,
   "metadata": {},
   "outputs": [],
   "source": [
    "year_list = numpy.arange(1921,2101)"
   ]
  },
  {
   "cell_type": "code",
   "execution_count": 62,
   "metadata": {},
   "outputs": [
    {
     "data": {
      "image/png": "[encoded data removed]",
      "text/plain": [
       "<matplotlib.figure.Figure at 0x119cf7080>"
      ]
     },
     "metadata": {},
     "output_type": "display_data"
    }
   ],
   "source": [
    "fontsize=12\n",
    "\n",
    "fig = mp.figure(figsize=(8,3))\n",
    "\n",
    "ax = fig.add_subplot(111)\n",
    "\n",
    "contour_levels = numpy.arange(0,2.1,0.05)\n",
    "\n",
    "ax_cf = ax.contourf(year_list, \\\n",
    "                    PRECT_lat[numpy.unique(cali_coast_latlon_indices[:,0])], \\\n",
    "                    all_wr_data_cali_coast_latmean, \\\n",
    "                    norm=MidpointNormalize(midpoint=1.0), \\\n",
    "                    cmap='RdBu', \\\n",
    "                    levels=contour_levels, \\\n",
    "                    extend='max')\n",
    "\n",
    "ax_sig = ax.contourf(year_list, \\\n",
    "                    PRECT_lat[numpy.unique(cali_coast_latlon_indices[:,0])], \\\n",
    "                    pvals_wr_time_lat, \\\n",
    "                    #count_ratio_2d_cali_bool, \\\n",
    "                    colors='None', \\\n",
    "                    levels=[0.0,0.333,1.0], \\\n",
    "                    #levels=[0.5,1.5], \\\n",
    "                    hatches=['...',None], \\\n",
    "                    extend='lower', \\\n",
    "                    edgecolors='red', \\\n",
    "                    zorder=2)\n",
    "\n",
    "ax_c = ax.contour(year_list, \\\n",
    "                    PRECT_lat[numpy.unique(cali_coast_latlon_indices[:,0])], \\\n",
    "                    all_wr_data_cali_coast_latmean, \\\n",
    "                    norm=MidpointNormalize(midpoint=1.0), \\\n",
    "                    levels=[0,0.25,0.5,0.75,1,1.25,1.5,1.75,2], \\\n",
    "                    colors=['0.25']*7+['0.75']*2, \\\n",
    "                    linestyles=['--']*4+[':']+['-']*4, \\\n",
    "                    linewidths=[1]*4+[2]+[1]*4, \\\n",
    "                    zorder=1)\n",
    "\n",
    "new_levels = []\n",
    "for i in ax_c.levels:\n",
    "    if i in [0.5,1.5]:\n",
    "        new_levels.append('{:.1f}'.format(i))\n",
    "    else:\n",
    "        new_levels.append('{:.2f}'.format(i))\n",
    "ax_c.levels = new_levels\n",
    "mp.clabel(ax_c, fontsize=fontsize-1, colors=['0.25']*7+['0.75']*2)\n",
    "\n",
    "la_color = 'saddlebrown'\n",
    "sf_color = 'darkgreen'\n",
    "od_color = '#007070' # '#008080' is teal\n",
    "\n",
    "#ax.axhline(LA_lat, c='firebrick', zorder=1)\n",
    "ax.axhline(LA_lat, c=la_color, zorder=2)\n",
    "ax.axhline(SF_lat, c=sf_color, zorder=2)\n",
    "ax.axhline(Oroville_dam_lat, c=od_color, zorder=2)\n",
    "\n",
    "ax.text(s='LA', zorder=3, x=2092, y=LA_lat+0.3, color=la_color, ha='center', va='bottom', fontsize=fontsize, weight='bold')\n",
    "ax.text(s='SF', zorder=3, x=2092, y=SF_lat+0.3, color=sf_color, ha='center', va='bottom', fontsize=fontsize, weight='bold')\n",
    "ax.text(s='OD', zorder=3, x=2092, y=Oroville_dam_lat+0.3, color=od_color, ha='center', va='bottom', fontsize=fontsize, weight='bold')\n",
    "\n",
    "ax.set_xlim(1920,2100)\n",
    "ax.set_xticks(numpy.arange(1920,2101,30))\n",
    "ax.set_yticks(numpy.arange(34,43,2))\n",
    "\n",
    "ax.tick_params(labelsize=fontsize)\n",
    "\n",
    "ax.set_ylabel('latitude ('+degree_sign+'N)', fontsize=fontsize)\n",
    "ax.set_xlabel('center of 30yr period', fontsize=fontsize)\n",
    "\n",
    "divider = mpl_toolkits.axes_grid1.make_axes_locatable(ax)\n",
    "cbar_ax = divider.append_axes('right', size='2%', pad=0.25) #fig.add_axes([0.0, -0.02, 1.0, 0.03])\n",
    "cbar = fig.colorbar(ax_cf, cax=cbar_ax, orientation='vertical')\n",
    "cbar.set_label('ratio of frequencies', fontsize=fontsize)#, labelpad=10)\n",
    "cbar.ax.tick_params(labelsize=fontsize)\n",
    "cbar.set_ticks([0,0.25,0.5,0.75,1,1.25,1.5,1.75,2])\n",
    "\n",
    "#cf = mp.contourf(year_middle_list, PRECT_lat[numpy.unique(cali_coast_latlon_indices[:,0])], count_ratio_2d_cali)\n",
    "#mp.colorbar(cf)\n",
    "\n",
    "#fig.savefig('time_latitude_plot.pdf', transparent=True, bbox_inches='tight')"
   ]
  },
  {
   "cell_type": "code",
   "execution_count": 63,
   "metadata": {
    "collapsed": true
   },
   "outputs": [],
   "source": [
    "PRECT_lat_subset = PRECT_lat[numpy.unique(cali_coast_latlon_indices[:,0])]"
   ]
  },
  {
   "cell_type": "code",
   "execution_count": 65,
   "metadata": {},
   "outputs": [],
   "source": [
    "# convert times\n",
    "time_datetime = [datetime.datetime(i,1,15) for i in year_list]\n",
    "time_nc = netCDF4.date2num(time_datetime, units='days since 1920-01-01', calendar='standard')"
   ]
  },
  {
   "cell_type": "code",
   "execution_count": 69,
   "metadata": {},
   "outputs": [
    {
     "name": "stdout",
     "output_type": "stream",
     "text": [
      "time_latitude_whiplash_ratios_8020_updated.nc saved\n"
     ]
    }
   ],
   "source": [
    "# save hist clim\n",
    "filename = 'time_latitude_whiplash_ratios_8020_updated.nc'\n",
    "\n",
    "ncfile = netCDF4.Dataset(filename, 'w', format='NETCDF4')\n",
    "\n",
    "lat_dim = ncfile.createDimension('lat', PRECT_lat_subset.size)\n",
    "time_dim = ncfile.createDimension('time', len(year_list))\n",
    "\n",
    "lat_var = ncfile.createVariable('lat', 'f4', ('lat',))\n",
    "time_var = ncfile.createVariable('time', 'f4', ('time',))\n",
    "lat_var[:] = PRECT_lat_subset\n",
    "time_var[:] = time_nc\n",
    "lat_var.units = 'degrees_north'\n",
    "time_var.units = 'days since 1920-01-01'\n",
    "time_var.description = 'Each year is centered on the 30 years surrounding it'\n",
    "\n",
    "ratios_of_frequencies = ncfile.createVariable('time_lat_ratios', 'f4', ('lat','time'), fill_value=numpy.nan)\n",
    "ratios_of_frequencies[:] = all_wr_data_cali_coast_latmean\n",
    "ratios_of_frequencies.units = 'unitless'\n",
    "ratios_of_frequencies.description = 'Ratio of frequencies of whiplash events for California grid points (average of 3 grid points for each latitude)'\n",
    "\n",
    "sigtest_pvals = ncfile.createVariable('sigtest_pvals', 'f4', ('lat','time'), fill_value=numpy.nan)\n",
    "sigtest_pvals[:] = pvals_wr_time_lat\n",
    "sigtest_pvals.description = 'Calculated across 1798 years of pre-industrial control.  A value of 0.2 means significance at the 80% confidence level'\n",
    "\n",
    "ncfile.history = 'Created ' + time.ctime(time.time())\n",
    "ncfile.close()\n",
    "print(filename, \"saved\")"
   ]
  },
  {
   "cell_type": "code",
   "execution_count": null,
   "metadata": {
    "collapsed": true
   },
   "outputs": [],
   "source": []
  }
 ],
 "metadata": {
  "kernelspec": {
   "display_name": "Python 3",
   "language": "python",
   "name": "python3"
  },
  "language_info": {
   "codemirror_mode": {
    "name": "ipython",
    "version": 3
   },
   "file_extension": ".py",
   "mimetype": "text/x-python",
   "name": "python",
   "nbconvert_exporter": "python",
   "pygments_lexer": "ipython3",
   "version": "3.6.3"
  }
 },
 "nbformat": 4,
 "nbformat_minor": 2
}
