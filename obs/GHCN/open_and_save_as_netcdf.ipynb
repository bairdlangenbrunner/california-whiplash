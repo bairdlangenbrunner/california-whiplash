{
 "cells": [
  {
   "cell_type": "code",
   "execution_count": 1,
   "metadata": {},
   "outputs": [],
   "source": [
    "import numpy\n",
    "import datetime\n",
    "import netCDF4\n",
    "import pandas\n",
    "import matplotlib.pyplot as mp\n",
    "import os\n",
    "\n",
    "% matplotlib inline"
   ]
  },
  {
   "cell_type": "code",
   "execution_count": 2,
   "metadata": {},
   "outputs": [],
   "source": [
    "start_year = 1895\n",
    "end_year = 1896\n",
    "\n",
    "datetime_list = []\n",
    "for year in range(start_year, end_year):\n",
    "    for month in range(1,13):\n",
    "        datetime_list.append(datetime.date(year,month,15))"
   ]
  },
  {
   "cell_type": "code",
   "execution_count": 3,
   "metadata": {},
   "outputs": [
    {
     "name": "stdout",
     "output_type": "stream",
     "text": [
      "[datetime.date(1895, 1, 15), datetime.date(1895, 2, 15), datetime.date(1895, 3, 15), datetime.date(1895, 4, 15), datetime.date(1895, 5, 15), datetime.date(1895, 6, 15), datetime.date(1895, 7, 15), datetime.date(1895, 8, 15), datetime.date(1895, 9, 15), datetime.date(1895, 10, 15), datetime.date(1895, 11, 15), datetime.date(1895, 12, 15)]\n"
     ]
    }
   ],
   "source": [
    "print(datetime_list)\n",
    "datetime_format_list = [t.strftime('%Y%m') for t in datetime_list]\n",
    "filename_list = [tstring+'.prcp.conus.pnt' for tstring in datetime_format_list]"
   ]
  },
  {
   "cell_type": "code",
   "execution_count": 4,
   "metadata": {},
   "outputs": [
    {
     "name": "stdout",
     "output_type": "stream",
     "text": [
      "['189501.prcp.conus.pnt', '189502.prcp.conus.pnt', '189503.prcp.conus.pnt', '189504.prcp.conus.pnt', '189505.prcp.conus.pnt', '189506.prcp.conus.pnt', '189507.prcp.conus.pnt', '189508.prcp.conus.pnt', '189509.prcp.conus.pnt', '189510.prcp.conus.pnt', '189511.prcp.conus.pnt', '189512.prcp.conus.pnt']\n"
     ]
    }
   ],
   "source": [
    "print(filename_list)"
   ]
  },
  {
   "cell_type": "code",
   "execution_count": 5,
   "metadata": {},
   "outputs": [],
   "source": [
    "data = pandas.read_csv(filename_list[0], sep='\\t').values\n",
    "data_array = numpy.zeros((data.size,3))"
   ]
  },
  {
   "cell_type": "code",
   "execution_count": 6,
   "metadata": {},
   "outputs": [],
   "source": [
    "for i in range(data_array.shape[0]):\n",
    "    data_array[i,:] = [float(value) for value in data[i][0].split()]"
   ]
  },
  {
   "cell_type": "code",
   "execution_count": 7,
   "metadata": {},
   "outputs": [
    {
     "data": {
      "text/plain": [
       "array([[ 24.5625, -81.7708,  46.81  ],\n",
       "       [ 24.5625, -81.7292,  46.45  ],\n",
       "       [ 24.5625, -81.6875,  45.99  ],\n",
       "       ..., \n",
       "       [ 49.3542, -95.1458,  22.5   ],\n",
       "       [ 49.3542, -95.1042,  22.44  ],\n",
       "       [ 49.3542, -95.0625,  22.47  ]])"
      ]
     },
     "execution_count": 7,
     "metadata": {},
     "output_type": "execute_result"
    }
   ],
   "source": [
    "data_array"
   ]
  },
  {
   "cell_type": "code",
   "execution_count": 8,
   "metadata": {},
   "outputs": [],
   "source": [
    "lat_vals = numpy.unique(data_array[:,0])\n",
    "lon_vals = numpy.unique(data_array[:,1])\n",
    "#mp.pcolormesh(data_array[:,1], data_array[:,0], data_array[:,2])"
   ]
  },
  {
   "cell_type": "code",
   "execution_count": 9,
   "metadata": {},
   "outputs": [
    {
     "data": {
      "text/plain": [
       "((1385,), (584,))"
      ]
     },
     "execution_count": 9,
     "metadata": {},
     "output_type": "execute_result"
    }
   ],
   "source": [
    "lon_vals.shape, lat_vals.shape\n",
    "#pr_data_reshape = data_array[:,2].reshape((lat_vals.size,lon_vals.size))"
   ]
  },
  {
   "cell_type": "raw",
   "metadata": {},
   "source": [
    "lat_vals_2d, lon_vals_2d = numpy.meshgrid(data_array[:,1],data_array[:,0])"
   ]
  },
  {
   "cell_type": "code",
   "execution_count": null,
   "metadata": {},
   "outputs": [],
   "source": []
  },
  {
   "cell_type": "code",
   "execution_count": null,
   "metadata": {},
   "outputs": [],
   "source": []
  },
  {
   "cell_type": "code",
   "execution_count": null,
   "metadata": {},
   "outputs": [],
   "source": []
  },
  {
   "cell_type": "code",
   "execution_count": null,
   "metadata": {},
   "outputs": [],
   "source": [
    "if os.path.isfile('out.nc'):\n",
    "    os.remove('out.nc')\n",
    "ncfile_out = netCDF4.Dataset('out.nc', 'w', 'NetCDF4')\n",
    "\n",
    "ncfile_out.createDimension('lat', size=data_array[:,0].size)\n",
    "ncfile_out.createDimension('lon', size=data_array[:,1].size)\n",
    "\n",
    "ncfile_out.createVariable('lat', float, dimensions=('lat'))\n",
    "ncfile_out.createVariable('lon', float, dimensions=('lon'))\n",
    "\n",
    "ncfile_out.createVariable('prcp', float, dimensions=('lat'))"
   ]
  },
  {
   "cell_type": "code",
   "execution_count": null,
   "metadata": {},
   "outputs": [],
   "source": []
  }
 ],
 "metadata": {
  "kernelspec": {
   "display_name": "Python 3",
   "language": "python",
   "name": "python3"
  },
  "language_info": {
   "codemirror_mode": {
    "name": "ipython",
    "version": 3
   },
   "file_extension": ".py",
   "mimetype": "text/x-python",
   "name": "python",
   "nbconvert_exporter": "python",
   "pygments_lexer": "ipython3",
   "version": "3.6.3"
  }
 },
 "nbformat": 4,
 "nbformat_minor": 2
}
